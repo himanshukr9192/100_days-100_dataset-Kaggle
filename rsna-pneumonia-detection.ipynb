{
 "cells": [
  {
   "cell_type": "code",
   "execution_count": 1,
   "id": "966f6c44",
   "metadata": {
    "_cell_guid": "b1076dfc-b9ad-4769-8c92-a6c4dae69d19",
    "_uuid": "8f2839f25d086af736a60e9eeb907d3b93b6e0e5",
    "execution": {
     "iopub.execute_input": "2023-08-18T21:42:08.241487Z",
     "iopub.status.busy": "2023-08-18T21:42:08.241128Z",
     "iopub.status.idle": "2023-08-18T21:42:17.507863Z",
     "shell.execute_reply": "2023-08-18T21:42:17.506822Z"
    },
    "papermill": {
     "duration": 9.275704,
     "end_time": "2023-08-18T21:42:17.510363",
     "exception": false,
     "start_time": "2023-08-18T21:42:08.234659",
     "status": "completed"
    },
    "tags": []
   },
   "outputs": [
    {
     "name": "stderr",
     "output_type": "stream",
     "text": [
      "/opt/conda/lib/python3.10/site-packages/scipy/__init__.py:146: UserWarning: A NumPy version >=1.16.5 and <1.23.0 is required for this version of SciPy (detected version 1.23.5\n",
      "  warnings.warn(f\"A NumPy version >={np_minversion} and <{np_maxversion}\"\n"
     ]
    }
   ],
   "source": [
    "import os\n",
    "import csv\n",
    "import random\n",
    "import pydicom\n",
    "import numpy as np\n",
    "import pandas as pd\n",
    "from skimage import measure\n",
    "from skimage.transform import resize\n",
    "import warnings\n",
    "warnings.filterwarnings('ignore')\n",
    "from tqdm import tqdm  \n",
    "import tensorflow as tf\n",
    "from keras.models import Model\n",
    "from keras.layers import Input\n",
    "from keras.optimizers import Adam\n",
    "from skimage.transform import resize\n",
    "from skimage.measure import label, regionprops\n",
    "from tqdm import tqdm\n",
    "import keras.backend as K\n",
    "\n",
    "import tensorflow as tf\n",
    "from tensorflow import keras\n",
    "\n",
    "from matplotlib import pyplot as plt"
   ]
  },
  {
   "cell_type": "code",
   "execution_count": 2,
   "id": "3dd7af47",
   "metadata": {
    "_uuid": "e08496a85ef9b0823595c3745d2677c6e84b6a3a",
    "execution": {
     "iopub.execute_input": "2023-08-18T21:42:17.522430Z",
     "iopub.status.busy": "2023-08-18T21:42:17.521817Z",
     "iopub.status.idle": "2023-08-18T21:42:17.603698Z",
     "shell.execute_reply": "2023-08-18T21:42:17.602843Z"
    },
    "papermill": {
     "duration": 0.090011,
     "end_time": "2023-08-18T21:42:17.605849",
     "exception": false,
     "start_time": "2023-08-18T21:42:17.515838",
     "status": "completed"
    },
    "tags": []
   },
   "outputs": [],
   "source": [
    "# empty dictionary\n",
    "pneumonia_locations = {}\n",
    "# load table\n",
    "with open(os.path.join('/kaggle/input/rsna-pneumonia-detection-challenge/stage_2_train_labels.csv'), mode='r') as infile:\n",
    "    # open reader\n",
    "    reader = csv.reader(infile)\n",
    "    # skip header\n",
    "    next(reader, None)\n",
    "    # loop through rows\n",
    "    for rows in reader:\n",
    "        # retrieve information\n",
    "        filename = rows[0]\n",
    "        location = rows[1:5]\n",
    "        pneumonia = rows[5]\n",
    "        # if row contains pneumonia add label to dictionary\n",
    "        # which contains a list of pneumonia locations per filename\n",
    "        if pneumonia == '1':\n",
    "            # convert string to float to int\n",
    "            location = [int(float(i)) for i in location]\n",
    "            # save pneumonia location in dictionary\n",
    "            if filename in pneumonia_locations:\n",
    "                pneumonia_locations[filename].append(location)\n",
    "            else:\n",
    "                pneumonia_locations[filename] = [location]"
   ]
  },
  {
   "cell_type": "markdown",
   "id": "84fe3aa7",
   "metadata": {
    "_uuid": "5a4fa6da9833fd7cbd476d19584ba35695b38ddb",
    "papermill": {
     "duration": 0.004786,
     "end_time": "2023-08-18T21:42:17.615655",
     "exception": false,
     "start_time": "2023-08-18T21:42:17.610869",
     "status": "completed"
    },
    "tags": []
   },
   "source": [
    "# Load filenames"
   ]
  },
  {
   "cell_type": "code",
   "execution_count": 3,
   "id": "18e4bf8c",
   "metadata": {
    "_uuid": "ccd0b0d52cafd125558ed5560a9cc8fa15760bc5",
    "execution": {
     "iopub.execute_input": "2023-08-18T21:42:17.626690Z",
     "iopub.status.busy": "2023-08-18T21:42:17.626407Z",
     "iopub.status.idle": "2023-08-18T21:42:17.918071Z",
     "shell.execute_reply": "2023-08-18T21:42:17.916677Z"
    },
    "papermill": {
     "duration": 0.299794,
     "end_time": "2023-08-18T21:42:17.920290",
     "exception": false,
     "start_time": "2023-08-18T21:42:17.620496",
     "status": "completed"
    },
    "tags": []
   },
   "outputs": [
    {
     "name": "stdout",
     "output_type": "stream",
     "text": [
      "n train samples 24124\n",
      "n valid samples 2560\n"
     ]
    }
   ],
   "source": [
    "# load and shuffle filenames\n",
    "folder = '/kaggle/input/rsna-pneumonia-detection-challenge/stage_2_train_images'\n",
    "filenames = os.listdir(folder)\n",
    "random.shuffle(filenames)\n",
    "# split into train and validation filenames\n",
    "n_valid_samples = 2560\n",
    "train_filenames = filenames[n_valid_samples:]\n",
    "valid_filenames = filenames[:n_valid_samples]\n",
    "print('n train samples', len(train_filenames))\n",
    "print('n valid samples', len(valid_filenames))\n",
    "n_train_samples = len(filenames) - n_valid_samples"
   ]
  },
  {
   "cell_type": "markdown",
   "id": "9bb33ae5",
   "metadata": {
    "_uuid": "276b80f59fa9acdfd9307d74cee5f705cd6aa5b6",
    "papermill": {
     "duration": 0.004789,
     "end_time": "2023-08-18T21:42:17.930242",
     "exception": false,
     "start_time": "2023-08-18T21:42:17.925453",
     "status": "completed"
    },
    "tags": []
   },
   "source": [
    " # Data generator\n",
    "\n",
    "    "
   ]
  },
  {
   "cell_type": "code",
   "execution_count": 4,
   "id": "2a6c2582",
   "metadata": {
    "_uuid": "86b3f780a03cddda78c6adfde461d6ff8dad5672",
    "execution": {
     "iopub.execute_input": "2023-08-18T21:42:17.942449Z",
     "iopub.status.busy": "2023-08-18T21:42:17.942114Z",
     "iopub.status.idle": "2023-08-18T21:42:17.959210Z",
     "shell.execute_reply": "2023-08-18T21:42:17.958305Z"
    },
    "papermill": {
     "duration": 0.025903,
     "end_time": "2023-08-18T21:42:17.961195",
     "exception": false,
     "start_time": "2023-08-18T21:42:17.935292",
     "status": "completed"
    },
    "tags": []
   },
   "outputs": [],
   "source": [
    "class generator(keras.utils.Sequence):\n",
    "    \n",
    "    def __init__(self, folder, filenames, pneumonia_locations=None, batch_size=32, image_size=320, shuffle=True, augment=False, predict=False):\n",
    "        self.folder = folder\n",
    "        self.filenames = filenames\n",
    "        self.pneumonia_locations = pneumonia_locations\n",
    "        self.batch_size = batch_size\n",
    "        self.image_size = image_size\n",
    "        self.shuffle = shuffle\n",
    "        self.augment = augment\n",
    "        self.predict = predict\n",
    "        self.on_epoch_end()\n",
    "        \n",
    "    def __load__(self, filename):\n",
    "        # load dicom file as numpy array\n",
    "        img = pydicom.dcmread(os.path.join(self.folder, filename)).pixel_array\n",
    "        # create empty mask\n",
    "        msk = np.zeros(img.shape)\n",
    "        # get filename without extension\n",
    "        filename = filename.split('.')[0]\n",
    "        # if image contains pneumonia\n",
    "        if filename in pneumonia_locations:\n",
    "            # loop through pneumonia\n",
    "            for location in pneumonia_locations[filename]:\n",
    "                # add 1's at the location of the pneumonia\n",
    "                x, y, w, h = location\n",
    "                msk[y:y+h, x:x+w] = 1\n",
    "        # if augment then horizontal flip half the time\n",
    "        if self.augment and random.random() > 0.5:\n",
    "            img = np.fliplr(img)\n",
    "            msk = np.fliplr(msk)\n",
    "        # resize both image and mask\n",
    "        img = resize(img, (self.image_size, self.image_size), mode='reflect')\n",
    "        msk = resize(msk, (self.image_size, self.image_size), mode='reflect') > 0.5\n",
    "        # add trailing channel dimension\n",
    "        img = np.expand_dims(img, -1)\n",
    "        msk = np.expand_dims(msk, -1)\n",
    "        return img, msk\n",
    "    \n",
    "    def __loadpredict__(self, filename):\n",
    "        # load dicom file as numpy array\n",
    "        img = pydicom.dcmread(os.path.join(self.folder, filename)).pixel_array\n",
    "        # resize image\n",
    "        img = resize(img, (self.image_size, self.image_size), mode='reflect')\n",
    "        # add trailing channel dimension\n",
    "        img = np.expand_dims(img, -1)\n",
    "        return img\n",
    "        \n",
    "    def __getitem__(self, index):\n",
    "        # select batch\n",
    "        filenames = self.filenames[index*self.batch_size:(index+1)*self.batch_size]\n",
    "        # predict mode: return images and filenames\n",
    "        if self.predict:\n",
    "            # load files\n",
    "            imgs = [self.__loadpredict__(filename) for filename in filenames]\n",
    "            # create numpy batch\n",
    "            imgs = np.array(imgs)\n",
    "            return imgs, filenames\n",
    "        # train mode: return images and masks\n",
    "        else:\n",
    "            # load files\n",
    "            items = [self.__load__(filename) for filename in filenames]\n",
    "            # unzip images and masks\n",
    "            imgs, msks = zip(*items)\n",
    "            # create numpy batch\n",
    "            imgs = np.array(imgs)\n",
    "            msks = np.array(msks)\n",
    "            return imgs, msks\n",
    "        \n",
    "    def on_epoch_end(self):\n",
    "        if self.shuffle:\n",
    "            random.shuffle(self.filenames)\n",
    "        \n",
    "    def __len__(self):\n",
    "        if self.predict:\n",
    "            # return everything\n",
    "            return int(np.ceil(len(self.filenames) / self.batch_size))\n",
    "        else:\n",
    "            # return full batches only\n",
    "            return int(len(self.filenames) / self.batch_size)"
   ]
  },
  {
   "cell_type": "markdown",
   "id": "3c844d33",
   "metadata": {
    "_uuid": "ebc622a4b406354cc4ef28801eab72346a724d8b",
    "papermill": {
     "duration": 0.004833,
     "end_time": "2023-08-18T21:42:17.971213",
     "exception": false,
     "start_time": "2023-08-18T21:42:17.966380",
     "status": "completed"
    },
    "tags": []
   },
   "source": [
    "# Neural Network"
   ]
  },
  {
   "cell_type": "code",
   "execution_count": 5,
   "id": "ea1aeb13",
   "metadata": {
    "_uuid": "ccf1721087c22f2a63d5f5407a558ecf14321e2d",
    "execution": {
     "iopub.execute_input": "2023-08-18T21:42:17.982848Z",
     "iopub.status.busy": "2023-08-18T21:42:17.982086Z",
     "iopub.status.idle": "2023-08-18T21:42:17.986520Z",
     "shell.execute_reply": "2023-08-18T21:42:17.985688Z"
    },
    "papermill": {
     "duration": 0.012239,
     "end_time": "2023-08-18T21:42:17.988443",
     "exception": false,
     "start_time": "2023-08-18T21:42:17.976204",
     "status": "completed"
    },
    "tags": []
   },
   "outputs": [],
   "source": [
    "BATCH_SIZE = 56\n",
    "IMAGE_SIZE = 320"
   ]
  },
  {
   "cell_type": "code",
   "execution_count": 6,
   "id": "74a12974",
   "metadata": {
    "_uuid": "9fc2b108689637a6037b48ebab3f7659b8704bf9",
    "execution": {
     "iopub.execute_input": "2023-08-18T21:42:17.999553Z",
     "iopub.status.busy": "2023-08-18T21:42:17.999220Z",
     "iopub.status.idle": "2023-08-18T21:42:18.012024Z",
     "shell.execute_reply": "2023-08-18T21:42:18.011066Z"
    },
    "papermill": {
     "duration": 0.020298,
     "end_time": "2023-08-18T21:42:18.013811",
     "exception": false,
     "start_time": "2023-08-18T21:42:17.993513",
     "status": "completed"
    },
    "tags": []
   },
   "outputs": [],
   "source": [
    "def create_downsample(channels, inputs):\n",
    "    x = keras.layers.BatchNormalization(momentum=0.9)(inputs)\n",
    "    x = keras.layers.LeakyReLU(0)(x)\n",
    "    x = keras.layers.Conv2D(channels, 1, padding='same', use_bias=False)(x)\n",
    "    x = keras.layers.MaxPool2D(2)(x)\n",
    "    return x\n",
    "\n",
    "def create_resblock(channels, inputs):\n",
    "    x = keras.layers.BatchNormalization(momentum=0.9)(inputs)\n",
    "    x = keras.layers.LeakyReLU(0)(x)\n",
    "    x = keras.layers.Conv2D(channels, 3, padding='same', use_bias=False)(x)\n",
    "    x = keras.layers.BatchNormalization(momentum=0.9)(x)\n",
    "    x = keras.layers.LeakyReLU(0)(x)\n",
    "    x = keras.layers.Conv2D(channels, 3, padding='same', use_bias=False)(x)\n",
    "    return keras.layers.add([x, inputs])\n",
    "\n",
    "def create_network(input_size, channels, n_blocks=2, depth=4):\n",
    "    # input\n",
    "    inputs = keras.Input(shape=(input_size, input_size, 1))\n",
    "    x = keras.layers.Conv2D(channels, 3, padding='same', use_bias=False)(inputs)\n",
    "    # residual blocks\n",
    "    for d in range(depth):\n",
    "        channels = channels * 2\n",
    "        x = create_downsample(channels, x)\n",
    "        for b in range(n_blocks):\n",
    "            x = create_resblock(channels, x)\n",
    "    # output\n",
    "    x = keras.layers.BatchNormalization(momentum=0.9)(x)\n",
    "    x = keras.layers.LeakyReLU(0)(x)\n",
    "    x = keras.layers.Conv2D(256, 1, activation=None)(x)\n",
    "    x = keras.layers.BatchNormalization(momentum=0.9)(x)\n",
    "    x = keras.layers.LeakyReLU(0)(x)\n",
    "    x = keras.layers.Conv2DTranspose(128, (8,8), (4,4), padding=\"same\", activation=None)(x)\n",
    "    x = keras.layers.BatchNormalization(momentum=0.9)(x)\n",
    "    x = keras.layers.LeakyReLU(0)(x)\n",
    "    x = keras.layers.Conv2D(1, 1, activation='sigmoid')(x)\n",
    "    outputs = keras.layers.UpSampling2D(2**(depth-2))(x)\n",
    "    model = keras.Model(inputs=inputs, outputs=outputs)\n",
    "    return model"
   ]
  },
  {
   "cell_type": "markdown",
   "id": "2cd0b155",
   "metadata": {
    "_uuid": "bee3bc9363e9c1829eadf17da7a67fbd1a6a369e",
    "papermill": {
     "duration": 0.004711,
     "end_time": "2023-08-18T21:42:18.023451",
     "exception": false,
     "start_time": "2023-08-18T21:42:18.018740",
     "status": "completed"
    },
    "tags": []
   },
   "source": [
    "# Train network\n"
   ]
  },
  {
   "cell_type": "code",
   "execution_count": 7,
   "id": "5e7854dc",
   "metadata": {
    "_uuid": "4369be30f61440eb6858d57829fa541c4ee893bf",
    "execution": {
     "iopub.execute_input": "2023-08-18T21:42:18.035121Z",
     "iopub.status.busy": "2023-08-18T21:42:18.034423Z",
     "iopub.status.idle": "2023-08-18T21:42:21.787817Z",
     "shell.execute_reply": "2023-08-18T21:42:21.787062Z"
    },
    "papermill": {
     "duration": 3.904807,
     "end_time": "2023-08-18T21:42:21.933233",
     "exception": false,
     "start_time": "2023-08-18T21:42:18.028426",
     "status": "completed"
    },
    "tags": []
   },
   "outputs": [
    {
     "name": "stdout",
     "output_type": "stream",
     "text": [
      "Model: \"model\"\n",
      "__________________________________________________________________________________________________\n",
      " Layer (type)                   Output Shape         Param #     Connected to                     \n",
      "==================================================================================================\n",
      " input_1 (InputLayer)           [(None, 320, 320, 1  0           []                               \n",
      "                                )]                                                                \n",
      "                                                                                                  \n",
      " conv2d (Conv2D)                (None, 320, 320, 32  288         ['input_1[0][0]']                \n",
      "                                )                                                                 \n",
      "                                                                                                  \n",
      " batch_normalization (BatchNorm  (None, 320, 320, 32  128        ['conv2d[0][0]']                 \n",
      " alization)                     )                                                                 \n",
      "                                                                                                  \n",
      " leaky_re_lu (LeakyReLU)        (None, 320, 320, 32  0           ['batch_normalization[0][0]']    \n",
      "                                )                                                                 \n",
      "                                                                                                  \n",
      " conv2d_1 (Conv2D)              (None, 320, 320, 64  2048        ['leaky_re_lu[0][0]']            \n",
      "                                )                                                                 \n",
      "                                                                                                  \n",
      " max_pooling2d (MaxPooling2D)   (None, 160, 160, 64  0           ['conv2d_1[0][0]']               \n",
      "                                )                                                                 \n",
      "                                                                                                  \n",
      " batch_normalization_1 (BatchNo  (None, 160, 160, 64  256        ['max_pooling2d[0][0]']          \n",
      " rmalization)                   )                                                                 \n",
      "                                                                                                  \n",
      " leaky_re_lu_1 (LeakyReLU)      (None, 160, 160, 64  0           ['batch_normalization_1[0][0]']  \n",
      "                                )                                                                 \n",
      "                                                                                                  \n",
      " conv2d_2 (Conv2D)              (None, 160, 160, 64  36864       ['leaky_re_lu_1[0][0]']          \n",
      "                                )                                                                 \n",
      "                                                                                                  \n",
      " batch_normalization_2 (BatchNo  (None, 160, 160, 64  256        ['conv2d_2[0][0]']               \n",
      " rmalization)                   )                                                                 \n",
      "                                                                                                  \n",
      " leaky_re_lu_2 (LeakyReLU)      (None, 160, 160, 64  0           ['batch_normalization_2[0][0]']  \n",
      "                                )                                                                 \n",
      "                                                                                                  \n",
      " conv2d_3 (Conv2D)              (None, 160, 160, 64  36864       ['leaky_re_lu_2[0][0]']          \n",
      "                                )                                                                 \n",
      "                                                                                                  \n",
      " add (Add)                      (None, 160, 160, 64  0           ['conv2d_3[0][0]',               \n",
      "                                )                                 'max_pooling2d[0][0]']          \n",
      "                                                                                                  \n",
      " batch_normalization_3 (BatchNo  (None, 160, 160, 64  256        ['add[0][0]']                    \n",
      " rmalization)                   )                                                                 \n",
      "                                                                                                  \n",
      " leaky_re_lu_3 (LeakyReLU)      (None, 160, 160, 64  0           ['batch_normalization_3[0][0]']  \n",
      "                                )                                                                 \n",
      "                                                                                                  \n",
      " conv2d_4 (Conv2D)              (None, 160, 160, 64  36864       ['leaky_re_lu_3[0][0]']          \n",
      "                                )                                                                 \n",
      "                                                                                                  \n",
      " batch_normalization_4 (BatchNo  (None, 160, 160, 64  256        ['conv2d_4[0][0]']               \n",
      " rmalization)                   )                                                                 \n",
      "                                                                                                  \n",
      " leaky_re_lu_4 (LeakyReLU)      (None, 160, 160, 64  0           ['batch_normalization_4[0][0]']  \n",
      "                                )                                                                 \n",
      "                                                                                                  \n",
      " conv2d_5 (Conv2D)              (None, 160, 160, 64  36864       ['leaky_re_lu_4[0][0]']          \n",
      "                                )                                                                 \n",
      "                                                                                                  \n",
      " add_1 (Add)                    (None, 160, 160, 64  0           ['conv2d_5[0][0]',               \n",
      "                                )                                 'add[0][0]']                    \n",
      "                                                                                                  \n",
      " batch_normalization_5 (BatchNo  (None, 160, 160, 64  256        ['add_1[0][0]']                  \n",
      " rmalization)                   )                                                                 \n",
      "                                                                                                  \n",
      " leaky_re_lu_5 (LeakyReLU)      (None, 160, 160, 64  0           ['batch_normalization_5[0][0]']  \n",
      "                                )                                                                 \n",
      "                                                                                                  \n",
      " conv2d_6 (Conv2D)              (None, 160, 160, 12  8192        ['leaky_re_lu_5[0][0]']          \n",
      "                                8)                                                                \n",
      "                                                                                                  \n",
      " max_pooling2d_1 (MaxPooling2D)  (None, 80, 80, 128)  0          ['conv2d_6[0][0]']               \n",
      "                                                                                                  \n",
      " batch_normalization_6 (BatchNo  (None, 80, 80, 128)  512        ['max_pooling2d_1[0][0]']        \n",
      " rmalization)                                                                                     \n",
      "                                                                                                  \n",
      " leaky_re_lu_6 (LeakyReLU)      (None, 80, 80, 128)  0           ['batch_normalization_6[0][0]']  \n",
      "                                                                                                  \n",
      " conv2d_7 (Conv2D)              (None, 80, 80, 128)  147456      ['leaky_re_lu_6[0][0]']          \n",
      "                                                                                                  \n",
      " batch_normalization_7 (BatchNo  (None, 80, 80, 128)  512        ['conv2d_7[0][0]']               \n",
      " rmalization)                                                                                     \n",
      "                                                                                                  \n",
      " leaky_re_lu_7 (LeakyReLU)      (None, 80, 80, 128)  0           ['batch_normalization_7[0][0]']  \n",
      "                                                                                                  \n",
      " conv2d_8 (Conv2D)              (None, 80, 80, 128)  147456      ['leaky_re_lu_7[0][0]']          \n",
      "                                                                                                  \n",
      " add_2 (Add)                    (None, 80, 80, 128)  0           ['conv2d_8[0][0]',               \n",
      "                                                                  'max_pooling2d_1[0][0]']        \n",
      "                                                                                                  \n",
      " batch_normalization_8 (BatchNo  (None, 80, 80, 128)  512        ['add_2[0][0]']                  \n",
      " rmalization)                                                                                     \n",
      "                                                                                                  \n",
      " leaky_re_lu_8 (LeakyReLU)      (None, 80, 80, 128)  0           ['batch_normalization_8[0][0]']  \n",
      "                                                                                                  \n",
      " conv2d_9 (Conv2D)              (None, 80, 80, 128)  147456      ['leaky_re_lu_8[0][0]']          \n",
      "                                                                                                  \n",
      " batch_normalization_9 (BatchNo  (None, 80, 80, 128)  512        ['conv2d_9[0][0]']               \n",
      " rmalization)                                                                                     \n",
      "                                                                                                  \n",
      " leaky_re_lu_9 (LeakyReLU)      (None, 80, 80, 128)  0           ['batch_normalization_9[0][0]']  \n",
      "                                                                                                  \n",
      " conv2d_10 (Conv2D)             (None, 80, 80, 128)  147456      ['leaky_re_lu_9[0][0]']          \n",
      "                                                                                                  \n",
      " add_3 (Add)                    (None, 80, 80, 128)  0           ['conv2d_10[0][0]',              \n",
      "                                                                  'add_2[0][0]']                  \n",
      "                                                                                                  \n",
      " batch_normalization_10 (BatchN  (None, 80, 80, 128)  512        ['add_3[0][0]']                  \n",
      " ormalization)                                                                                    \n",
      "                                                                                                  \n",
      " leaky_re_lu_10 (LeakyReLU)     (None, 80, 80, 128)  0           ['batch_normalization_10[0][0]'] \n",
      "                                                                                                  \n",
      " conv2d_11 (Conv2D)             (None, 80, 80, 256)  32768       ['leaky_re_lu_10[0][0]']         \n",
      "                                                                                                  \n",
      " max_pooling2d_2 (MaxPooling2D)  (None, 40, 40, 256)  0          ['conv2d_11[0][0]']              \n",
      "                                                                                                  \n",
      " batch_normalization_11 (BatchN  (None, 40, 40, 256)  1024       ['max_pooling2d_2[0][0]']        \n",
      " ormalization)                                                                                    \n",
      "                                                                                                  \n",
      " leaky_re_lu_11 (LeakyReLU)     (None, 40, 40, 256)  0           ['batch_normalization_11[0][0]'] \n",
      "                                                                                                  \n",
      " conv2d_12 (Conv2D)             (None, 40, 40, 256)  589824      ['leaky_re_lu_11[0][0]']         \n",
      "                                                                                                  \n",
      " batch_normalization_12 (BatchN  (None, 40, 40, 256)  1024       ['conv2d_12[0][0]']              \n",
      " ormalization)                                                                                    \n",
      "                                                                                                  \n",
      " leaky_re_lu_12 (LeakyReLU)     (None, 40, 40, 256)  0           ['batch_normalization_12[0][0]'] \n",
      "                                                                                                  \n",
      " conv2d_13 (Conv2D)             (None, 40, 40, 256)  589824      ['leaky_re_lu_12[0][0]']         \n",
      "                                                                                                  \n",
      " add_4 (Add)                    (None, 40, 40, 256)  0           ['conv2d_13[0][0]',              \n",
      "                                                                  'max_pooling2d_2[0][0]']        \n",
      "                                                                                                  \n",
      " batch_normalization_13 (BatchN  (None, 40, 40, 256)  1024       ['add_4[0][0]']                  \n",
      " ormalization)                                                                                    \n",
      "                                                                                                  \n",
      " leaky_re_lu_13 (LeakyReLU)     (None, 40, 40, 256)  0           ['batch_normalization_13[0][0]'] \n",
      "                                                                                                  \n",
      " conv2d_14 (Conv2D)             (None, 40, 40, 256)  589824      ['leaky_re_lu_13[0][0]']         \n",
      "                                                                                                  \n",
      " batch_normalization_14 (BatchN  (None, 40, 40, 256)  1024       ['conv2d_14[0][0]']              \n",
      " ormalization)                                                                                    \n",
      "                                                                                                  \n",
      " leaky_re_lu_14 (LeakyReLU)     (None, 40, 40, 256)  0           ['batch_normalization_14[0][0]'] \n",
      "                                                                                                  \n",
      " conv2d_15 (Conv2D)             (None, 40, 40, 256)  589824      ['leaky_re_lu_14[0][0]']         \n",
      "                                                                                                  \n",
      " add_5 (Add)                    (None, 40, 40, 256)  0           ['conv2d_15[0][0]',              \n",
      "                                                                  'add_4[0][0]']                  \n",
      "                                                                                                  \n",
      " batch_normalization_15 (BatchN  (None, 40, 40, 256)  1024       ['add_5[0][0]']                  \n",
      " ormalization)                                                                                    \n",
      "                                                                                                  \n",
      " leaky_re_lu_15 (LeakyReLU)     (None, 40, 40, 256)  0           ['batch_normalization_15[0][0]'] \n",
      "                                                                                                  \n",
      " conv2d_16 (Conv2D)             (None, 40, 40, 512)  131072      ['leaky_re_lu_15[0][0]']         \n",
      "                                                                                                  \n",
      " max_pooling2d_3 (MaxPooling2D)  (None, 20, 20, 512)  0          ['conv2d_16[0][0]']              \n",
      "                                                                                                  \n",
      " batch_normalization_16 (BatchN  (None, 20, 20, 512)  2048       ['max_pooling2d_3[0][0]']        \n",
      " ormalization)                                                                                    \n",
      "                                                                                                  \n",
      " leaky_re_lu_16 (LeakyReLU)     (None, 20, 20, 512)  0           ['batch_normalization_16[0][0]'] \n",
      "                                                                                                  \n",
      " conv2d_17 (Conv2D)             (None, 20, 20, 512)  2359296     ['leaky_re_lu_16[0][0]']         \n",
      "                                                                                                  \n",
      " batch_normalization_17 (BatchN  (None, 20, 20, 512)  2048       ['conv2d_17[0][0]']              \n",
      " ormalization)                                                                                    \n",
      "                                                                                                  \n",
      " leaky_re_lu_17 (LeakyReLU)     (None, 20, 20, 512)  0           ['batch_normalization_17[0][0]'] \n",
      "                                                                                                  \n",
      " conv2d_18 (Conv2D)             (None, 20, 20, 512)  2359296     ['leaky_re_lu_17[0][0]']         \n",
      "                                                                                                  \n",
      " add_6 (Add)                    (None, 20, 20, 512)  0           ['conv2d_18[0][0]',              \n",
      "                                                                  'max_pooling2d_3[0][0]']        \n",
      "                                                                                                  \n",
      " batch_normalization_18 (BatchN  (None, 20, 20, 512)  2048       ['add_6[0][0]']                  \n",
      " ormalization)                                                                                    \n",
      "                                                                                                  \n",
      " leaky_re_lu_18 (LeakyReLU)     (None, 20, 20, 512)  0           ['batch_normalization_18[0][0]'] \n",
      "                                                                                                  \n",
      " conv2d_19 (Conv2D)             (None, 20, 20, 512)  2359296     ['leaky_re_lu_18[0][0]']         \n",
      "                                                                                                  \n",
      " batch_normalization_19 (BatchN  (None, 20, 20, 512)  2048       ['conv2d_19[0][0]']              \n",
      " ormalization)                                                                                    \n",
      "                                                                                                  \n",
      " leaky_re_lu_19 (LeakyReLU)     (None, 20, 20, 512)  0           ['batch_normalization_19[0][0]'] \n",
      "                                                                                                  \n",
      " conv2d_20 (Conv2D)             (None, 20, 20, 512)  2359296     ['leaky_re_lu_19[0][0]']         \n",
      "                                                                                                  \n",
      " add_7 (Add)                    (None, 20, 20, 512)  0           ['conv2d_20[0][0]',              \n",
      "                                                                  'add_6[0][0]']                  \n",
      "                                                                                                  \n",
      " batch_normalization_20 (BatchN  (None, 20, 20, 512)  2048       ['add_7[0][0]']                  \n",
      " ormalization)                                                                                    \n",
      "                                                                                                  \n",
      " leaky_re_lu_20 (LeakyReLU)     (None, 20, 20, 512)  0           ['batch_normalization_20[0][0]'] \n",
      "                                                                                                  \n",
      " conv2d_21 (Conv2D)             (None, 20, 20, 256)  131328      ['leaky_re_lu_20[0][0]']         \n",
      "                                                                                                  \n",
      " batch_normalization_21 (BatchN  (None, 20, 20, 256)  1024       ['conv2d_21[0][0]']              \n",
      " ormalization)                                                                                    \n",
      "                                                                                                  \n",
      " leaky_re_lu_21 (LeakyReLU)     (None, 20, 20, 256)  0           ['batch_normalization_21[0][0]'] \n",
      "                                                                                                  \n",
      " conv2d_transpose (Conv2DTransp  (None, 80, 80, 128)  2097280    ['leaky_re_lu_21[0][0]']         \n",
      " ose)                                                                                             \n",
      "                                                                                                  \n",
      " batch_normalization_22 (BatchN  (None, 80, 80, 128)  512        ['conv2d_transpose[0][0]']       \n",
      " ormalization)                                                                                    \n",
      "                                                                                                  \n",
      " leaky_re_lu_22 (LeakyReLU)     (None, 80, 80, 128)  0           ['batch_normalization_22[0][0]'] \n",
      "                                                                                                  \n",
      " conv2d_22 (Conv2D)             (None, 80, 80, 1)    129         ['leaky_re_lu_22[0][0]']         \n",
      "                                                                                                  \n",
      " up_sampling2d (UpSampling2D)   (None, 320, 320, 1)  0           ['conv2d_22[0][0]']              \n",
      "                                                                                                  \n",
      "==================================================================================================\n",
      "Total params: 14,957,729\n",
      "Trainable params: 14,947,297\n",
      "Non-trainable params: 10,432\n",
      "__________________________________________________________________________________________________\n",
      "None\n"
     ]
    }
   ],
   "source": [
    "# define iou or jaccard loss function\n",
    "def iou_loss(y_true, y_pred):\n",
    "    y_true = tf.cast(y_true, tf.float32)\n",
    "    y_pred = tf.cast(y_pred, tf.float32)\n",
    "\n",
    "\n",
    "    intersection = tf.reduce_sum(y_true * y_pred)\n",
    "    score = (intersection + 1.) / (tf.reduce_sum(y_true) + tf.reduce_sum(y_pred) - intersection + 1.)\n",
    "    return 1 - score\n",
    "\n",
    "# combine bce loss and iou loss\n",
    "def iou_bce_loss(y_true, y_pred):\n",
    "    bce = keras.losses.binary_crossentropy(y_true, y_pred)\n",
    "    bce = tf.cast(bce, dtype=tf.float16)\n",
    "    iou = iou_loss(y_true, y_pred)\n",
    "    iou = tf.cast(iou, dtype=tf.float16)\n",
    "    return 0.5 * bce + 0.5 * iou\n",
    "\n",
    "\n",
    "\n",
    "# mean iou as a metric\n",
    "def mean_iou(y_true, y_pred):\n",
    "    y_pred = tf.round(y_pred)\n",
    "    intersect = tf.reduce_sum(y_true * y_pred, axis=[1, 2, 3])\n",
    "    union = tf.reduce_sum(y_true, axis=[1, 2, 3]) + tf.reduce_sum(y_pred, axis=[1, 2, 3])\n",
    "    smooth = tf.ones(tf.shape(intersect))\n",
    "    return tf.reduce_mean((intersect + smooth) / (union - intersect + smooth))\n",
    "\n",
    "# create network and compiler\n",
    "model = create_network(input_size=IMAGE_SIZE, channels=32, n_blocks=2, depth=4)\n",
    "model.compile(optimizer='adam',\n",
    "              loss=iou_bce_loss,\n",
    "              metrics=['accuracy', mean_iou])\n",
    "\n",
    "# cosine learning rate annealing\n",
    "def cosine_annealing(x):\n",
    "    lr = 0.001\n",
    "    epochs = 20\n",
    "    return lr*(np.cos(np.pi*x/epochs)+1.)/2\n",
    "learning_rate = tf.keras.callbacks.LearningRateScheduler(cosine_annealing)\n",
    "\n",
    "class TQDMProgressBar(tf.keras.callbacks.Callback):\n",
    "    def __init__(self, total_epochs, train_steps_per_epoch, valid_steps_per_epoch):\n",
    "        super().__init__()\n",
    "        self.total_epochs = total_epochs\n",
    "        self.train_steps_per_epoch = train_steps_per_epoch\n",
    "        self.valid_steps_per_epoch = valid_steps_per_epoch\n",
    "\n",
    "# create train and validation generators\n",
    "folder = '/kaggle/input/rsna-pneumonia-detection-challenge/stage_2_train_images'\n",
    "train_gen = generator(folder, train_filenames, pneumonia_locations, batch_size=BATCH_SIZE, image_size=IMAGE_SIZE, shuffle=True, augment=True, predict=False)\n",
    "valid_gen = generator(folder, valid_filenames, pneumonia_locations, batch_size=BATCH_SIZE, image_size=IMAGE_SIZE, shuffle=False, predict=False)\n",
    "\n",
    "print(model.summary())\n",
    "\n",
    "from tensorflow.keras.mixed_precision import (global_policy, Policy, \n",
    "                                              set_global_policy)\n",
    "\n",
    "# Enable mixed precision training\n",
    "policy = Policy('mixed_float16')\n",
    "set_global_policy(policy)\n"
   ]
  },
  {
   "cell_type": "code",
   "execution_count": 8,
   "id": "a3543e14",
   "metadata": {
    "_uuid": "f6bb70654592bc3b47f50f09982d42f4c6971463",
    "execution": {
     "iopub.execute_input": "2023-08-18T21:42:21.980117Z",
     "iopub.status.busy": "2023-08-18T21:42:21.979824Z",
     "iopub.status.idle": "2023-08-18T22:37:39.407962Z",
     "shell.execute_reply": "2023-08-18T22:37:39.406980Z"
    },
    "papermill": {
     "duration": 3317.517649,
     "end_time": "2023-08-18T22:37:39.474352",
     "exception": false,
     "start_time": "2023-08-18T21:42:21.956703",
     "status": "completed"
    },
    "tags": []
   },
   "outputs": [
    {
     "name": "stdout",
     "output_type": "stream",
     "text": [
      "Epoch 1/2\n",
      "430/430 [==============================] - 1757s 4s/step - loss: nan - accuracy: 0.5540 - mean_iou: 0.0201 - val_loss: nan - val_accuracy: 0.5551 - val_mean_iou: 0.0193 - lr: 0.0010\n",
      "Epoch 2/2\n",
      "430/430 [==============================] - 1556s 4s/step - loss: nan - accuracy: 0.5540 - mean_iou: 0.0201 - val_loss: nan - val_accuracy: 0.5548 - val_mean_iou: 0.0193 - lr: 9.9384e-04\n"
     ]
    }
   ],
   "source": [
    "history = model.fit_generator(train_gen, validation_data=valid_gen, callbacks=[learning_rate], epochs=2, shuffle=True)\n"
   ]
  },
  {
   "cell_type": "code",
   "execution_count": 9,
   "id": "755f9cd4",
   "metadata": {
    "_uuid": "3666ba4cac9ed2c3029b824af220404bfcc16f23",
    "execution": {
     "iopub.execute_input": "2023-08-18T22:37:39.648965Z",
     "iopub.status.busy": "2023-08-18T22:37:39.648594Z",
     "iopub.status.idle": "2023-08-18T22:37:40.680732Z",
     "shell.execute_reply": "2023-08-18T22:37:40.679369Z"
    },
    "papermill": {
     "duration": 1.121742,
     "end_time": "2023-08-18T22:37:40.682111",
     "exception": true,
     "start_time": "2023-08-18T22:37:39.560369",
     "status": "failed"
    },
    "tags": []
   },
   "outputs": [
    {
     "ename": "KeyError",
     "evalue": "'acc'",
     "output_type": "error",
     "traceback": [
      "\u001b[0;31m---------------------------------------------------------------------------\u001b[0m",
      "\u001b[0;31mKeyError\u001b[0m                                  Traceback (most recent call last)",
      "Cell \u001b[0;32mIn[9], line 7\u001b[0m\n\u001b[1;32m      5\u001b[0m plt\u001b[38;5;241m.\u001b[39mlegend()\n\u001b[1;32m      6\u001b[0m plt\u001b[38;5;241m.\u001b[39msubplot(\u001b[38;5;241m132\u001b[39m)\n\u001b[0;32m----> 7\u001b[0m plt\u001b[38;5;241m.\u001b[39mplot(history\u001b[38;5;241m.\u001b[39mepoch, \u001b[43mhistory\u001b[49m\u001b[38;5;241;43m.\u001b[39;49m\u001b[43mhistory\u001b[49m\u001b[43m[\u001b[49m\u001b[38;5;124;43m\"\u001b[39;49m\u001b[38;5;124;43macc\u001b[39;49m\u001b[38;5;124;43m\"\u001b[39;49m\u001b[43m]\u001b[49m, label\u001b[38;5;241m=\u001b[39m\u001b[38;5;124m\"\u001b[39m\u001b[38;5;124mTrain accuracy\u001b[39m\u001b[38;5;124m\"\u001b[39m)\n\u001b[1;32m      8\u001b[0m plt\u001b[38;5;241m.\u001b[39mplot(history\u001b[38;5;241m.\u001b[39mepoch, history\u001b[38;5;241m.\u001b[39mhistory[\u001b[38;5;124m\"\u001b[39m\u001b[38;5;124mval_acc\u001b[39m\u001b[38;5;124m\"\u001b[39m], label\u001b[38;5;241m=\u001b[39m\u001b[38;5;124m\"\u001b[39m\u001b[38;5;124mValid accuracy\u001b[39m\u001b[38;5;124m\"\u001b[39m)\n\u001b[1;32m      9\u001b[0m plt\u001b[38;5;241m.\u001b[39mlegend()\n",
      "\u001b[0;31mKeyError\u001b[0m: 'acc'"
     ]
    },
    {
     "data": {
      "image/png": "[encoded data removed]",
      "text/plain": [
       "<Figure size 1200x400 with 2 Axes>"
      ]
     },
     "metadata": {},
     "output_type": "display_data"
    }
   ],
   "source": [
    "plt.figure(figsize=(12,4))\n",
    "plt.subplot(131)\n",
    "plt.plot(history.epoch, history.history[\"loss\"], label=\"Train loss\")\n",
    "plt.plot(history.epoch, history.history[\"val_loss\"], label=\"Valid loss\")\n",
    "plt.legend()\n",
    "plt.subplot(132)\n",
    "plt.plot(history.epoch, history.history[\"acc\"], label=\"Train accuracy\")\n",
    "plt.plot(history.epoch, history.history[\"val_acc\"], label=\"Valid accuracy\")\n",
    "plt.legend()\n",
    "\n",
    "plt.show()"
   ]
  },
  {
   "cell_type": "markdown",
   "id": "a8d12155",
   "metadata": {
    "_uuid": "25dc7ad848190bb37349a80f96ed2bdb5c3821b0",
    "papermill": {
     "duration": null,
     "end_time": null,
     "exception": null,
     "start_time": null,
     "status": "pending"
    },
    "tags": []
   },
   "source": [
    "# Predict test images"
   ]
  },
  {
   "cell_type": "code",
   "execution_count": null,
   "id": "9efacb2c",
   "metadata": {
    "_uuid": "2c9277e4ec9f12712dd690002c540b396278c504",
    "execution": {
     "iopub.execute_input": "2023-08-18T21:41:39.580181Z",
     "iopub.status.busy": "2023-08-18T21:41:39.579449Z",
     "iopub.status.idle": "2023-08-18T21:41:39.640769Z",
     "shell.execute_reply": "2023-08-18T21:41:39.639460Z",
     "shell.execute_reply.started": "2023-08-18T21:41:39.580145Z"
    },
    "papermill": {
     "duration": null,
     "end_time": null,
     "exception": null,
     "start_time": null,
     "status": "pending"
    },
    "tags": []
   },
   "outputs": [],
   "source": [
    "# load and shuffle filenames\n",
    "folder = '../input/stage_2_test_images'\n",
    "test_filenames = os.listdir(folder)\n",
    "print('n test samples:', len(test_filenames))\n",
    "\n",
    "# create test generator with predict flag set to True\n",
    "test_gen = generator(folder, test_filenames, None, batch_size=16, image_size=IMAGE_SIZE, shuffle=False, predict=True)\n",
    "\n",
    "# create submission dictionary\n",
    "submission_dict = {}\n",
    "# loop through testset\n",
    "for imgs, filenames in test_gen:\n",
    "    # predict batch of images\n",
    "    preds = model.predict(imgs)\n",
    "    # loop through batch\n",
    "    for pred, filename in zip(preds, filenames):\n",
    "        # resize predicted mask\n",
    "        pred = resize(pred, (1024, 1024), mode='reflect')\n",
    "        # threshold predicted mask\n",
    "        comp = pred[:, :, 0] > 0.5\n",
    "        # apply connected components\n",
    "        comp = measure.label(comp)\n",
    "        # apply bounding boxes\n",
    "        predictionString = ''\n",
    "        for region in measure.regionprops(comp):\n",
    "            # retrieve x, y, height and width\n",
    "            y, x, y2, x2 = region.bbox\n",
    "            height = y2 - y\n",
    "            width = x2 - x\n",
    "            # proxy for confidence score\n",
    "            conf = np.mean(pred[y:y+height, x:x+width])\n",
    "            # add to predictionString\n",
    "            predictionString += str(conf) + ' ' + str(x) + ' ' + str(y) + ' ' + str(width) + ' ' + str(height) + ' '\n",
    "        # add filename and predictionString to dictionary\n",
    "        filename = filename.split('.')[0]\n",
    "        submission_dict[filename] = predictionString\n",
    "    # stop if we've got them all\n",
    "    if len(submission_dict) >= len(test_filenames):\n",
    "        break\n",
    "        \n",
    "print(\"Done predicting...\")\n",
    "        "
   ]
  },
  {
   "cell_type": "markdown",
   "id": "bee69927",
   "metadata": {
    "papermill": {
     "duration": null,
     "end_time": null,
     "exception": null,
     "start_time": null,
     "status": "pending"
    },
    "tags": []
   },
   "source": [
    "# Saving Predictions"
   ]
  },
  {
   "cell_type": "code",
   "execution_count": null,
   "id": "da1f9615",
   "metadata": {
    "execution": {
     "iopub.status.busy": "2023-08-18T21:22:33.339298Z",
     "iopub.status.idle": "2023-08-18T21:22:33.340087Z",
     "shell.execute_reply": "2023-08-18T21:22:33.339864Z",
     "shell.execute_reply.started": "2023-08-18T21:22:33.339841Z"
    },
    "papermill": {
     "duration": null,
     "end_time": null,
     "exception": null,
     "start_time": null,
     "status": "pending"
    },
    "tags": []
   },
   "outputs": [],
   "source": [
    "# save dictionary as csv file\n",
    "sub = pd.DataFrame.from_dict(submission_dict,orient='index')\n",
    "sub.index.names = ['patientId']\n",
    "sub.columns = ['PredictionString']\n",
    "sub.to_csv('submission.csv')"
   ]
  }
 ],
 "metadata": {
  "kernelspec": {
   "display_name": "Python 3",
   "language": "python",
   "name": "python3"
  },
  "language_info": {
   "codemirror_mode": {
    "name": "ipython",
    "version": 3
   },
   "file_extension": ".py",
   "mimetype": "text/x-python",
   "name": "python",
   "nbconvert_exporter": "python",
   "pygments_lexer": "ipython3",
   "version": "3.10.12"
  },
  "papermill": {
   "default_parameters": {},
   "duration": 3346.358232,
   "end_time": "2023-08-18T22:37:44.527369",
   "environment_variables": {},
   "exception": true,
   "input_path": "__notebook__.ipynb",
   "output_path": "__notebook__.ipynb",
   "parameters": {},
   "start_time": "2023-08-18T21:41:58.169137",
   "version": "2.4.0"
  }
 },
 "nbformat": 4,
 "nbformat_minor": 5
}
