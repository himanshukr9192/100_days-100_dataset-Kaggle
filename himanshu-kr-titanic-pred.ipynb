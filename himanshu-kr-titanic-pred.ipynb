{
 "cells": [
  {
   "cell_type": "code",
   "execution_count": 1,
   "id": "7e777e58",
   "metadata": {
    "_cell_guid": "b1076dfc-b9ad-4769-8c92-a6c4dae69d19",
    "_uuid": "8f2839f25d086af736a60e9eeb907d3b93b6e0e5",
    "execution": {
     "iopub.execute_input": "2023-07-14T06:11:55.092028Z",
     "iopub.status.busy": "2023-07-14T06:11:55.091399Z",
     "iopub.status.idle": "2023-07-14T06:11:57.668630Z",
     "shell.execute_reply": "2023-07-14T06:11:57.667194Z"
    },
    "papermill": {
     "duration": 2.599058,
     "end_time": "2023-07-14T06:11:57.672531",
     "exception": false,
     "start_time": "2023-07-14T06:11:55.073473",
     "status": "completed"
    },
    "tags": []
   },
   "outputs": [
    {
     "name": "stderr",
     "output_type": "stream",
     "text": [
      "/opt/conda/lib/python3.10/site-packages/scipy/__init__.py:146: UserWarning: A NumPy version >=1.16.5 and <1.23.0 is required for this version of SciPy (detected version 1.23.5\n",
      "  warnings.warn(f\"A NumPy version >={np_minversion} and <{np_maxversion}\"\n"
     ]
    },
    {
     "name": "stdout",
     "output_type": "stream",
     "text": [
      "/kaggle/input/titanic/train.csv\n",
      "/kaggle/input/titanic/test.csv\n",
      "/kaggle/input/titanic/gender_submission.csv\n"
     ]
    }
   ],
   "source": [
    "# This Python 3 environment comes with many helpful analytics libraries installed\n",
    "# It is defined by the kaggle/python Docker image: https://github.com/kaggle/docker-python\n",
    "# For example, here's several helpful packages to load\n",
    "\n",
    "import numpy as np # linear algebra\n",
    "import pandas as pd # data processing, CSV file I/O (e.g. pd.read_csv)\n",
    "\n",
    "# Input data files are available in the read-only \"../input/\" directory\n",
    "# For example, running this (by clicking run or pressing Shift+Enter) will list all files under the input directory\n",
    "import numpy as np \n",
    "import pandas as pd \n",
    "import matplotlib.pyplot as plt\n",
    "import seaborn as sns\n",
    "import warnings\n",
    "warnings.filterwarnings('ignore')\n",
    "import re\n",
    "from collections import Counter\n",
    "from statistics import mode\n",
    "from sklearn.model_selection import KFold\n",
    "from sklearn.ensemble import RandomForestClassifier, AdaBoostClassifier, GradientBoostingClassifier, ExtraTreesClassifier, VotingClassifier\n",
    "from sklearn.linear_model import LogisticRegression\n",
    "from sklearn.neighbors import KNeighborsClassifier\n",
    "from sklearn.tree import DecisionTreeClassifier\n",
    "from sklearn.neural_network import MLPClassifier\n",
    "from sklearn.svm import SVC\n",
    "from sklearn.model_selection import GridSearchCV, cross_val_score\n",
    "from sklearn.metrics import accuracy_score\n",
    "from sklearn.preprocessing import OneHotEncoder, LabelEncoder, StandardScaler\n",
    "import numpy as np \n",
    "import pandas as pd \n",
    "import matplotlib.pyplot as plt\n",
    "from sklearn.ensemble import GradientBoostingClassifier\n",
    "from sklearn.ensemble import GradientBoostingRegressor\n",
    "\n",
    "\n",
    "import os\n",
    "for dirname, _, filenames in os.walk('/kaggle/input'):\n",
    "    for filename in filenames:\n",
    "        print(os.path.join(dirname, filename))\n",
    "\n",
    "\n",
    "# You can write up to 20GB to the current directory (/kaggle/working/) that gets preserved as output when you create a version using \"Save & Run All\" \n",
    "# You can also write temporary files to /kaggle/temp/, but they won't be saved outside of the current session"
   ]
  },
  {
   "cell_type": "code",
   "execution_count": 2,
   "id": "15ff65bd",
   "metadata": {
    "execution": {
     "iopub.execute_input": "2023-07-14T06:11:57.705500Z",
     "iopub.status.busy": "2023-07-14T06:11:57.704995Z",
     "iopub.status.idle": "2023-07-14T06:11:57.753698Z",
     "shell.execute_reply": "2023-07-14T06:11:57.752290Z"
    },
    "papermill": {
     "duration": 0.068878,
     "end_time": "2023-07-14T06:11:57.757028",
     "exception": false,
     "start_time": "2023-07-14T06:11:57.688150",
     "status": "completed"
    },
    "tags": []
   },
   "outputs": [],
   "source": [
    "# Reading data\n",
    "train = pd.read_csv('/kaggle/input/titanic/train.csv')\n",
    "test = pd.read_csv('/kaggle/input/titanic/test.csv')\n",
    "\n",
    "# Storing Passenger Id for submission\n",
    "Id = test.PassengerId"
   ]
  },
  {
   "cell_type": "code",
   "execution_count": 3,
   "id": "aa2a3836",
   "metadata": {
    "execution": {
     "iopub.execute_input": "2023-07-14T06:11:57.791018Z",
     "iopub.status.busy": "2023-07-14T06:11:57.790510Z",
     "iopub.status.idle": "2023-07-14T06:11:57.810391Z",
     "shell.execute_reply": "2023-07-14T06:11:57.809208Z"
    },
    "papermill": {
     "duration": 0.040939,
     "end_time": "2023-07-14T06:11:57.814016",
     "exception": false,
     "start_time": "2023-07-14T06:11:57.773077",
     "status": "completed"
    },
    "tags": []
   },
   "outputs": [],
   "source": [
    "train_set = pd.read_csv('/kaggle/input/titanic/test.csv')\n",
    "test_set = pd.read_csv('/kaggle/input/titanic/train.csv')"
   ]
  },
  {
   "cell_type": "code",
   "execution_count": 4,
   "id": "5320a540",
   "metadata": {
    "execution": {
     "iopub.execute_input": "2023-07-14T06:11:57.846254Z",
     "iopub.status.busy": "2023-07-14T06:11:57.845746Z",
     "iopub.status.idle": "2023-07-14T06:11:58.288459Z",
     "shell.execute_reply": "2023-07-14T06:11:58.286717Z"
    },
    "papermill": {
     "duration": 0.461974,
     "end_time": "2023-07-14T06:11:58.290952",
     "exception": true,
     "start_time": "2023-07-14T06:11:57.828978",
     "status": "failed"
    },
    "tags": []
   },
   "outputs": [
    {
     "ename": "NameError",
     "evalue": "name 'train_data' is not defined",
     "output_type": "error",
     "traceback": [
      "\u001b[0;31m---------------------------------------------------------------------------\u001b[0m",
      "\u001b[0;31mNameError\u001b[0m                                 Traceback (most recent call last)",
      "Cell \u001b[0;32mIn[4], line 1\u001b[0m\n\u001b[0;32m----> 1\u001b[0m \u001b[38;5;28mprint\u001b[39m(\u001b[43mtrain_data\u001b[49m\u001b[38;5;241m.\u001b[39mcolumns)\n",
      "\u001b[0;31mNameError\u001b[0m: name 'train_data' is not defined"
     ]
    }
   ],
   "source": [
    "print(train_data.columns)\n"
   ]
  },
  {
   "cell_type": "code",
   "execution_count": null,
   "id": "ffbbf5de",
   "metadata": {
    "execution": {
     "iopub.execute_input": "2023-07-14T06:05:34.617768Z",
     "iopub.status.busy": "2023-07-14T06:05:34.617377Z",
     "iopub.status.idle": "2023-07-14T06:05:34.638057Z",
     "shell.execute_reply": "2023-07-14T06:05:34.637174Z",
     "shell.execute_reply.started": "2023-07-14T06:05:34.617739Z"
    },
    "papermill": {
     "duration": null,
     "end_time": null,
     "exception": null,
     "start_time": null,
     "status": "pending"
    },
    "tags": []
   },
   "outputs": [],
   "source": [
    "train.head()"
   ]
  },
  {
   "cell_type": "code",
   "execution_count": null,
   "id": "f951defc",
   "metadata": {
    "execution": {
     "iopub.execute_input": "2023-07-14T06:05:34.639577Z",
     "iopub.status.busy": "2023-07-14T06:05:34.639285Z",
     "iopub.status.idle": "2023-07-14T06:05:34.652685Z",
     "shell.execute_reply": "2023-07-14T06:05:34.651859Z",
     "shell.execute_reply.started": "2023-07-14T06:05:34.639551Z"
    },
    "papermill": {
     "duration": null,
     "end_time": null,
     "exception": null,
     "start_time": null,
     "status": "pending"
    },
    "tags": []
   },
   "outputs": [],
   "source": [
    "test.head()"
   ]
  },
  {
   "cell_type": "code",
   "execution_count": null,
   "id": "01a0733e",
   "metadata": {
    "execution": {
     "iopub.execute_input": "2023-07-14T06:05:34.654240Z",
     "iopub.status.busy": "2023-07-14T06:05:34.653919Z",
     "iopub.status.idle": "2023-07-14T06:05:34.665865Z",
     "shell.execute_reply": "2023-07-14T06:05:34.664751Z",
     "shell.execute_reply.started": "2023-07-14T06:05:34.654212Z"
    },
    "papermill": {
     "duration": null,
     "end_time": null,
     "exception": null,
     "start_time": null,
     "status": "pending"
    },
    "tags": []
   },
   "outputs": [],
   "source": [
    "train.dtypes"
   ]
  },
  {
   "cell_type": "markdown",
   "id": "5667dd7d",
   "metadata": {
    "papermill": {
     "duration": null,
     "end_time": null,
     "exception": null,
     "start_time": null,
     "status": "pending"
    },
    "tags": []
   },
   "source": []
  },
  {
   "cell_type": "markdown",
   "id": "610f3dc9",
   "metadata": {
    "papermill": {
     "duration": null,
     "end_time": null,
     "exception": null,
     "start_time": null,
     "status": "pending"
    },
    "tags": []
   },
   "source": [
    "# ****Vizulalization of train dataset"
   ]
  },
  {
   "cell_type": "code",
   "execution_count": null,
   "id": "53599415",
   "metadata": {
    "execution": {
     "iopub.execute_input": "2023-07-14T06:05:34.667653Z",
     "iopub.status.busy": "2023-07-14T06:05:34.667126Z",
     "iopub.status.idle": "2023-07-14T06:05:36.111677Z",
     "shell.execute_reply": "2023-07-14T06:05:36.110574Z",
     "shell.execute_reply.started": "2023-07-14T06:05:34.667624Z"
    },
    "papermill": {
     "duration": null,
     "end_time": null,
     "exception": null,
     "start_time": null,
     "status": "pending"
    },
    "tags": []
   },
   "outputs": [],
   "source": [
    "train.hist(figsize=(14,14), color='maroon', bins=20)\n",
    "plt.show()"
   ]
  },
  {
   "cell_type": "markdown",
   "id": "ff1537ca",
   "metadata": {
    "papermill": {
     "duration": null,
     "end_time": null,
     "exception": null,
     "start_time": null,
     "status": "pending"
    },
    "tags": []
   },
   "source": [
    "# ****Relation of Sex With the Survive rate #Dependency check"
   ]
  },
  {
   "cell_type": "code",
   "execution_count": null,
   "id": "f9273cb4",
   "metadata": {
    "execution": {
     "iopub.execute_input": "2023-07-14T06:05:36.116082Z",
     "iopub.status.busy": "2023-07-14T06:05:36.115575Z",
     "iopub.status.idle": "2023-07-14T06:05:36.423247Z",
     "shell.execute_reply": "2023-07-14T06:05:36.422177Z",
     "shell.execute_reply.started": "2023-07-14T06:05:36.116042Z"
    },
    "papermill": {
     "duration": null,
     "end_time": null,
     "exception": null,
     "start_time": null,
     "status": "pending"
    },
    "tags": []
   },
   "outputs": [],
   "source": [
    "fig = plt.figure(figsize=(10,10))\n",
    "\n",
    "sns.barplot(x=\"Sex\", y=\"Survived\", data=train)\n",
    "\n",
    "#print percentages of females vs. males that survive\n",
    "print(\"Percentage of females who survived:\", train[\"Survived\"][train[\"Sex\"] == 'female'].value_counts(normalize = True)[1]*100)\n",
    "\n",
    "print(\"Percentage of males who survived:\", train[\"Survived\"][train[\"Sex\"] == 'male'].value_counts(normalize = True)[1]*100)"
   ]
  },
  {
   "cell_type": "code",
   "execution_count": null,
   "id": "17cb5331",
   "metadata": {
    "execution": {
     "iopub.execute_input": "2023-07-14T06:05:36.424773Z",
     "iopub.status.busy": "2023-07-14T06:05:36.424451Z",
     "iopub.status.idle": "2023-07-14T06:05:36.432475Z",
     "shell.execute_reply": "2023-07-14T06:05:36.431718Z",
     "shell.execute_reply.started": "2023-07-14T06:05:36.424745Z"
    },
    "papermill": {
     "duration": null,
     "end_time": null,
     "exception": null,
     "start_time": null,
     "status": "pending"
    },
    "tags": []
   },
   "outputs": [],
   "source": [
    "dataset = pd.concat([train, test], sort=False, ignore_index=True)"
   ]
  },
  {
   "cell_type": "markdown",
   "id": "c297c5ef",
   "metadata": {
    "papermill": {
     "duration": null,
     "end_time": null,
     "exception": null,
     "start_time": null,
     "status": "pending"
    },
    "tags": []
   },
   "source": [
    "# ****Null Values Check"
   ]
  },
  {
   "cell_type": "code",
   "execution_count": null,
   "id": "d9b7e3cc",
   "metadata": {
    "execution": {
     "iopub.execute_input": "2023-07-14T06:05:36.434459Z",
     "iopub.status.busy": "2023-07-14T06:05:36.433632Z",
     "iopub.status.idle": "2023-07-14T06:05:36.450288Z",
     "shell.execute_reply": "2023-07-14T06:05:36.449212Z",
     "shell.execute_reply.started": "2023-07-14T06:05:36.434428Z"
    },
    "papermill": {
     "duration": null,
     "end_time": null,
     "exception": null,
     "start_time": null,
     "status": "pending"
    },
    "tags": []
   },
   "outputs": [],
   "source": [
    "dataset.isnull().mean().sort_values(ascending=False)"
   ]
  },
  {
   "cell_type": "markdown",
   "id": "e7e3a2a9",
   "metadata": {
    "papermill": {
     "duration": null,
     "end_time": null,
     "exception": null,
     "start_time": null,
     "status": "pending"
    },
    "tags": []
   },
   "source": [
    "# ****Correlation within Columns"
   ]
  },
  {
   "cell_type": "code",
   "execution_count": null,
   "id": "6f24ccea",
   "metadata": {
    "execution": {
     "iopub.execute_input": "2023-07-14T06:05:36.452308Z",
     "iopub.status.busy": "2023-07-14T06:05:36.451984Z",
     "iopub.status.idle": "2023-07-14T06:05:37.006862Z",
     "shell.execute_reply": "2023-07-14T06:05:37.005671Z",
     "shell.execute_reply.started": "2023-07-14T06:05:36.452279Z"
    },
    "papermill": {
     "duration": null,
     "end_time": null,
     "exception": null,
     "start_time": null,
     "status": "pending"
    },
    "tags": []
   },
   "outputs": [],
   "source": [
    "# Checking correlations with Heatmap\n",
    "\n",
    "fig, axs = plt.subplots(nrows=1, figsize=(13, 13))\n",
    "sns.heatmap(dataset.corr(), annot=True, square=True, cmap='YlGnBu', linewidths=2, linecolor='black', annot_kws={'size':12})"
   ]
  },
  {
   "cell_type": "code",
   "execution_count": null,
   "id": "45763e5b",
   "metadata": {
    "execution": {
     "iopub.execute_input": "2023-07-14T06:05:37.009054Z",
     "iopub.status.busy": "2023-07-14T06:05:37.008665Z",
     "iopub.status.idle": "2023-07-14T06:05:37.016765Z",
     "shell.execute_reply": "2023-07-14T06:05:37.015546Z",
     "shell.execute_reply.started": "2023-07-14T06:05:37.009016Z"
    },
    "papermill": {
     "duration": null,
     "end_time": null,
     "exception": null,
     "start_time": null,
     "status": "pending"
    },
    "tags": []
   },
   "outputs": [],
   "source": [
    "dataset['Fare'].fillna(dataset['Fare'].mean(), inplace=True)\n",
    "dataset['Embarked'] = dataset['Embarked'].fillna('S')\n"
   ]
  },
  {
   "cell_type": "markdown",
   "id": "8aff1d64",
   "metadata": {
    "papermill": {
     "duration": null,
     "end_time": null,
     "exception": null,
     "start_time": null,
     "status": "pending"
    },
    "tags": []
   },
   "source": [
    "# ****Dropping Unnecessary Columns for data cleansing"
   ]
  },
  {
   "cell_type": "code",
   "execution_count": null,
   "id": "38eb026a",
   "metadata": {
    "execution": {
     "iopub.execute_input": "2023-07-14T06:05:37.018545Z",
     "iopub.status.busy": "2023-07-14T06:05:37.018142Z",
     "iopub.status.idle": "2023-07-14T06:05:37.032165Z",
     "shell.execute_reply": "2023-07-14T06:05:37.031232Z",
     "shell.execute_reply.started": "2023-07-14T06:05:37.018494Z"
    },
    "papermill": {
     "duration": null,
     "end_time": null,
     "exception": null,
     "start_time": null,
     "status": "pending"
    },
    "tags": []
   },
   "outputs": [],
   "source": [
    "dataset.drop(['Ticket'], axis=1, inplace=True)\n",
    "dataset.drop(['Name'], axis=1, inplace=True)\n",
    "dataset.drop(['Cabin'], axis=1, inplace=True)"
   ]
  },
  {
   "cell_type": "code",
   "execution_count": null,
   "id": "815ae2a2",
   "metadata": {
    "execution": {
     "iopub.execute_input": "2023-07-14T06:05:37.034064Z",
     "iopub.status.busy": "2023-07-14T06:05:37.033234Z",
     "iopub.status.idle": "2023-07-14T06:05:37.045039Z",
     "shell.execute_reply": "2023-07-14T06:05:37.043932Z",
     "shell.execute_reply.started": "2023-07-14T06:05:37.034034Z"
    },
    "papermill": {
     "duration": null,
     "end_time": null,
     "exception": null,
     "start_time": null,
     "status": "pending"
    },
    "tags": []
   },
   "outputs": [],
   "source": [
    "# Filling the missing values in Age with the medians of Sex and Pclass groups\n",
    "dataset['Age'].fillna(dataset['Age'].mean(), inplace=True)"
   ]
  },
  {
   "cell_type": "code",
   "execution_count": null,
   "id": "56bca4ec",
   "metadata": {
    "execution": {
     "iopub.execute_input": "2023-07-14T06:05:37.046614Z",
     "iopub.status.busy": "2023-07-14T06:05:37.046274Z",
     "iopub.status.idle": "2023-07-14T06:05:37.058009Z",
     "shell.execute_reply": "2023-07-14T06:05:37.056858Z",
     "shell.execute_reply.started": "2023-07-14T06:05:37.046585Z"
    },
    "papermill": {
     "duration": null,
     "end_time": null,
     "exception": null,
     "start_time": null,
     "status": "pending"
    },
    "tags": []
   },
   "outputs": [],
   "source": [
    "label = LabelEncoder()"
   ]
  },
  {
   "cell_type": "code",
   "execution_count": null,
   "id": "c4cf0d3b",
   "metadata": {
    "execution": {
     "iopub.execute_input": "2023-07-14T06:05:37.059587Z",
     "iopub.status.busy": "2023-07-14T06:05:37.059264Z",
     "iopub.status.idle": "2023-07-14T06:05:37.075275Z",
     "shell.execute_reply": "2023-07-14T06:05:37.074550Z",
     "shell.execute_reply.started": "2023-07-14T06:05:37.059560Z"
    },
    "papermill": {
     "duration": null,
     "end_time": null,
     "exception": null,
     "start_time": null,
     "status": "pending"
    },
    "tags": []
   },
   "outputs": [],
   "source": [
    "dataset.isnull().sum()"
   ]
  },
  {
   "cell_type": "code",
   "execution_count": null,
   "id": "0bb7ef17",
   "metadata": {
    "execution": {
     "iopub.execute_input": "2023-07-14T06:05:37.076993Z",
     "iopub.status.busy": "2023-07-14T06:05:37.076262Z",
     "iopub.status.idle": "2023-07-14T06:05:37.087258Z",
     "shell.execute_reply": "2023-07-14T06:05:37.086527Z",
     "shell.execute_reply.started": "2023-07-14T06:05:37.076963Z"
    },
    "papermill": {
     "duration": null,
     "end_time": null,
     "exception": null,
     "start_time": null,
     "status": "pending"
    },
    "tags": []
   },
   "outputs": [],
   "source": [
    "for col in ['Sex', 'Embarked']:\n",
    "    dataset[col] = label.fit_transform(dataset[col])"
   ]
  },
  {
   "cell_type": "code",
   "execution_count": null,
   "id": "7673e2d9",
   "metadata": {
    "execution": {
     "iopub.execute_input": "2023-07-14T06:05:37.091844Z",
     "iopub.status.busy": "2023-07-14T06:05:37.090937Z",
     "iopub.status.idle": "2023-07-14T06:05:37.107040Z",
     "shell.execute_reply": "2023-07-14T06:05:37.105994Z",
     "shell.execute_reply.started": "2023-07-14T06:05:37.091812Z"
    },
    "papermill": {
     "duration": null,
     "end_time": null,
     "exception": null,
     "start_time": null,
     "status": "pending"
    },
    "tags": []
   },
   "outputs": [],
   "source": [
    "dataset.isnull().sum()"
   ]
  },
  {
   "cell_type": "markdown",
   "id": "765e7470",
   "metadata": {
    "papermill": {
     "duration": null,
     "end_time": null,
     "exception": null,
     "start_time": null,
     "status": "pending"
    },
    "tags": []
   },
   "source": [
    "# ****Grouping/Naming respect to correlation"
   ]
  },
  {
   "cell_type": "code",
   "execution_count": null,
   "id": "a9c7a93d",
   "metadata": {
    "execution": {
     "iopub.execute_input": "2023-07-14T06:05:37.108854Z",
     "iopub.status.busy": "2023-07-14T06:05:37.108057Z",
     "iopub.status.idle": "2023-07-14T06:05:37.115699Z",
     "shell.execute_reply": "2023-07-14T06:05:37.114859Z",
     "shell.execute_reply.started": "2023-07-14T06:05:37.108824Z"
    },
    "papermill": {
     "duration": null,
     "end_time": null,
     "exception": null,
     "start_time": null,
     "status": "pending"
    },
    "tags": []
   },
   "outputs": [],
   "source": [
    "dataset['SibSp'].corr(dataset['Parch'])"
   ]
  },
  {
   "cell_type": "code",
   "execution_count": null,
   "id": "e9f80ec5",
   "metadata": {
    "execution": {
     "iopub.execute_input": "2023-07-14T06:05:37.117313Z",
     "iopub.status.busy": "2023-07-14T06:05:37.117029Z",
     "iopub.status.idle": "2023-07-14T06:05:37.127976Z",
     "shell.execute_reply": "2023-07-14T06:05:37.127024Z",
     "shell.execute_reply.started": "2023-07-14T06:05:37.117288Z"
    },
    "papermill": {
     "duration": null,
     "end_time": null,
     "exception": null,
     "start_time": null,
     "status": "pending"
    },
    "tags": []
   },
   "outputs": [],
   "source": [
    "dataset['Parch'].corr(dataset['SibSp'])"
   ]
  },
  {
   "cell_type": "code",
   "execution_count": null,
   "id": "6399efec",
   "metadata": {
    "execution": {
     "iopub.execute_input": "2023-07-14T06:05:37.129377Z",
     "iopub.status.busy": "2023-07-14T06:05:37.129068Z",
     "iopub.status.idle": "2023-07-14T06:05:37.137292Z",
     "shell.execute_reply": "2023-07-14T06:05:37.136380Z",
     "shell.execute_reply.started": "2023-07-14T06:05:37.129342Z"
    },
    "papermill": {
     "duration": null,
     "end_time": null,
     "exception": null,
     "start_time": null,
     "status": "pending"
    },
    "tags": []
   },
   "outputs": [],
   "source": [
    "\n",
    "dataset['FamSize'] = dataset['SibSp'] + dataset['Parch'] + 1"
   ]
  },
  {
   "cell_type": "markdown",
   "id": "5e07400d",
   "metadata": {
    "papermill": {
     "duration": null,
     "end_time": null,
     "exception": null,
     "start_time": null,
     "status": "pending"
    },
    "tags": []
   },
   "source": [
    "# ****Modelling "
   ]
  },
  {
   "cell_type": "markdown",
   "id": "93c9eb98",
   "metadata": {
    "papermill": {
     "duration": null,
     "end_time": null,
     "exception": null,
     "start_time": null,
     "status": "pending"
    },
    "tags": []
   },
   "source": [
    "# Splitting of data"
   ]
  },
  {
   "cell_type": "code",
   "execution_count": null,
   "id": "d6cc32ea",
   "metadata": {
    "execution": {
     "iopub.execute_input": "2023-07-14T06:05:37.138746Z",
     "iopub.status.busy": "2023-07-14T06:05:37.138270Z",
     "iopub.status.idle": "2023-07-14T06:05:37.146591Z",
     "shell.execute_reply": "2023-07-14T06:05:37.145824Z",
     "shell.execute_reply.started": "2023-07-14T06:05:37.138718Z"
    },
    "papermill": {
     "duration": null,
     "end_time": null,
     "exception": null,
     "start_time": null,
     "status": "pending"
    },
    "tags": []
   },
   "outputs": [],
   "source": [
    "# Splitting dataset into train\n",
    "train = dataset[:len(train)]\n",
    "\n",
    "# Splitting dataset into test\n",
    "test = dataset[len(train):]"
   ]
  },
  {
   "cell_type": "code",
   "execution_count": null,
   "id": "d47aa37c",
   "metadata": {
    "execution": {
     "iopub.execute_input": "2023-07-14T06:05:37.148382Z",
     "iopub.status.busy": "2023-07-14T06:05:37.148074Z",
     "iopub.status.idle": "2023-07-14T06:05:37.165754Z",
     "shell.execute_reply": "2023-07-14T06:05:37.164727Z",
     "shell.execute_reply.started": "2023-07-14T06:05:37.148354Z"
    },
    "papermill": {
     "duration": null,
     "end_time": null,
     "exception": null,
     "start_time": null,
     "status": "pending"
    },
    "tags": []
   },
   "outputs": [],
   "source": [
    "test.drop(labels=['Survived'], axis=1, inplace=True)"
   ]
  },
  {
   "cell_type": "code",
   "execution_count": null,
   "id": "40685ea5",
   "metadata": {
    "execution": {
     "iopub.execute_input": "2023-07-14T06:05:37.167761Z",
     "iopub.status.busy": "2023-07-14T06:05:37.167098Z",
     "iopub.status.idle": "2023-07-14T06:05:37.176584Z",
     "shell.execute_reply": "2023-07-14T06:05:37.175833Z",
     "shell.execute_reply.started": "2023-07-14T06:05:37.167717Z"
    },
    "papermill": {
     "duration": null,
     "end_time": null,
     "exception": null,
     "start_time": null,
     "status": "pending"
    },
    "tags": []
   },
   "outputs": [],
   "source": [
    "train['Survived'] = train['Survived'].astype(int)"
   ]
  },
  {
   "cell_type": "markdown",
   "id": "354a7ae5",
   "metadata": {
    "papermill": {
     "duration": null,
     "end_time": null,
     "exception": null,
     "start_time": null,
     "status": "pending"
    },
    "tags": []
   },
   "source": [
    "# ****Importing models for prediction"
   ]
  },
  {
   "cell_type": "code",
   "execution_count": null,
   "id": "2cb7f099",
   "metadata": {
    "execution": {
     "iopub.execute_input": "2023-07-14T06:05:37.178416Z",
     "iopub.status.busy": "2023-07-14T06:05:37.177920Z",
     "iopub.status.idle": "2023-07-14T06:05:37.189527Z",
     "shell.execute_reply": "2023-07-14T06:05:37.188721Z",
     "shell.execute_reply.started": "2023-07-14T06:05:37.178386Z"
    },
    "papermill": {
     "duration": null,
     "end_time": null,
     "exception": null,
     "start_time": null,
     "status": "pending"
    },
    "tags": []
   },
   "outputs": [],
   "source": [
    "from sklearn.model_selection import train_test_split\n",
    "from sklearn.model_selection import cross_val_score\n",
    "from sklearn.linear_model import LogisticRegression\n",
    "from sklearn.svm import SVC\n",
    "from sklearn.naive_bayes import GaussianNB \n",
    "from sklearn.ensemble import RandomForestClassifier\n",
    "from sklearn.tree import DecisionTreeClassifier\n",
    "\n",
    "y=train.Survived\n",
    "X=train.drop('Survived', axis=1)\n"
   ]
  },
  {
   "cell_type": "markdown",
   "id": "a80330fb",
   "metadata": {
    "papermill": {
     "duration": null,
     "end_time": null,
     "exception": null,
     "start_time": null,
     "status": "pending"
    },
    "tags": []
   },
   "source": [
    "# ****Checking Efiiciency of Model"
   ]
  },
  {
   "cell_type": "markdown",
   "id": "cc44e60e",
   "metadata": {
    "papermill": {
     "duration": null,
     "end_time": null,
     "exception": null,
     "start_time": null,
     "status": "pending"
    },
    "tags": []
   },
   "source": [
    "# ****Logistic Reg"
   ]
  },
  {
   "cell_type": "code",
   "execution_count": null,
   "id": "66d931f5",
   "metadata": {
    "execution": {
     "iopub.execute_input": "2023-07-14T06:05:37.191245Z",
     "iopub.status.busy": "2023-07-14T06:05:37.190960Z",
     "iopub.status.idle": "2023-07-14T06:05:37.331255Z",
     "shell.execute_reply": "2023-07-14T06:05:37.330255Z",
     "shell.execute_reply.started": "2023-07-14T06:05:37.191220Z"
    },
    "papermill": {
     "duration": null,
     "end_time": null,
     "exception": null,
     "start_time": null,
     "status": "pending"
    },
    "tags": []
   },
   "outputs": [],
   "source": [
    "cross_val_score(LogisticRegression(), X, y).mean()"
   ]
  },
  {
   "cell_type": "code",
   "execution_count": null,
   "id": "107145c0",
   "metadata": {
    "execution": {
     "iopub.execute_input": "2023-07-14T06:05:37.334652Z",
     "iopub.status.busy": "2023-07-14T06:05:37.334315Z",
     "iopub.status.idle": "2023-07-14T06:05:37.489614Z",
     "shell.execute_reply": "2023-07-14T06:05:37.488547Z",
     "shell.execute_reply.started": "2023-07-14T06:05:37.334624Z"
    },
    "papermill": {
     "duration": null,
     "end_time": null,
     "exception": null,
     "start_time": null,
     "status": "pending"
    },
    "tags": []
   },
   "outputs": [],
   "source": [
    "cross_val_score(SVC(), X, y).mean()"
   ]
  },
  {
   "cell_type": "code",
   "execution_count": null,
   "id": "f0a3d56b",
   "metadata": {
    "execution": {
     "iopub.execute_input": "2023-07-14T06:05:37.491418Z",
     "iopub.status.busy": "2023-07-14T06:05:37.490901Z",
     "iopub.status.idle": "2023-07-14T06:05:38.697708Z",
     "shell.execute_reply": "2023-07-14T06:05:38.696557Z",
     "shell.execute_reply.started": "2023-07-14T06:05:37.491388Z"
    },
    "papermill": {
     "duration": null,
     "end_time": null,
     "exception": null,
     "start_time": null,
     "status": "pending"
    },
    "tags": []
   },
   "outputs": [],
   "source": [
    "cross_val_score(RandomForestClassifier(), X, y).mean()"
   ]
  },
  {
   "cell_type": "code",
   "execution_count": null,
   "id": "8904fd1f",
   "metadata": {
    "execution": {
     "iopub.execute_input": "2023-07-14T06:05:38.699459Z",
     "iopub.status.busy": "2023-07-14T06:05:38.698931Z",
     "iopub.status.idle": "2023-07-14T06:05:38.733917Z",
     "shell.execute_reply": "2023-07-14T06:05:38.733132Z",
     "shell.execute_reply.started": "2023-07-14T06:05:38.699428Z"
    },
    "papermill": {
     "duration": null,
     "end_time": null,
     "exception": null,
     "start_time": null,
     "status": "pending"
    },
    "tags": []
   },
   "outputs": [],
   "source": [
    "cross_val_score(GaussianNB(), X, y).mean()"
   ]
  },
  {
   "cell_type": "code",
   "execution_count": null,
   "id": "1a86fe99",
   "metadata": {
    "execution": {
     "iopub.execute_input": "2023-07-14T06:05:38.735114Z",
     "iopub.status.busy": "2023-07-14T06:05:38.734816Z",
     "iopub.status.idle": "2023-07-14T06:05:38.782704Z",
     "shell.execute_reply": "2023-07-14T06:05:38.781971Z",
     "shell.execute_reply.started": "2023-07-14T06:05:38.735087Z"
    },
    "papermill": {
     "duration": null,
     "end_time": null,
     "exception": null,
     "start_time": null,
     "status": "pending"
    },
    "tags": []
   },
   "outputs": [],
   "source": [
    "cross_val_score(DecisionTreeClassifier(), X, y).mean()"
   ]
  },
  {
   "cell_type": "code",
   "execution_count": null,
   "id": "1eb98308",
   "metadata": {
    "execution": {
     "iopub.execute_input": "2023-07-14T06:05:38.784303Z",
     "iopub.status.busy": "2023-07-14T06:05:38.783839Z",
     "iopub.status.idle": "2023-07-14T06:05:39.555970Z",
     "shell.execute_reply": "2023-07-14T06:05:39.554969Z",
     "shell.execute_reply.started": "2023-07-14T06:05:38.784276Z"
    },
    "papermill": {
     "duration": null,
     "end_time": null,
     "exception": null,
     "start_time": null,
     "status": "pending"
    },
    "tags": []
   },
   "outputs": [],
   "source": [
    "cross_val_score(GradientBoostingClassifier(), X, y).mean()"
   ]
  },
  {
   "cell_type": "code",
   "execution_count": null,
   "id": "406c947f",
   "metadata": {
    "execution": {
     "iopub.execute_input": "2023-07-14T06:05:39.557628Z",
     "iopub.status.busy": "2023-07-14T06:05:39.557286Z",
     "iopub.status.idle": "2023-07-14T06:05:39.564882Z",
     "shell.execute_reply": "2023-07-14T06:05:39.563807Z",
     "shell.execute_reply.started": "2023-07-14T06:05:39.557600Z"
    },
    "papermill": {
     "duration": null,
     "end_time": null,
     "exception": null,
     "start_time": null,
     "status": "pending"
    },
    "tags": []
   },
   "outputs": [],
   "source": [
    "# Using train_test_split we split the data into train and validation data for testing\n",
    "X_train, X_val, y_train, y_val = train_test_split(X, y, test_size = 0.2, random_state = 2)"
   ]
  },
  {
   "cell_type": "code",
   "execution_count": null,
   "id": "c0e670ea",
   "metadata": {
    "execution": {
     "iopub.execute_input": "2023-07-14T06:07:06.912040Z",
     "iopub.status.busy": "2023-07-14T06:07:06.911643Z",
     "iopub.status.idle": "2023-07-14T06:07:07.398594Z",
     "shell.execute_reply": "2023-07-14T06:07:07.397576Z",
     "shell.execute_reply.started": "2023-07-14T06:07:06.912009Z"
    },
    "papermill": {
     "duration": null,
     "end_time": null,
     "exception": null,
     "start_time": null,
     "status": "pending"
    },
    "tags": []
   },
   "outputs": [],
   "source": [
    "final_model = RandomForestClassifier(\n",
    "    bootstrap=True,\n",
    "    ccp_alpha=0.0,\n",
    "    class_weight=None,\n",
    "    criterion='gini',\n",
    "    max_depth=12,\n",
    "    max_features='auto',\n",
    "    max_leaf_nodes=None,\n",
    "    max_samples=None,\n",
    "    min_impurity_decrease=0.0,\n",
    "    min_samples_leaf=1,\n",
    "    min_samples_split=5,\n",
    "    min_weight_fraction_leaf=0.0,\n",
    "    n_estimators=200,\n",
    "    n_jobs=None,\n",
    "    oob_score=False,\n",
    "    random_state=None,\n",
    "    verbose=0,\n",
    "    warm_start=False\n",
    ")\n",
    "\n",
    "# Train final_model with train data\n",
    "final_model.fit(X_train, y_train)\n",
    "\n",
    "# Predict final_model\n",
    "predictions = final_model.predict(X_val)\n",
    "\n",
    "# Print out score\n",
    "print('Accuracy:', accuracy_score(predictions, y_val))\n"
   ]
  },
  {
   "cell_type": "code",
   "execution_count": null,
   "id": "200f0479",
   "metadata": {
    "execution": {
     "iopub.status.busy": "2023-07-14T06:05:39.607990Z",
     "iopub.status.idle": "2023-07-14T06:05:39.608828Z",
     "shell.execute_reply": "2023-07-14T06:05:39.608561Z",
     "shell.execute_reply.started": "2023-07-14T06:05:39.608532Z"
    },
    "papermill": {
     "duration": null,
     "end_time": null,
     "exception": null,
     "start_time": null,
     "status": "pending"
    },
    "tags": []
   },
   "outputs": [],
   "source": [
    "final_predictions = final_model.predict(test)\n",
    "\n",
    "output = pd.DataFrame({'PassengerId': Id, 'Survived':final_predictions})\n",
    "output.to_csv('submission.csv', index=False)"
   ]
  },
  {
   "cell_type": "code",
   "execution_count": null,
   "id": "0db9bcbb",
   "metadata": {
    "papermill": {
     "duration": null,
     "end_time": null,
     "exception": null,
     "start_time": null,
     "status": "pending"
    },
    "tags": []
   },
   "outputs": [],
   "source": []
  },
  {
   "cell_type": "code",
   "execution_count": null,
   "id": "97bec999",
   "metadata": {
    "papermill": {
     "duration": null,
     "end_time": null,
     "exception": null,
     "start_time": null,
     "status": "pending"
    },
    "tags": []
   },
   "outputs": [],
   "source": []
  }
 ],
 "metadata": {
  "kernelspec": {
   "display_name": "Python 3",
   "language": "python",
   "name": "python3"
  },
  "language_info": {
   "codemirror_mode": {
    "name": "ipython",
    "version": 3
   },
   "file_extension": ".py",
   "mimetype": "text/x-python",
   "name": "python",
   "nbconvert_exporter": "python",
   "pygments_lexer": "ipython3",
   "version": "3.10.12"
  },
  "papermill": {
   "default_parameters": {},
   "duration": 17.243333,
   "end_time": "2023-07-14T06:11:59.535097",
   "environment_variables": {},
   "exception": true,
   "input_path": "__notebook__.ipynb",
   "output_path": "__notebook__.ipynb",
   "parameters": {},
   "start_time": "2023-07-14T06:11:42.291764",
   "version": "2.4.0"
  }
 },
 "nbformat": 4,
 "nbformat_minor": 5
}
