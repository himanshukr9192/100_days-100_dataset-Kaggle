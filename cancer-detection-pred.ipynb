{
 "cells": [
  {
   "cell_type": "code",
   "execution_count": 1,
   "id": "c560922d",
   "metadata": {
    "execution": {
     "iopub.execute_input": "2023-08-27T12:06:43.064100Z",
     "iopub.status.busy": "2023-08-27T12:06:43.063384Z",
     "iopub.status.idle": "2023-08-27T12:07:01.969884Z",
     "shell.execute_reply": "2023-08-27T12:07:01.968106Z"
    },
    "papermill": {
     "duration": 18.938843,
     "end_time": "2023-08-27T12:07:01.973093",
     "exception": false,
     "start_time": "2023-08-27T12:06:43.034250",
     "status": "completed"
    },
    "tags": []
   },
   "outputs": [
    {
     "name": "stdout",
     "output_type": "stream",
     "text": [
      "Collecting numpy==1.25.0\r\n",
      "  Downloading numpy-1.25.0-cp310-cp310-manylinux_2_17_x86_64.manylinux2014_x86_64.whl (17.6 MB)\r\n",
      "\u001b[2K     \u001b[90m━━━━━━━━━━━━━━━━━━━━━━━━━━━━━━━━━━━━━━━━\u001b[0m \u001b[32m17.6/17.6 MB\u001b[0m \u001b[31m47.5 MB/s\u001b[0m eta \u001b[36m0:00:00\u001b[0m\r\n",
      "\u001b[?25hInstalling collected packages: numpy\r\n",
      "  Attempting uninstall: numpy\r\n",
      "    Found existing installation: numpy 1.23.5\r\n",
      "    Uninstalling numpy-1.23.5:\r\n",
      "      Successfully uninstalled numpy-1.23.5\r\n",
      "\u001b[31mERROR: pip's dependency resolver does not currently take into account all the packages that are installed. This behaviour is the source of the following dependency conflicts.\r\n",
      "apache-beam 2.46.0 requires dill<0.3.2,>=0.3.1.1, but you have dill 0.3.6 which is incompatible.\r\n",
      "apache-beam 2.46.0 requires numpy<1.25.0,>=1.14.3, but you have numpy 1.25.0 which is incompatible.\r\n",
      "momepy 0.6.0 requires shapely>=2, but you have shapely 1.8.5.post1 which is incompatible.\r\n",
      "numba 0.57.1 requires numpy<1.25,>=1.21, but you have numpy 1.25.0 which is incompatible.\r\n",
      "pymc3 3.11.5 requires numpy<1.22.2,>=1.15.0, but you have numpy 1.25.0 which is incompatible.\r\n",
      "pymc3 3.11.5 requires scipy<1.8.0,>=1.7.3, but you have scipy 1.11.1 which is incompatible.\r\n",
      "tensorflow 2.12.0 requires numpy<1.24,>=1.22, but you have numpy 1.25.0 which is incompatible.\r\n",
      "ydata-profiling 4.3.1 requires numpy<1.24,>=1.16.0, but you have numpy 1.25.0 which is incompatible.\r\n",
      "ydata-profiling 4.3.1 requires scipy<1.11,>=1.4.1, but you have scipy 1.11.1 which is incompatible.\u001b[0m\u001b[31m\r\n",
      "\u001b[0mSuccessfully installed numpy-1.25.0\r\n"
     ]
    }
   ],
   "source": [
    "\n",
    "!pip install numpy==1.25.0\n"
   ]
  },
  {
   "cell_type": "code",
   "execution_count": 2,
   "id": "6f365401",
   "metadata": {
    "_cell_guid": "b1076dfc-b9ad-4769-8c92-a6c4dae69d19",
    "_uuid": "8f2839f25d086af736a60e9eeb907d3b93b6e0e5",
    "execution": {
     "iopub.execute_input": "2023-08-27T12:07:02.023761Z",
     "iopub.status.busy": "2023-08-27T12:07:02.023242Z",
     "iopub.status.idle": "2023-08-27T12:07:15.603048Z",
     "shell.execute_reply": "2023-08-27T12:07:15.601576Z"
    },
    "papermill": {
     "duration": 13.61009,
     "end_time": "2023-08-27T12:07:15.606011",
     "exception": true,
     "start_time": "2023-08-27T12:07:01.995921",
     "status": "failed"
    },
    "tags": []
   },
   "outputs": [
    {
     "name": "stderr",
     "output_type": "stream",
     "text": [
      "/opt/conda/lib/python3.10/site-packages/scipy/__init__.py:146: UserWarning: A NumPy version >=1.16.5 and <1.23.0 is required for this version of SciPy (detected version 1.23.5\n",
      "  warnings.warn(f\"A NumPy version >={np_minversion} and <{np_maxversion}\"\n",
      "/opt/conda/lib/python3.10/site-packages/tensorflow_io/python/ops/__init__.py:98: UserWarning: unable to load libtensorflow_io_plugins.so: unable to open file: libtensorflow_io_plugins.so, from paths: ['/opt/conda/lib/python3.10/site-packages/tensorflow_io/python/ops/libtensorflow_io_plugins.so']\n",
      "caused by: ['/opt/conda/lib/python3.10/site-packages/tensorflow_io/python/ops/libtensorflow_io_plugins.so: undefined symbol: _ZN3tsl6StatusC1EN10tensorflow5error4CodeESt17basic_string_viewIcSt11char_traitsIcEENS_14SourceLocationE']\n",
      "  warnings.warn(f\"unable to load libtensorflow_io_plugins.so: {e}\")\n",
      "/opt/conda/lib/python3.10/site-packages/tensorflow_io/python/ops/__init__.py:104: UserWarning: file system plugins are not loaded: unable to open file: libtensorflow_io.so, from paths: ['/opt/conda/lib/python3.10/site-packages/tensorflow_io/python/ops/libtensorflow_io.so']\n",
      "caused by: ['/opt/conda/lib/python3.10/site-packages/tensorflow_io/python/ops/libtensorflow_io.so: undefined symbol: _ZTVN10tensorflow13GcsFileSystemE']\n",
      "  warnings.warn(f\"file system plugins are not loaded: {e}\")\n"
     ]
    },
    {
     "name": "stdout",
     "output_type": "stream",
     "text": [
      "Unexpected exception formatting exception. Falling back to standard exception\n"
     ]
    },
    {
     "name": "stderr",
     "output_type": "stream",
     "text": [
      "Traceback (most recent call last):\n",
      "  File \"/opt/conda/lib/python3.10/site-packages/IPython/core/interactiveshell.py\", line 3508, in run_code\n",
      "    exec(code_obj, self.user_global_ns, self.user_ns)\n",
      "  File \"/tmp/ipykernel_20/548437596.py\", line 8, in <module>\n",
      "    from sklearn.linear_model import LogisticRegression\n",
      "  File \"/opt/conda/lib/python3.10/site-packages/sklearn/__init__.py\", line 82, in <module>\n",
      "    from .base import clone\n",
      "  File \"/opt/conda/lib/python3.10/site-packages/sklearn/base.py\", line 17, in <module>\n",
      "    from .utils import _IS_32BIT\n",
      "  File \"/opt/conda/lib/python3.10/site-packages/sklearn/utils/__init__.py\", line 25, in <module>\n",
      "    from .fixes import parse_version, threadpool_info\n",
      "  File \"/opt/conda/lib/python3.10/site-packages/sklearn/utils/fixes.py\", line 19, in <module>\n",
      "    import scipy.stats\n",
      "  File \"/opt/conda/lib/python3.10/site-packages/scipy/stats/__init__.py\", line 441, in <module>\n",
      "    from .stats import *\n",
      "  File \"/opt/conda/lib/python3.10/site-packages/scipy/stats/stats.py\", line 43, in <module>\n",
      "    from . import distributions\n",
      "  File \"/opt/conda/lib/python3.10/site-packages/scipy/stats/distributions.py\", line 8, in <module>\n",
      "    from ._distn_infrastructure import (rv_discrete, rv_continuous, rv_frozen)\n",
      "  File \"/opt/conda/lib/python3.10/site-packages/scipy/stats/_distn_infrastructure.py\", line 24, in <module>\n",
      "    from scipy import optimize\n",
      "  File \"/opt/conda/lib/python3.10/site-packages/scipy/optimize/__init__.py\", line 401, in <module>\n",
      "    from ._minimize import *\n",
      "  File \"/opt/conda/lib/python3.10/site-packages/scipy/optimize/_minimize.py\", line 27, in <module>\n",
      "    from ._trustregion_constr import _minimize_trustregion_constr\n",
      "  File \"/opt/conda/lib/python3.10/site-packages/scipy/optimize/_trustregion_constr/__init__.py\", line 4, in <module>\n",
      "    from .minimize_trustregion_constr import _minimize_trustregion_constr\n",
      "  File \"/opt/conda/lib/python3.10/site-packages/scipy/optimize/_trustregion_constr/minimize_trustregion_constr.py\", line 5, in <module>\n",
      "    from .._constraints import (\n",
      "  File \"/opt/conda/lib/python3.10/site-packages/scipy/optimize/_constraints.py\", line 8, in <module>\n",
      "    from numpy.testing import suppress_warnings\n",
      "  File \"/opt/conda/lib/python3.10/site-packages/numpy/testing/__init__.py\", line 11, in <module>\n",
      "    from ._private.utils import *\n",
      "  File \"/opt/conda/lib/python3.10/site-packages/numpy/testing/_private/utils.py\", line 417, in <module>\n",
      "    @np._no_nep50_warning()\n",
      "  File \"/opt/conda/lib/python3.10/site-packages/numpy/__init__.py\", line 311, in __getattr__\n",
      "AttributeError: module 'numpy' has no attribute '_no_nep50_warning'\n",
      "\n",
      "During handling of the above exception, another exception occurred:\n",
      "\n",
      "Traceback (most recent call last):\n",
      "  File \"/opt/conda/lib/python3.10/site-packages/IPython/core/interactiveshell.py\", line 2105, in showtraceback\n",
      "    stb = self.InteractiveTB.structured_traceback(\n",
      "  File \"/opt/conda/lib/python3.10/site-packages/IPython/core/ultratb.py\", line 1428, in structured_traceback\n",
      "    return FormattedTB.structured_traceback(\n",
      "  File \"/opt/conda/lib/python3.10/site-packages/IPython/core/ultratb.py\", line 1319, in structured_traceback\n",
      "    return VerboseTB.structured_traceback(\n",
      "  File \"/opt/conda/lib/python3.10/site-packages/IPython/core/ultratb.py\", line 1172, in structured_traceback\n",
      "    formatted_exception = self.format_exception_as_a_whole(etype, evalue, etb, number_of_lines_of_context,\n",
      "  File \"/opt/conda/lib/python3.10/site-packages/IPython/core/ultratb.py\", line 1087, in format_exception_as_a_whole\n",
      "    frames.append(self.format_record(record))\n",
      "  File \"/opt/conda/lib/python3.10/site-packages/IPython/core/ultratb.py\", line 969, in format_record\n",
      "    frame_info.lines, Colors, self.has_colors, lvals\n",
      "  File \"/opt/conda/lib/python3.10/site-packages/IPython/core/ultratb.py\", line 792, in lines\n",
      "    return self._sd.lines\n",
      "  File \"/opt/conda/lib/python3.10/site-packages/stack_data/utils.py\", line 144, in cached_property_wrapper\n",
      "    value = obj.__dict__[self.func.__name__] = self.func(obj)\n",
      "  File \"/opt/conda/lib/python3.10/site-packages/stack_data/core.py\", line 734, in lines\n",
      "    pieces = self.included_pieces\n",
      "  File \"/opt/conda/lib/python3.10/site-packages/stack_data/utils.py\", line 144, in cached_property_wrapper\n",
      "    value = obj.__dict__[self.func.__name__] = self.func(obj)\n",
      "  File \"/opt/conda/lib/python3.10/site-packages/stack_data/core.py\", line 681, in included_pieces\n",
      "    pos = scope_pieces.index(self.executing_piece)\n",
      "  File \"/opt/conda/lib/python3.10/site-packages/stack_data/utils.py\", line 144, in cached_property_wrapper\n",
      "    value = obj.__dict__[self.func.__name__] = self.func(obj)\n",
      "  File \"/opt/conda/lib/python3.10/site-packages/stack_data/core.py\", line 660, in executing_piece\n",
      "    return only(\n",
      "  File \"/opt/conda/lib/python3.10/site-packages/executing/executing.py\", line 190, in only\n",
      "    raise NotOneValueFound('Expected one value, found 0')\n",
      "executing.executing.NotOneValueFound: Expected one value, found 0\n"
     ]
    }
   ],
   "source": [
    "import matplotlib.pyplot as plt\n",
    "import tensorflow as tf\n",
    "import pandas as pd\n",
    "import numpy as np\n",
    "import warnings\n",
    "warnings.filterwarnings('ignore')\n",
    "import os\n",
    "from sklearn.linear_model import LogisticRegression\n",
    "from sklearn.neighbors import KNeighborsClassifier\n",
    "from sklearn.tree import DecisionTreeClassifier\n",
    "from sklearn.ensemble import RandomForestClassifier\n",
    "from sklearn.svm import SVC\n",
    "from sklearn.preprocessing import StandardScaler, RobustScaler, MinMaxScaler\n",
    "from sklearn.decomposition import KernelPCA\n",
    "from sklearn.model_selection import train_test_split, StratifiedKFold\n",
    "from sklearn.preprocessing import LabelEncoder, OneHotEncoder\n",
    "from sklearn.metrics import accuracy_score, classification_report, confusion_matrix\n",
    "from sklearn.model_selection import learning_curve, validation_curve, GridSearchCV\n",
    "from sklearn.pipeline import make_pipeline\n",
    "import seaborn as sns"
   ]
  },
  {
   "cell_type": "markdown",
   "id": "f34d4ce1",
   "metadata": {
    "papermill": {
     "duration": null,
     "end_time": null,
     "exception": null,
     "start_time": null,
     "status": "pending"
    },
    "tags": []
   },
   "source": [
    "# Read Dataset"
   ]
  },
  {
   "cell_type": "code",
   "execution_count": null,
   "id": "a1cef611",
   "metadata": {
    "execution": {
     "iopub.execute_input": "2023-08-27T11:58:26.051621Z",
     "iopub.status.busy": "2023-08-27T11:58:26.051273Z",
     "iopub.status.idle": "2023-08-27T11:58:26.068792Z",
     "shell.execute_reply": "2023-08-27T11:58:26.067380Z",
     "shell.execute_reply.started": "2023-08-27T11:58:26.051594Z"
    },
    "papermill": {
     "duration": null,
     "end_time": null,
     "exception": null,
     "start_time": null,
     "status": "pending"
    },
    "tags": []
   },
   "outputs": [],
   "source": [
    "dataset_path = '/kaggle/input/cancer-data/Cancer_Data.csv'"
   ]
  },
  {
   "cell_type": "markdown",
   "id": "03130cb9",
   "metadata": {
    "papermill": {
     "duration": null,
     "end_time": null,
     "exception": null,
     "start_time": null,
     "status": "pending"
    },
    "tags": []
   },
   "source": [
    "# Data Info"
   ]
  },
  {
   "cell_type": "code",
   "execution_count": null,
   "id": "3ac5003c",
   "metadata": {
    "execution": {
     "iopub.execute_input": "2023-08-27T11:58:26.071931Z",
     "iopub.status.busy": "2023-08-27T11:58:26.071569Z",
     "iopub.status.idle": "2023-08-27T11:58:26.114872Z",
     "shell.execute_reply": "2023-08-27T11:58:26.113579Z",
     "shell.execute_reply.started": "2023-08-27T11:58:26.071902Z"
    },
    "papermill": {
     "duration": null,
     "end_time": null,
     "exception": null,
     "start_time": null,
     "status": "pending"
    },
    "tags": []
   },
   "outputs": [],
   "source": [
    "dataset = pd.read_csv(dataset_path)\n",
    "dataset.head()"
   ]
  },
  {
   "cell_type": "code",
   "execution_count": null,
   "id": "24b9053b",
   "metadata": {
    "execution": {
     "iopub.execute_input": "2023-08-27T11:58:26.116708Z",
     "iopub.status.busy": "2023-08-27T11:58:26.116395Z",
     "iopub.status.idle": "2023-08-27T11:58:26.131270Z",
     "shell.execute_reply": "2023-08-27T11:58:26.129903Z",
     "shell.execute_reply.started": "2023-08-27T11:58:26.116673Z"
    },
    "papermill": {
     "duration": null,
     "end_time": null,
     "exception": null,
     "start_time": null,
     "status": "pending"
    },
    "tags": []
   },
   "outputs": [],
   "source": [
    "dataset.info()"
   ]
  },
  {
   "cell_type": "code",
   "execution_count": null,
   "id": "ffa9ddc5",
   "metadata": {
    "execution": {
     "iopub.execute_input": "2023-08-27T11:58:26.133532Z",
     "iopub.status.busy": "2023-08-27T11:58:26.133168Z",
     "iopub.status.idle": "2023-08-27T11:58:26.227303Z",
     "shell.execute_reply": "2023-08-27T11:58:26.226201Z",
     "shell.execute_reply.started": "2023-08-27T11:58:26.133503Z"
    },
    "papermill": {
     "duration": null,
     "end_time": null,
     "exception": null,
     "start_time": null,
     "status": "pending"
    },
    "tags": []
   },
   "outputs": [],
   "source": [
    "dataset.describe()"
   ]
  },
  {
   "cell_type": "code",
   "execution_count": null,
   "id": "81d36aa3",
   "metadata": {
    "execution": {
     "iopub.execute_input": "2023-08-27T11:58:26.229091Z",
     "iopub.status.busy": "2023-08-27T11:58:26.228791Z",
     "iopub.status.idle": "2023-08-27T11:58:26.239631Z",
     "shell.execute_reply": "2023-08-27T11:58:26.238045Z",
     "shell.execute_reply.started": "2023-08-27T11:58:26.229067Z"
    },
    "papermill": {
     "duration": null,
     "end_time": null,
     "exception": null,
     "start_time": null,
     "status": "pending"
    },
    "tags": []
   },
   "outputs": [],
   "source": [
    "dataset.isnull().sum()"
   ]
  },
  {
   "cell_type": "code",
   "execution_count": null,
   "id": "7090a095",
   "metadata": {
    "execution": {
     "iopub.execute_input": "2023-08-27T11:58:26.242547Z",
     "iopub.status.busy": "2023-08-27T11:58:26.242148Z",
     "iopub.status.idle": "2023-08-27T11:58:26.285688Z",
     "shell.execute_reply": "2023-08-27T11:58:26.284993Z",
     "shell.execute_reply.started": "2023-08-27T11:58:26.242514Z"
    },
    "papermill": {
     "duration": null,
     "end_time": null,
     "exception": null,
     "start_time": null,
     "status": "pending"
    },
    "tags": []
   },
   "outputs": [],
   "source": [
    "corel = dataset.corr()\n",
    "corel"
   ]
  },
  {
   "cell_type": "markdown",
   "id": "85dc6dd0",
   "metadata": {
    "papermill": {
     "duration": null,
     "end_time": null,
     "exception": null,
     "start_time": null,
     "status": "pending"
    },
    "tags": []
   },
   "source": [
    "# Exploratory Data Analysis"
   ]
  },
  {
   "cell_type": "markdown",
   "id": "f524151d",
   "metadata": {
    "papermill": {
     "duration": null,
     "end_time": null,
     "exception": null,
     "start_time": null,
     "status": "pending"
    },
    "tags": []
   },
   "source": [
    "**** Coorealation"
   ]
  },
  {
   "cell_type": "code",
   "execution_count": null,
   "id": "662dcd43",
   "metadata": {
    "execution": {
     "iopub.execute_input": "2023-08-27T11:58:26.286886Z",
     "iopub.status.busy": "2023-08-27T11:58:26.286591Z",
     "iopub.status.idle": "2023-08-27T11:58:28.377775Z",
     "shell.execute_reply": "2023-08-27T11:58:28.376907Z",
     "shell.execute_reply.started": "2023-08-27T11:58:26.286861Z"
    },
    "papermill": {
     "duration": null,
     "end_time": null,
     "exception": null,
     "start_time": null,
     "status": "pending"
    },
    "tags": []
   },
   "outputs": [],
   "source": [
    "plt.figure(figsize=(15, 12))\n",
    "sns.heatmap(corel, annot=True, cmap='coolwarm')\n",
    "plt.title('Correlation Heatmap')\n",
    "plt.show()"
   ]
  },
  {
   "cell_type": "markdown",
   "id": "9ce6573d",
   "metadata": {
    "papermill": {
     "duration": null,
     "end_time": null,
     "exception": null,
     "start_time": null,
     "status": "pending"
    },
    "tags": []
   },
   "source": [
    "**** Distribution of the target variable"
   ]
  },
  {
   "cell_type": "code",
   "execution_count": null,
   "id": "db90bb09",
   "metadata": {
    "execution": {
     "iopub.execute_input": "2023-08-27T11:58:28.382504Z",
     "iopub.status.busy": "2023-08-27T11:58:28.381408Z",
     "iopub.status.idle": "2023-08-27T11:58:28.548561Z",
     "shell.execute_reply": "2023-08-27T11:58:28.547633Z",
     "shell.execute_reply.started": "2023-08-27T11:58:28.382467Z"
    },
    "papermill": {
     "duration": null,
     "end_time": null,
     "exception": null,
     "start_time": null,
     "status": "pending"
    },
    "tags": []
   },
   "outputs": [],
   "source": [
    "sns.countplot(x='diagnosis', data=dataset)\n",
    "plt.title('Diagnosis Distribution')\n",
    "plt.show()"
   ]
  },
  {
   "cell_type": "markdown",
   "id": "703e4cbf",
   "metadata": {
    "papermill": {
     "duration": null,
     "end_time": null,
     "exception": null,
     "start_time": null,
     "status": "pending"
    },
    "tags": []
   },
   "source": [
    "**** Pair plot for selected features"
   ]
  },
  {
   "cell_type": "code",
   "execution_count": null,
   "id": "8fa590e8",
   "metadata": {
    "execution": {
     "iopub.execute_input": "2023-08-27T11:58:28.550892Z",
     "iopub.status.busy": "2023-08-27T11:58:28.549735Z",
     "iopub.status.idle": "2023-08-27T11:58:32.061325Z",
     "shell.execute_reply": "2023-08-27T11:58:32.059868Z",
     "shell.execute_reply.started": "2023-08-27T11:58:28.550855Z"
    },
    "papermill": {
     "duration": null,
     "end_time": null,
     "exception": null,
     "start_time": null,
     "status": "pending"
    },
    "tags": []
   },
   "outputs": [],
   "source": [
    "selected_features = ['radius_mean', 'texture_mean', 'perimeter_mean', 'area_mean']\n",
    "sns.pairplot(dataset[selected_features], diag_kind='kde')\n",
    "plt.suptitle('Pair Plot of Selected Features')\n",
    "plt.show()"
   ]
  },
  {
   "cell_type": "markdown",
   "id": "26ae8591",
   "metadata": {
    "papermill": {
     "duration": null,
     "end_time": null,
     "exception": null,
     "start_time": null,
     "status": "pending"
    },
    "tags": []
   },
   "source": [
    "**** Box plots for selected features by diagnosis"
   ]
  },
  {
   "cell_type": "code",
   "execution_count": null,
   "id": "e284de18",
   "metadata": {
    "execution": {
     "iopub.execute_input": "2023-08-27T11:58:32.063037Z",
     "iopub.status.busy": "2023-08-27T11:58:32.062680Z",
     "iopub.status.idle": "2023-08-27T11:58:32.257378Z",
     "shell.execute_reply": "2023-08-27T11:58:32.256418Z",
     "shell.execute_reply.started": "2023-08-27T11:58:32.063006Z"
    },
    "papermill": {
     "duration": null,
     "end_time": null,
     "exception": null,
     "start_time": null,
     "status": "pending"
    },
    "tags": []
   },
   "outputs": [],
   "source": [
    "plt.figure(figsize=(15, 6))\n",
    "sns.boxplot(x='diagnosis', y='radius_mean', data=dataset)\n",
    "plt.title('Box Plot of Radius Mean by Diagnosis')\n",
    "plt.show()"
   ]
  },
  {
   "cell_type": "markdown",
   "id": "37956c18",
   "metadata": {
    "papermill": {
     "duration": null,
     "end_time": null,
     "exception": null,
     "start_time": null,
     "status": "pending"
    },
    "tags": []
   },
   "source": [
    "**** Histograms of features"
   ]
  },
  {
   "cell_type": "code",
   "execution_count": null,
   "id": "0ed0503c",
   "metadata": {
    "execution": {
     "iopub.execute_input": "2023-08-27T11:58:32.258990Z",
     "iopub.status.busy": "2023-08-27T11:58:32.258713Z",
     "iopub.status.idle": "2023-08-27T11:58:36.882188Z",
     "shell.execute_reply": "2023-08-27T11:58:36.881397Z",
     "shell.execute_reply.started": "2023-08-27T11:58:32.258966Z"
    },
    "papermill": {
     "duration": null,
     "end_time": null,
     "exception": null,
     "start_time": null,
     "status": "pending"
    },
    "tags": []
   },
   "outputs": [],
   "source": [
    "dataset.drop(['Unnamed: 32'], axis=1, inplace=True)  # Dropping the empty column\n",
    "dataset.hist(bins=20, figsize=(15, 12))\n",
    "plt.suptitle('Histograms of Features', y=1.02)\n",
    "plt.show()"
   ]
  },
  {
   "cell_type": "markdown",
   "id": "363450fa",
   "metadata": {
    "papermill": {
     "duration": null,
     "end_time": null,
     "exception": null,
     "start_time": null,
     "status": "pending"
    },
    "tags": []
   },
   "source": [
    "# Data Featuring"
   ]
  },
  {
   "cell_type": "code",
   "execution_count": null,
   "id": "d6ce68c3",
   "metadata": {
    "execution": {
     "iopub.execute_input": "2023-08-27T11:58:36.884485Z",
     "iopub.status.busy": "2023-08-27T11:58:36.883269Z",
     "iopub.status.idle": "2023-08-27T11:58:36.892552Z",
     "shell.execute_reply": "2023-08-27T11:58:36.890473Z",
     "shell.execute_reply.started": "2023-08-27T11:58:36.884427Z"
    },
    "papermill": {
     "duration": null,
     "end_time": null,
     "exception": null,
     "start_time": null,
     "status": "pending"
    },
    "tags": []
   },
   "outputs": [],
   "source": [
    "features = dataset.drop(['id', 'diagnosis'], axis = 1)\n",
    "labels = dataset['diagnosis']"
   ]
  },
  {
   "cell_type": "code",
   "execution_count": null,
   "id": "6246eee6",
   "metadata": {
    "execution": {
     "iopub.execute_input": "2023-08-27T11:58:36.894745Z",
     "iopub.status.busy": "2023-08-27T11:58:36.894387Z",
     "iopub.status.idle": "2023-08-27T11:58:36.921534Z",
     "shell.execute_reply": "2023-08-27T11:58:36.919407Z",
     "shell.execute_reply.started": "2023-08-27T11:58:36.894714Z"
    },
    "papermill": {
     "duration": null,
     "end_time": null,
     "exception": null,
     "start_time": null,
     "status": "pending"
    },
    "tags": []
   },
   "outputs": [],
   "source": [
    "np.unique(labels, return_counts = True)"
   ]
  },
  {
   "cell_type": "markdown",
   "id": "c94c5c23",
   "metadata": {
    "papermill": {
     "duration": null,
     "end_time": null,
     "exception": null,
     "start_time": null,
     "status": "pending"
    },
    "tags": []
   },
   "source": [
    "# Feature Engineering"
   ]
  },
  {
   "cell_type": "code",
   "execution_count": null,
   "id": "182108e7",
   "metadata": {
    "execution": {
     "iopub.execute_input": "2023-08-27T11:58:36.924356Z",
     "iopub.status.busy": "2023-08-27T11:58:36.923989Z",
     "iopub.status.idle": "2023-08-27T11:58:37.390178Z",
     "shell.execute_reply": "2023-08-27T11:58:37.388991Z",
     "shell.execute_reply.started": "2023-08-27T11:58:36.924325Z"
    },
    "papermill": {
     "duration": null,
     "end_time": null,
     "exception": null,
     "start_time": null,
     "status": "pending"
    },
    "tags": []
   },
   "outputs": [],
   "source": [
    "from imblearn.under_sampling import AllKNN\n",
    "features, labels = AllKNN(n_neighbors = 7).fit_resample(features, labels)"
   ]
  },
  {
   "cell_type": "code",
   "execution_count": null,
   "id": "0ebbf380",
   "metadata": {
    "execution": {
     "iopub.execute_input": "2023-08-27T11:58:37.392787Z",
     "iopub.status.busy": "2023-08-27T11:58:37.392076Z",
     "iopub.status.idle": "2023-08-27T11:58:37.401231Z",
     "shell.execute_reply": "2023-08-27T11:58:37.399906Z",
     "shell.execute_reply.started": "2023-08-27T11:58:37.392751Z"
    },
    "papermill": {
     "duration": null,
     "end_time": null,
     "exception": null,
     "start_time": null,
     "status": "pending"
    },
    "tags": []
   },
   "outputs": [],
   "source": [
    "np.unique(labels, return_counts = True)"
   ]
  },
  {
   "cell_type": "code",
   "execution_count": null,
   "id": "1ab414b5",
   "metadata": {
    "execution": {
     "iopub.execute_input": "2023-08-27T11:58:37.403709Z",
     "iopub.status.busy": "2023-08-27T11:58:37.403331Z",
     "iopub.status.idle": "2023-08-27T11:58:37.418736Z",
     "shell.execute_reply": "2023-08-27T11:58:37.417496Z",
     "shell.execute_reply.started": "2023-08-27T11:58:37.403674Z"
    },
    "papermill": {
     "duration": null,
     "end_time": null,
     "exception": null,
     "start_time": null,
     "status": "pending"
    },
    "tags": []
   },
   "outputs": [],
   "source": [
    "label_encoder = LabelEncoder()\n",
    "labels = label_encoder.fit_transform(labels)"
   ]
  },
  {
   "cell_type": "code",
   "execution_count": null,
   "id": "bc45c7dd",
   "metadata": {
    "execution": {
     "iopub.execute_input": "2023-08-27T11:58:37.420629Z",
     "iopub.status.busy": "2023-08-27T11:58:37.420262Z",
     "iopub.status.idle": "2023-08-27T11:58:37.439335Z",
     "shell.execute_reply": "2023-08-27T11:58:37.438383Z",
     "shell.execute_reply.started": "2023-08-27T11:58:37.420593Z"
    },
    "papermill": {
     "duration": null,
     "end_time": null,
     "exception": null,
     "start_time": null,
     "status": "pending"
    },
    "tags": []
   },
   "outputs": [],
   "source": [
    "labels"
   ]
  },
  {
   "cell_type": "code",
   "execution_count": null,
   "id": "464dcecf",
   "metadata": {
    "execution": {
     "iopub.execute_input": "2023-08-27T11:58:37.440768Z",
     "iopub.status.busy": "2023-08-27T11:58:37.440487Z",
     "iopub.status.idle": "2023-08-27T11:58:37.457192Z",
     "shell.execute_reply": "2023-08-27T11:58:37.455797Z",
     "shell.execute_reply.started": "2023-08-27T11:58:37.440743Z"
    },
    "papermill": {
     "duration": null,
     "end_time": null,
     "exception": null,
     "start_time": null,
     "status": "pending"
    },
    "tags": []
   },
   "outputs": [],
   "source": [
    "features = np.array(features)\n",
    "labels = np.array(labels)"
   ]
  },
  {
   "cell_type": "code",
   "execution_count": null,
   "id": "344b3287",
   "metadata": {
    "execution": {
     "iopub.execute_input": "2023-08-27T11:58:37.458907Z",
     "iopub.status.busy": "2023-08-27T11:58:37.458591Z",
     "iopub.status.idle": "2023-08-27T11:58:37.476244Z",
     "shell.execute_reply": "2023-08-27T11:58:37.474992Z",
     "shell.execute_reply.started": "2023-08-27T11:58:37.458880Z"
    },
    "papermill": {
     "duration": null,
     "end_time": null,
     "exception": null,
     "start_time": null,
     "status": "pending"
    },
    "tags": []
   },
   "outputs": [],
   "source": [
    "xtrain, xtest, ytrain, ytest = train_test_split(features, labels, test_size = 0.2,\n",
    "                                               stratify = labels, random_state = True)"
   ]
  },
  {
   "cell_type": "code",
   "execution_count": null,
   "id": "0b872b08",
   "metadata": {
    "execution": {
     "iopub.execute_input": "2023-08-27T11:58:37.478914Z",
     "iopub.status.busy": "2023-08-27T11:58:37.478487Z",
     "iopub.status.idle": "2023-08-27T11:58:37.495986Z",
     "shell.execute_reply": "2023-08-27T11:58:37.495201Z",
     "shell.execute_reply.started": "2023-08-27T11:58:37.478880Z"
    },
    "papermill": {
     "duration": null,
     "end_time": null,
     "exception": null,
     "start_time": null,
     "status": "pending"
    },
    "tags": []
   },
   "outputs": [],
   "source": [
    "xtrain.shape, xtest.shape"
   ]
  },
  {
   "cell_type": "code",
   "execution_count": null,
   "id": "2b83b783",
   "metadata": {
    "execution": {
     "iopub.execute_input": "2023-08-27T11:58:37.497049Z",
     "iopub.status.busy": "2023-08-27T11:58:37.496793Z",
     "iopub.status.idle": "2023-08-27T11:58:37.514978Z",
     "shell.execute_reply": "2023-08-27T11:58:37.514003Z",
     "shell.execute_reply.started": "2023-08-27T11:58:37.497027Z"
    },
    "papermill": {
     "duration": null,
     "end_time": null,
     "exception": null,
     "start_time": null,
     "status": "pending"
    },
    "tags": []
   },
   "outputs": [],
   "source": [
    "np.unique(ytest, return_counts = True)"
   ]
  },
  {
   "cell_type": "code",
   "execution_count": null,
   "id": "88e7d859",
   "metadata": {
    "execution": {
     "iopub.execute_input": "2023-08-27T11:58:37.518084Z",
     "iopub.status.busy": "2023-08-27T11:58:37.516153Z",
     "iopub.status.idle": "2023-08-27T11:58:37.531770Z",
     "shell.execute_reply": "2023-08-27T11:58:37.530547Z",
     "shell.execute_reply.started": "2023-08-27T11:58:37.518032Z"
    },
    "papermill": {
     "duration": null,
     "end_time": null,
     "exception": null,
     "start_time": null,
     "status": "pending"
    },
    "tags": []
   },
   "outputs": [],
   "source": [
    "def K_fold(xtrain, ytrain, estimator):\n",
    "    fold_k = StratifiedKFold(n_splits = 20).split(xtrain, ytrain)\n",
    "    xtrain_f, xvalid_f,ytrain_f, yvalid_f = [], [], [], []\n",
    "    for k , (train, valid) in enumerate(fold_k):\n",
    "        xtrain_f.append(xtrain[train]), xvalid_f.append(xtrain[valid])\n",
    "        ytrain_f.append(ytrain[train]), yvalid_f.append(ytrain[valid])\n",
    "        estimator.fit(xtrain[train], ytrain[train])\n",
    "        st = 'k: {}, train acc: {}, and validation acc: {}'.format(k, estimator.score(xtrain[train], ytrain[train]),\n",
    "                                                           estimator.score(xtrain[valid], ytrain[valid]))\n",
    "        print(st)\n",
    "    return xtrain_f, xvalid_f,ytrain_f, yvalid_f"
   ]
  },
  {
   "cell_type": "markdown",
   "id": "645f04c8",
   "metadata": {
    "papermill": {
     "duration": null,
     "end_time": null,
     "exception": null,
     "start_time": null,
     "status": "pending"
    },
    "tags": []
   },
   "source": [
    "# LogisticRegression Classifier"
   ]
  },
  {
   "cell_type": "code",
   "execution_count": null,
   "id": "1df39c3e",
   "metadata": {
    "execution": {
     "iopub.execute_input": "2023-08-27T11:58:37.532982Z",
     "iopub.status.busy": "2023-08-27T11:58:37.532697Z",
     "iopub.status.idle": "2023-08-27T11:58:37.549637Z",
     "shell.execute_reply": "2023-08-27T11:58:37.548364Z",
     "shell.execute_reply.started": "2023-08-27T11:58:37.532956Z"
    },
    "papermill": {
     "duration": null,
     "end_time": null,
     "exception": null,
     "start_time": null,
     "status": "pending"
    },
    "tags": []
   },
   "outputs": [],
   "source": [
    "logistic_regression_pipe = make_pipeline(\n",
    "    RobustScaler(),\n",
    "    KernelPCA(kernel = 'rbf', n_components = 20),\n",
    "    LogisticRegression(solver = 'lbfgs',C = 100, random_state = 1, multi_class = 'ovr',\n",
    "                      class_weight = 'balanced', max_iter = 3000)\n",
    ")"
   ]
  },
  {
   "cell_type": "code",
   "execution_count": null,
   "id": "c3568d17",
   "metadata": {
    "execution": {
     "iopub.execute_input": "2023-08-27T11:58:37.551622Z",
     "iopub.status.busy": "2023-08-27T11:58:37.551215Z",
     "iopub.status.idle": "2023-08-27T11:58:43.978459Z",
     "shell.execute_reply": "2023-08-27T11:58:43.977614Z",
     "shell.execute_reply.started": "2023-08-27T11:58:37.551591Z"
    },
    "papermill": {
     "duration": null,
     "end_time": null,
     "exception": null,
     "start_time": null,
     "status": "pending"
    },
    "tags": []
   },
   "outputs": [],
   "source": [
    "param_range = [0.00001, 0.0001, 0.001, 0.01, 0.1, 10, 50, 100, 1000]\n",
    "train_scores , validation_scores = validation_curve(estimator = logistic_regression_pipe, \n",
    "                                                   X = xtrain, y = ytrain, \n",
    "                                                   param_name = 'logisticregression__C',\n",
    "                                                   param_range = param_range,\n",
    "                                                   scoring = 'accuracy',\n",
    "                                                   cv = 10)"
   ]
  },
  {
   "cell_type": "code",
   "execution_count": null,
   "id": "d898a7a7",
   "metadata": {
    "execution": {
     "iopub.execute_input": "2023-08-27T11:58:43.981519Z",
     "iopub.status.busy": "2023-08-27T11:58:43.980270Z",
     "iopub.status.idle": "2023-08-27T11:58:44.246369Z",
     "shell.execute_reply": "2023-08-27T11:58:44.244606Z",
     "shell.execute_reply.started": "2023-08-27T11:58:43.981485Z"
    },
    "papermill": {
     "duration": null,
     "end_time": null,
     "exception": null,
     "start_time": null,
     "status": "pending"
    },
    "tags": []
   },
   "outputs": [],
   "source": [
    "import matplotlib.pyplot as plt\n",
    "plt.plot(param_range, np.max(train_scores, axis = 1), label = 'training accuracy')\n",
    "plt.plot(param_range, np.max(validation_scores, axis = 1), label = 'validation accuracy')\n",
    "plt.legend()"
   ]
  },
  {
   "cell_type": "code",
   "execution_count": null,
   "id": "aa938d0d",
   "metadata": {
    "execution": {
     "iopub.execute_input": "2023-08-27T11:58:44.255215Z",
     "iopub.status.busy": "2023-08-27T11:58:44.254786Z",
     "iopub.status.idle": "2023-08-27T11:58:53.861044Z",
     "shell.execute_reply": "2023-08-27T11:58:53.860206Z",
     "shell.execute_reply.started": "2023-08-27T11:58:44.255184Z"
    },
    "papermill": {
     "duration": null,
     "end_time": null,
     "exception": null,
     "start_time": null,
     "status": "pending"
    },
    "tags": []
   },
   "outputs": [],
   "source": [
    "logisticregression_search = GridSearchCV(\n",
    "                                        scoring = 'accuracy', \n",
    "                                        estimator = logistic_regression_pipe,\n",
    "                                        param_grid = [{\n",
    "                                            'logisticregression__solver': ['lbfgs', 'liblinear'],\n",
    "                                            'logisticregression__C': param_range\n",
    "                                        }],\n",
    "                                        cv = 10)\n",
    "logisticregression_search.fit(xtrain, ytrain)"
   ]
  },
  {
   "cell_type": "code",
   "execution_count": null,
   "id": "bcc98686",
   "metadata": {
    "execution": {
     "iopub.execute_input": "2023-08-27T11:58:53.866941Z",
     "iopub.status.busy": "2023-08-27T11:58:53.864652Z",
     "iopub.status.idle": "2023-08-27T11:58:53.873558Z",
     "shell.execute_reply": "2023-08-27T11:58:53.871839Z",
     "shell.execute_reply.started": "2023-08-27T11:58:53.866899Z"
    },
    "papermill": {
     "duration": null,
     "end_time": null,
     "exception": null,
     "start_time": null,
     "status": "pending"
    },
    "tags": []
   },
   "outputs": [],
   "source": [
    "logisticregression_search.best_score_"
   ]
  },
  {
   "cell_type": "code",
   "execution_count": null,
   "id": "304245e2",
   "metadata": {
    "execution": {
     "iopub.execute_input": "2023-08-27T11:58:53.875519Z",
     "iopub.status.busy": "2023-08-27T11:58:53.874755Z",
     "iopub.status.idle": "2023-08-27T11:58:53.890000Z",
     "shell.execute_reply": "2023-08-27T11:58:53.889191Z",
     "shell.execute_reply.started": "2023-08-27T11:58:53.875481Z"
    },
    "papermill": {
     "duration": null,
     "end_time": null,
     "exception": null,
     "start_time": null,
     "status": "pending"
    },
    "tags": []
   },
   "outputs": [],
   "source": [
    "logisticregression_search.best_params_"
   ]
  },
  {
   "cell_type": "code",
   "execution_count": null,
   "id": "be6582d8",
   "metadata": {
    "execution": {
     "iopub.execute_input": "2023-08-27T11:58:53.892330Z",
     "iopub.status.busy": "2023-08-27T11:58:53.891792Z",
     "iopub.status.idle": "2023-08-27T11:58:53.905715Z",
     "shell.execute_reply": "2023-08-27T11:58:53.904384Z",
     "shell.execute_reply.started": "2023-08-27T11:58:53.892237Z"
    },
    "papermill": {
     "duration": null,
     "end_time": null,
     "exception": null,
     "start_time": null,
     "status": "pending"
    },
    "tags": []
   },
   "outputs": [],
   "source": [
    "logistic_regression_pipe = logisticregression_search.best_estimator_"
   ]
  },
  {
   "cell_type": "code",
   "execution_count": null,
   "id": "461484b3",
   "metadata": {
    "execution": {
     "iopub.execute_input": "2023-08-27T11:58:53.908004Z",
     "iopub.status.busy": "2023-08-27T11:58:53.907607Z",
     "iopub.status.idle": "2023-08-27T11:58:55.651759Z",
     "shell.execute_reply": "2023-08-27T11:58:55.650875Z",
     "shell.execute_reply.started": "2023-08-27T11:58:53.907970Z"
    },
    "papermill": {
     "duration": null,
     "end_time": null,
     "exception": null,
     "start_time": null,
     "status": "pending"
    },
    "tags": []
   },
   "outputs": [],
   "source": [
    "xtrain_f, xvalid_f,ytrain_f, yvalid_f = K_fold(xtrain, \n",
    "                                               ytrain, \n",
    "                                               logistic_regression_pipe)"
   ]
  },
  {
   "cell_type": "code",
   "execution_count": null,
   "id": "a4ffa3b9",
   "metadata": {
    "execution": {
     "iopub.execute_input": "2023-08-27T11:58:55.659837Z",
     "iopub.status.busy": "2023-08-27T11:58:55.656446Z",
     "iopub.status.idle": "2023-08-27T11:58:55.787450Z",
     "shell.execute_reply": "2023-08-27T11:58:55.786582Z",
     "shell.execute_reply.started": "2023-08-27T11:58:55.659792Z"
    },
    "papermill": {
     "duration": null,
     "end_time": null,
     "exception": null,
     "start_time": null,
     "status": "pending"
    },
    "tags": []
   },
   "outputs": [],
   "source": [
    "index = 3\n",
    "xtraining, ytraining, xvalid, yvalid = xtrain_f[index], ytrain_f[index], xvalid_f[index], yvalid_f[index]\n",
    "logistic_regression_pipe.fit(xtrain, ytrain)"
   ]
  },
  {
   "cell_type": "code",
   "execution_count": null,
   "id": "1cd47f48",
   "metadata": {
    "execution": {
     "iopub.execute_input": "2023-08-27T11:58:55.795670Z",
     "iopub.status.busy": "2023-08-27T11:58:55.792095Z",
     "iopub.status.idle": "2023-08-27T11:58:55.808007Z",
     "shell.execute_reply": "2023-08-27T11:58:55.807026Z",
     "shell.execute_reply.started": "2023-08-27T11:58:55.795624Z"
    },
    "papermill": {
     "duration": null,
     "end_time": null,
     "exception": null,
     "start_time": null,
     "status": "pending"
    },
    "tags": []
   },
   "outputs": [],
   "source": [
    "len(xtraining), len(xvalid)"
   ]
  },
  {
   "cell_type": "code",
   "execution_count": null,
   "id": "b2041a8e",
   "metadata": {
    "execution": {
     "iopub.execute_input": "2023-08-27T11:58:55.812711Z",
     "iopub.status.busy": "2023-08-27T11:58:55.812149Z",
     "iopub.status.idle": "2023-08-27T11:58:55.839702Z",
     "shell.execute_reply": "2023-08-27T11:58:55.838778Z",
     "shell.execute_reply.started": "2023-08-27T11:58:55.812666Z"
    },
    "papermill": {
     "duration": null,
     "end_time": null,
     "exception": null,
     "start_time": null,
     "status": "pending"
    },
    "tags": []
   },
   "outputs": [],
   "source": [
    "logistic_regression_pipe.score(xtraining, ytraining)"
   ]
  },
  {
   "cell_type": "code",
   "execution_count": null,
   "id": "ab274304",
   "metadata": {
    "execution": {
     "iopub.execute_input": "2023-08-27T11:58:55.841780Z",
     "iopub.status.busy": "2023-08-27T11:58:55.840789Z",
     "iopub.status.idle": "2023-08-27T11:58:55.849111Z",
     "shell.execute_reply": "2023-08-27T11:58:55.848400Z",
     "shell.execute_reply.started": "2023-08-27T11:58:55.841739Z"
    },
    "papermill": {
     "duration": null,
     "end_time": null,
     "exception": null,
     "start_time": null,
     "status": "pending"
    },
    "tags": []
   },
   "outputs": [],
   "source": [
    "logistic_regression_pipe.score(xvalid, yvalid)"
   ]
  },
  {
   "cell_type": "code",
   "execution_count": null,
   "id": "3fbdaaaa",
   "metadata": {
    "execution": {
     "iopub.execute_input": "2023-08-27T11:58:55.850761Z",
     "iopub.status.busy": "2023-08-27T11:58:55.850116Z",
     "iopub.status.idle": "2023-08-27T11:58:55.867386Z",
     "shell.execute_reply": "2023-08-27T11:58:55.866641Z",
     "shell.execute_reply.started": "2023-08-27T11:58:55.850735Z"
    },
    "papermill": {
     "duration": null,
     "end_time": null,
     "exception": null,
     "start_time": null,
     "status": "pending"
    },
    "tags": []
   },
   "outputs": [],
   "source": [
    "logistic_regression_pipe.score(xtest, ytest)"
   ]
  },
  {
   "cell_type": "code",
   "execution_count": null,
   "id": "501868c7",
   "metadata": {
    "execution": {
     "iopub.execute_input": "2023-08-27T11:58:55.869066Z",
     "iopub.status.busy": "2023-08-27T11:58:55.868602Z",
     "iopub.status.idle": "2023-08-27T11:58:55.882390Z",
     "shell.execute_reply": "2023-08-27T11:58:55.881687Z",
     "shell.execute_reply.started": "2023-08-27T11:58:55.869039Z"
    },
    "papermill": {
     "duration": null,
     "end_time": null,
     "exception": null,
     "start_time": null,
     "status": "pending"
    },
    "tags": []
   },
   "outputs": [],
   "source": [
    "y_pred = logistic_regression_pipe.predict(xtest)\n",
    "y_pred"
   ]
  },
  {
   "cell_type": "code",
   "execution_count": null,
   "id": "783fbfdd",
   "metadata": {
    "execution": {
     "iopub.execute_input": "2023-08-27T11:58:55.884041Z",
     "iopub.status.busy": "2023-08-27T11:58:55.883582Z",
     "iopub.status.idle": "2023-08-27T11:58:55.901728Z",
     "shell.execute_reply": "2023-08-27T11:58:55.900997Z",
     "shell.execute_reply.started": "2023-08-27T11:58:55.884013Z"
    },
    "papermill": {
     "duration": null,
     "end_time": null,
     "exception": null,
     "start_time": null,
     "status": "pending"
    },
    "tags": []
   },
   "outputs": [],
   "source": [
    "accuracy_score(y_pred, ytest)*100"
   ]
  },
  {
   "cell_type": "code",
   "execution_count": null,
   "id": "58d94efc",
   "metadata": {
    "execution": {
     "iopub.execute_input": "2023-08-27T11:58:55.903213Z",
     "iopub.status.busy": "2023-08-27T11:58:55.902936Z",
     "iopub.status.idle": "2023-08-27T11:58:55.922782Z",
     "shell.execute_reply": "2023-08-27T11:58:55.921923Z",
     "shell.execute_reply.started": "2023-08-27T11:58:55.903188Z"
    },
    "papermill": {
     "duration": null,
     "end_time": null,
     "exception": null,
     "start_time": null,
     "status": "pending"
    },
    "tags": []
   },
   "outputs": [],
   "source": [
    "print(classification_report(y_pred, ytest))"
   ]
  },
  {
   "cell_type": "code",
   "execution_count": null,
   "id": "a9a4c357",
   "metadata": {
    "execution": {
     "iopub.execute_input": "2023-08-27T11:58:55.929269Z",
     "iopub.status.busy": "2023-08-27T11:58:55.927255Z",
     "iopub.status.idle": "2023-08-27T11:58:56.138833Z",
     "shell.execute_reply": "2023-08-27T11:58:56.137401Z",
     "shell.execute_reply.started": "2023-08-27T11:58:55.929234Z"
    },
    "papermill": {
     "duration": null,
     "end_time": null,
     "exception": null,
     "start_time": null,
     "status": "pending"
    },
    "tags": []
   },
   "outputs": [],
   "source": [
    "sns.heatmap(confusion_matrix(y_pred, ytest), annot = True, cmap = 'Blues')"
   ]
  },
  {
   "cell_type": "markdown",
   "id": "7b494361",
   "metadata": {
    "papermill": {
     "duration": null,
     "end_time": null,
     "exception": null,
     "start_time": null,
     "status": "pending"
    },
    "tags": []
   },
   "source": [
    "# Support Vector Machine"
   ]
  },
  {
   "cell_type": "code",
   "execution_count": null,
   "id": "ed2e071e",
   "metadata": {
    "execution": {
     "iopub.execute_input": "2023-08-27T11:58:56.140683Z",
     "iopub.status.busy": "2023-08-27T11:58:56.140262Z",
     "iopub.status.idle": "2023-08-27T11:58:56.148744Z",
     "shell.execute_reply": "2023-08-27T11:58:56.146955Z",
     "shell.execute_reply.started": "2023-08-27T11:58:56.140647Z"
    },
    "papermill": {
     "duration": null,
     "end_time": null,
     "exception": null,
     "start_time": null,
     "status": "pending"
    },
    "tags": []
   },
   "outputs": [],
   "source": [
    "svm_pipeline = make_pipeline(RobustScaler(),\n",
    "                            KernelPCA(n_components = 12, kernel = 'rbf'),\n",
    "                            SVC(kernel = 'rbf', gamma = 5, C = 100, \n",
    "                               random_state = 1, probability=True))"
   ]
  },
  {
   "cell_type": "code",
   "execution_count": null,
   "id": "24874f26",
   "metadata": {
    "execution": {
     "iopub.execute_input": "2023-08-27T11:58:56.151844Z",
     "iopub.status.busy": "2023-08-27T11:58:56.151155Z",
     "iopub.status.idle": "2023-08-27T11:59:04.268231Z",
     "shell.execute_reply": "2023-08-27T11:59:04.267416Z",
     "shell.execute_reply.started": "2023-08-27T11:58:56.151812Z"
    },
    "papermill": {
     "duration": null,
     "end_time": null,
     "exception": null,
     "start_time": null,
     "status": "pending"
    },
    "tags": []
   },
   "outputs": [],
   "source": [
    "train_scores, validation_scores = validation_curve(estimator = svm_pipeline,\n",
    "                                                  X = xtrain, y = ytrain, \n",
    "                                                  scoring = 'accuracy',\n",
    "                                                  param_name = 'svc__C',\n",
    "                                                  param_range = param_range,\n",
    "                                                  cv = 10)"
   ]
  },
  {
   "cell_type": "code",
   "execution_count": null,
   "id": "a3c42a23",
   "metadata": {
    "execution": {
     "iopub.execute_input": "2023-08-27T11:59:04.271533Z",
     "iopub.status.busy": "2023-08-27T11:59:04.270169Z",
     "iopub.status.idle": "2023-08-27T11:59:04.520966Z",
     "shell.execute_reply": "2023-08-27T11:59:04.519562Z",
     "shell.execute_reply.started": "2023-08-27T11:59:04.271500Z"
    },
    "papermill": {
     "duration": null,
     "end_time": null,
     "exception": null,
     "start_time": null,
     "status": "pending"
    },
    "tags": []
   },
   "outputs": [],
   "source": [
    "plt.plot(param_range, np.max(train_scores, axis = 1), label = 'training accuracy')\n",
    "plt.plot(param_range, np.max(validation_scores, axis = 1), label = 'validation accuracy')\n",
    "plt.legend()"
   ]
  },
  {
   "cell_type": "code",
   "execution_count": null,
   "id": "94cc675f",
   "metadata": {
    "execution": {
     "iopub.execute_input": "2023-08-27T11:59:04.526789Z",
     "iopub.status.busy": "2023-08-27T11:59:04.524798Z",
     "iopub.status.idle": "2023-08-27T12:01:06.062706Z",
     "shell.execute_reply": "2023-08-27T12:01:06.061752Z",
     "shell.execute_reply.started": "2023-08-27T11:59:04.526756Z"
    },
    "papermill": {
     "duration": null,
     "end_time": null,
     "exception": null,
     "start_time": null,
     "status": "pending"
    },
    "tags": []
   },
   "outputs": [],
   "source": [
    "from sklearn.model_selection import cross_val_score\n",
    "search_for_best = GridSearchCV(estimator = svm_pipeline, \n",
    "                              param_grid = [{\n",
    "                                  'svc__kernel': ['rbf', 'linear'],\n",
    "                                  'svc__C': param_range,\n",
    "                                  'svc__gamma': param_range\n",
    "                                  \n",
    "                              }],\n",
    "                              scoring = 'accuracy', cv = 10)\n",
    "search_for_best.fit(xtrain, ytrain)"
   ]
  },
  {
   "cell_type": "code",
   "execution_count": null,
   "id": "f8d346d8",
   "metadata": {
    "execution": {
     "iopub.execute_input": "2023-08-27T12:01:06.064494Z",
     "iopub.status.busy": "2023-08-27T12:01:06.064139Z",
     "iopub.status.idle": "2023-08-27T12:01:06.071243Z",
     "shell.execute_reply": "2023-08-27T12:01:06.070333Z",
     "shell.execute_reply.started": "2023-08-27T12:01:06.064464Z"
    },
    "papermill": {
     "duration": null,
     "end_time": null,
     "exception": null,
     "start_time": null,
     "status": "pending"
    },
    "tags": []
   },
   "outputs": [],
   "source": [
    "search_for_best.best_score_"
   ]
  },
  {
   "cell_type": "code",
   "execution_count": null,
   "id": "292af2b8",
   "metadata": {
    "execution": {
     "iopub.execute_input": "2023-08-27T12:01:06.072791Z",
     "iopub.status.busy": "2023-08-27T12:01:06.072459Z",
     "iopub.status.idle": "2023-08-27T12:01:06.086621Z",
     "shell.execute_reply": "2023-08-27T12:01:06.085547Z",
     "shell.execute_reply.started": "2023-08-27T12:01:06.072761Z"
    },
    "papermill": {
     "duration": null,
     "end_time": null,
     "exception": null,
     "start_time": null,
     "status": "pending"
    },
    "tags": []
   },
   "outputs": [],
   "source": [
    "search_for_best.best_params_"
   ]
  },
  {
   "cell_type": "code",
   "execution_count": null,
   "id": "2a43504c",
   "metadata": {
    "execution": {
     "iopub.execute_input": "2023-08-27T12:01:06.088174Z",
     "iopub.status.busy": "2023-08-27T12:01:06.087834Z",
     "iopub.status.idle": "2023-08-27T12:01:06.102593Z",
     "shell.execute_reply": "2023-08-27T12:01:06.101566Z",
     "shell.execute_reply.started": "2023-08-27T12:01:06.088143Z"
    },
    "papermill": {
     "duration": null,
     "end_time": null,
     "exception": null,
     "start_time": null,
     "status": "pending"
    },
    "tags": []
   },
   "outputs": [],
   "source": [
    "svm_pipeline = search_for_best.best_estimator_"
   ]
  },
  {
   "cell_type": "code",
   "execution_count": null,
   "id": "1a8b7a41",
   "metadata": {
    "execution": {
     "iopub.execute_input": "2023-08-27T12:01:06.104130Z",
     "iopub.status.busy": "2023-08-27T12:01:06.103792Z",
     "iopub.status.idle": "2023-08-27T12:01:07.191067Z",
     "shell.execute_reply": "2023-08-27T12:01:07.190326Z",
     "shell.execute_reply.started": "2023-08-27T12:01:06.104100Z"
    },
    "papermill": {
     "duration": null,
     "end_time": null,
     "exception": null,
     "start_time": null,
     "status": "pending"
    },
    "tags": []
   },
   "outputs": [],
   "source": [
    "xtrain_f, xvalid_f,ytrain_f, yvalid_f = K_fold(xtrain, \n",
    "                                               ytrain, \n",
    "                                               svm_pipeline)"
   ]
  },
  {
   "cell_type": "code",
   "execution_count": null,
   "id": "58d24fa9",
   "metadata": {
    "execution": {
     "iopub.execute_input": "2023-08-27T12:01:07.196447Z",
     "iopub.status.busy": "2023-08-27T12:01:07.194569Z",
     "iopub.status.idle": "2023-08-27T12:01:07.289553Z",
     "shell.execute_reply": "2023-08-27T12:01:07.288759Z",
     "shell.execute_reply.started": "2023-08-27T12:01:07.196415Z"
    },
    "papermill": {
     "duration": null,
     "end_time": null,
     "exception": null,
     "start_time": null,
     "status": "pending"
    },
    "tags": []
   },
   "outputs": [],
   "source": [
    "index = 18\n",
    "xtraining, ytraining, xvalid, yvalid = xtrain_f[index], ytrain_f[index], xvalid_f[index], yvalid_f[index]\n",
    "svm_pipeline.fit(xtrain, ytrain)"
   ]
  },
  {
   "cell_type": "code",
   "execution_count": null,
   "id": "906884aa",
   "metadata": {
    "execution": {
     "iopub.execute_input": "2023-08-27T12:01:07.296328Z",
     "iopub.status.busy": "2023-08-27T12:01:07.293627Z",
     "iopub.status.idle": "2023-08-27T12:01:07.306192Z",
     "shell.execute_reply": "2023-08-27T12:01:07.305416Z",
     "shell.execute_reply.started": "2023-08-27T12:01:07.296271Z"
    },
    "papermill": {
     "duration": null,
     "end_time": null,
     "exception": null,
     "start_time": null,
     "status": "pending"
    },
    "tags": []
   },
   "outputs": [],
   "source": [
    "len(xtraining), len(xvalid)"
   ]
  },
  {
   "cell_type": "code",
   "execution_count": null,
   "id": "c328ce81",
   "metadata": {
    "execution": {
     "iopub.execute_input": "2023-08-27T12:01:07.309751Z",
     "iopub.status.busy": "2023-08-27T12:01:07.307830Z",
     "iopub.status.idle": "2023-08-27T12:01:07.335974Z",
     "shell.execute_reply": "2023-08-27T12:01:07.335046Z",
     "shell.execute_reply.started": "2023-08-27T12:01:07.309707Z"
    },
    "papermill": {
     "duration": null,
     "end_time": null,
     "exception": null,
     "start_time": null,
     "status": "pending"
    },
    "tags": []
   },
   "outputs": [],
   "source": [
    "svm_pipeline.score(xtraining, ytraining), svm_pipeline.score(xvalid, yvalid)"
   ]
  },
  {
   "cell_type": "code",
   "execution_count": null,
   "id": "a33f888c",
   "metadata": {
    "execution": {
     "iopub.execute_input": "2023-08-27T12:01:07.338818Z",
     "iopub.status.busy": "2023-08-27T12:01:07.337134Z",
     "iopub.status.idle": "2023-08-27T12:01:07.358018Z",
     "shell.execute_reply": "2023-08-27T12:01:07.357199Z",
     "shell.execute_reply.started": "2023-08-27T12:01:07.338780Z"
    },
    "papermill": {
     "duration": null,
     "end_time": null,
     "exception": null,
     "start_time": null,
     "status": "pending"
    },
    "tags": []
   },
   "outputs": [],
   "source": [
    "svm_pipeline.score(xtest, ytest)"
   ]
  },
  {
   "cell_type": "code",
   "execution_count": null,
   "id": "9f37aa1e",
   "metadata": {
    "execution": {
     "iopub.execute_input": "2023-08-27T12:01:07.362554Z",
     "iopub.status.busy": "2023-08-27T12:01:07.362012Z",
     "iopub.status.idle": "2023-08-27T12:01:07.380798Z",
     "shell.execute_reply": "2023-08-27T12:01:07.379596Z",
     "shell.execute_reply.started": "2023-08-27T12:01:07.362518Z"
    },
    "papermill": {
     "duration": null,
     "end_time": null,
     "exception": null,
     "start_time": null,
     "status": "pending"
    },
    "tags": []
   },
   "outputs": [],
   "source": [
    "y_pred = svm_pipeline.predict(xtest)\n",
    "y_pred"
   ]
  },
  {
   "cell_type": "code",
   "execution_count": null,
   "id": "ed1036b9",
   "metadata": {
    "execution": {
     "iopub.execute_input": "2023-08-27T12:01:07.386742Z",
     "iopub.status.busy": "2023-08-27T12:01:07.384783Z",
     "iopub.status.idle": "2023-08-27T12:01:07.404339Z",
     "shell.execute_reply": "2023-08-27T12:01:07.403525Z",
     "shell.execute_reply.started": "2023-08-27T12:01:07.386708Z"
    },
    "papermill": {
     "duration": null,
     "end_time": null,
     "exception": null,
     "start_time": null,
     "status": "pending"
    },
    "tags": []
   },
   "outputs": [],
   "source": [
    "print(classification_report(y_pred, ytest))"
   ]
  },
  {
   "cell_type": "code",
   "execution_count": null,
   "id": "8729bd08",
   "metadata": {
    "execution": {
     "iopub.execute_input": "2023-08-27T12:01:07.411062Z",
     "iopub.status.busy": "2023-08-27T12:01:07.408238Z",
     "iopub.status.idle": "2023-08-27T12:01:07.635688Z",
     "shell.execute_reply": "2023-08-27T12:01:07.634419Z",
     "shell.execute_reply.started": "2023-08-27T12:01:07.411012Z"
    },
    "papermill": {
     "duration": null,
     "end_time": null,
     "exception": null,
     "start_time": null,
     "status": "pending"
    },
    "tags": []
   },
   "outputs": [],
   "source": [
    "sns.heatmap(confusion_matrix(y_pred, ytest), annot = True, cmap = 'Blues')"
   ]
  },
  {
   "cell_type": "markdown",
   "id": "940007e2",
   "metadata": {
    "papermill": {
     "duration": null,
     "end_time": null,
     "exception": null,
     "start_time": null,
     "status": "pending"
    },
    "tags": []
   },
   "source": [
    "# KNN Classifier"
   ]
  },
  {
   "cell_type": "code",
   "execution_count": null,
   "id": "c329a8c1",
   "metadata": {
    "execution": {
     "iopub.execute_input": "2023-08-27T12:01:07.637224Z",
     "iopub.status.busy": "2023-08-27T12:01:07.636932Z",
     "iopub.status.idle": "2023-08-27T12:01:07.677200Z",
     "shell.execute_reply": "2023-08-27T12:01:07.675787Z",
     "shell.execute_reply.started": "2023-08-27T12:01:07.637201Z"
    },
    "papermill": {
     "duration": null,
     "end_time": null,
     "exception": null,
     "start_time": null,
     "status": "pending"
    },
    "tags": []
   },
   "outputs": [],
   "source": [
    "from sklearn.feature_selection import SelectFromModel"
   ]
  },
  {
   "cell_type": "code",
   "execution_count": null,
   "id": "d5919b07",
   "metadata": {
    "execution": {
     "iopub.execute_input": "2023-08-27T12:01:07.679080Z",
     "iopub.status.busy": "2023-08-27T12:01:07.678671Z",
     "iopub.status.idle": "2023-08-27T12:01:07.685072Z",
     "shell.execute_reply": "2023-08-27T12:01:07.684160Z",
     "shell.execute_reply.started": "2023-08-27T12:01:07.679044Z"
    },
    "papermill": {
     "duration": null,
     "end_time": null,
     "exception": null,
     "start_time": null,
     "status": "pending"
    },
    "tags": []
   },
   "outputs": [],
   "source": [
    "knn_pipeline = make_pipeline(\n",
    "                            SelectFromModel(estimator = RandomForestClassifier(\n",
    "                            n_estimators = 1000, max_depth = 2), threshold = 0.05),\n",
    "                            RobustScaler(),\n",
    "                            KNeighborsClassifier(metric = 'minkowski',\n",
    "                                                 n_neighbors = 3, \n",
    "                                                 p = 2))"
   ]
  },
  {
   "cell_type": "code",
   "execution_count": null,
   "id": "8bdc1938",
   "metadata": {
    "execution": {
     "iopub.execute_input": "2023-08-27T12:01:07.686757Z",
     "iopub.status.busy": "2023-08-27T12:01:07.686291Z",
     "iopub.status.idle": "2023-08-27T12:05:15.137177Z",
     "shell.execute_reply": "2023-08-27T12:05:15.134759Z",
     "shell.execute_reply.started": "2023-08-27T12:01:07.686729Z"
    },
    "papermill": {
     "duration": null,
     "end_time": null,
     "exception": null,
     "start_time": null,
     "status": "pending"
    },
    "tags": []
   },
   "outputs": [],
   "source": [
    "search_for_best_knn_params = GridSearchCV(\n",
    "                                         scoring = 'accuracy',\n",
    "                                         estimator = knn_pipeline,\n",
    "                                         param_grid = [{\n",
    "                                             'kneighborsclassifier__n_neighbors':[2, 3, 4, 5, 6, 7, 8],\n",
    "                                             'kneighborsclassifier__p': [1, 2]\n",
    "                                         }],\n",
    "                                         cv = 10)\n",
    "search_for_best_knn_params.fit(xtrain, ytrain)"
   ]
  },
  {
   "cell_type": "code",
   "execution_count": null,
   "id": "c7c18374",
   "metadata": {
    "execution": {
     "iopub.execute_input": "2023-08-27T12:05:15.139152Z",
     "iopub.status.busy": "2023-08-27T12:05:15.138829Z",
     "iopub.status.idle": "2023-08-27T12:05:15.149161Z",
     "shell.execute_reply": "2023-08-27T12:05:15.147219Z",
     "shell.execute_reply.started": "2023-08-27T12:05:15.139129Z"
    },
    "papermill": {
     "duration": null,
     "end_time": null,
     "exception": null,
     "start_time": null,
     "status": "pending"
    },
    "tags": []
   },
   "outputs": [],
   "source": [
    "search_for_best_knn_params.best_score_"
   ]
  },
  {
   "cell_type": "code",
   "execution_count": null,
   "id": "33674dd4",
   "metadata": {
    "execution": {
     "iopub.execute_input": "2023-08-27T12:05:15.151033Z",
     "iopub.status.busy": "2023-08-27T12:05:15.150704Z",
     "iopub.status.idle": "2023-08-27T12:05:15.168827Z",
     "shell.execute_reply": "2023-08-27T12:05:15.167625Z",
     "shell.execute_reply.started": "2023-08-27T12:05:15.151008Z"
    },
    "papermill": {
     "duration": null,
     "end_time": null,
     "exception": null,
     "start_time": null,
     "status": "pending"
    },
    "tags": []
   },
   "outputs": [],
   "source": [
    "search_for_best_knn_params.best_params_"
   ]
  },
  {
   "cell_type": "code",
   "execution_count": null,
   "id": "3bb627fd",
   "metadata": {
    "execution": {
     "iopub.execute_input": "2023-08-27T12:05:15.170528Z",
     "iopub.status.busy": "2023-08-27T12:05:15.170143Z",
     "iopub.status.idle": "2023-08-27T12:05:15.185784Z",
     "shell.execute_reply": "2023-08-27T12:05:15.183464Z",
     "shell.execute_reply.started": "2023-08-27T12:05:15.170497Z"
    },
    "papermill": {
     "duration": null,
     "end_time": null,
     "exception": null,
     "start_time": null,
     "status": "pending"
    },
    "tags": []
   },
   "outputs": [],
   "source": [
    "knn_pipeline = search_for_best_knn_params.best_estimator_"
   ]
  },
  {
   "cell_type": "code",
   "execution_count": null,
   "id": "9c5d9b13",
   "metadata": {
    "execution": {
     "iopub.execute_input": "2023-08-27T12:05:15.188853Z",
     "iopub.status.busy": "2023-08-27T12:05:15.188407Z",
     "iopub.status.idle": "2023-08-27T12:05:55.762144Z",
     "shell.execute_reply": "2023-08-27T12:05:55.760446Z",
     "shell.execute_reply.started": "2023-08-27T12:05:15.188819Z"
    },
    "papermill": {
     "duration": null,
     "end_time": null,
     "exception": null,
     "start_time": null,
     "status": "pending"
    },
    "tags": []
   },
   "outputs": [],
   "source": [
    "xtrain_f, xvalid_f,ytrain_f, yvalid_f = K_fold(xtrain, \n",
    "                                               ytrain, \n",
    "                                               knn_pipeline)"
   ]
  },
  {
   "cell_type": "code",
   "execution_count": null,
   "id": "9094f4f1",
   "metadata": {
    "execution": {
     "iopub.execute_input": "2023-08-27T12:05:55.764633Z",
     "iopub.status.busy": "2023-08-27T12:05:55.764198Z",
     "iopub.status.idle": "2023-08-27T12:05:57.491871Z",
     "shell.execute_reply": "2023-08-27T12:05:57.490764Z",
     "shell.execute_reply.started": "2023-08-27T12:05:55.764596Z"
    },
    "papermill": {
     "duration": null,
     "end_time": null,
     "exception": null,
     "start_time": null,
     "status": "pending"
    },
    "tags": []
   },
   "outputs": [],
   "source": [
    "index = 16\n",
    "xtraining, ytraining, xvalid, yvalid = xtrain_f[index], ytrain_f[index], xvalid_f[index], yvalid_f[index]\n",
    "knn_pipeline.fit(xtrain, ytrain)"
   ]
  },
  {
   "cell_type": "code",
   "execution_count": null,
   "id": "1cb91ab9",
   "metadata": {
    "execution": {
     "iopub.execute_input": "2023-08-27T12:05:57.493913Z",
     "iopub.status.busy": "2023-08-27T12:05:57.493551Z",
     "iopub.status.idle": "2023-08-27T12:05:57.852724Z",
     "shell.execute_reply": "2023-08-27T12:05:57.851135Z",
     "shell.execute_reply.started": "2023-08-27T12:05:57.493880Z"
    },
    "papermill": {
     "duration": null,
     "end_time": null,
     "exception": null,
     "start_time": null,
     "status": "pending"
    },
    "tags": []
   },
   "outputs": [],
   "source": [
    "knn_pipeline.score(xtraining, ytraining), knn_pipeline.score(xvalid, yvalid)"
   ]
  },
  {
   "cell_type": "code",
   "execution_count": null,
   "id": "d20eeb80",
   "metadata": {
    "execution": {
     "iopub.execute_input": "2023-08-27T12:05:57.854731Z",
     "iopub.status.busy": "2023-08-27T12:05:57.854404Z",
     "iopub.status.idle": "2023-08-27T12:05:58.067208Z",
     "shell.execute_reply": "2023-08-27T12:05:58.065411Z",
     "shell.execute_reply.started": "2023-08-27T12:05:57.854702Z"
    },
    "papermill": {
     "duration": null,
     "end_time": null,
     "exception": null,
     "start_time": null,
     "status": "pending"
    },
    "tags": []
   },
   "outputs": [],
   "source": [
    "knn_pipeline.score(xtest, ytest)"
   ]
  },
  {
   "cell_type": "code",
   "execution_count": null,
   "id": "7a9a63c1",
   "metadata": {
    "execution": {
     "iopub.execute_input": "2023-08-27T12:05:58.069311Z",
     "iopub.status.busy": "2023-08-27T12:05:58.068934Z",
     "iopub.status.idle": "2023-08-27T12:05:58.270868Z",
     "shell.execute_reply": "2023-08-27T12:05:58.269014Z",
     "shell.execute_reply.started": "2023-08-27T12:05:58.069238Z"
    },
    "papermill": {
     "duration": null,
     "end_time": null,
     "exception": null,
     "start_time": null,
     "status": "pending"
    },
    "tags": []
   },
   "outputs": [],
   "source": [
    "y_pred = knn_pipeline.predict(xtest)\n",
    "y_pred"
   ]
  },
  {
   "cell_type": "code",
   "execution_count": null,
   "id": "58124288",
   "metadata": {
    "execution": {
     "iopub.execute_input": "2023-08-27T12:05:58.273303Z",
     "iopub.status.busy": "2023-08-27T12:05:58.272813Z",
     "iopub.status.idle": "2023-08-27T12:05:58.290343Z",
     "shell.execute_reply": "2023-08-27T12:05:58.289016Z",
     "shell.execute_reply.started": "2023-08-27T12:05:58.273243Z"
    },
    "papermill": {
     "duration": null,
     "end_time": null,
     "exception": null,
     "start_time": null,
     "status": "pending"
    },
    "tags": []
   },
   "outputs": [],
   "source": [
    "print(classification_report(y_pred, ytest))"
   ]
  },
  {
   "cell_type": "code",
   "execution_count": null,
   "id": "30a6ac34",
   "metadata": {
    "execution": {
     "iopub.execute_input": "2023-08-27T12:05:58.292440Z",
     "iopub.status.busy": "2023-08-27T12:05:58.292038Z",
     "iopub.status.idle": "2023-08-27T12:05:58.514009Z",
     "shell.execute_reply": "2023-08-27T12:05:58.512770Z",
     "shell.execute_reply.started": "2023-08-27T12:05:58.292409Z"
    },
    "papermill": {
     "duration": null,
     "end_time": null,
     "exception": null,
     "start_time": null,
     "status": "pending"
    },
    "tags": []
   },
   "outputs": [],
   "source": [
    "sns.heatmap(confusion_matrix(y_pred, ytest), annot = True, cmap = 'Blues')"
   ]
  },
  {
   "cell_type": "markdown",
   "id": "a6ef26b2",
   "metadata": {
    "papermill": {
     "duration": null,
     "end_time": null,
     "exception": null,
     "start_time": null,
     "status": "pending"
    },
    "tags": []
   },
   "source": [
    "# Majority Voting Classifier"
   ]
  },
  {
   "cell_type": "code",
   "execution_count": null,
   "id": "f8331d9f",
   "metadata": {
    "execution": {
     "iopub.execute_input": "2023-08-27T12:05:58.515945Z",
     "iopub.status.busy": "2023-08-27T12:05:58.515566Z",
     "iopub.status.idle": "2023-08-27T12:05:58.524895Z",
     "shell.execute_reply": "2023-08-27T12:05:58.523587Z",
     "shell.execute_reply.started": "2023-08-27T12:05:58.515909Z"
    },
    "papermill": {
     "duration": null,
     "end_time": null,
     "exception": null,
     "start_time": null,
     "status": "pending"
    },
    "tags": []
   },
   "outputs": [],
   "source": [
    "from sklearn.base import BaseEstimator, ClassifierMixin\n",
    "from sklearn.pipeline import _name_estimators\n",
    "class MajorityVoting:\n",
    "    def __init__(self, classifiers, weights):\n",
    "        self.classifiers = classifiers\n",
    "        self.weights = weights   \n",
    "    def fit(self, features, labels):\n",
    "        return self\n",
    "    def predict_proba(self, x):\n",
    "        predicts_ = np.array([classifier.predict_proba(x) for classifier in self.classifiers])\n",
    "        weighted_predict_proba = np.average(predicts_, \n",
    "                                           axis = 0,\n",
    "                                           weights = self.weights)\n",
    "        return weighted_predict_proba\n",
    "    def predict(self, x):\n",
    "        return np.argmax(self.predict_proba(x), axis = 1)\n",
    "    def score(self, features, labels):\n",
    "        y_pred = np.argmax(self.predict_proba(features), axis = 1)\n",
    "        return accuracy_score(labels, y_pred)"
   ]
  },
  {
   "cell_type": "code",
   "execution_count": null,
   "id": "9a443331",
   "metadata": {
    "execution": {
     "iopub.execute_input": "2023-08-27T12:05:58.526969Z",
     "iopub.status.busy": "2023-08-27T12:05:58.526562Z",
     "iopub.status.idle": "2023-08-27T12:05:58.544104Z",
     "shell.execute_reply": "2023-08-27T12:05:58.542191Z",
     "shell.execute_reply.started": "2023-08-27T12:05:58.526936Z"
    },
    "papermill": {
     "duration": null,
     "end_time": null,
     "exception": null,
     "start_time": null,
     "status": "pending"
    },
    "tags": []
   },
   "outputs": [],
   "source": [
    "def get_proba(estimator, data):\n",
    "    y_pred = estimator.predict_proba(data)\n",
    "    y_pred_indexs = np.argmax(y_pred, axis = 1)\n",
    "    return [y_pred[index, value] for index, value in enumerate(y_pred_indexs)]"
   ]
  },
  {
   "cell_type": "code",
   "execution_count": null,
   "id": "b15673ba",
   "metadata": {
    "execution": {
     "iopub.execute_input": "2023-08-27T12:05:58.548952Z",
     "iopub.status.busy": "2023-08-27T12:05:58.548526Z",
     "iopub.status.idle": "2023-08-27T12:05:58.774685Z",
     "shell.execute_reply": "2023-08-27T12:05:58.772878Z",
     "shell.execute_reply.started": "2023-08-27T12:05:58.548914Z"
    },
    "papermill": {
     "duration": null,
     "end_time": null,
     "exception": null,
     "start_time": null,
     "status": "pending"
    },
    "tags": []
   },
   "outputs": [],
   "source": [
    "xtrain_up = np.vstack([\n",
    "    get_proba(logistic_regression_pipe, xtrain),\n",
    "    get_proba(svm_pipeline, xtrain),\n",
    "    get_proba(knn_pipeline, xtrain)\n",
    "])\n",
    "xtrain_up = np.reshape(xtrain_up, (xtrain_up.shape[1], xtrain_up.shape[0]))\n",
    "xtrain_up.shape"
   ]
  },
  {
   "cell_type": "code",
   "execution_count": null,
   "id": "834fddb7",
   "metadata": {
    "execution": {
     "iopub.execute_input": "2023-08-27T12:05:58.776613Z",
     "iopub.status.busy": "2023-08-27T12:05:58.776252Z",
     "iopub.status.idle": "2023-08-27T12:05:58.917194Z",
     "shell.execute_reply": "2023-08-27T12:05:58.916010Z",
     "shell.execute_reply.started": "2023-08-27T12:05:58.776583Z"
    },
    "papermill": {
     "duration": null,
     "end_time": null,
     "exception": null,
     "start_time": null,
     "status": "pending"
    },
    "tags": []
   },
   "outputs": [],
   "source": [
    "from sklearn.ensemble import GradientBoostingClassifier, AdaBoostClassifier\n",
    "boost = AdaBoostClassifier(estimator = DecisionTreeClassifier(criterion = 'gini'), \n",
    "                           random_state = 1,)\n",
    "boost.fit(xtrain_up, ytrain)"
   ]
  },
  {
   "cell_type": "code",
   "execution_count": null,
   "id": "9a706bcb",
   "metadata": {
    "execution": {
     "iopub.execute_input": "2023-08-27T12:05:58.919020Z",
     "iopub.status.busy": "2023-08-27T12:05:58.918700Z",
     "iopub.status.idle": "2023-08-27T12:05:58.937330Z",
     "shell.execute_reply": "2023-08-27T12:05:58.936364Z",
     "shell.execute_reply.started": "2023-08-27T12:05:58.918993Z"
    },
    "papermill": {
     "duration": null,
     "end_time": null,
     "exception": null,
     "start_time": null,
     "status": "pending"
    },
    "tags": []
   },
   "outputs": [],
   "source": [
    "boost.score(xtrain_up, ytrain)"
   ]
  },
  {
   "cell_type": "code",
   "execution_count": null,
   "id": "481dbb4e",
   "metadata": {
    "execution": {
     "iopub.execute_input": "2023-08-27T12:05:58.939690Z",
     "iopub.status.busy": "2023-08-27T12:05:58.939297Z",
     "iopub.status.idle": "2023-08-27T12:05:58.954176Z",
     "shell.execute_reply": "2023-08-27T12:05:58.952228Z",
     "shell.execute_reply.started": "2023-08-27T12:05:58.939656Z"
    },
    "papermill": {
     "duration": null,
     "end_time": null,
     "exception": null,
     "start_time": null,
     "status": "pending"
    },
    "tags": []
   },
   "outputs": [],
   "source": [
    "features_importances = np.mean([tree.feature_importances_ for tree in boost.estimators_], axis = 0)/3\n",
    "features_importances"
   ]
  },
  {
   "cell_type": "code",
   "execution_count": null,
   "id": "c39a2ba5",
   "metadata": {
    "execution": {
     "iopub.execute_input": "2023-08-27T12:05:58.956963Z",
     "iopub.status.busy": "2023-08-27T12:05:58.956074Z",
     "iopub.status.idle": "2023-08-27T12:05:58.970648Z",
     "shell.execute_reply": "2023-08-27T12:05:58.968884Z",
     "shell.execute_reply.started": "2023-08-27T12:05:58.956880Z"
    },
    "papermill": {
     "duration": null,
     "end_time": null,
     "exception": null,
     "start_time": null,
     "status": "pending"
    },
    "tags": []
   },
   "outputs": [],
   "source": [
    "features_importances = np.mean([[0.6, 0.1, 0.1], features_importances], axis = 0)\n",
    "features_importances"
   ]
  },
  {
   "cell_type": "code",
   "execution_count": null,
   "id": "5c096c05",
   "metadata": {
    "execution": {
     "iopub.execute_input": "2023-08-27T12:05:58.974128Z",
     "iopub.status.busy": "2023-08-27T12:05:58.973313Z",
     "iopub.status.idle": "2023-08-27T12:05:58.992389Z",
     "shell.execute_reply": "2023-08-27T12:05:58.990369Z",
     "shell.execute_reply.started": "2023-08-27T12:05:58.974088Z"
    },
    "papermill": {
     "duration": null,
     "end_time": null,
     "exception": null,
     "start_time": null,
     "status": "pending"
    },
    "tags": []
   },
   "outputs": [],
   "source": [
    "majority_vote = MajorityVoting([\n",
    "                                logistic_regression_pipe, \n",
    "                                svm_pipeline, \n",
    "                                knn_pipeline,],\n",
    "                                weights = features_importances)"
   ]
  },
  {
   "cell_type": "code",
   "execution_count": null,
   "id": "5231cb2b",
   "metadata": {
    "execution": {
     "iopub.execute_input": "2023-08-27T12:05:58.994536Z",
     "iopub.status.busy": "2023-08-27T12:05:58.994130Z",
     "iopub.status.idle": "2023-08-27T12:06:06.508003Z",
     "shell.execute_reply": "2023-08-27T12:06:06.506256Z",
     "shell.execute_reply.started": "2023-08-27T12:05:58.994503Z"
    },
    "papermill": {
     "duration": null,
     "end_time": null,
     "exception": null,
     "start_time": null,
     "status": "pending"
    },
    "tags": []
   },
   "outputs": [],
   "source": [
    "xtrain_f, xvalid_f,ytrain_f, yvalid_f = K_fold(xtrain, \n",
    "                                               ytrain, \n",
    "                                               majority_vote)"
   ]
  },
  {
   "cell_type": "code",
   "execution_count": null,
   "id": "a38e7fda",
   "metadata": {
    "execution": {
     "iopub.execute_input": "2023-08-27T12:06:06.510359Z",
     "iopub.status.busy": "2023-08-27T12:06:06.509961Z",
     "iopub.status.idle": "2023-08-27T12:06:06.518052Z",
     "shell.execute_reply": "2023-08-27T12:06:06.516914Z",
     "shell.execute_reply.started": "2023-08-27T12:06:06.510329Z"
    },
    "papermill": {
     "duration": null,
     "end_time": null,
     "exception": null,
     "start_time": null,
     "status": "pending"
    },
    "tags": []
   },
   "outputs": [],
   "source": [
    "index = 16\n",
    "xtraining, ytraining, xvalid, yvalid = xtrain_f[index], ytrain_f[index], xvalid_f[index], yvalid_f[index]\n",
    "majority_vote.fit(xtrain, ytrain)"
   ]
  },
  {
   "cell_type": "code",
   "execution_count": null,
   "id": "029e9099",
   "metadata": {
    "execution": {
     "iopub.execute_input": "2023-08-27T12:06:06.520011Z",
     "iopub.status.busy": "2023-08-27T12:06:06.519634Z",
     "iopub.status.idle": "2023-08-27T12:06:06.894311Z",
     "shell.execute_reply": "2023-08-27T12:06:06.893090Z",
     "shell.execute_reply.started": "2023-08-27T12:06:06.519977Z"
    },
    "papermill": {
     "duration": null,
     "end_time": null,
     "exception": null,
     "start_time": null,
     "status": "pending"
    },
    "tags": []
   },
   "outputs": [],
   "source": [
    "majority_vote.score(xtraining, ytraining), majority_vote.score(xvalid, yvalid)"
   ]
  },
  {
   "cell_type": "code",
   "execution_count": null,
   "id": "8dd334eb",
   "metadata": {
    "execution": {
     "iopub.execute_input": "2023-08-27T12:06:06.896534Z",
     "iopub.status.busy": "2023-08-27T12:06:06.896099Z",
     "iopub.status.idle": "2023-08-27T12:06:07.107589Z",
     "shell.execute_reply": "2023-08-27T12:06:07.105930Z",
     "shell.execute_reply.started": "2023-08-27T12:06:06.896501Z"
    },
    "papermill": {
     "duration": null,
     "end_time": null,
     "exception": null,
     "start_time": null,
     "status": "pending"
    },
    "tags": []
   },
   "outputs": [],
   "source": [
    "majority_vote.score(xtest, ytest)"
   ]
  },
  {
   "cell_type": "code",
   "execution_count": null,
   "id": "8abd4213",
   "metadata": {
    "execution": {
     "iopub.execute_input": "2023-08-27T12:06:07.115860Z",
     "iopub.status.busy": "2023-08-27T12:06:07.115494Z",
     "iopub.status.idle": "2023-08-27T12:06:07.304787Z",
     "shell.execute_reply": "2023-08-27T12:06:07.303070Z",
     "shell.execute_reply.started": "2023-08-27T12:06:07.115835Z"
    },
    "papermill": {
     "duration": null,
     "end_time": null,
     "exception": null,
     "start_time": null,
     "status": "pending"
    },
    "tags": []
   },
   "outputs": [],
   "source": [
    "y_pred = majority_vote.predict(xtest)\n",
    "y_pred"
   ]
  },
  {
   "cell_type": "code",
   "execution_count": null,
   "id": "5d85788b",
   "metadata": {
    "execution": {
     "iopub.execute_input": "2023-08-27T12:06:07.306952Z",
     "iopub.status.busy": "2023-08-27T12:06:07.306581Z",
     "iopub.status.idle": "2023-08-27T12:06:07.326612Z",
     "shell.execute_reply": "2023-08-27T12:06:07.324903Z",
     "shell.execute_reply.started": "2023-08-27T12:06:07.306919Z"
    },
    "papermill": {
     "duration": null,
     "end_time": null,
     "exception": null,
     "start_time": null,
     "status": "pending"
    },
    "tags": []
   },
   "outputs": [],
   "source": [
    "print(classification_report(y_pred, ytest))"
   ]
  },
  {
   "cell_type": "code",
   "execution_count": null,
   "id": "aea5605e",
   "metadata": {
    "execution": {
     "iopub.execute_input": "2023-08-27T12:06:07.329208Z",
     "iopub.status.busy": "2023-08-27T12:06:07.328226Z",
     "iopub.status.idle": "2023-08-27T12:06:07.564940Z",
     "shell.execute_reply": "2023-08-27T12:06:07.563632Z",
     "shell.execute_reply.started": "2023-08-27T12:06:07.329134Z"
    },
    "papermill": {
     "duration": null,
     "end_time": null,
     "exception": null,
     "start_time": null,
     "status": "pending"
    },
    "tags": []
   },
   "outputs": [],
   "source": [
    "sns.heatmap(confusion_matrix(y_pred, ytest), annot = True, cmap = 'Blues')"
   ]
  },
  {
   "cell_type": "markdown",
   "id": "9eb0b3de",
   "metadata": {
    "papermill": {
     "duration": null,
     "end_time": null,
     "exception": null,
     "start_time": null,
     "status": "pending"
    },
    "tags": []
   },
   "source": [
    "## Final Result - For Testing Data:"
   ]
  },
  {
   "cell_type": "code",
   "execution_count": null,
   "id": "a046cdf0",
   "metadata": {
    "execution": {
     "iopub.execute_input": "2023-08-27T12:06:07.566170Z",
     "iopub.status.busy": "2023-08-27T12:06:07.565866Z",
     "iopub.status.idle": "2023-08-27T12:06:07.967646Z",
     "shell.execute_reply": "2023-08-27T12:06:07.965910Z",
     "shell.execute_reply.started": "2023-08-27T12:06:07.566141Z"
    },
    "papermill": {
     "duration": null,
     "end_time": null,
     "exception": null,
     "start_time": null,
     "status": "pending"
    },
    "tags": []
   },
   "outputs": [],
   "source": [
    "res = pd.DataFrame({\n",
    "    'Models Used': ['LogisticRegression', \n",
    "                    'KNN Classification', \n",
    "                    'Support Vector Machine', \n",
    "                    'Majority Voting'],\n",
    "    'Testing Data Accuracy': [logistic_regression_pipe.score(xtest, ytest)*100,\n",
    "                             knn_pipeline.score(xtest, ytest)*100,\n",
    "                             svm_pipeline.score(xtest, ytest)*100,\n",
    "                             majority_vote.score(xtest, ytest)*100]\n",
    "})\n",
    "res.head()"
   ]
  },
  {
   "cell_type": "markdown",
   "id": "568a7455",
   "metadata": {
    "papermill": {
     "duration": null,
     "end_time": null,
     "exception": null,
     "start_time": null,
     "status": "pending"
    },
    "tags": []
   },
   "source": [
    "## Final Result - For All Data in Dataset:"
   ]
  },
  {
   "cell_type": "code",
   "execution_count": null,
   "id": "cbf397ed",
   "metadata": {
    "execution": {
     "iopub.execute_input": "2023-08-27T12:06:07.969574Z",
     "iopub.status.busy": "2023-08-27T12:06:07.969198Z",
     "iopub.status.idle": "2023-08-27T12:06:08.409986Z",
     "shell.execute_reply": "2023-08-27T12:06:08.408337Z",
     "shell.execute_reply.started": "2023-08-27T12:06:07.969541Z"
    },
    "papermill": {
     "duration": null,
     "end_time": null,
     "exception": null,
     "start_time": null,
     "status": "pending"
    },
    "tags": []
   },
   "outputs": [],
   "source": [
    "res = pd.DataFrame({\n",
    "    'Models Used': ['LogisticRegression', \n",
    "                    'KNN Classification', \n",
    "                    'Support Vector Machine', \n",
    "                    'Majority Voting'],\n",
    "    'All Data Accuracy': [logistic_regression_pipe.score(features, labels)*100,\n",
    "                             knn_pipeline.score(features, labels)*100,\n",
    "                             svm_pipeline.score(features, labels)*100,\n",
    "                             majority_vote.score(features, labels)*100]\n",
    "})\n",
    "res.head()"
   ]
  },
  {
   "cell_type": "code",
   "execution_count": null,
   "id": "5494f9ac",
   "metadata": {
    "papermill": {
     "duration": null,
     "end_time": null,
     "exception": null,
     "start_time": null,
     "status": "pending"
    },
    "tags": []
   },
   "outputs": [],
   "source": []
  }
 ],
 "metadata": {
  "kernelspec": {
   "display_name": "Python 3",
   "language": "python",
   "name": "python3"
  },
  "language_info": {
   "codemirror_mode": {
    "name": "ipython",
    "version": 3
   },
   "file_extension": ".py",
   "mimetype": "text/x-python",
   "name": "python",
   "nbconvert_exporter": "python",
   "pygments_lexer": "ipython3",
   "version": "3.10.12"
  },
  "papermill": {
   "default_parameters": {},
   "duration": 45.667524,
   "end_time": "2023-08-27T12:07:18.445940",
   "environment_variables": {},
   "exception": true,
   "input_path": "__notebook__.ipynb",
   "output_path": "__notebook__.ipynb",
   "parameters": {},
   "start_time": "2023-08-27T12:06:32.778416",
   "version": "2.4.0"
  }
 },
 "nbformat": 4,
 "nbformat_minor": 5
}
