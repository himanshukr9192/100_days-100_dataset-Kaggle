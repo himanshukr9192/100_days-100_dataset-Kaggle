{
 "cells": [
  {
   "cell_type": "markdown",
   "id": "8bfb2a2e",
   "metadata": {
    "_cell_guid": "b1076dfc-b9ad-4769-8c92-a6c4dae69d19",
    "_uuid": "8f2839f25d086af736a60e9eeb907d3b93b6e0e5",
    "papermill": {
     "duration": 0.008791,
     "end_time": "2023-07-16T09:08:38.122206",
     "exception": false,
     "start_time": "2023-07-16T09:08:38.113415",
     "status": "completed"
    },
    "tags": []
   },
   "source": [
    "# ****Classification using Keras CNN"
   ]
  },
  {
   "cell_type": "code",
   "execution_count": 1,
   "id": "8fbe6680",
   "metadata": {
    "execution": {
     "iopub.execute_input": "2023-07-16T09:08:38.140317Z",
     "iopub.status.busy": "2023-07-16T09:08:38.139886Z",
     "iopub.status.idle": "2023-07-16T09:08:48.630744Z",
     "shell.execute_reply": "2023-07-16T09:08:48.629219Z"
    },
    "papermill": {
     "duration": 10.503685,
     "end_time": "2023-07-16T09:08:48.634086",
     "exception": false,
     "start_time": "2023-07-16T09:08:38.130401",
     "status": "completed"
    },
    "tags": []
   },
   "outputs": [
    {
     "name": "stderr",
     "output_type": "stream",
     "text": [
      "/opt/conda/lib/python3.10/site-packages/scipy/__init__.py:146: UserWarning: A NumPy version >=1.16.5 and <1.23.0 is required for this version of SciPy (detected version 1.23.5\n",
      "  warnings.warn(f\"A NumPy version >={np_minversion} and <{np_maxversion}\"\n",
      "/opt/conda/lib/python3.10/site-packages/tensorflow_io/python/ops/__init__.py:98: UserWarning: unable to load libtensorflow_io_plugins.so: unable to open file: libtensorflow_io_plugins.so, from paths: ['/opt/conda/lib/python3.10/site-packages/tensorflow_io/python/ops/libtensorflow_io_plugins.so']\n",
      "caused by: ['/opt/conda/lib/python3.10/site-packages/tensorflow_io/python/ops/libtensorflow_io_plugins.so: undefined symbol: _ZN3tsl6StatusC1EN10tensorflow5error4CodeESt17basic_string_viewIcSt11char_traitsIcEENS_14SourceLocationE']\n",
      "  warnings.warn(f\"unable to load libtensorflow_io_plugins.so: {e}\")\n",
      "/opt/conda/lib/python3.10/site-packages/tensorflow_io/python/ops/__init__.py:104: UserWarning: file system plugins are not loaded: unable to open file: libtensorflow_io.so, from paths: ['/opt/conda/lib/python3.10/site-packages/tensorflow_io/python/ops/libtensorflow_io.so']\n",
      "caused by: ['/opt/conda/lib/python3.10/site-packages/tensorflow_io/python/ops/libtensorflow_io.so: undefined symbol: _ZTVN10tensorflow13GcsFileSystemE']\n",
      "  warnings.warn(f\"file system plugins are not loaded: {e}\")\n"
     ]
    },
    {
     "name": "stdout",
     "output_type": "stream",
     "text": [
      "/kaggle/input/digit-recognizer/sample_submission.csv\n",
      "/kaggle/input/digit-recognizer/train.csv\n",
      "/kaggle/input/digit-recognizer/test.csv\n"
     ]
    }
   ],
   "source": [
    "import numpy as np # linear algebra\n",
    "import pandas as pd # data processing, CSV file I/O (e.g. pd.read_csv)\n",
    "import tensorflow as tf\n",
    "from tensorflow.keras.preprocessing.image import array_to_img, img_to_array, ImageDataGenerator\n",
    "import cv2 as cv\n",
    "import matplotlib.pyplot as plt\n",
    "%matplotlib inline\n",
    "\n",
    "import os\n",
    "for dirname, _, filenames in os.walk('/kaggle/input'):\n",
    "    for filename in filenames:\n",
    "        print(os.path.join(dirname, filename))\n",
    "\n"
   ]
  },
  {
   "cell_type": "markdown",
   "id": "93d39e0e",
   "metadata": {
    "papermill": {
     "duration": 0.008285,
     "end_time": "2023-07-16T09:08:48.651155",
     "exception": false,
     "start_time": "2023-07-16T09:08:48.642870",
     "status": "completed"
    },
    "tags": []
   },
   "source": [
    "### Reading the data"
   ]
  },
  {
   "cell_type": "code",
   "execution_count": 2,
   "id": "406cb495",
   "metadata": {
    "_cell_guid": "79c7e3d0-c299-4dcb-8224-4455121ee9b0",
    "_uuid": "d629ff2d2480ee46fbb7e2d37f6b5fab8052498a",
    "execution": {
     "iopub.execute_input": "2023-07-16T09:08:48.671097Z",
     "iopub.status.busy": "2023-07-16T09:08:48.670115Z",
     "iopub.status.idle": "2023-07-16T09:08:53.777874Z",
     "shell.execute_reply": "2023-07-16T09:08:53.776472Z"
    },
    "papermill": {
     "duration": 5.122074,
     "end_time": "2023-07-16T09:08:53.781640",
     "exception": false,
     "start_time": "2023-07-16T09:08:48.659566",
     "status": "completed"
    },
    "tags": []
   },
   "outputs": [
    {
     "data": {
      "text/html": [
       "<div>\n",
       "<style scoped>\n",
       "    .dataframe tbody tr th:only-of-type {\n",
       "        vertical-align: middle;\n",
       "    }\n",
       "\n",
       "    .dataframe tbody tr th {\n",
       "        vertical-align: top;\n",
       "    }\n",
       "\n",
       "    .dataframe thead th {\n",
       "        text-align: right;\n",
       "    }\n",
       "</style>\n",
       "<table border=\"1\" class=\"dataframe\">\n",
       "  <thead>\n",
       "    <tr style=\"text-align: right;\">\n",
       "      <th></th>\n",
       "      <th>label</th>\n",
       "      <th>pixel0</th>\n",
       "      <th>pixel1</th>\n",
       "      <th>pixel2</th>\n",
       "      <th>pixel3</th>\n",
       "      <th>pixel4</th>\n",
       "      <th>pixel5</th>\n",
       "      <th>pixel6</th>\n",
       "      <th>pixel7</th>\n",
       "      <th>pixel8</th>\n",
       "      <th>...</th>\n",
       "      <th>pixel774</th>\n",
       "      <th>pixel775</th>\n",
       "      <th>pixel776</th>\n",
       "      <th>pixel777</th>\n",
       "      <th>pixel778</th>\n",
       "      <th>pixel779</th>\n",
       "      <th>pixel780</th>\n",
       "      <th>pixel781</th>\n",
       "      <th>pixel782</th>\n",
       "      <th>pixel783</th>\n",
       "    </tr>\n",
       "  </thead>\n",
       "  <tbody>\n",
       "    <tr>\n",
       "      <th>0</th>\n",
       "      <td>1</td>\n",
       "      <td>0</td>\n",
       "      <td>0</td>\n",
       "      <td>0</td>\n",
       "      <td>0</td>\n",
       "      <td>0</td>\n",
       "      <td>0</td>\n",
       "      <td>0</td>\n",
       "      <td>0</td>\n",
       "      <td>0</td>\n",
       "      <td>...</td>\n",
       "      <td>0</td>\n",
       "      <td>0</td>\n",
       "      <td>0</td>\n",
       "      <td>0</td>\n",
       "      <td>0</td>\n",
       "      <td>0</td>\n",
       "      <td>0</td>\n",
       "      <td>0</td>\n",
       "      <td>0</td>\n",
       "      <td>0</td>\n",
       "    </tr>\n",
       "    <tr>\n",
       "      <th>1</th>\n",
       "      <td>0</td>\n",
       "      <td>0</td>\n",
       "      <td>0</td>\n",
       "      <td>0</td>\n",
       "      <td>0</td>\n",
       "      <td>0</td>\n",
       "      <td>0</td>\n",
       "      <td>0</td>\n",
       "      <td>0</td>\n",
       "      <td>0</td>\n",
       "      <td>...</td>\n",
       "      <td>0</td>\n",
       "      <td>0</td>\n",
       "      <td>0</td>\n",
       "      <td>0</td>\n",
       "      <td>0</td>\n",
       "      <td>0</td>\n",
       "      <td>0</td>\n",
       "      <td>0</td>\n",
       "      <td>0</td>\n",
       "      <td>0</td>\n",
       "    </tr>\n",
       "    <tr>\n",
       "      <th>2</th>\n",
       "      <td>1</td>\n",
       "      <td>0</td>\n",
       "      <td>0</td>\n",
       "      <td>0</td>\n",
       "      <td>0</td>\n",
       "      <td>0</td>\n",
       "      <td>0</td>\n",
       "      <td>0</td>\n",
       "      <td>0</td>\n",
       "      <td>0</td>\n",
       "      <td>...</td>\n",
       "      <td>0</td>\n",
       "      <td>0</td>\n",
       "      <td>0</td>\n",
       "      <td>0</td>\n",
       "      <td>0</td>\n",
       "      <td>0</td>\n",
       "      <td>0</td>\n",
       "      <td>0</td>\n",
       "      <td>0</td>\n",
       "      <td>0</td>\n",
       "    </tr>\n",
       "    <tr>\n",
       "      <th>3</th>\n",
       "      <td>4</td>\n",
       "      <td>0</td>\n",
       "      <td>0</td>\n",
       "      <td>0</td>\n",
       "      <td>0</td>\n",
       "      <td>0</td>\n",
       "      <td>0</td>\n",
       "      <td>0</td>\n",
       "      <td>0</td>\n",
       "      <td>0</td>\n",
       "      <td>...</td>\n",
       "      <td>0</td>\n",
       "      <td>0</td>\n",
       "      <td>0</td>\n",
       "      <td>0</td>\n",
       "      <td>0</td>\n",
       "      <td>0</td>\n",
       "      <td>0</td>\n",
       "      <td>0</td>\n",
       "      <td>0</td>\n",
       "      <td>0</td>\n",
       "    </tr>\n",
       "    <tr>\n",
       "      <th>4</th>\n",
       "      <td>0</td>\n",
       "      <td>0</td>\n",
       "      <td>0</td>\n",
       "      <td>0</td>\n",
       "      <td>0</td>\n",
       "      <td>0</td>\n",
       "      <td>0</td>\n",
       "      <td>0</td>\n",
       "      <td>0</td>\n",
       "      <td>0</td>\n",
       "      <td>...</td>\n",
       "      <td>0</td>\n",
       "      <td>0</td>\n",
       "      <td>0</td>\n",
       "      <td>0</td>\n",
       "      <td>0</td>\n",
       "      <td>0</td>\n",
       "      <td>0</td>\n",
       "      <td>0</td>\n",
       "      <td>0</td>\n",
       "      <td>0</td>\n",
       "    </tr>\n",
       "  </tbody>\n",
       "</table>\n",
       "<p>5 rows × 785 columns</p>\n",
       "</div>"
      ],
      "text/plain": [
       "   label  pixel0  pixel1  pixel2  pixel3  pixel4  pixel5  pixel6  pixel7  \\\n",
       "0      1       0       0       0       0       0       0       0       0   \n",
       "1      0       0       0       0       0       0       0       0       0   \n",
       "2      1       0       0       0       0       0       0       0       0   \n",
       "3      4       0       0       0       0       0       0       0       0   \n",
       "4      0       0       0       0       0       0       0       0       0   \n",
       "\n",
       "   pixel8  ...  pixel774  pixel775  pixel776  pixel777  pixel778  pixel779  \\\n",
       "0       0  ...         0         0         0         0         0         0   \n",
       "1       0  ...         0         0         0         0         0         0   \n",
       "2       0  ...         0         0         0         0         0         0   \n",
       "3       0  ...         0         0         0         0         0         0   \n",
       "4       0  ...         0         0         0         0         0         0   \n",
       "\n",
       "   pixel780  pixel781  pixel782  pixel783  \n",
       "0         0         0         0         0  \n",
       "1         0         0         0         0  \n",
       "2         0         0         0         0  \n",
       "3         0         0         0         0  \n",
       "4         0         0         0         0  \n",
       "\n",
       "[5 rows x 785 columns]"
      ]
     },
     "execution_count": 2,
     "metadata": {},
     "output_type": "execute_result"
    }
   ],
   "source": [
    "train_data = pd.read_csv ('/kaggle/input/digit-recognizer/train.csv')\n",
    "train_data.head()"
   ]
  },
  {
   "cell_type": "markdown",
   "id": "580ff47e",
   "metadata": {
    "papermill": {
     "duration": 0.009146,
     "end_time": "2023-07-16T09:08:53.801800",
     "exception": false,
     "start_time": "2023-07-16T09:08:53.792654",
     "status": "completed"
    },
    "tags": []
   },
   "source": [
    "### From CSV data to Images\n"
   ]
  },
  {
   "cell_type": "code",
   "execution_count": 3,
   "id": "1f66534c",
   "metadata": {
    "execution": {
     "iopub.execute_input": "2023-07-16T09:08:53.823572Z",
     "iopub.status.busy": "2023-07-16T09:08:53.822487Z",
     "iopub.status.idle": "2023-07-16T09:08:59.601409Z",
     "shell.execute_reply": "2023-07-16T09:08:59.599739Z"
    },
    "papermill": {
     "duration": 5.793392,
     "end_time": "2023-07-16T09:08:59.604486",
     "exception": false,
     "start_time": "2023-07-16T09:08:53.811094",
     "status": "completed"
    },
    "tags": []
   },
   "outputs": [
    {
     "name": "stdout",
     "output_type": "stream",
     "text": [
      "[1 0 1 ... 7 6 9]\n"
     ]
    }
   ],
   "source": [
    "from keras.utils import to_categorical\n",
    "\n",
    "def extract_train_images(data):\n",
    "    \"\"\"\n",
    "    function to extract list 2d numpy arrays of images and numpy array of labels.\n",
    "    Input - DataFrame data\n",
    "    Output - list of 2D numpy arrays for images and 1d numpy array for labels\n",
    "    \n",
    "    \"\"\"\n",
    "    labels = np.array(data['label'])\n",
    "    \n",
    "    data = data.drop('label', axis = 'columns')\n",
    "    images_array = np.array(data)\n",
    "    \n",
    "    images_list = []\n",
    "    for image_arr in images_array:\n",
    "        images_list.append(np.array(np.array_split(image_arr, 28))[:,:,np.newaxis])\n",
    "    \n",
    "    return images_list, labels\n",
    "\n",
    "images_list, labels = extract_train_images(train_data)\n",
    "one_hot_labels = to_categorical(labels)\n",
    "print(labels)"
   ]
  },
  {
   "cell_type": "markdown",
   "id": "f8d87725",
   "metadata": {
    "papermill": {
     "duration": 0.008502,
     "end_time": "2023-07-16T09:08:59.621738",
     "exception": false,
     "start_time": "2023-07-16T09:08:59.613236",
     "status": "completed"
    },
    "tags": []
   },
   "source": [
    "# ****Visualizing the data"
   ]
  },
  {
   "cell_type": "code",
   "execution_count": 4,
   "id": "5184bca9",
   "metadata": {
    "execution": {
     "iopub.execute_input": "2023-07-16T09:08:59.641169Z",
     "iopub.status.busy": "2023-07-16T09:08:59.640672Z",
     "iopub.status.idle": "2023-07-16T09:09:02.394106Z",
     "shell.execute_reply": "2023-07-16T09:09:02.392861Z"
    },
    "papermill": {
     "duration": 2.769726,
     "end_time": "2023-07-16T09:09:02.400137",
     "exception": false,
     "start_time": "2023-07-16T09:08:59.630411",
     "status": "completed"
    },
    "tags": []
   },
   "outputs": [
    {
     "name": "stdout",
     "output_type": "stream",
     "text": [
      "Label: 1\n",
      "Label: 0\n",
      "Label: 1\n",
      "Label: 4\n",
      "Label: 0\n",
      "Label: 0\n",
      "Label: 7\n",
      "Label: 3\n",
      "Label: 5\n",
      "Label: 3\n",
      "Label: 8\n",
      "Label: 9\n",
      "Label: 1\n",
      "Label: 3\n",
      "Label: 3\n",
      "Label: 1\n"
     ]
    },
    {
     "data": {
      "image/png": "[encoded data removed]",
      "text/plain": [
       "<Figure size 800x800 with 16 Axes>"
      ]
     },
     "metadata": {},
     "output_type": "display_data"
    }
   ],
   "source": [
    "count = 1\n",
    "fig = plt.figure(figsize = (8,8))\n",
    "rows = 4\n",
    "columns = 4\n",
    "for image, label in zip(images_list, labels):\n",
    "    fig.add_subplot(rows, columns, count)\n",
    "    plt.imshow(image[:,:,0])\n",
    "    print('Label:',label)\n",
    "    count+=1\n",
    "    if count >16:\n",
    "        break\n",
    "fig.show()"
   ]
  },
  {
   "cell_type": "markdown",
   "id": "3aef8afe",
   "metadata": {
    "papermill": {
     "duration": 0.009973,
     "end_time": "2023-07-16T09:09:02.422060",
     "exception": false,
     "start_time": "2023-07-16T09:09:02.412087",
     "status": "completed"
    },
    "tags": []
   },
   "source": [
    "## using Image data generator "
   ]
  },
  {
   "cell_type": "code",
   "execution_count": 5,
   "id": "3d603a10",
   "metadata": {
    "execution": {
     "iopub.execute_input": "2023-07-16T09:09:02.445081Z",
     "iopub.status.busy": "2023-07-16T09:09:02.444609Z",
     "iopub.status.idle": "2023-07-16T09:09:02.644171Z",
     "shell.execute_reply": "2023-07-16T09:09:02.642744Z"
    },
    "papermill": {
     "duration": 0.215754,
     "end_time": "2023-07-16T09:09:02.647852",
     "exception": false,
     "start_time": "2023-07-16T09:09:02.432098",
     "status": "completed"
    },
    "tags": []
   },
   "outputs": [
    {
     "name": "stdout",
     "output_type": "stream",
     "text": [
      "(42000, 28, 28, 1)\n"
     ]
    }
   ],
   "source": [
    "#Training Data Generation\n",
    "train_gen = ImageDataGenerator(rescale = 1/255.)\n",
    "\n",
    "train_images = np.array(images_list)\n",
    "print(train_images.shape)\n",
    "\n",
    "train_generator = train_gen.flow(train_images, one_hot_labels, batch_size = 32)"
   ]
  },
  {
   "cell_type": "markdown",
   "id": "25bd5c23",
   "metadata": {
    "papermill": {
     "duration": 0.009702,
     "end_time": "2023-07-16T09:09:02.667799",
     "exception": false,
     "start_time": "2023-07-16T09:09:02.658097",
     "status": "completed"
    },
    "tags": []
   },
   "source": [
    "### Training data"
   ]
  },
  {
   "cell_type": "code",
   "execution_count": 6,
   "id": "34a1f441",
   "metadata": {
    "execution": {
     "iopub.execute_input": "2023-07-16T09:09:02.694775Z",
     "iopub.status.busy": "2023-07-16T09:09:02.694118Z",
     "iopub.status.idle": "2023-07-16T09:09:06.129169Z",
     "shell.execute_reply": "2023-07-16T09:09:06.127622Z"
    },
    "papermill": {
     "duration": 3.451905,
     "end_time": "2023-07-16T09:09:06.132150",
     "exception": false,
     "start_time": "2023-07-16T09:09:02.680245",
     "status": "completed"
    },
    "tags": []
   },
   "outputs": [
    {
     "data": {
      "text/html": [
       "<div>\n",
       "<style scoped>\n",
       "    .dataframe tbody tr th:only-of-type {\n",
       "        vertical-align: middle;\n",
       "    }\n",
       "\n",
       "    .dataframe tbody tr th {\n",
       "        vertical-align: top;\n",
       "    }\n",
       "\n",
       "    .dataframe thead th {\n",
       "        text-align: right;\n",
       "    }\n",
       "</style>\n",
       "<table border=\"1\" class=\"dataframe\">\n",
       "  <thead>\n",
       "    <tr style=\"text-align: right;\">\n",
       "      <th></th>\n",
       "      <th>pixel0</th>\n",
       "      <th>pixel1</th>\n",
       "      <th>pixel2</th>\n",
       "      <th>pixel3</th>\n",
       "      <th>pixel4</th>\n",
       "      <th>pixel5</th>\n",
       "      <th>pixel6</th>\n",
       "      <th>pixel7</th>\n",
       "      <th>pixel8</th>\n",
       "      <th>pixel9</th>\n",
       "      <th>...</th>\n",
       "      <th>pixel774</th>\n",
       "      <th>pixel775</th>\n",
       "      <th>pixel776</th>\n",
       "      <th>pixel777</th>\n",
       "      <th>pixel778</th>\n",
       "      <th>pixel779</th>\n",
       "      <th>pixel780</th>\n",
       "      <th>pixel781</th>\n",
       "      <th>pixel782</th>\n",
       "      <th>pixel783</th>\n",
       "    </tr>\n",
       "  </thead>\n",
       "  <tbody>\n",
       "    <tr>\n",
       "      <th>0</th>\n",
       "      <td>0</td>\n",
       "      <td>0</td>\n",
       "      <td>0</td>\n",
       "      <td>0</td>\n",
       "      <td>0</td>\n",
       "      <td>0</td>\n",
       "      <td>0</td>\n",
       "      <td>0</td>\n",
       "      <td>0</td>\n",
       "      <td>0</td>\n",
       "      <td>...</td>\n",
       "      <td>0</td>\n",
       "      <td>0</td>\n",
       "      <td>0</td>\n",
       "      <td>0</td>\n",
       "      <td>0</td>\n",
       "      <td>0</td>\n",
       "      <td>0</td>\n",
       "      <td>0</td>\n",
       "      <td>0</td>\n",
       "      <td>0</td>\n",
       "    </tr>\n",
       "    <tr>\n",
       "      <th>1</th>\n",
       "      <td>0</td>\n",
       "      <td>0</td>\n",
       "      <td>0</td>\n",
       "      <td>0</td>\n",
       "      <td>0</td>\n",
       "      <td>0</td>\n",
       "      <td>0</td>\n",
       "      <td>0</td>\n",
       "      <td>0</td>\n",
       "      <td>0</td>\n",
       "      <td>...</td>\n",
       "      <td>0</td>\n",
       "      <td>0</td>\n",
       "      <td>0</td>\n",
       "      <td>0</td>\n",
       "      <td>0</td>\n",
       "      <td>0</td>\n",
       "      <td>0</td>\n",
       "      <td>0</td>\n",
       "      <td>0</td>\n",
       "      <td>0</td>\n",
       "    </tr>\n",
       "    <tr>\n",
       "      <th>2</th>\n",
       "      <td>0</td>\n",
       "      <td>0</td>\n",
       "      <td>0</td>\n",
       "      <td>0</td>\n",
       "      <td>0</td>\n",
       "      <td>0</td>\n",
       "      <td>0</td>\n",
       "      <td>0</td>\n",
       "      <td>0</td>\n",
       "      <td>0</td>\n",
       "      <td>...</td>\n",
       "      <td>0</td>\n",
       "      <td>0</td>\n",
       "      <td>0</td>\n",
       "      <td>0</td>\n",
       "      <td>0</td>\n",
       "      <td>0</td>\n",
       "      <td>0</td>\n",
       "      <td>0</td>\n",
       "      <td>0</td>\n",
       "      <td>0</td>\n",
       "    </tr>\n",
       "    <tr>\n",
       "      <th>3</th>\n",
       "      <td>0</td>\n",
       "      <td>0</td>\n",
       "      <td>0</td>\n",
       "      <td>0</td>\n",
       "      <td>0</td>\n",
       "      <td>0</td>\n",
       "      <td>0</td>\n",
       "      <td>0</td>\n",
       "      <td>0</td>\n",
       "      <td>0</td>\n",
       "      <td>...</td>\n",
       "      <td>0</td>\n",
       "      <td>0</td>\n",
       "      <td>0</td>\n",
       "      <td>0</td>\n",
       "      <td>0</td>\n",
       "      <td>0</td>\n",
       "      <td>0</td>\n",
       "      <td>0</td>\n",
       "      <td>0</td>\n",
       "      <td>0</td>\n",
       "    </tr>\n",
       "    <tr>\n",
       "      <th>4</th>\n",
       "      <td>0</td>\n",
       "      <td>0</td>\n",
       "      <td>0</td>\n",
       "      <td>0</td>\n",
       "      <td>0</td>\n",
       "      <td>0</td>\n",
       "      <td>0</td>\n",
       "      <td>0</td>\n",
       "      <td>0</td>\n",
       "      <td>0</td>\n",
       "      <td>...</td>\n",
       "      <td>0</td>\n",
       "      <td>0</td>\n",
       "      <td>0</td>\n",
       "      <td>0</td>\n",
       "      <td>0</td>\n",
       "      <td>0</td>\n",
       "      <td>0</td>\n",
       "      <td>0</td>\n",
       "      <td>0</td>\n",
       "      <td>0</td>\n",
       "    </tr>\n",
       "  </tbody>\n",
       "</table>\n",
       "<p>5 rows × 784 columns</p>\n",
       "</div>"
      ],
      "text/plain": [
       "   pixel0  pixel1  pixel2  pixel3  pixel4  pixel5  pixel6  pixel7  pixel8  \\\n",
       "0       0       0       0       0       0       0       0       0       0   \n",
       "1       0       0       0       0       0       0       0       0       0   \n",
       "2       0       0       0       0       0       0       0       0       0   \n",
       "3       0       0       0       0       0       0       0       0       0   \n",
       "4       0       0       0       0       0       0       0       0       0   \n",
       "\n",
       "   pixel9  ...  pixel774  pixel775  pixel776  pixel777  pixel778  pixel779  \\\n",
       "0       0  ...         0         0         0         0         0         0   \n",
       "1       0  ...         0         0         0         0         0         0   \n",
       "2       0  ...         0         0         0         0         0         0   \n",
       "3       0  ...         0         0         0         0         0         0   \n",
       "4       0  ...         0         0         0         0         0         0   \n",
       "\n",
       "   pixel780  pixel781  pixel782  pixel783  \n",
       "0         0         0         0         0  \n",
       "1         0         0         0         0  \n",
       "2         0         0         0         0  \n",
       "3         0         0         0         0  \n",
       "4         0         0         0         0  \n",
       "\n",
       "[5 rows x 784 columns]"
      ]
     },
     "execution_count": 6,
     "metadata": {},
     "output_type": "execute_result"
    }
   ],
   "source": [
    "#Test/Validation dataset\n",
    "\n",
    "test_data = pd.read_csv ('/kaggle/input/digit-recognizer/test.csv')\n",
    "test_data.head()"
   ]
  },
  {
   "cell_type": "code",
   "execution_count": 7,
   "id": "8d32a50c",
   "metadata": {
    "execution": {
     "iopub.execute_input": "2023-07-16T09:09:06.155639Z",
     "iopub.status.busy": "2023-07-16T09:09:06.155171Z",
     "iopub.status.idle": "2023-07-16T09:09:09.955374Z",
     "shell.execute_reply": "2023-07-16T09:09:09.953438Z"
    },
    "papermill": {
     "duration": 3.815566,
     "end_time": "2023-07-16T09:09:09.958546",
     "exception": false,
     "start_time": "2023-07-16T09:09:06.142980",
     "status": "completed"
    },
    "tags": []
   },
   "outputs": [
    {
     "name": "stdout",
     "output_type": "stream",
     "text": [
      "(28000, 28, 28, 1)\n"
     ]
    }
   ],
   "source": [
    "def extract_test_images(data):\n",
    "    images_array = np.array(data)\n",
    "    \n",
    "    images_list = []\n",
    "    for image_arr in images_array:\n",
    "        images_list.append(np.array(np.array_split(image_arr, 28))[:,:,np.newaxis])\n",
    "    \n",
    "    return images_list\n",
    "\n",
    "test_images_list = extract_test_images(test_data)\n",
    "\n",
    "test_images = np.array(test_images_list)\n",
    "print(test_images.shape)"
   ]
  },
  {
   "cell_type": "markdown",
   "id": "08457962",
   "metadata": {
    "papermill": {
     "duration": 0.010652,
     "end_time": "2023-07-16T09:09:09.980412",
     "exception": false,
     "start_time": "2023-07-16T09:09:09.969760",
     "status": "completed"
    },
    "tags": []
   },
   "source": [
    "## Using Keras Structure"
   ]
  },
  {
   "cell_type": "code",
   "execution_count": 8,
   "id": "27142f70",
   "metadata": {
    "execution": {
     "iopub.execute_input": "2023-07-16T09:09:10.004964Z",
     "iopub.status.busy": "2023-07-16T09:09:10.004035Z",
     "iopub.status.idle": "2023-07-16T09:09:10.291172Z",
     "shell.execute_reply": "2023-07-16T09:09:10.289923Z"
    },
    "papermill": {
     "duration": 0.303282,
     "end_time": "2023-07-16T09:09:10.294269",
     "exception": false,
     "start_time": "2023-07-16T09:09:09.990987",
     "status": "completed"
    },
    "tags": []
   },
   "outputs": [],
   "source": [
    "# Model Definition\n",
    "\n",
    "from tensorflow.keras.layers import Dense, Flatten, Conv2D, MaxPooling2D\n",
    "\n",
    "model = tf.keras.Sequential([\n",
    "    Conv2D(32, kernel_size = (3,3), input_shape = (28,28,1), activation = 'relu'),\n",
    "    MaxPooling2D(2,2),\n",
    "    Conv2D(64, kernel_size = (3,3), activation = 'relu'),\n",
    "    MaxPooling2D(2,2),\n",
    "    Flatten(),\n",
    "    Dense(128, activation = 'relu'),\n",
    "    Dense(28, activation = 'relu'),\n",
    "    Dense(10, activation = 'softmax')\n",
    "])\n",
    "\n",
    "model.compile(optimizer = 'rmsprop',\n",
    "             loss = 'categorical_crossentropy',\n",
    "             metrics = ['accuracy'])"
   ]
  },
  {
   "cell_type": "markdown",
   "id": "bc6746d4",
   "metadata": {
    "papermill": {
     "duration": 0.010298,
     "end_time": "2023-07-16T09:09:10.315344",
     "exception": false,
     "start_time": "2023-07-16T09:09:10.305046",
     "status": "completed"
    },
    "tags": []
   },
   "source": [
    "Here I will define callback function that will be called after every epoch on training dataset. I am forcing an early stopping if accuracy will reach 100% using this callback"
   ]
  },
  {
   "cell_type": "code",
   "execution_count": 9,
   "id": "766454d5",
   "metadata": {
    "execution": {
     "iopub.execute_input": "2023-07-16T09:09:10.339924Z",
     "iopub.status.busy": "2023-07-16T09:09:10.339437Z",
     "iopub.status.idle": "2023-07-16T09:09:10.346837Z",
     "shell.execute_reply": "2023-07-16T09:09:10.345541Z"
    },
    "papermill": {
     "duration": 0.022907,
     "end_time": "2023-07-16T09:09:10.349267",
     "exception": false,
     "start_time": "2023-07-16T09:09:10.326360",
     "status": "completed"
    },
    "tags": []
   },
   "outputs": [],
   "source": [
    "import keras\n",
    "\n",
    "class myCallBack(keras.callbacks.Callback):\n",
    "    def on_epoch_end(self, epoch, logs={}):\n",
    "        acc = logs.get('accuracy')\n",
    "        if acc >= 1.0:\n",
    "            print(\"\\nRequired accuracy achieved so ending the training.\")\n",
    "            self.model.stop_training=True\n",
    "\n",
    "call_back = myCallBack()"
   ]
  },
  {
   "cell_type": "markdown",
   "id": "af8374a0",
   "metadata": {
    "papermill": {
     "duration": 0.010257,
     "end_time": "2023-07-16T09:09:10.370058",
     "exception": false,
     "start_time": "2023-07-16T09:09:10.359801",
     "status": "completed"
    },
    "tags": []
   },
   "source": [
    "### Training of model on 10 epochs"
   ]
  },
  {
   "cell_type": "code",
   "execution_count": 10,
   "id": "09919e5b",
   "metadata": {
    "execution": {
     "iopub.execute_input": "2023-07-16T09:09:10.393655Z",
     "iopub.status.busy": "2023-07-16T09:09:10.393219Z",
     "iopub.status.idle": "2023-07-16T09:15:08.874289Z",
     "shell.execute_reply": "2023-07-16T09:15:08.872566Z"
    },
    "papermill": {
     "duration": 358.4965,
     "end_time": "2023-07-16T09:15:08.877438",
     "exception": false,
     "start_time": "2023-07-16T09:09:10.380938",
     "status": "completed"
    },
    "tags": []
   },
   "outputs": [
    {
     "name": "stdout",
     "output_type": "stream",
     "text": [
      "Epoch 1/10\n"
     ]
    },
    {
     "name": "stderr",
     "output_type": "stream",
     "text": [
      "/tmp/ipykernel_20/3078360242.py:4: UserWarning: `Model.fit_generator` is deprecated and will be removed in a future version. Please use `Model.fit`, which supports generators.\n",
      "  history = model.fit_generator(train_generator,\n"
     ]
    },
    {
     "name": "stdout",
     "output_type": "stream",
     "text": [
      "1312/1312 [==============================] - 29s 21ms/step - loss: 0.1881 - accuracy: 0.9424\n",
      "Epoch 2/10\n",
      "1312/1312 [==============================] - 28s 21ms/step - loss: 0.0520 - accuracy: 0.9841\n",
      "Epoch 3/10\n",
      "1312/1312 [==============================] - 28s 21ms/step - loss: 0.0360 - accuracy: 0.9891\n",
      "Epoch 4/10\n",
      "1312/1312 [==============================] - 28s 21ms/step - loss: 0.0261 - accuracy: 0.9922\n",
      "Epoch 5/10\n",
      "1312/1312 [==============================] - 27s 21ms/step - loss: 0.0202 - accuracy: 0.9939\n",
      "Epoch 6/10\n",
      "1312/1312 [==============================] - 28s 21ms/step - loss: 0.0158 - accuracy: 0.9952\n",
      "Epoch 7/10\n",
      "1312/1312 [==============================] - 28s 21ms/step - loss: 0.0120 - accuracy: 0.9964\n",
      "Epoch 8/10\n",
      "1312/1312 [==============================] - 28s 21ms/step - loss: 0.0106 - accuracy: 0.9969\n",
      "Epoch 9/10\n",
      "1312/1312 [==============================] - 28s 21ms/step - loss: 0.0086 - accuracy: 0.9973\n",
      "Epoch 10/10\n",
      "1312/1312 [==============================] - 28s 21ms/step - loss: 0.0061 - accuracy: 0.9985\n"
     ]
    }
   ],
   "source": [
    "BS = 32\n",
    "EPOCHS = 10\n",
    "\n",
    "history = model.fit_generator(train_generator,\n",
    "                              steps_per_epoch=train_images.shape[0] // BS,\n",
    "                              epochs=EPOCHS,\n",
    "                              callbacks = [call_back])"
   ]
  },
  {
   "cell_type": "code",
   "execution_count": 11,
   "id": "7ed29e70",
   "metadata": {
    "execution": {
     "iopub.execute_input": "2023-07-16T09:15:09.732869Z",
     "iopub.status.busy": "2023-07-16T09:15:09.731557Z",
     "iopub.status.idle": "2023-07-16T09:15:09.780167Z",
     "shell.execute_reply": "2023-07-16T09:15:09.778424Z"
    },
    "papermill": {
     "duration": 0.478096,
     "end_time": "2023-07-16T09:15:09.783468",
     "exception": false,
     "start_time": "2023-07-16T09:15:09.305372",
     "status": "completed"
    },
    "tags": []
   },
   "outputs": [],
   "source": [
    "model.save('digit_recognizer.h5')"
   ]
  },
  {
   "cell_type": "code",
   "execution_count": 12,
   "id": "022b1b03",
   "metadata": {
    "execution": {
     "iopub.execute_input": "2023-07-16T09:15:10.643792Z",
     "iopub.status.busy": "2023-07-16T09:15:10.641528Z",
     "iopub.status.idle": "2023-07-16T09:15:10.678710Z",
     "shell.execute_reply": "2023-07-16T09:15:10.677097Z"
    },
    "papermill": {
     "duration": 0.473129,
     "end_time": "2023-07-16T09:15:10.683832",
     "exception": false,
     "start_time": "2023-07-16T09:15:10.210703",
     "status": "completed"
    },
    "tags": []
   },
   "outputs": [
    {
     "name": "stdout",
     "output_type": "stream",
     "text": [
      "Model: \"sequential\"\n",
      "_________________________________________________________________\n",
      " Layer (type)                Output Shape              Param #   \n",
      "=================================================================\n",
      " conv2d (Conv2D)             (None, 26, 26, 32)        320       \n",
      "                                                                 \n",
      " max_pooling2d (MaxPooling2D  (None, 13, 13, 32)       0         \n",
      " )                                                               \n",
      "                                                                 \n",
      " conv2d_1 (Conv2D)           (None, 11, 11, 64)        18496     \n",
      "                                                                 \n",
      " max_pooling2d_1 (MaxPooling  (None, 5, 5, 64)         0         \n",
      " 2D)                                                             \n",
      "                                                                 \n",
      " flatten (Flatten)           (None, 1600)              0         \n",
      "                                                                 \n",
      " dense (Dense)               (None, 128)               204928    \n",
      "                                                                 \n",
      " dense_1 (Dense)             (None, 28)                3612      \n",
      "                                                                 \n",
      " dense_2 (Dense)             (None, 10)                290       \n",
      "                                                                 \n",
      "=================================================================\n",
      "Total params: 227,646\n",
      "Trainable params: 227,646\n",
      "Non-trainable params: 0\n",
      "_________________________________________________________________\n"
     ]
    }
   ],
   "source": [
    "model.summary()"
   ]
  },
  {
   "cell_type": "markdown",
   "id": "f3234069",
   "metadata": {
    "papermill": {
     "duration": 0.50381,
     "end_time": "2023-07-16T09:15:11.616372",
     "exception": false,
     "start_time": "2023-07-16T09:15:11.112562",
     "status": "completed"
    },
    "tags": []
   },
   "source": [
    "# ###using softmax activation "
   ]
  },
  {
   "cell_type": "code",
   "execution_count": 13,
   "id": "7bc536dd",
   "metadata": {
    "execution": {
     "iopub.execute_input": "2023-07-16T09:15:12.474145Z",
     "iopub.status.busy": "2023-07-16T09:15:12.473651Z",
     "iopub.status.idle": "2023-07-16T09:15:12.480624Z",
     "shell.execute_reply": "2023-07-16T09:15:12.479113Z"
    },
    "papermill": {
     "duration": 0.439011,
     "end_time": "2023-07-16T09:15:12.483291",
     "exception": false,
     "start_time": "2023-07-16T09:15:12.044280",
     "status": "completed"
    },
    "tags": []
   },
   "outputs": [],
   "source": [
    "def onehot_to_label(vec):\n",
    "    \"\"\"\n",
    "    function will convert one hot vector of model output into a single label\n",
    "    \"\"\"\n",
    "    count=0\n",
    "    for number in vec[0]:\n",
    "        if number == 1:\n",
    "            return count\n",
    "        count+=1\n",
    "    return -1"
   ]
  },
  {
   "cell_type": "markdown",
   "id": "692b23be",
   "metadata": {
    "papermill": {
     "duration": 0.426515,
     "end_time": "2023-07-16T09:15:13.332928",
     "exception": false,
     "start_time": "2023-07-16T09:15:12.906413",
     "status": "completed"
    },
    "tags": []
   },
   "source": [
    "### Visualization of images"
   ]
  },
  {
   "cell_type": "code",
   "execution_count": 14,
   "id": "16589bc5",
   "metadata": {
    "execution": {
     "iopub.execute_input": "2023-07-16T09:15:14.212592Z",
     "iopub.status.busy": "2023-07-16T09:15:14.212139Z",
     "iopub.status.idle": "2023-07-16T09:15:18.015463Z",
     "shell.execute_reply": "2023-07-16T09:15:18.014129Z"
    },
    "papermill": {
     "duration": 4.25862,
     "end_time": "2023-07-16T09:15:18.018318",
     "exception": false,
     "start_time": "2023-07-16T09:15:13.759698",
     "status": "completed"
    },
    "tags": []
   },
   "outputs": [
    {
     "name": "stdout",
     "output_type": "stream",
     "text": [
      "1/1 [==============================] - 0s 159ms/step\n",
      "2\n",
      "1/1 [==============================] - 0s 26ms/step\n",
      "0\n",
      "1/1 [==============================] - 0s 24ms/step\n",
      "9\n",
      "1/1 [==============================] - 0s 26ms/step\n",
      "0\n",
      "1/1 [==============================] - 0s 26ms/step\n",
      "3\n",
      "1/1 [==============================] - 0s 24ms/step\n",
      "7\n",
      "1/1 [==============================] - 0s 24ms/step\n",
      "0\n",
      "1/1 [==============================] - 0s 25ms/step\n",
      "3\n",
      "1/1 [==============================] - 0s 28ms/step\n",
      "0\n",
      "1/1 [==============================] - 0s 24ms/step\n",
      "3\n",
      "1/1 [==============================] - 0s 27ms/step\n",
      "5\n",
      "1/1 [==============================] - 0s 25ms/step\n",
      "7\n",
      "1/1 [==============================] - 0s 25ms/step\n",
      "4\n",
      "1/1 [==============================] - 0s 26ms/step\n",
      "0\n",
      "1/1 [==============================] - 0s 26ms/step\n",
      "4\n",
      "1/1 [==============================] - 0s 23ms/step\n",
      "3\n"
     ]
    },
    {
     "data": {
      "image/png": "[encoded data removed]",
      "text/plain": [
       "<Figure size 800x800 with 16 Axes>"
      ]
     },
     "metadata": {},
     "output_type": "display_data"
    }
   ],
   "source": [
    "count = 1\n",
    "fig = plt.figure(figsize = (8,8))\n",
    "rows = 4\n",
    "columns = 4\n",
    "for image in test_images:\n",
    "    fig.add_subplot(rows, columns, count)\n",
    "    plt.imshow(image[:,:,0])\n",
    "    print(onehot_to_label(model.predict(image.reshape(1,28,28,1))))\n",
    "    count+=1\n",
    "    if count >16:\n",
    "        break\n",
    "fig.show()"
   ]
  },
  {
   "cell_type": "code",
   "execution_count": null,
   "id": "ecdd3207",
   "metadata": {
    "papermill": {
     "duration": 0.42779,
     "end_time": "2023-07-16T09:15:18.981743",
     "exception": false,
     "start_time": "2023-07-16T09:15:18.553953",
     "status": "completed"
    },
    "tags": []
   },
   "outputs": [],
   "source": []
  }
 ],
 "metadata": {
  "kernelspec": {
   "display_name": "Python 3",
   "language": "python",
   "name": "python3"
  },
  "language_info": {
   "codemirror_mode": {
    "name": "ipython",
    "version": 3
   },
   "file_extension": ".py",
   "mimetype": "text/x-python",
   "name": "python",
   "nbconvert_exporter": "python",
   "pygments_lexer": "ipython3",
   "version": "3.10.12"
  },
  "papermill": {
   "default_parameters": {},
   "duration": 417.319436,
   "end_time": "2023-07-16T09:15:22.407227",
   "environment_variables": {},
   "exception": null,
   "input_path": "__notebook__.ipynb",
   "output_path": "__notebook__.ipynb",
   "parameters": {},
   "start_time": "2023-07-16T09:08:25.087791",
   "version": "2.4.0"
  }
 },
 "nbformat": 4,
 "nbformat_minor": 5
}
