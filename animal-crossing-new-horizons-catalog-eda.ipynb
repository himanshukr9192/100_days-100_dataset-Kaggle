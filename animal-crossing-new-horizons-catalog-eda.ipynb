{
 "cells": [
  {
   "cell_type": "code",
   "execution_count": 1,
   "id": "c94c7ca3",
   "metadata": {
    "_cell_guid": "b1076dfc-b9ad-4769-8c92-a6c4dae69d19",
    "_uuid": "8f2839f25d086af736a60e9eeb907d3b93b6e0e5",
    "execution": {
     "iopub.execute_input": "2023-10-20T13:26:46.857414Z",
     "iopub.status.busy": "2023-10-20T13:26:46.856681Z",
     "iopub.status.idle": "2023-10-20T13:26:47.967283Z",
     "shell.execute_reply": "2023-10-20T13:26:47.965831Z"
    },
    "papermill": {
     "duration": 1.120218,
     "end_time": "2023-10-20T13:26:47.969977",
     "exception": false,
     "start_time": "2023-10-20T13:26:46.849759",
     "status": "completed"
    },
    "tags": []
   },
   "outputs": [],
   "source": [
    "## Initialising libraries\n",
    "import numpy as np\n",
    "import pandas as pd\n",
    "import plotly.express as px\n",
    "import plotly.graph_objects as go"
   ]
  },
  {
   "cell_type": "code",
   "execution_count": 2,
   "id": "51725303",
   "metadata": {
    "execution": {
     "iopub.execute_input": "2023-10-20T13:26:47.982827Z",
     "iopub.status.busy": "2023-10-20T13:26:47.981580Z",
     "iopub.status.idle": "2023-10-20T13:26:48.027710Z",
     "shell.execute_reply": "2023-10-20T13:26:48.026549Z"
    },
    "papermill": {
     "duration": 0.055333,
     "end_time": "2023-10-20T13:26:48.030579",
     "exception": false,
     "start_time": "2023-10-20T13:26:47.975246",
     "status": "completed"
    },
    "tags": []
   },
   "outputs": [],
   "source": [
    "## Import dataset\n",
    "villagers = pd.read_csv(\"/kaggle/input/animal-crossing-new-horizons-nookplaza-dataset/villagers.csv\")"
   ]
  },
  {
   "cell_type": "code",
   "execution_count": 3,
   "id": "acfa70c7",
   "metadata": {
    "execution": {
     "iopub.execute_input": "2023-10-20T13:26:48.042059Z",
     "iopub.status.busy": "2023-10-20T13:26:48.041699Z",
     "iopub.status.idle": "2023-10-20T13:26:48.074408Z",
     "shell.execute_reply": "2023-10-20T13:26:48.073566Z"
    },
    "papermill": {
     "duration": 0.041771,
     "end_time": "2023-10-20T13:26:48.077311",
     "exception": false,
     "start_time": "2023-10-20T13:26:48.035540",
     "status": "completed"
    },
    "tags": []
   },
   "outputs": [
    {
     "name": "stdout",
     "output_type": "stream",
     "text": [
      "<class 'pandas.core.frame.DataFrame'>\n",
      "RangeIndex: 391 entries, 0 to 390\n",
      "Data columns (total 17 columns):\n",
      " #   Column           Non-Null Count  Dtype \n",
      "---  ------           --------------  ----- \n",
      " 0   Name             391 non-null    object\n",
      " 1   Species          391 non-null    object\n",
      " 2   Gender           391 non-null    object\n",
      " 3   Personality      391 non-null    object\n",
      " 4   Hobby            391 non-null    object\n",
      " 5   Birthday         391 non-null    object\n",
      " 6   Catchphrase      391 non-null    object\n",
      " 7   Favorite Song    391 non-null    object\n",
      " 8   Style 1          391 non-null    object\n",
      " 9   Style 2          391 non-null    object\n",
      " 10  Color 1          391 non-null    object\n",
      " 11  Color 2          391 non-null    object\n",
      " 12  Wallpaper        391 non-null    object\n",
      " 13  Flooring         391 non-null    object\n",
      " 14  Furniture List   391 non-null    object\n",
      " 15  Filename         391 non-null    object\n",
      " 16  Unique Entry ID  391 non-null    object\n",
      "dtypes: object(17)\n",
      "memory usage: 52.1+ KB\n"
     ]
    }
   ],
   "source": [
    "## Checking the dataset\n",
    "villagers.info()"
   ]
  },
  {
   "cell_type": "code",
   "execution_count": 4,
   "id": "39d31240",
   "metadata": {
    "execution": {
     "iopub.execute_input": "2023-10-20T13:26:48.089436Z",
     "iopub.status.busy": "2023-10-20T13:26:48.088649Z",
     "iopub.status.idle": "2023-10-20T13:26:48.110583Z",
     "shell.execute_reply": "2023-10-20T13:26:48.109765Z"
    },
    "papermill": {
     "duration": 0.030021,
     "end_time": "2023-10-20T13:26:48.112458",
     "exception": false,
     "start_time": "2023-10-20T13:26:48.082437",
     "status": "completed"
    },
    "tags": []
   },
   "outputs": [
    {
     "data": {
      "text/html": [
       "<div>\n",
       "<style scoped>\n",
       "    .dataframe tbody tr th:only-of-type {\n",
       "        vertical-align: middle;\n",
       "    }\n",
       "\n",
       "    .dataframe tbody tr th {\n",
       "        vertical-align: top;\n",
       "    }\n",
       "\n",
       "    .dataframe thead th {\n",
       "        text-align: right;\n",
       "    }\n",
       "</style>\n",
       "<table border=\"1\" class=\"dataframe\">\n",
       "  <thead>\n",
       "    <tr style=\"text-align: right;\">\n",
       "      <th></th>\n",
       "      <th>Name</th>\n",
       "      <th>Species</th>\n",
       "      <th>Gender</th>\n",
       "      <th>Personality</th>\n",
       "      <th>Hobby</th>\n",
       "      <th>Birthday</th>\n",
       "      <th>Catchphrase</th>\n",
       "      <th>Favorite Song</th>\n",
       "      <th>Style 1</th>\n",
       "      <th>Style 2</th>\n",
       "      <th>Color 1</th>\n",
       "      <th>Color 2</th>\n",
       "      <th>Wallpaper</th>\n",
       "      <th>Flooring</th>\n",
       "      <th>Furniture List</th>\n",
       "      <th>Filename</th>\n",
       "      <th>Unique Entry ID</th>\n",
       "    </tr>\n",
       "  </thead>\n",
       "  <tbody>\n",
       "    <tr>\n",
       "      <th>0</th>\n",
       "      <td>Admiral</td>\n",
       "      <td>Bird</td>\n",
       "      <td>Male</td>\n",
       "      <td>Cranky</td>\n",
       "      <td>Nature</td>\n",
       "      <td>27-Jan</td>\n",
       "      <td>aye aye</td>\n",
       "      <td>Steep Hill</td>\n",
       "      <td>Cool</td>\n",
       "      <td>Cool</td>\n",
       "      <td>Black</td>\n",
       "      <td>Blue</td>\n",
       "      <td>dirt-clod wall</td>\n",
       "      <td>tatami</td>\n",
       "      <td>717;1849;7047;2736;787;5970;3449;3622;3802;410...</td>\n",
       "      <td>brd06</td>\n",
       "      <td>B3RyfNEqwGmcccRC3</td>\n",
       "    </tr>\n",
       "    <tr>\n",
       "      <th>1</th>\n",
       "      <td>Agent S</td>\n",
       "      <td>Squirrel</td>\n",
       "      <td>Female</td>\n",
       "      <td>Peppy</td>\n",
       "      <td>Fitness</td>\n",
       "      <td>2-Jul</td>\n",
       "      <td>sidekick</td>\n",
       "      <td>Go K.K. Rider</td>\n",
       "      <td>Active</td>\n",
       "      <td>Simple</td>\n",
       "      <td>Blue</td>\n",
       "      <td>Black</td>\n",
       "      <td>concrete wall</td>\n",
       "      <td>colorful tile flooring</td>\n",
       "      <td>7845;7150;3468;4080;290;3971;3449;1708;4756;25...</td>\n",
       "      <td>squ05</td>\n",
       "      <td>SGMdki6dzpDZyXAw5</td>\n",
       "    </tr>\n",
       "    <tr>\n",
       "      <th>2</th>\n",
       "      <td>Agnes</td>\n",
       "      <td>Pig</td>\n",
       "      <td>Female</td>\n",
       "      <td>Big Sister</td>\n",
       "      <td>Play</td>\n",
       "      <td>21-Apr</td>\n",
       "      <td>snuffle</td>\n",
       "      <td>K.K. House</td>\n",
       "      <td>Simple</td>\n",
       "      <td>Elegant</td>\n",
       "      <td>Pink</td>\n",
       "      <td>White</td>\n",
       "      <td>gray molded-panel wall</td>\n",
       "      <td>arabesque flooring</td>\n",
       "      <td>4129;7236;7235;7802;896;3428;4027;7325;3958;71...</td>\n",
       "      <td>pig17</td>\n",
       "      <td>jzWCiDPm9MqtCfecP</td>\n",
       "    </tr>\n",
       "    <tr>\n",
       "      <th>3</th>\n",
       "      <td>Al</td>\n",
       "      <td>Gorilla</td>\n",
       "      <td>Male</td>\n",
       "      <td>Lazy</td>\n",
       "      <td>Fitness</td>\n",
       "      <td>18-Oct</td>\n",
       "      <td>ayyyeee</td>\n",
       "      <td>Go K.K. Rider</td>\n",
       "      <td>Active</td>\n",
       "      <td>Active</td>\n",
       "      <td>Red</td>\n",
       "      <td>White</td>\n",
       "      <td>concrete wall</td>\n",
       "      <td>green rubber flooring</td>\n",
       "      <td>1452;4078;4013;833;4116;3697;7845;3307;3946;39...</td>\n",
       "      <td>gor08</td>\n",
       "      <td>LBifxETQJGEaLhBjC</td>\n",
       "    </tr>\n",
       "    <tr>\n",
       "      <th>4</th>\n",
       "      <td>Alfonso</td>\n",
       "      <td>Alligator</td>\n",
       "      <td>Male</td>\n",
       "      <td>Lazy</td>\n",
       "      <td>Play</td>\n",
       "      <td>9-Jun</td>\n",
       "      <td>it'sa me</td>\n",
       "      <td>Forest Life</td>\n",
       "      <td>Simple</td>\n",
       "      <td>Simple</td>\n",
       "      <td>Red</td>\n",
       "      <td>Blue</td>\n",
       "      <td>yellow playroom wall</td>\n",
       "      <td>green honeycomb tile</td>\n",
       "      <td>4763;3205;3701;1557;3623;85;3208;3584;4761;121...</td>\n",
       "      <td>crd00</td>\n",
       "      <td>REpd8KxB8p9aGBRSE</td>\n",
       "    </tr>\n",
       "  </tbody>\n",
       "</table>\n",
       "</div>"
      ],
      "text/plain": [
       "      Name    Species  Gender Personality    Hobby Birthday Catchphrase  \\\n",
       "0  Admiral       Bird    Male      Cranky   Nature   27-Jan     aye aye   \n",
       "1  Agent S   Squirrel  Female       Peppy  Fitness    2-Jul    sidekick   \n",
       "2    Agnes        Pig  Female  Big Sister     Play   21-Apr     snuffle   \n",
       "3       Al    Gorilla    Male        Lazy  Fitness   18-Oct     ayyyeee   \n",
       "4  Alfonso  Alligator    Male        Lazy     Play    9-Jun    it'sa me   \n",
       "\n",
       "   Favorite Song Style 1  Style 2 Color 1 Color 2               Wallpaper  \\\n",
       "0     Steep Hill    Cool     Cool   Black    Blue          dirt-clod wall   \n",
       "1  Go K.K. Rider  Active   Simple    Blue   Black           concrete wall   \n",
       "2     K.K. House  Simple  Elegant    Pink   White  gray molded-panel wall   \n",
       "3  Go K.K. Rider  Active   Active     Red   White           concrete wall   \n",
       "4    Forest Life  Simple   Simple     Red    Blue    yellow playroom wall   \n",
       "\n",
       "                 Flooring                                     Furniture List  \\\n",
       "0                  tatami  717;1849;7047;2736;787;5970;3449;3622;3802;410...   \n",
       "1  colorful tile flooring  7845;7150;3468;4080;290;3971;3449;1708;4756;25...   \n",
       "2      arabesque flooring  4129;7236;7235;7802;896;3428;4027;7325;3958;71...   \n",
       "3   green rubber flooring  1452;4078;4013;833;4116;3697;7845;3307;3946;39...   \n",
       "4    green honeycomb tile  4763;3205;3701;1557;3623;85;3208;3584;4761;121...   \n",
       "\n",
       "  Filename    Unique Entry ID  \n",
       "0    brd06  B3RyfNEqwGmcccRC3  \n",
       "1    squ05  SGMdki6dzpDZyXAw5  \n",
       "2    pig17  jzWCiDPm9MqtCfecP  \n",
       "3    gor08  LBifxETQJGEaLhBjC  \n",
       "4    crd00  REpd8KxB8p9aGBRSE  "
      ]
     },
     "execution_count": 4,
     "metadata": {},
     "output_type": "execute_result"
    }
   ],
   "source": [
    "villagers.head()"
   ]
  },
  {
   "cell_type": "markdown",
   "id": "ea600096",
   "metadata": {
    "papermill": {
     "duration": 0.005,
     "end_time": "2023-10-20T13:26:48.122649",
     "exception": false,
     "start_time": "2023-10-20T13:26:48.117649",
     "status": "completed"
    },
    "tags": []
   },
   "source": [
    "## Villager species"
   ]
  },
  {
   "cell_type": "code",
   "execution_count": 5,
   "id": "0e876aee",
   "metadata": {
    "execution": {
     "iopub.execute_input": "2023-10-20T13:26:48.135152Z",
     "iopub.status.busy": "2023-10-20T13:26:48.134314Z",
     "iopub.status.idle": "2023-10-20T13:26:48.146663Z",
     "shell.execute_reply": "2023-10-20T13:26:48.145436Z"
    },
    "papermill": {
     "duration": 0.020799,
     "end_time": "2023-10-20T13:26:48.148634",
     "exception": false,
     "start_time": "2023-10-20T13:26:48.127835",
     "status": "completed"
    },
    "tags": []
   },
   "outputs": [
    {
     "data": {
      "text/html": [
       "<div>\n",
       "<style scoped>\n",
       "    .dataframe tbody tr th:only-of-type {\n",
       "        vertical-align: middle;\n",
       "    }\n",
       "\n",
       "    .dataframe tbody tr th {\n",
       "        vertical-align: top;\n",
       "    }\n",
       "\n",
       "    .dataframe thead th {\n",
       "        text-align: right;\n",
       "    }\n",
       "</style>\n",
       "<table border=\"1\" class=\"dataframe\">\n",
       "  <thead>\n",
       "    <tr style=\"text-align: right;\">\n",
       "      <th></th>\n",
       "      <th>Species</th>\n",
       "      <th>Count</th>\n",
       "    </tr>\n",
       "  </thead>\n",
       "  <tbody>\n",
       "    <tr>\n",
       "      <th>0</th>\n",
       "      <td>Cat</td>\n",
       "      <td>23</td>\n",
       "    </tr>\n",
       "    <tr>\n",
       "      <th>1</th>\n",
       "      <td>Rabbit</td>\n",
       "      <td>20</td>\n",
       "    </tr>\n",
       "    <tr>\n",
       "      <th>2</th>\n",
       "      <td>Frog</td>\n",
       "      <td>18</td>\n",
       "    </tr>\n",
       "    <tr>\n",
       "      <th>3</th>\n",
       "      <td>Squirrel</td>\n",
       "      <td>18</td>\n",
       "    </tr>\n",
       "    <tr>\n",
       "      <th>4</th>\n",
       "      <td>Duck</td>\n",
       "      <td>17</td>\n",
       "    </tr>\n",
       "    <tr>\n",
       "      <th>5</th>\n",
       "      <td>Dog</td>\n",
       "      <td>16</td>\n",
       "    </tr>\n",
       "    <tr>\n",
       "      <th>6</th>\n",
       "      <td>Cub</td>\n",
       "      <td>16</td>\n",
       "    </tr>\n",
       "    <tr>\n",
       "      <th>7</th>\n",
       "      <td>Pig</td>\n",
       "      <td>15</td>\n",
       "    </tr>\n",
       "    <tr>\n",
       "      <th>8</th>\n",
       "      <td>Bear</td>\n",
       "      <td>15</td>\n",
       "    </tr>\n",
       "    <tr>\n",
       "      <th>9</th>\n",
       "      <td>Mouse</td>\n",
       "      <td>15</td>\n",
       "    </tr>\n",
       "  </tbody>\n",
       "</table>\n",
       "</div>"
      ],
      "text/plain": [
       "    Species  Count\n",
       "0       Cat     23\n",
       "1    Rabbit     20\n",
       "2      Frog     18\n",
       "3  Squirrel     18\n",
       "4      Duck     17\n",
       "5       Dog     16\n",
       "6       Cub     16\n",
       "7       Pig     15\n",
       "8      Bear     15\n",
       "9     Mouse     15"
      ]
     },
     "execution_count": 5,
     "metadata": {},
     "output_type": "execute_result"
    }
   ],
   "source": [
    "## Getting counts of species\n",
    "species_count = pd.DataFrame(villagers['Species'].value_counts().reset_index(name='Count'))\n",
    "species_count.head(10)"
   ]
  },
  {
   "cell_type": "code",
   "execution_count": 6,
   "id": "0681bb73",
   "metadata": {
    "execution": {
     "iopub.execute_input": "2023-10-20T13:26:48.160859Z",
     "iopub.status.busy": "2023-10-20T13:26:48.160500Z",
     "iopub.status.idle": "2023-10-20T13:26:48.172117Z",
     "shell.execute_reply": "2023-10-20T13:26:48.170887Z"
    },
    "papermill": {
     "duration": 0.020549,
     "end_time": "2023-10-20T13:26:48.174474",
     "exception": false,
     "start_time": "2023-10-20T13:26:48.153925",
     "status": "completed"
    },
    "tags": []
   },
   "outputs": [
    {
     "name": "stdout",
     "output_type": "stream",
     "text": [
      "<class 'pandas.core.frame.DataFrame'>\n",
      "RangeIndex: 35 entries, 0 to 34\n",
      "Data columns (total 2 columns):\n",
      " #   Column   Non-Null Count  Dtype \n",
      "---  ------   --------------  ----- \n",
      " 0   Species  35 non-null     object\n",
      " 1   Count    35 non-null     int64 \n",
      "dtypes: int64(1), object(1)\n",
      "memory usage: 688.0+ bytes\n"
     ]
    }
   ],
   "source": [
    "species_count.info()"
   ]
  },
  {
   "cell_type": "code",
   "execution_count": 7,
   "id": "ce96e3ab",
   "metadata": {
    "execution": {
     "iopub.execute_input": "2023-10-20T13:26:48.187827Z",
     "iopub.status.busy": "2023-10-20T13:26:48.187474Z",
     "iopub.status.idle": "2023-10-20T13:26:48.446903Z",
     "shell.execute_reply": "2023-10-20T13:26:48.445822Z"
    },
    "papermill": {
     "duration": 0.269831,
     "end_time": "2023-10-20T13:26:48.449758",
     "exception": false,
     "start_time": "2023-10-20T13:26:48.179927",
     "status": "completed"
    },
    "tags": []
   },
   "outputs": [
    {
     "data": {
      "text/html": [
       "        <script type=\"text/javascript\">\n",
       "        window.PlotlyConfig = {MathJaxConfig: 'local'};\n",
       "        if (window.MathJax && window.MathJax.Hub && window.MathJax.Hub.Config) {window.MathJax.Hub.Config({SVG: {font: \"STIX-Web\"}});}\n",
       "        if (typeof require !== 'undefined') {\n",
       "        require.undef(\"plotly\");\n",
       "        requirejs.config({\n",
       "            paths: {\n",
       "                'plotly': ['https://cdn.plot.ly/plotly-2.24.1.min']\n",
       "            }\n",
       "        });\n",
       "        require(['plotly'], function(Plotly) {\n",
       "            window._Plotly = Plotly;\n",
       "        });\n",
       "        }\n",
       "        </script>\n",
       "        "
      ]
     },
     "metadata": {},
     "output_type": "display_data"
    },
    {
     "data": {
      "text/html": [
       "<div>                            <div id=\"0803ec82-c92e-4bce-829f-fd830cb16fff\" class=\"plotly-graph-div\" style=\"height:525px; width:100%;\"></div>            <script type=\"text/javascript\">                require([\"plotly\"], function(Plotly) {                    window.PLOTLYENV=window.PLOTLYENV || {};                                    if (document.getElementById(\"0803ec82-c92e-4bce-829f-fd830cb16fff\")) {                    Plotly.newPlot(                        \"0803ec82-c92e-4bce-829f-fd830cb16fff\",                        [{\"direction\":\"clockwise\",\"hovertemplate\":\"\\u003cb\\u003e%{label}\\u003c\\u002fb\\u003e \\u003c\\u002fbr\\u003eNumber of villagers: %{value} \\u003cbr\\u003e% of villagers: %{percent}\",\"labels\":[\"Cat\",\"Rabbit\",\"Frog\",\"Squirrel\",\"Duck\",\"Dog\",\"Cub\",\"Pig\",\"Bear\",\"Mouse\",\"Horse\",\"Bird\",\"Penguin\",\"Sheep\",\"Elephant\",\"Wolf\",\"Ostrich\",\"Deer\",\"Eagle\",\"Gorilla\",\"Chicken\",\"Koala\",\"Goat\",\"Hamster\",\"Kangaroo\",\"Monkey\",\"Anteater\",\"Hippo\",\"Tiger\",\"Alligator\",\"Lion\",\"Bull\",\"Rhino\",\"Cow\",\"Octopus\"],\"name\":\"\",\"values\":[23,20,18,18,17,16,16,15,15,15,15,13,13,13,11,11,10,10,9,9,9,9,8,8,8,8,7,7,7,7,7,6,6,4,3],\"type\":\"pie\",\"textposition\":\"inside\"}],                        {\"template\":{\"data\":{\"histogram2dcontour\":[{\"type\":\"histogram2dcontour\",\"colorbar\":{\"outlinewidth\":0,\"ticks\":\"\"},\"colorscale\":[[0.0,\"#0d0887\"],[0.1111111111111111,\"#46039f\"],[0.2222222222222222,\"#7201a8\"],[0.3333333333333333,\"#9c179e\"],[0.4444444444444444,\"#bd3786\"],[0.5555555555555556,\"#d8576b\"],[0.6666666666666666,\"#ed7953\"],[0.7777777777777778,\"#fb9f3a\"],[0.8888888888888888,\"#fdca26\"],[1.0,\"#f0f921\"]]}],\"choropleth\":[{\"type\":\"choropleth\",\"colorbar\":{\"outlinewidth\":0,\"ticks\":\"\"}}],\"histogram2d\":[{\"type\":\"histogram2d\",\"colorbar\":{\"outlinewidth\":0,\"ticks\":\"\"},\"colorscale\":[[0.0,\"#0d0887\"],[0.1111111111111111,\"#46039f\"],[0.2222222222222222,\"#7201a8\"],[0.3333333333333333,\"#9c179e\"],[0.4444444444444444,\"#bd3786\"],[0.5555555555555556,\"#d8576b\"],[0.6666666666666666,\"#ed7953\"],[0.7777777777777778,\"#fb9f3a\"],[0.8888888888888888,\"#fdca26\"],[1.0,\"#f0f921\"]]}],\"heatmap\":[{\"type\":\"heatmap\",\"colorbar\":{\"outlinewidth\":0,\"ticks\":\"\"},\"colorscale\":[[0.0,\"#0d0887\"],[0.1111111111111111,\"#46039f\"],[0.2222222222222222,\"#7201a8\"],[0.3333333333333333,\"#9c179e\"],[0.4444444444444444,\"#bd3786\"],[0.5555555555555556,\"#d8576b\"],[0.6666666666666666,\"#ed7953\"],[0.7777777777777778,\"#fb9f3a\"],[0.8888888888888888,\"#fdca26\"],[1.0,\"#f0f921\"]]}],\"heatmapgl\":[{\"type\":\"heatmapgl\",\"colorbar\":{\"outlinewidth\":0,\"ticks\":\"\"},\"colorscale\":[[0.0,\"#0d0887\"],[0.1111111111111111,\"#46039f\"],[0.2222222222222222,\"#7201a8\"],[0.3333333333333333,\"#9c179e\"],[0.4444444444444444,\"#bd3786\"],[0.5555555555555556,\"#d8576b\"],[0.6666666666666666,\"#ed7953\"],[0.7777777777777778,\"#fb9f3a\"],[0.8888888888888888,\"#fdca26\"],[1.0,\"#f0f921\"]]}],\"contourcarpet\":[{\"type\":\"contourcarpet\",\"colorbar\":{\"outlinewidth\":0,\"ticks\":\"\"}}],\"contour\":[{\"type\":\"contour\",\"colorbar\":{\"outlinewidth\":0,\"ticks\":\"\"},\"colorscale\":[[0.0,\"#0d0887\"],[0.1111111111111111,\"#46039f\"],[0.2222222222222222,\"#7201a8\"],[0.3333333333333333,\"#9c179e\"],[0.4444444444444444,\"#bd3786\"],[0.5555555555555556,\"#d8576b\"],[0.6666666666666666,\"#ed7953\"],[0.7777777777777778,\"#fb9f3a\"],[0.8888888888888888,\"#fdca26\"],[1.0,\"#f0f921\"]]}],\"surface\":[{\"type\":\"surface\",\"colorbar\":{\"outlinewidth\":0,\"ticks\":\"\"},\"colorscale\":[[0.0,\"#0d0887\"],[0.1111111111111111,\"#46039f\"],[0.2222222222222222,\"#7201a8\"],[0.3333333333333333,\"#9c179e\"],[0.4444444444444444,\"#bd3786\"],[0.5555555555555556,\"#d8576b\"],[0.6666666666666666,\"#ed7953\"],[0.7777777777777778,\"#fb9f3a\"],[0.8888888888888888,\"#fdca26\"],[1.0,\"#f0f921\"]]}],\"mesh3d\":[{\"type\":\"mesh3d\",\"colorbar\":{\"outlinewidth\":0,\"ticks\":\"\"}}],\"scatter\":[{\"fillpattern\":{\"fillmode\":\"overlay\",\"size\":10,\"solidity\":0.2},\"type\":\"scatter\"}],\"parcoords\":[{\"type\":\"parcoords\",\"line\":{\"colorbar\":{\"outlinewidth\":0,\"ticks\":\"\"}}}],\"scatterpolargl\":[{\"type\":\"scatterpolargl\",\"marker\":{\"colorbar\":{\"outlinewidth\":0,\"ticks\":\"\"}}}],\"bar\":[{\"error_x\":{\"color\":\"#2a3f5f\"},\"error_y\":{\"color\":\"#2a3f5f\"},\"marker\":{\"line\":{\"color\":\"#E5ECF6\",\"width\":0.5},\"pattern\":{\"fillmode\":\"overlay\",\"size\":10,\"solidity\":0.2}},\"type\":\"bar\"}],\"scattergeo\":[{\"type\":\"scattergeo\",\"marker\":{\"colorbar\":{\"outlinewidth\":0,\"ticks\":\"\"}}}],\"scatterpolar\":[{\"type\":\"scatterpolar\",\"marker\":{\"colorbar\":{\"outlinewidth\":0,\"ticks\":\"\"}}}],\"histogram\":[{\"marker\":{\"pattern\":{\"fillmode\":\"overlay\",\"size\":10,\"solidity\":0.2}},\"type\":\"histogram\"}],\"scattergl\":[{\"type\":\"scattergl\",\"marker\":{\"colorbar\":{\"outlinewidth\":0,\"ticks\":\"\"}}}],\"scatter3d\":[{\"type\":\"scatter3d\",\"line\":{\"colorbar\":{\"outlinewidth\":0,\"ticks\":\"\"}},\"marker\":{\"colorbar\":{\"outlinewidth\":0,\"ticks\":\"\"}}}],\"scattermapbox\":[{\"type\":\"scattermapbox\",\"marker\":{\"colorbar\":{\"outlinewidth\":0,\"ticks\":\"\"}}}],\"scatterternary\":[{\"type\":\"scatterternary\",\"marker\":{\"colorbar\":{\"outlinewidth\":0,\"ticks\":\"\"}}}],\"scattercarpet\":[{\"type\":\"scattercarpet\",\"marker\":{\"colorbar\":{\"outlinewidth\":0,\"ticks\":\"\"}}}],\"carpet\":[{\"aaxis\":{\"endlinecolor\":\"#2a3f5f\",\"gridcolor\":\"white\",\"linecolor\":\"white\",\"minorgridcolor\":\"white\",\"startlinecolor\":\"#2a3f5f\"},\"baxis\":{\"endlinecolor\":\"#2a3f5f\",\"gridcolor\":\"white\",\"linecolor\":\"white\",\"minorgridcolor\":\"white\",\"startlinecolor\":\"#2a3f5f\"},\"type\":\"carpet\"}],\"table\":[{\"cells\":{\"fill\":{\"color\":\"#EBF0F8\"},\"line\":{\"color\":\"white\"}},\"header\":{\"fill\":{\"color\":\"#C8D4E3\"},\"line\":{\"color\":\"white\"}},\"type\":\"table\"}],\"barpolar\":[{\"marker\":{\"line\":{\"color\":\"#E5ECF6\",\"width\":0.5},\"pattern\":{\"fillmode\":\"overlay\",\"size\":10,\"solidity\":0.2}},\"type\":\"barpolar\"}],\"pie\":[{\"automargin\":true,\"type\":\"pie\"}]},\"layout\":{\"autotypenumbers\":\"strict\",\"colorway\":[\"#636efa\",\"#EF553B\",\"#00cc96\",\"#ab63fa\",\"#FFA15A\",\"#19d3f3\",\"#FF6692\",\"#B6E880\",\"#FF97FF\",\"#FECB52\"],\"font\":{\"color\":\"#2a3f5f\"},\"hovermode\":\"closest\",\"hoverlabel\":{\"align\":\"left\"},\"paper_bgcolor\":\"white\",\"plot_bgcolor\":\"#E5ECF6\",\"polar\":{\"bgcolor\":\"#E5ECF6\",\"angularaxis\":{\"gridcolor\":\"white\",\"linecolor\":\"white\",\"ticks\":\"\"},\"radialaxis\":{\"gridcolor\":\"white\",\"linecolor\":\"white\",\"ticks\":\"\"}},\"ternary\":{\"bgcolor\":\"#E5ECF6\",\"aaxis\":{\"gridcolor\":\"white\",\"linecolor\":\"white\",\"ticks\":\"\"},\"baxis\":{\"gridcolor\":\"white\",\"linecolor\":\"white\",\"ticks\":\"\"},\"caxis\":{\"gridcolor\":\"white\",\"linecolor\":\"white\",\"ticks\":\"\"}},\"coloraxis\":{\"colorbar\":{\"outlinewidth\":0,\"ticks\":\"\"}},\"colorscale\":{\"sequential\":[[0.0,\"#0d0887\"],[0.1111111111111111,\"#46039f\"],[0.2222222222222222,\"#7201a8\"],[0.3333333333333333,\"#9c179e\"],[0.4444444444444444,\"#bd3786\"],[0.5555555555555556,\"#d8576b\"],[0.6666666666666666,\"#ed7953\"],[0.7777777777777778,\"#fb9f3a\"],[0.8888888888888888,\"#fdca26\"],[1.0,\"#f0f921\"]],\"sequentialminus\":[[0.0,\"#0d0887\"],[0.1111111111111111,\"#46039f\"],[0.2222222222222222,\"#7201a8\"],[0.3333333333333333,\"#9c179e\"],[0.4444444444444444,\"#bd3786\"],[0.5555555555555556,\"#d8576b\"],[0.6666666666666666,\"#ed7953\"],[0.7777777777777778,\"#fb9f3a\"],[0.8888888888888888,\"#fdca26\"],[1.0,\"#f0f921\"]],\"diverging\":[[0,\"#8e0152\"],[0.1,\"#c51b7d\"],[0.2,\"#de77ae\"],[0.3,\"#f1b6da\"],[0.4,\"#fde0ef\"],[0.5,\"#f7f7f7\"],[0.6,\"#e6f5d0\"],[0.7,\"#b8e186\"],[0.8,\"#7fbc41\"],[0.9,\"#4d9221\"],[1,\"#276419\"]]},\"xaxis\":{\"gridcolor\":\"white\",\"linecolor\":\"white\",\"ticks\":\"\",\"title\":{\"standoff\":15},\"zerolinecolor\":\"white\",\"automargin\":true,\"zerolinewidth\":2},\"yaxis\":{\"gridcolor\":\"white\",\"linecolor\":\"white\",\"ticks\":\"\",\"title\":{\"standoff\":15},\"zerolinecolor\":\"white\",\"automargin\":true,\"zerolinewidth\":2},\"scene\":{\"xaxis\":{\"backgroundcolor\":\"#E5ECF6\",\"gridcolor\":\"white\",\"linecolor\":\"white\",\"showbackground\":true,\"ticks\":\"\",\"zerolinecolor\":\"white\",\"gridwidth\":2},\"yaxis\":{\"backgroundcolor\":\"#E5ECF6\",\"gridcolor\":\"white\",\"linecolor\":\"white\",\"showbackground\":true,\"ticks\":\"\",\"zerolinecolor\":\"white\",\"gridwidth\":2},\"zaxis\":{\"backgroundcolor\":\"#E5ECF6\",\"gridcolor\":\"white\",\"linecolor\":\"white\",\"showbackground\":true,\"ticks\":\"\",\"zerolinecolor\":\"white\",\"gridwidth\":2}},\"shapedefaults\":{\"line\":{\"color\":\"#2a3f5f\"}},\"annotationdefaults\":{\"arrowcolor\":\"#2a3f5f\",\"arrowhead\":0,\"arrowwidth\":1},\"geo\":{\"bgcolor\":\"white\",\"landcolor\":\"#E5ECF6\",\"subunitcolor\":\"white\",\"showland\":true,\"showlakes\":true,\"lakecolor\":\"white\"},\"title\":{\"x\":0.05},\"mapbox\":{\"style\":\"light\"}}},\"uniformtext\":{\"minsize\":12,\"mode\":\"hide\"},\"title\":{\"text\":\"Villager species distribution\"},\"legend\":{\"title\":{\"text\":\"Species\"}}},                        {\"responsive\": true}                    ).then(function(){\n",
       "                            \n",
       "var gd = document.getElementById('0803ec82-c92e-4bce-829f-fd830cb16fff');\n",
       "var x = new MutationObserver(function (mutations, observer) {{\n",
       "        var display = window.getComputedStyle(gd).display;\n",
       "        if (!display || display === 'none') {{\n",
       "            console.log([gd, 'removed!']);\n",
       "            Plotly.purge(gd);\n",
       "            observer.disconnect();\n",
       "        }}\n",
       "}});\n",
       "\n",
       "// Listen for the removal of the full notebook cells\n",
       "var notebookContainer = gd.closest('#notebook-container');\n",
       "if (notebookContainer) {{\n",
       "    x.observe(notebookContainer, {childList: true});\n",
       "}}\n",
       "\n",
       "// Listen for the clearing of the current output cell\n",
       "var outputEl = gd.closest('.output');\n",
       "if (outputEl) {{\n",
       "    x.observe(outputEl, {childList: true});\n",
       "}}\n",
       "\n",
       "                        })                };                });            </script>        </div>"
      ]
     },
     "metadata": {},
     "output_type": "display_data"
    }
   ],
   "source": [
    "## Visualising villager species distribution\n",
    "fig = go.Figure(data=[go.Pie(labels=species_count['Species'], \n",
    "                             values=species_count['Count'], \n",
    "                             direction='clockwise',\n",
    "                             hovertemplate = '<b>%{label}</b> </br>Number of villagers: %{value} <br>% of villagers: %{percent}',\n",
    "                             name='')])\n",
    "fig.update_traces(textposition='inside')\n",
    "fig.update_layout(title='Villager species distribution', uniformtext_minsize=12, uniformtext_mode='hide', legend_title=\"Species\")\n",
    "fig.show()"
   ]
  },
  {
   "cell_type": "markdown",
   "id": "4b243df7",
   "metadata": {
    "papermill": {
     "duration": 0.006017,
     "end_time": "2023-10-20T13:26:48.461933",
     "exception": false,
     "start_time": "2023-10-20T13:26:48.455916",
     "status": "completed"
    },
    "tags": []
   },
   "source": [
    "## Villager personalities"
   ]
  },
  {
   "cell_type": "code",
   "execution_count": 8,
   "id": "2a60da8a",
   "metadata": {
    "execution": {
     "iopub.execute_input": "2023-10-20T13:26:48.475640Z",
     "iopub.status.busy": "2023-10-20T13:26:48.475110Z",
     "iopub.status.idle": "2023-10-20T13:26:48.486126Z",
     "shell.execute_reply": "2023-10-20T13:26:48.485004Z"
    },
    "papermill": {
     "duration": 0.020231,
     "end_time": "2023-10-20T13:26:48.488138",
     "exception": false,
     "start_time": "2023-10-20T13:26:48.467907",
     "status": "completed"
    },
    "tags": []
   },
   "outputs": [
    {
     "data": {
      "text/html": [
       "<div>\n",
       "<style scoped>\n",
       "    .dataframe tbody tr th:only-of-type {\n",
       "        vertical-align: middle;\n",
       "    }\n",
       "\n",
       "    .dataframe tbody tr th {\n",
       "        vertical-align: top;\n",
       "    }\n",
       "\n",
       "    .dataframe thead th {\n",
       "        text-align: right;\n",
       "    }\n",
       "</style>\n",
       "<table border=\"1\" class=\"dataframe\">\n",
       "  <thead>\n",
       "    <tr style=\"text-align: right;\">\n",
       "      <th></th>\n",
       "      <th>Personality</th>\n",
       "      <th>Count</th>\n",
       "    </tr>\n",
       "  </thead>\n",
       "  <tbody>\n",
       "    <tr>\n",
       "      <th>0</th>\n",
       "      <td>Lazy</td>\n",
       "      <td>60</td>\n",
       "    </tr>\n",
       "    <tr>\n",
       "      <th>1</th>\n",
       "      <td>Normal</td>\n",
       "      <td>59</td>\n",
       "    </tr>\n",
       "    <tr>\n",
       "      <th>2</th>\n",
       "      <td>Cranky</td>\n",
       "      <td>55</td>\n",
       "    </tr>\n",
       "    <tr>\n",
       "      <th>3</th>\n",
       "      <td>Snooty</td>\n",
       "      <td>55</td>\n",
       "    </tr>\n",
       "    <tr>\n",
       "      <th>4</th>\n",
       "      <td>Jock</td>\n",
       "      <td>55</td>\n",
       "    </tr>\n",
       "    <tr>\n",
       "      <th>5</th>\n",
       "      <td>Peppy</td>\n",
       "      <td>49</td>\n",
       "    </tr>\n",
       "    <tr>\n",
       "      <th>6</th>\n",
       "      <td>Smug</td>\n",
       "      <td>34</td>\n",
       "    </tr>\n",
       "    <tr>\n",
       "      <th>7</th>\n",
       "      <td>Big Sister</td>\n",
       "      <td>24</td>\n",
       "    </tr>\n",
       "  </tbody>\n",
       "</table>\n",
       "</div>"
      ],
      "text/plain": [
       "  Personality  Count\n",
       "0        Lazy     60\n",
       "1      Normal     59\n",
       "2      Cranky     55\n",
       "3      Snooty     55\n",
       "4        Jock     55\n",
       "5       Peppy     49\n",
       "6        Smug     34\n",
       "7  Big Sister     24"
      ]
     },
     "execution_count": 8,
     "metadata": {},
     "output_type": "execute_result"
    }
   ],
   "source": [
    "## Creating a dataframe of personality counts\n",
    "personality_count = pd.DataFrame(villagers['Personality'].value_counts().reset_index(name='Count'))\n",
    "personality_count"
   ]
  },
  {
   "cell_type": "code",
   "execution_count": 9,
   "id": "82559b01",
   "metadata": {
    "execution": {
     "iopub.execute_input": "2023-10-20T13:26:48.502026Z",
     "iopub.status.busy": "2023-10-20T13:26:48.501598Z",
     "iopub.status.idle": "2023-10-20T13:26:48.516463Z",
     "shell.execute_reply": "2023-10-20T13:26:48.515485Z"
    },
    "papermill": {
     "duration": 0.024218,
     "end_time": "2023-10-20T13:26:48.518560",
     "exception": false,
     "start_time": "2023-10-20T13:26:48.494342",
     "status": "completed"
    },
    "tags": []
   },
   "outputs": [
    {
     "data": {
      "text/html": [
       "<div>                            <div id=\"ca1988ac-bc65-4d65-ae71-2118cb1eff87\" class=\"plotly-graph-div\" style=\"height:525px; width:100%;\"></div>            <script type=\"text/javascript\">                require([\"plotly\"], function(Plotly) {                    window.PLOTLYENV=window.PLOTLYENV || {};                                    if (document.getElementById(\"ca1988ac-bc65-4d65-ae71-2118cb1eff87\")) {                    Plotly.newPlot(                        \"ca1988ac-bc65-4d65-ae71-2118cb1eff87\",                        [{\"direction\":\"clockwise\",\"hovertemplate\":\"\\u003cb\\u003e%{label}\\u003c\\u002fb\\u003e \\u003c\\u002fbr\\u003eNumber of villagers: %{value} \\u003cbr\\u003e% of villagers: %{percent}\",\"labels\":[\"Lazy\",\"Normal\",\"Cranky\",\"Snooty\",\"Jock\",\"Peppy\",\"Smug\",\"Big Sister\"],\"name\":\"\",\"values\":[60,59,55,55,55,49,34,24],\"type\":\"pie\",\"textposition\":\"inside\"}],                        {\"template\":{\"data\":{\"histogram2dcontour\":[{\"type\":\"histogram2dcontour\",\"colorbar\":{\"outlinewidth\":0,\"ticks\":\"\"},\"colorscale\":[[0.0,\"#0d0887\"],[0.1111111111111111,\"#46039f\"],[0.2222222222222222,\"#7201a8\"],[0.3333333333333333,\"#9c179e\"],[0.4444444444444444,\"#bd3786\"],[0.5555555555555556,\"#d8576b\"],[0.6666666666666666,\"#ed7953\"],[0.7777777777777778,\"#fb9f3a\"],[0.8888888888888888,\"#fdca26\"],[1.0,\"#f0f921\"]]}],\"choropleth\":[{\"type\":\"choropleth\",\"colorbar\":{\"outlinewidth\":0,\"ticks\":\"\"}}],\"histogram2d\":[{\"type\":\"histogram2d\",\"colorbar\":{\"outlinewidth\":0,\"ticks\":\"\"},\"colorscale\":[[0.0,\"#0d0887\"],[0.1111111111111111,\"#46039f\"],[0.2222222222222222,\"#7201a8\"],[0.3333333333333333,\"#9c179e\"],[0.4444444444444444,\"#bd3786\"],[0.5555555555555556,\"#d8576b\"],[0.6666666666666666,\"#ed7953\"],[0.7777777777777778,\"#fb9f3a\"],[0.8888888888888888,\"#fdca26\"],[1.0,\"#f0f921\"]]}],\"heatmap\":[{\"type\":\"heatmap\",\"colorbar\":{\"outlinewidth\":0,\"ticks\":\"\"},\"colorscale\":[[0.0,\"#0d0887\"],[0.1111111111111111,\"#46039f\"],[0.2222222222222222,\"#7201a8\"],[0.3333333333333333,\"#9c179e\"],[0.4444444444444444,\"#bd3786\"],[0.5555555555555556,\"#d8576b\"],[0.6666666666666666,\"#ed7953\"],[0.7777777777777778,\"#fb9f3a\"],[0.8888888888888888,\"#fdca26\"],[1.0,\"#f0f921\"]]}],\"heatmapgl\":[{\"type\":\"heatmapgl\",\"colorbar\":{\"outlinewidth\":0,\"ticks\":\"\"},\"colorscale\":[[0.0,\"#0d0887\"],[0.1111111111111111,\"#46039f\"],[0.2222222222222222,\"#7201a8\"],[0.3333333333333333,\"#9c179e\"],[0.4444444444444444,\"#bd3786\"],[0.5555555555555556,\"#d8576b\"],[0.6666666666666666,\"#ed7953\"],[0.7777777777777778,\"#fb9f3a\"],[0.8888888888888888,\"#fdca26\"],[1.0,\"#f0f921\"]]}],\"contourcarpet\":[{\"type\":\"contourcarpet\",\"colorbar\":{\"outlinewidth\":0,\"ticks\":\"\"}}],\"contour\":[{\"type\":\"contour\",\"colorbar\":{\"outlinewidth\":0,\"ticks\":\"\"},\"colorscale\":[[0.0,\"#0d0887\"],[0.1111111111111111,\"#46039f\"],[0.2222222222222222,\"#7201a8\"],[0.3333333333333333,\"#9c179e\"],[0.4444444444444444,\"#bd3786\"],[0.5555555555555556,\"#d8576b\"],[0.6666666666666666,\"#ed7953\"],[0.7777777777777778,\"#fb9f3a\"],[0.8888888888888888,\"#fdca26\"],[1.0,\"#f0f921\"]]}],\"surface\":[{\"type\":\"surface\",\"colorbar\":{\"outlinewidth\":0,\"ticks\":\"\"},\"colorscale\":[[0.0,\"#0d0887\"],[0.1111111111111111,\"#46039f\"],[0.2222222222222222,\"#7201a8\"],[0.3333333333333333,\"#9c179e\"],[0.4444444444444444,\"#bd3786\"],[0.5555555555555556,\"#d8576b\"],[0.6666666666666666,\"#ed7953\"],[0.7777777777777778,\"#fb9f3a\"],[0.8888888888888888,\"#fdca26\"],[1.0,\"#f0f921\"]]}],\"mesh3d\":[{\"type\":\"mesh3d\",\"colorbar\":{\"outlinewidth\":0,\"ticks\":\"\"}}],\"scatter\":[{\"fillpattern\":{\"fillmode\":\"overlay\",\"size\":10,\"solidity\":0.2},\"type\":\"scatter\"}],\"parcoords\":[{\"type\":\"parcoords\",\"line\":{\"colorbar\":{\"outlinewidth\":0,\"ticks\":\"\"}}}],\"scatterpolargl\":[{\"type\":\"scatterpolargl\",\"marker\":{\"colorbar\":{\"outlinewidth\":0,\"ticks\":\"\"}}}],\"bar\":[{\"error_x\":{\"color\":\"#2a3f5f\"},\"error_y\":{\"color\":\"#2a3f5f\"},\"marker\":{\"line\":{\"color\":\"#E5ECF6\",\"width\":0.5},\"pattern\":{\"fillmode\":\"overlay\",\"size\":10,\"solidity\":0.2}},\"type\":\"bar\"}],\"scattergeo\":[{\"type\":\"scattergeo\",\"marker\":{\"colorbar\":{\"outlinewidth\":0,\"ticks\":\"\"}}}],\"scatterpolar\":[{\"type\":\"scatterpolar\",\"marker\":{\"colorbar\":{\"outlinewidth\":0,\"ticks\":\"\"}}}],\"histogram\":[{\"marker\":{\"pattern\":{\"fillmode\":\"overlay\",\"size\":10,\"solidity\":0.2}},\"type\":\"histogram\"}],\"scattergl\":[{\"type\":\"scattergl\",\"marker\":{\"colorbar\":{\"outlinewidth\":0,\"ticks\":\"\"}}}],\"scatter3d\":[{\"type\":\"scatter3d\",\"line\":{\"colorbar\":{\"outlinewidth\":0,\"ticks\":\"\"}},\"marker\":{\"colorbar\":{\"outlinewidth\":0,\"ticks\":\"\"}}}],\"scattermapbox\":[{\"type\":\"scattermapbox\",\"marker\":{\"colorbar\":{\"outlinewidth\":0,\"ticks\":\"\"}}}],\"scatterternary\":[{\"type\":\"scatterternary\",\"marker\":{\"colorbar\":{\"outlinewidth\":0,\"ticks\":\"\"}}}],\"scattercarpet\":[{\"type\":\"scattercarpet\",\"marker\":{\"colorbar\":{\"outlinewidth\":0,\"ticks\":\"\"}}}],\"carpet\":[{\"aaxis\":{\"endlinecolor\":\"#2a3f5f\",\"gridcolor\":\"white\",\"linecolor\":\"white\",\"minorgridcolor\":\"white\",\"startlinecolor\":\"#2a3f5f\"},\"baxis\":{\"endlinecolor\":\"#2a3f5f\",\"gridcolor\":\"white\",\"linecolor\":\"white\",\"minorgridcolor\":\"white\",\"startlinecolor\":\"#2a3f5f\"},\"type\":\"carpet\"}],\"table\":[{\"cells\":{\"fill\":{\"color\":\"#EBF0F8\"},\"line\":{\"color\":\"white\"}},\"header\":{\"fill\":{\"color\":\"#C8D4E3\"},\"line\":{\"color\":\"white\"}},\"type\":\"table\"}],\"barpolar\":[{\"marker\":{\"line\":{\"color\":\"#E5ECF6\",\"width\":0.5},\"pattern\":{\"fillmode\":\"overlay\",\"size\":10,\"solidity\":0.2}},\"type\":\"barpolar\"}],\"pie\":[{\"automargin\":true,\"type\":\"pie\"}]},\"layout\":{\"autotypenumbers\":\"strict\",\"colorway\":[\"#636efa\",\"#EF553B\",\"#00cc96\",\"#ab63fa\",\"#FFA15A\",\"#19d3f3\",\"#FF6692\",\"#B6E880\",\"#FF97FF\",\"#FECB52\"],\"font\":{\"color\":\"#2a3f5f\"},\"hovermode\":\"closest\",\"hoverlabel\":{\"align\":\"left\"},\"paper_bgcolor\":\"white\",\"plot_bgcolor\":\"#E5ECF6\",\"polar\":{\"bgcolor\":\"#E5ECF6\",\"angularaxis\":{\"gridcolor\":\"white\",\"linecolor\":\"white\",\"ticks\":\"\"},\"radialaxis\":{\"gridcolor\":\"white\",\"linecolor\":\"white\",\"ticks\":\"\"}},\"ternary\":{\"bgcolor\":\"#E5ECF6\",\"aaxis\":{\"gridcolor\":\"white\",\"linecolor\":\"white\",\"ticks\":\"\"},\"baxis\":{\"gridcolor\":\"white\",\"linecolor\":\"white\",\"ticks\":\"\"},\"caxis\":{\"gridcolor\":\"white\",\"linecolor\":\"white\",\"ticks\":\"\"}},\"coloraxis\":{\"colorbar\":{\"outlinewidth\":0,\"ticks\":\"\"}},\"colorscale\":{\"sequential\":[[0.0,\"#0d0887\"],[0.1111111111111111,\"#46039f\"],[0.2222222222222222,\"#7201a8\"],[0.3333333333333333,\"#9c179e\"],[0.4444444444444444,\"#bd3786\"],[0.5555555555555556,\"#d8576b\"],[0.6666666666666666,\"#ed7953\"],[0.7777777777777778,\"#fb9f3a\"],[0.8888888888888888,\"#fdca26\"],[1.0,\"#f0f921\"]],\"sequentialminus\":[[0.0,\"#0d0887\"],[0.1111111111111111,\"#46039f\"],[0.2222222222222222,\"#7201a8\"],[0.3333333333333333,\"#9c179e\"],[0.4444444444444444,\"#bd3786\"],[0.5555555555555556,\"#d8576b\"],[0.6666666666666666,\"#ed7953\"],[0.7777777777777778,\"#fb9f3a\"],[0.8888888888888888,\"#fdca26\"],[1.0,\"#f0f921\"]],\"diverging\":[[0,\"#8e0152\"],[0.1,\"#c51b7d\"],[0.2,\"#de77ae\"],[0.3,\"#f1b6da\"],[0.4,\"#fde0ef\"],[0.5,\"#f7f7f7\"],[0.6,\"#e6f5d0\"],[0.7,\"#b8e186\"],[0.8,\"#7fbc41\"],[0.9,\"#4d9221\"],[1,\"#276419\"]]},\"xaxis\":{\"gridcolor\":\"white\",\"linecolor\":\"white\",\"ticks\":\"\",\"title\":{\"standoff\":15},\"zerolinecolor\":\"white\",\"automargin\":true,\"zerolinewidth\":2},\"yaxis\":{\"gridcolor\":\"white\",\"linecolor\":\"white\",\"ticks\":\"\",\"title\":{\"standoff\":15},\"zerolinecolor\":\"white\",\"automargin\":true,\"zerolinewidth\":2},\"scene\":{\"xaxis\":{\"backgroundcolor\":\"#E5ECF6\",\"gridcolor\":\"white\",\"linecolor\":\"white\",\"showbackground\":true,\"ticks\":\"\",\"zerolinecolor\":\"white\",\"gridwidth\":2},\"yaxis\":{\"backgroundcolor\":\"#E5ECF6\",\"gridcolor\":\"white\",\"linecolor\":\"white\",\"showbackground\":true,\"ticks\":\"\",\"zerolinecolor\":\"white\",\"gridwidth\":2},\"zaxis\":{\"backgroundcolor\":\"#E5ECF6\",\"gridcolor\":\"white\",\"linecolor\":\"white\",\"showbackground\":true,\"ticks\":\"\",\"zerolinecolor\":\"white\",\"gridwidth\":2}},\"shapedefaults\":{\"line\":{\"color\":\"#2a3f5f\"}},\"annotationdefaults\":{\"arrowcolor\":\"#2a3f5f\",\"arrowhead\":0,\"arrowwidth\":1},\"geo\":{\"bgcolor\":\"white\",\"landcolor\":\"#E5ECF6\",\"subunitcolor\":\"white\",\"showland\":true,\"showlakes\":true,\"lakecolor\":\"white\"},\"title\":{\"x\":0.05},\"mapbox\":{\"style\":\"light\"}}},\"title\":{\"text\":\"Villager personality distribution\"},\"legend\":{\"title\":{\"text\":\"Personality\"}}},                        {\"responsive\": true}                    ).then(function(){\n",
       "                            \n",
       "var gd = document.getElementById('ca1988ac-bc65-4d65-ae71-2118cb1eff87');\n",
       "var x = new MutationObserver(function (mutations, observer) {{\n",
       "        var display = window.getComputedStyle(gd).display;\n",
       "        if (!display || display === 'none') {{\n",
       "            console.log([gd, 'removed!']);\n",
       "            Plotly.purge(gd);\n",
       "            observer.disconnect();\n",
       "        }}\n",
       "}});\n",
       "\n",
       "// Listen for the removal of the full notebook cells\n",
       "var notebookContainer = gd.closest('#notebook-container');\n",
       "if (notebookContainer) {{\n",
       "    x.observe(notebookContainer, {childList: true});\n",
       "}}\n",
       "\n",
       "// Listen for the clearing of the current output cell\n",
       "var outputEl = gd.closest('.output');\n",
       "if (outputEl) {{\n",
       "    x.observe(outputEl, {childList: true});\n",
       "}}\n",
       "\n",
       "                        })                };                });            </script>        </div>"
      ]
     },
     "metadata": {},
     "output_type": "display_data"
    }
   ],
   "source": [
    "## Visualising villager personality distribution\n",
    "fig = go.Figure(data=[go.Pie(labels=personality_count['Personality'], \n",
    "                             values=personality_count['Count'],\n",
    "                             direction='clockwise',\n",
    "                             hovertemplate = \"<b>%{label}</b> </br>Number of villagers: %{value} <br>% of villagers: %{percent}\",\n",
    "                             name='')])\n",
    "fig.update_traces(textposition='inside')\n",
    "fig.update_layout(title='Villager personality distribution', legend_title='Personality')\n",
    "fig.show()"
   ]
  },
  {
   "cell_type": "code",
   "execution_count": 10,
   "id": "4dda5b11",
   "metadata": {
    "execution": {
     "iopub.execute_input": "2023-10-20T13:26:48.532811Z",
     "iopub.status.busy": "2023-10-20T13:26:48.532195Z",
     "iopub.status.idle": "2023-10-20T13:26:48.549729Z",
     "shell.execute_reply": "2023-10-20T13:26:48.548609Z"
    },
    "papermill": {
     "duration": 0.027114,
     "end_time": "2023-10-20T13:26:48.551986",
     "exception": false,
     "start_time": "2023-10-20T13:26:48.524872",
     "status": "completed"
    },
    "tags": []
   },
   "outputs": [
    {
     "data": {
      "text/html": [
       "<div>\n",
       "<style scoped>\n",
       "    .dataframe tbody tr th:only-of-type {\n",
       "        vertical-align: middle;\n",
       "    }\n",
       "\n",
       "    .dataframe tbody tr th {\n",
       "        vertical-align: top;\n",
       "    }\n",
       "\n",
       "    .dataframe thead th {\n",
       "        text-align: right;\n",
       "    }\n",
       "</style>\n",
       "<table border=\"1\" class=\"dataframe\">\n",
       "  <thead>\n",
       "    <tr style=\"text-align: right;\">\n",
       "      <th></th>\n",
       "      <th>Species</th>\n",
       "      <th>Personality</th>\n",
       "      <th>Count</th>\n",
       "    </tr>\n",
       "  </thead>\n",
       "  <tbody>\n",
       "    <tr>\n",
       "      <th>0</th>\n",
       "      <td>Rabbit</td>\n",
       "      <td>Peppy</td>\n",
       "      <td>8</td>\n",
       "    </tr>\n",
       "    <tr>\n",
       "      <th>1</th>\n",
       "      <td>Dog</td>\n",
       "      <td>Lazy</td>\n",
       "      <td>6</td>\n",
       "    </tr>\n",
       "    <tr>\n",
       "      <th>2</th>\n",
       "      <td>Frog</td>\n",
       "      <td>Jock</td>\n",
       "      <td>5</td>\n",
       "    </tr>\n",
       "    <tr>\n",
       "      <th>3</th>\n",
       "      <td>Wolf</td>\n",
       "      <td>Cranky</td>\n",
       "      <td>5</td>\n",
       "    </tr>\n",
       "    <tr>\n",
       "      <th>4</th>\n",
       "      <td>Cat</td>\n",
       "      <td>Snooty</td>\n",
       "      <td>5</td>\n",
       "    </tr>\n",
       "    <tr>\n",
       "      <th>5</th>\n",
       "      <td>Cat</td>\n",
       "      <td>Peppy</td>\n",
       "      <td>5</td>\n",
       "    </tr>\n",
       "    <tr>\n",
       "      <th>6</th>\n",
       "      <td>Bear</td>\n",
       "      <td>Cranky</td>\n",
       "      <td>5</td>\n",
       "    </tr>\n",
       "    <tr>\n",
       "      <th>7</th>\n",
       "      <td>Squirrel</td>\n",
       "      <td>Normal</td>\n",
       "      <td>5</td>\n",
       "    </tr>\n",
       "    <tr>\n",
       "      <th>8</th>\n",
       "      <td>Mouse</td>\n",
       "      <td>Peppy</td>\n",
       "      <td>4</td>\n",
       "    </tr>\n",
       "    <tr>\n",
       "      <th>9</th>\n",
       "      <td>Rabbit</td>\n",
       "      <td>Lazy</td>\n",
       "      <td>4</td>\n",
       "    </tr>\n",
       "  </tbody>\n",
       "</table>\n",
       "</div>"
      ],
      "text/plain": [
       "    Species Personality  Count\n",
       "0    Rabbit       Peppy      8\n",
       "1       Dog        Lazy      6\n",
       "2      Frog        Jock      5\n",
       "3      Wolf      Cranky      5\n",
       "4       Cat      Snooty      5\n",
       "5       Cat       Peppy      5\n",
       "6      Bear      Cranky      5\n",
       "7  Squirrel      Normal      5\n",
       "8     Mouse       Peppy      4\n",
       "9    Rabbit        Lazy      4"
      ]
     },
     "execution_count": 10,
     "metadata": {},
     "output_type": "execute_result"
    }
   ],
   "source": [
    "## Creating a dataframe of personality counts by species\n",
    "species_personality = villagers.groupby(['Species', 'Personality']).size().sort_values(ascending=False).reset_index(name='Count')\n",
    "species_personality.head(10)"
   ]
  },
  {
   "cell_type": "code",
   "execution_count": 11,
   "id": "7cf9dc10",
   "metadata": {
    "execution": {
     "iopub.execute_input": "2023-10-20T13:26:48.566677Z",
     "iopub.status.busy": "2023-10-20T13:26:48.566313Z",
     "iopub.status.idle": "2023-10-20T13:26:50.253630Z",
     "shell.execute_reply": "2023-10-20T13:26:50.252455Z"
    },
    "papermill": {
     "duration": 1.697518,
     "end_time": "2023-10-20T13:26:50.255951",
     "exception": false,
     "start_time": "2023-10-20T13:26:48.558433",
     "status": "completed"
    },
    "tags": []
   },
   "outputs": [
    {
     "data": {
      "text/html": [
       "<div>                            <div id=\"3ee192aa-538a-499e-acc3-efda1643f432\" class=\"plotly-graph-div\" style=\"height:525px; width:100%;\"></div>            <script type=\"text/javascript\">                require([\"plotly\"], function(Plotly) {                    window.PLOTLYENV=window.PLOTLYENV || {};                                    if (document.getElementById(\"3ee192aa-538a-499e-acc3-efda1643f432\")) {                    Plotly.newPlot(                        \"3ee192aa-538a-499e-acc3-efda1643f432\",                        [{\"alignmentgroup\":\"True\",\"customdata\":[[\"Lazy\"],[\"Lazy\"],[\"Lazy\"],[\"Lazy\"],[\"Lazy\"],[\"Lazy\"],[\"Lazy\"],[\"Lazy\"],[\"Lazy\"],[\"Lazy\"],[\"Lazy\"],[\"Lazy\"],[\"Lazy\"],[\"Lazy\"],[\"Lazy\"],[\"Lazy\"],[\"Lazy\"],[\"Lazy\"],[\"Lazy\"],[\"Lazy\"],[\"Lazy\"],[\"Lazy\"],[\"Lazy\"],[\"Lazy\"],[\"Lazy\"],[\"Lazy\"],[\"Lazy\"]],\"hovertemplate\":\"\\u003cb\\u003e%{hovertext}\\u003c\\u002fb\\u003e\\u003cbr\\u003e\\u003cbr\\u003ePersonality=%{customdata[0]}\\u003cbr\\u003eNumber of villagers=%{y}\\u003cextra\\u003e\\u003c\\u002fextra\\u003e\",\"hovertext\":[\"Dog\",\"Rabbit\",\"Penguin\",\"Duck\",\"Elephant\",\"Cub\",\"Cat\",\"Frog\",\"Horse\",\"Pig\",\"Monkey\",\"Chicken\",\"Bird\",\"Bull\",\"Deer\",\"Alligator\",\"Mouse\",\"Octopus\",\"Squirrel\",\"Rhino\",\"Ostrich\",\"Lion\",\"Bear\",\"Koala\",\"Hamster\",\"Goat\",\"Gorilla\"],\"legendgroup\":\"Lazy\",\"marker\":{\"color\":\"#636efa\",\"pattern\":{\"shape\":\"\"}},\"name\":\"Lazy\",\"offsetgroup\":\"Lazy\",\"orientation\":\"v\",\"showlegend\":true,\"textposition\":\"auto\",\"x\":[\"Dog\",\"Rabbit\",\"Penguin\",\"Duck\",\"Elephant\",\"Cub\",\"Cat\",\"Frog\",\"Horse\",\"Pig\",\"Monkey\",\"Chicken\",\"Bird\",\"Bull\",\"Deer\",\"Alligator\",\"Mouse\",\"Octopus\",\"Squirrel\",\"Rhino\",\"Ostrich\",\"Lion\",\"Bear\",\"Koala\",\"Hamster\",\"Goat\",\"Gorilla\"],\"xaxis\":\"x\",\"y\":[6,4,4,4,4,4,3,3,3,2,2,2,2,2,2,2,1,1,1,1,1,1,1,1,1,1,1],\"yaxis\":\"y\",\"type\":\"bar\"},{\"alignmentgroup\":\"True\",\"customdata\":[[\"Normal\"],[\"Normal\"],[\"Normal\"],[\"Normal\"],[\"Normal\"],[\"Normal\"],[\"Normal\"],[\"Normal\"],[\"Normal\"],[\"Normal\"],[\"Normal\"],[\"Normal\"],[\"Normal\"],[\"Normal\"],[\"Normal\"],[\"Normal\"],[\"Normal\"],[\"Normal\"],[\"Normal\"],[\"Normal\"],[\"Normal\"],[\"Normal\"],[\"Normal\"],[\"Normal\"],[\"Normal\"],[\"Normal\"],[\"Normal\"],[\"Normal\"],[\"Normal\"],[\"Normal\"],[\"Normal\"]],\"hovertemplate\":\"\\u003cb\\u003e%{hovertext}\\u003c\\u002fb\\u003e\\u003cbr\\u003e\\u003cbr\\u003ePersonality=%{customdata[0]}\\u003cbr\\u003eNumber of villagers=%{y}\\u003cextra\\u003e\\u003c\\u002fextra\\u003e\",\"hovertext\":[\"Squirrel\",\"Cub\",\"Dog\",\"Koala\",\"Sheep\",\"Elephant\",\"Kangaroo\",\"Cat\",\"Pig\",\"Ostrich\",\"Frog\",\"Horse\",\"Mouse\",\"Goat\",\"Duck\",\"Rhino\",\"Wolf\",\"Monkey\",\"Octopus\",\"Rabbit\",\"Penguin\",\"Chicken\",\"Cow\",\"Deer\",\"Alligator\",\"Anteater\",\"Bear\",\"Bird\",\"Eagle\",\"Hippo\",\"Hamster\"],\"legendgroup\":\"Normal\",\"marker\":{\"color\":\"#EF553B\",\"pattern\":{\"shape\":\"\"}},\"name\":\"Normal\",\"offsetgroup\":\"Normal\",\"orientation\":\"v\",\"showlegend\":true,\"textposition\":\"auto\",\"x\":[\"Squirrel\",\"Cub\",\"Dog\",\"Koala\",\"Sheep\",\"Elephant\",\"Kangaroo\",\"Cat\",\"Pig\",\"Ostrich\",\"Frog\",\"Horse\",\"Mouse\",\"Goat\",\"Duck\",\"Rhino\",\"Wolf\",\"Monkey\",\"Octopus\",\"Rabbit\",\"Penguin\",\"Chicken\",\"Cow\",\"Deer\",\"Alligator\",\"Anteater\",\"Bear\",\"Bird\",\"Eagle\",\"Hippo\",\"Hamster\"],\"xaxis\":\"x\",\"y\":[5,4,3,3,3,3,3,3,3,2,2,2,2,2,2,2,1,1,1,1,1,1,1,1,1,1,1,1,1,1,1],\"yaxis\":\"y\",\"type\":\"bar\"},{\"alignmentgroup\":\"True\",\"customdata\":[[\"Cranky\"],[\"Cranky\"],[\"Cranky\"],[\"Cranky\"],[\"Cranky\"],[\"Cranky\"],[\"Cranky\"],[\"Cranky\"],[\"Cranky\"],[\"Cranky\"],[\"Cranky\"],[\"Cranky\"],[\"Cranky\"],[\"Cranky\"],[\"Cranky\"],[\"Cranky\"],[\"Cranky\"],[\"Cranky\"],[\"Cranky\"],[\"Cranky\"],[\"Cranky\"],[\"Cranky\"],[\"Cranky\"],[\"Cranky\"],[\"Cranky\"],[\"Cranky\"],[\"Cranky\"],[\"Cranky\"],[\"Cranky\"],[\"Cranky\"],[\"Cranky\"]],\"hovertemplate\":\"\\u003cb\\u003e%{hovertext}\\u003c\\u002fb\\u003e\\u003cbr\\u003e\\u003cbr\\u003ePersonality=%{customdata[0]}\\u003cbr\\u003eNumber of villagers=%{y}\\u003cextra\\u003e\\u003c\\u002fextra\\u003e\",\"hovertext\":[\"Wolf\",\"Bear\",\"Eagle\",\"Frog\",\"Gorilla\",\"Bull\",\"Pig\",\"Mouse\",\"Kangaroo\",\"Hippo\",\"Cub\",\"Cat\",\"Squirrel\",\"Tiger\",\"Monkey\",\"Octopus\",\"Rhino\",\"Penguin\",\"Rabbit\",\"Alligator\",\"Deer\",\"Lion\",\"Dog\",\"Chicken\",\"Anteater\",\"Bird\",\"Horse\",\"Koala\",\"Elephant\",\"Goat\",\"Hamster\"],\"legendgroup\":\"Cranky\",\"marker\":{\"color\":\"#00cc96\",\"pattern\":{\"shape\":\"\"}},\"name\":\"Cranky\",\"offsetgroup\":\"Cranky\",\"orientation\":\"v\",\"showlegend\":true,\"textposition\":\"auto\",\"x\":[\"Wolf\",\"Bear\",\"Eagle\",\"Frog\",\"Gorilla\",\"Bull\",\"Pig\",\"Mouse\",\"Kangaroo\",\"Hippo\",\"Cub\",\"Cat\",\"Squirrel\",\"Tiger\",\"Monkey\",\"Octopus\",\"Rhino\",\"Penguin\",\"Rabbit\",\"Alligator\",\"Deer\",\"Lion\",\"Dog\",\"Chicken\",\"Anteater\",\"Bird\",\"Horse\",\"Koala\",\"Elephant\",\"Goat\",\"Hamster\"],\"xaxis\":\"x\",\"y\":[5,5,4,3,3,3,2,2,2,2,2,2,2,1,1,1,1,1,1,1,1,1,1,1,1,1,1,1,1,1,1],\"yaxis\":\"y\",\"type\":\"bar\"},{\"alignmentgroup\":\"True\",\"customdata\":[[\"Snooty\"],[\"Snooty\"],[\"Snooty\"],[\"Snooty\"],[\"Snooty\"],[\"Snooty\"],[\"Snooty\"],[\"Snooty\"],[\"Snooty\"],[\"Snooty\"],[\"Snooty\"],[\"Snooty\"],[\"Snooty\"],[\"Snooty\"],[\"Snooty\"],[\"Snooty\"],[\"Snooty\"],[\"Snooty\"],[\"Snooty\"],[\"Snooty\"],[\"Snooty\"],[\"Snooty\"],[\"Snooty\"],[\"Snooty\"],[\"Snooty\"],[\"Snooty\"],[\"Snooty\"],[\"Snooty\"],[\"Snooty\"],[\"Snooty\"]],\"hovertemplate\":\"\\u003cb\\u003e%{hovertext}\\u003c\\u002fb\\u003e\\u003cbr\\u003e\\u003cbr\\u003ePersonality=%{customdata[0]}\\u003cbr\\u003eNumber of villagers=%{y}\\u003cextra\\u003e\\u003c\\u002fextra\\u003e\",\"hovertext\":[\"Cat\",\"Sheep\",\"Squirrel\",\"Duck\",\"Ostrich\",\"Wolf\",\"Elephant\",\"Kangaroo\",\"Horse\",\"Mouse\",\"Penguin\",\"Chicken\",\"Cow\",\"Rabbit\",\"Tiger\",\"Monkey\",\"Pig\",\"Cub\",\"Deer\",\"Dog\",\"Alligator\",\"Anteater\",\"Bird\",\"Eagle\",\"Hippo\",\"Koala\",\"Hamster\",\"Frog\",\"Goat\",\"Gorilla\"],\"legendgroup\":\"Snooty\",\"marker\":{\"color\":\"#ab63fa\",\"pattern\":{\"shape\":\"\"}},\"name\":\"Snooty\",\"offsetgroup\":\"Snooty\",\"orientation\":\"v\",\"showlegend\":true,\"textposition\":\"auto\",\"x\":[\"Cat\",\"Sheep\",\"Squirrel\",\"Duck\",\"Ostrich\",\"Wolf\",\"Elephant\",\"Kangaroo\",\"Horse\",\"Mouse\",\"Penguin\",\"Chicken\",\"Cow\",\"Rabbit\",\"Tiger\",\"Monkey\",\"Pig\",\"Cub\",\"Deer\",\"Dog\",\"Alligator\",\"Anteater\",\"Bird\",\"Eagle\",\"Hippo\",\"Koala\",\"Hamster\",\"Frog\",\"Goat\",\"Gorilla\"],\"xaxis\":\"x\",\"y\":[5,4,4,4,3,3,2,2,2,2,2,2,2,2,1,1,1,1,1,1,1,1,1,1,1,1,1,1,1,1],\"yaxis\":\"y\",\"type\":\"bar\"},{\"alignmentgroup\":\"True\",\"customdata\":[[\"Jock\"],[\"Jock\"],[\"Jock\"],[\"Jock\"],[\"Jock\"],[\"Jock\"],[\"Jock\"],[\"Jock\"],[\"Jock\"],[\"Jock\"],[\"Jock\"],[\"Jock\"],[\"Jock\"],[\"Jock\"],[\"Jock\"],[\"Jock\"],[\"Jock\"],[\"Jock\"],[\"Jock\"],[\"Jock\"],[\"Jock\"],[\"Jock\"],[\"Jock\"],[\"Jock\"],[\"Jock\"],[\"Jock\"],[\"Jock\"],[\"Jock\"],[\"Jock\"],[\"Jock\"],[\"Jock\"]],\"hovertemplate\":\"\\u003cb\\u003e%{hovertext}\\u003c\\u002fb\\u003e\\u003cbr\\u003e\\u003cbr\\u003ePersonality=%{customdata[0]}\\u003cbr\\u003eNumber of villagers=%{y}\\u003cextra\\u003e\\u003c\\u002fextra\\u003e\",\"hovertext\":[\"Frog\",\"Bird\",\"Lion\",\"Pig\",\"Cat\",\"Tiger\",\"Mouse\",\"Eagle\",\"Alligator\",\"Gorilla\",\"Penguin\",\"Duck\",\"Cub\",\"Rabbit\",\"Squirrel\",\"Monkey\",\"Rhino\",\"Sheep\",\"Ostrich\",\"Deer\",\"Dog\",\"Chicken\",\"Anteater\",\"Bear\",\"Bull\",\"Hippo\",\"Horse\",\"Koala\",\"Hamster\",\"Elephant\",\"Goat\"],\"legendgroup\":\"Jock\",\"marker\":{\"color\":\"#FFA15A\",\"pattern\":{\"shape\":\"\"}},\"name\":\"Jock\",\"offsetgroup\":\"Jock\",\"orientation\":\"v\",\"showlegend\":true,\"textposition\":\"auto\",\"x\":[\"Frog\",\"Bird\",\"Lion\",\"Pig\",\"Cat\",\"Tiger\",\"Mouse\",\"Eagle\",\"Alligator\",\"Gorilla\",\"Penguin\",\"Duck\",\"Cub\",\"Rabbit\",\"Squirrel\",\"Monkey\",\"Rhino\",\"Sheep\",\"Ostrich\",\"Deer\",\"Dog\",\"Chicken\",\"Anteater\",\"Bear\",\"Bull\",\"Hippo\",\"Horse\",\"Koala\",\"Hamster\",\"Elephant\",\"Goat\"],\"xaxis\":\"x\",\"y\":[5,4,3,3,3,3,3,2,2,2,2,2,2,2,1,1,1,1,1,1,1,1,1,1,1,1,1,1,1,1,1],\"yaxis\":\"y\",\"type\":\"bar\"},{\"alignmentgroup\":\"True\",\"customdata\":[[\"Peppy\"],[\"Peppy\"],[\"Peppy\"],[\"Peppy\"],[\"Peppy\"],[\"Peppy\"],[\"Peppy\"],[\"Peppy\"],[\"Peppy\"],[\"Peppy\"],[\"Peppy\"],[\"Peppy\"],[\"Peppy\"],[\"Peppy\"],[\"Peppy\"],[\"Peppy\"],[\"Peppy\"],[\"Peppy\"],[\"Peppy\"],[\"Peppy\"],[\"Peppy\"],[\"Peppy\"]],\"hovertemplate\":\"\\u003cb\\u003e%{hovertext}\\u003c\\u002fb\\u003e\\u003cbr\\u003e\\u003cbr\\u003ePersonality=%{customdata[0]}\\u003cbr\\u003eNumber of villagers=%{y}\\u003cextra\\u003e\\u003c\\u002fextra\\u003e\",\"hovertext\":[\"Rabbit\",\"Cat\",\"Mouse\",\"Duck\",\"Squirrel\",\"Pig\",\"Horse\",\"Anteater\",\"Tiger\",\"Bear\",\"Bird\",\"Dog\",\"Cub\",\"Monkey\",\"Wolf\",\"Ostrich\",\"Penguin\",\"Sheep\",\"Cow\",\"Hamster\",\"Hippo\",\"Frog\"],\"legendgroup\":\"Peppy\",\"marker\":{\"color\":\"#19d3f3\",\"pattern\":{\"shape\":\"\"}},\"name\":\"Peppy\",\"offsetgroup\":\"Peppy\",\"orientation\":\"v\",\"showlegend\":true,\"textposition\":\"auto\",\"x\":[\"Rabbit\",\"Cat\",\"Mouse\",\"Duck\",\"Squirrel\",\"Pig\",\"Horse\",\"Anteater\",\"Tiger\",\"Bear\",\"Bird\",\"Dog\",\"Cub\",\"Monkey\",\"Wolf\",\"Ostrich\",\"Penguin\",\"Sheep\",\"Cow\",\"Hamster\",\"Hippo\",\"Frog\"],\"xaxis\":\"x\",\"y\":[8,5,4,4,3,2,2,2,2,2,2,2,2,1,1,1,1,1,1,1,1,1],\"yaxis\":\"y\",\"type\":\"bar\"},{\"alignmentgroup\":\"True\",\"customdata\":[[\"Smug\"],[\"Smug\"],[\"Smug\"],[\"Smug\"],[\"Smug\"],[\"Smug\"],[\"Smug\"],[\"Smug\"],[\"Smug\"],[\"Smug\"],[\"Smug\"],[\"Smug\"],[\"Smug\"],[\"Smug\"],[\"Smug\"],[\"Smug\"],[\"Smug\"],[\"Smug\"],[\"Smug\"],[\"Smug\"],[\"Smug\"],[\"Smug\"],[\"Smug\"],[\"Smug\"],[\"Smug\"]],\"hovertemplate\":\"\\u003cb\\u003e%{hovertext}\\u003c\\u002fb\\u003e\\u003cbr\\u003e\\u003cbr\\u003ePersonality=%{customdata[0]}\\u003cbr\\u003eNumber of villagers=%{y}\\u003cextra\\u003e\\u003c\\u002fextra\\u003e\",\"hovertext\":[\"Horse\",\"Hamster\",\"Frog\",\"Lion\",\"Bear\",\"Sheep\",\"Bird\",\"Deer\",\"Mouse\",\"Wolf\",\"Squirrel\",\"Penguin\",\"Pig\",\"Rabbit\",\"Ostrich\",\"Chicken\",\"Dog\",\"Duck\",\"Cat\",\"Anteater\",\"Eagle\",\"Hippo\",\"Koala\",\"Goat\",\"Gorilla\"],\"legendgroup\":\"Smug\",\"marker\":{\"color\":\"#FF6692\",\"pattern\":{\"shape\":\"\"}},\"name\":\"Smug\",\"offsetgroup\":\"Smug\",\"orientation\":\"v\",\"showlegend\":true,\"textposition\":\"auto\",\"x\":[\"Horse\",\"Hamster\",\"Frog\",\"Lion\",\"Bear\",\"Sheep\",\"Bird\",\"Deer\",\"Mouse\",\"Wolf\",\"Squirrel\",\"Penguin\",\"Pig\",\"Rabbit\",\"Ostrich\",\"Chicken\",\"Dog\",\"Duck\",\"Cat\",\"Anteater\",\"Eagle\",\"Hippo\",\"Koala\",\"Goat\",\"Gorilla\"],\"xaxis\":\"x\",\"y\":[3,2,2,2,2,2,2,2,1,1,1,1,1,1,1,1,1,1,1,1,1,1,1,1,1],\"yaxis\":\"y\",\"type\":\"bar\"},{\"alignmentgroup\":\"True\",\"customdata\":[[\"Big Sister\"],[\"Big Sister\"],[\"Big Sister\"],[\"Big Sister\"],[\"Big Sister\"],[\"Big Sister\"],[\"Big Sister\"],[\"Big Sister\"],[\"Big Sister\"],[\"Big Sister\"],[\"Big Sister\"],[\"Big Sister\"],[\"Big Sister\"],[\"Big Sister\"],[\"Big Sister\"],[\"Big Sister\"],[\"Big Sister\"],[\"Big Sister\"],[\"Big Sister\"],[\"Big Sister\"]],\"hovertemplate\":\"\\u003cb\\u003e%{hovertext}\\u003c\\u002fb\\u003e\\u003cbr\\u003e\\u003cbr\\u003ePersonality=%{customdata[0]}\\u003cbr\\u003eNumber of villagers=%{y}\\u003cextra\\u003e\\u003c\\u002fextra\\u003e\",\"hovertext\":[\"Bear\",\"Sheep\",\"Deer\",\"Rabbit\",\"Rhino\",\"Pig\",\"Ostrich\",\"Penguin\",\"Squirrel\",\"Monkey\",\"Cub\",\"Dog\",\"Chicken\",\"Cat\",\"Horse\",\"Kangaroo\",\"Koala\",\"Frog\",\"Goat\",\"Gorilla\"],\"legendgroup\":\"Big Sister\",\"marker\":{\"color\":\"#B6E880\",\"pattern\":{\"shape\":\"\"}},\"name\":\"Big Sister\",\"offsetgroup\":\"Big Sister\",\"orientation\":\"v\",\"showlegend\":true,\"textposition\":\"auto\",\"x\":[\"Bear\",\"Sheep\",\"Deer\",\"Rabbit\",\"Rhino\",\"Pig\",\"Ostrich\",\"Penguin\",\"Squirrel\",\"Monkey\",\"Cub\",\"Dog\",\"Chicken\",\"Cat\",\"Horse\",\"Kangaroo\",\"Koala\",\"Frog\",\"Goat\",\"Gorilla\"],\"xaxis\":\"x\",\"y\":[3,2,2,1,1,1,1,1,1,1,1,1,1,1,1,1,1,1,1,1],\"yaxis\":\"y\",\"type\":\"bar\"}],                        {\"template\":{\"data\":{\"histogram2dcontour\":[{\"type\":\"histogram2dcontour\",\"colorbar\":{\"outlinewidth\":0,\"ticks\":\"\"},\"colorscale\":[[0.0,\"#0d0887\"],[0.1111111111111111,\"#46039f\"],[0.2222222222222222,\"#7201a8\"],[0.3333333333333333,\"#9c179e\"],[0.4444444444444444,\"#bd3786\"],[0.5555555555555556,\"#d8576b\"],[0.6666666666666666,\"#ed7953\"],[0.7777777777777778,\"#fb9f3a\"],[0.8888888888888888,\"#fdca26\"],[1.0,\"#f0f921\"]]}],\"choropleth\":[{\"type\":\"choropleth\",\"colorbar\":{\"outlinewidth\":0,\"ticks\":\"\"}}],\"histogram2d\":[{\"type\":\"histogram2d\",\"colorbar\":{\"outlinewidth\":0,\"ticks\":\"\"},\"colorscale\":[[0.0,\"#0d0887\"],[0.1111111111111111,\"#46039f\"],[0.2222222222222222,\"#7201a8\"],[0.3333333333333333,\"#9c179e\"],[0.4444444444444444,\"#bd3786\"],[0.5555555555555556,\"#d8576b\"],[0.6666666666666666,\"#ed7953\"],[0.7777777777777778,\"#fb9f3a\"],[0.8888888888888888,\"#fdca26\"],[1.0,\"#f0f921\"]]}],\"heatmap\":[{\"type\":\"heatmap\",\"colorbar\":{\"outlinewidth\":0,\"ticks\":\"\"},\"colorscale\":[[0.0,\"#0d0887\"],[0.1111111111111111,\"#46039f\"],[0.2222222222222222,\"#7201a8\"],[0.3333333333333333,\"#9c179e\"],[0.4444444444444444,\"#bd3786\"],[0.5555555555555556,\"#d8576b\"],[0.6666666666666666,\"#ed7953\"],[0.7777777777777778,\"#fb9f3a\"],[0.8888888888888888,\"#fdca26\"],[1.0,\"#f0f921\"]]}],\"heatmapgl\":[{\"type\":\"heatmapgl\",\"colorbar\":{\"outlinewidth\":0,\"ticks\":\"\"},\"colorscale\":[[0.0,\"#0d0887\"],[0.1111111111111111,\"#46039f\"],[0.2222222222222222,\"#7201a8\"],[0.3333333333333333,\"#9c179e\"],[0.4444444444444444,\"#bd3786\"],[0.5555555555555556,\"#d8576b\"],[0.6666666666666666,\"#ed7953\"],[0.7777777777777778,\"#fb9f3a\"],[0.8888888888888888,\"#fdca26\"],[1.0,\"#f0f921\"]]}],\"contourcarpet\":[{\"type\":\"contourcarpet\",\"colorbar\":{\"outlinewidth\":0,\"ticks\":\"\"}}],\"contour\":[{\"type\":\"contour\",\"colorbar\":{\"outlinewidth\":0,\"ticks\":\"\"},\"colorscale\":[[0.0,\"#0d0887\"],[0.1111111111111111,\"#46039f\"],[0.2222222222222222,\"#7201a8\"],[0.3333333333333333,\"#9c179e\"],[0.4444444444444444,\"#bd3786\"],[0.5555555555555556,\"#d8576b\"],[0.6666666666666666,\"#ed7953\"],[0.7777777777777778,\"#fb9f3a\"],[0.8888888888888888,\"#fdca26\"],[1.0,\"#f0f921\"]]}],\"surface\":[{\"type\":\"surface\",\"colorbar\":{\"outlinewidth\":0,\"ticks\":\"\"},\"colorscale\":[[0.0,\"#0d0887\"],[0.1111111111111111,\"#46039f\"],[0.2222222222222222,\"#7201a8\"],[0.3333333333333333,\"#9c179e\"],[0.4444444444444444,\"#bd3786\"],[0.5555555555555556,\"#d8576b\"],[0.6666666666666666,\"#ed7953\"],[0.7777777777777778,\"#fb9f3a\"],[0.8888888888888888,\"#fdca26\"],[1.0,\"#f0f921\"]]}],\"mesh3d\":[{\"type\":\"mesh3d\",\"colorbar\":{\"outlinewidth\":0,\"ticks\":\"\"}}],\"scatter\":[{\"fillpattern\":{\"fillmode\":\"overlay\",\"size\":10,\"solidity\":0.2},\"type\":\"scatter\"}],\"parcoords\":[{\"type\":\"parcoords\",\"line\":{\"colorbar\":{\"outlinewidth\":0,\"ticks\":\"\"}}}],\"scatterpolargl\":[{\"type\":\"scatterpolargl\",\"marker\":{\"colorbar\":{\"outlinewidth\":0,\"ticks\":\"\"}}}],\"bar\":[{\"error_x\":{\"color\":\"#2a3f5f\"},\"error_y\":{\"color\":\"#2a3f5f\"},\"marker\":{\"line\":{\"color\":\"#E5ECF6\",\"width\":0.5},\"pattern\":{\"fillmode\":\"overlay\",\"size\":10,\"solidity\":0.2}},\"type\":\"bar\"}],\"scattergeo\":[{\"type\":\"scattergeo\",\"marker\":{\"colorbar\":{\"outlinewidth\":0,\"ticks\":\"\"}}}],\"scatterpolar\":[{\"type\":\"scatterpolar\",\"marker\":{\"colorbar\":{\"outlinewidth\":0,\"ticks\":\"\"}}}],\"histogram\":[{\"marker\":{\"pattern\":{\"fillmode\":\"overlay\",\"size\":10,\"solidity\":0.2}},\"type\":\"histogram\"}],\"scattergl\":[{\"type\":\"scattergl\",\"marker\":{\"colorbar\":{\"outlinewidth\":0,\"ticks\":\"\"}}}],\"scatter3d\":[{\"type\":\"scatter3d\",\"line\":{\"colorbar\":{\"outlinewidth\":0,\"ticks\":\"\"}},\"marker\":{\"colorbar\":{\"outlinewidth\":0,\"ticks\":\"\"}}}],\"scattermapbox\":[{\"type\":\"scattermapbox\",\"marker\":{\"colorbar\":{\"outlinewidth\":0,\"ticks\":\"\"}}}],\"scatterternary\":[{\"type\":\"scatterternary\",\"marker\":{\"colorbar\":{\"outlinewidth\":0,\"ticks\":\"\"}}}],\"scattercarpet\":[{\"type\":\"scattercarpet\",\"marker\":{\"colorbar\":{\"outlinewidth\":0,\"ticks\":\"\"}}}],\"carpet\":[{\"aaxis\":{\"endlinecolor\":\"#2a3f5f\",\"gridcolor\":\"white\",\"linecolor\":\"white\",\"minorgridcolor\":\"white\",\"startlinecolor\":\"#2a3f5f\"},\"baxis\":{\"endlinecolor\":\"#2a3f5f\",\"gridcolor\":\"white\",\"linecolor\":\"white\",\"minorgridcolor\":\"white\",\"startlinecolor\":\"#2a3f5f\"},\"type\":\"carpet\"}],\"table\":[{\"cells\":{\"fill\":{\"color\":\"#EBF0F8\"},\"line\":{\"color\":\"white\"}},\"header\":{\"fill\":{\"color\":\"#C8D4E3\"},\"line\":{\"color\":\"white\"}},\"type\":\"table\"}],\"barpolar\":[{\"marker\":{\"line\":{\"color\":\"#E5ECF6\",\"width\":0.5},\"pattern\":{\"fillmode\":\"overlay\",\"size\":10,\"solidity\":0.2}},\"type\":\"barpolar\"}],\"pie\":[{\"automargin\":true,\"type\":\"pie\"}]},\"layout\":{\"autotypenumbers\":\"strict\",\"colorway\":[\"#636efa\",\"#EF553B\",\"#00cc96\",\"#ab63fa\",\"#FFA15A\",\"#19d3f3\",\"#FF6692\",\"#B6E880\",\"#FF97FF\",\"#FECB52\"],\"font\":{\"color\":\"#2a3f5f\"},\"hovermode\":\"closest\",\"hoverlabel\":{\"align\":\"left\"},\"paper_bgcolor\":\"white\",\"plot_bgcolor\":\"#E5ECF6\",\"polar\":{\"bgcolor\":\"#E5ECF6\",\"angularaxis\":{\"gridcolor\":\"white\",\"linecolor\":\"white\",\"ticks\":\"\"},\"radialaxis\":{\"gridcolor\":\"white\",\"linecolor\":\"white\",\"ticks\":\"\"}},\"ternary\":{\"bgcolor\":\"#E5ECF6\",\"aaxis\":{\"gridcolor\":\"white\",\"linecolor\":\"white\",\"ticks\":\"\"},\"baxis\":{\"gridcolor\":\"white\",\"linecolor\":\"white\",\"ticks\":\"\"},\"caxis\":{\"gridcolor\":\"white\",\"linecolor\":\"white\",\"ticks\":\"\"}},\"coloraxis\":{\"colorbar\":{\"outlinewidth\":0,\"ticks\":\"\"}},\"colorscale\":{\"sequential\":[[0.0,\"#0d0887\"],[0.1111111111111111,\"#46039f\"],[0.2222222222222222,\"#7201a8\"],[0.3333333333333333,\"#9c179e\"],[0.4444444444444444,\"#bd3786\"],[0.5555555555555556,\"#d8576b\"],[0.6666666666666666,\"#ed7953\"],[0.7777777777777778,\"#fb9f3a\"],[0.8888888888888888,\"#fdca26\"],[1.0,\"#f0f921\"]],\"sequentialminus\":[[0.0,\"#0d0887\"],[0.1111111111111111,\"#46039f\"],[0.2222222222222222,\"#7201a8\"],[0.3333333333333333,\"#9c179e\"],[0.4444444444444444,\"#bd3786\"],[0.5555555555555556,\"#d8576b\"],[0.6666666666666666,\"#ed7953\"],[0.7777777777777778,\"#fb9f3a\"],[0.8888888888888888,\"#fdca26\"],[1.0,\"#f0f921\"]],\"diverging\":[[0,\"#8e0152\"],[0.1,\"#c51b7d\"],[0.2,\"#de77ae\"],[0.3,\"#f1b6da\"],[0.4,\"#fde0ef\"],[0.5,\"#f7f7f7\"],[0.6,\"#e6f5d0\"],[0.7,\"#b8e186\"],[0.8,\"#7fbc41\"],[0.9,\"#4d9221\"],[1,\"#276419\"]]},\"xaxis\":{\"gridcolor\":\"white\",\"linecolor\":\"white\",\"ticks\":\"\",\"title\":{\"standoff\":15},\"zerolinecolor\":\"white\",\"automargin\":true,\"zerolinewidth\":2},\"yaxis\":{\"gridcolor\":\"white\",\"linecolor\":\"white\",\"ticks\":\"\",\"title\":{\"standoff\":15},\"zerolinecolor\":\"white\",\"automargin\":true,\"zerolinewidth\":2},\"scene\":{\"xaxis\":{\"backgroundcolor\":\"#E5ECF6\",\"gridcolor\":\"white\",\"linecolor\":\"white\",\"showbackground\":true,\"ticks\":\"\",\"zerolinecolor\":\"white\",\"gridwidth\":2},\"yaxis\":{\"backgroundcolor\":\"#E5ECF6\",\"gridcolor\":\"white\",\"linecolor\":\"white\",\"showbackground\":true,\"ticks\":\"\",\"zerolinecolor\":\"white\",\"gridwidth\":2},\"zaxis\":{\"backgroundcolor\":\"#E5ECF6\",\"gridcolor\":\"white\",\"linecolor\":\"white\",\"showbackground\":true,\"ticks\":\"\",\"zerolinecolor\":\"white\",\"gridwidth\":2}},\"shapedefaults\":{\"line\":{\"color\":\"#2a3f5f\"}},\"annotationdefaults\":{\"arrowcolor\":\"#2a3f5f\",\"arrowhead\":0,\"arrowwidth\":1},\"geo\":{\"bgcolor\":\"white\",\"landcolor\":\"#E5ECF6\",\"subunitcolor\":\"white\",\"showland\":true,\"showlakes\":true,\"lakecolor\":\"white\"},\"title\":{\"x\":0.05},\"mapbox\":{\"style\":\"light\"}}},\"xaxis\":{\"anchor\":\"y\",\"domain\":[0.0,1.0],\"title\":{\"text\":\"Species\"},\"categoryorder\":\"total descending\"},\"yaxis\":{\"anchor\":\"x\",\"domain\":[0.0,1.0],\"title\":{\"text\":\"Number of villagers\"}},\"legend\":{\"title\":{\"text\":\"Personality\"},\"tracegroupgap\":0},\"title\":{\"text\":\"Personality type by species\"},\"barmode\":\"relative\"},                        {\"responsive\": true}                    ).then(function(){\n",
       "                            \n",
       "var gd = document.getElementById('3ee192aa-538a-499e-acc3-efda1643f432');\n",
       "var x = new MutationObserver(function (mutations, observer) {{\n",
       "        var display = window.getComputedStyle(gd).display;\n",
       "        if (!display || display === 'none') {{\n",
       "            console.log([gd, 'removed!']);\n",
       "            Plotly.purge(gd);\n",
       "            observer.disconnect();\n",
       "        }}\n",
       "}});\n",
       "\n",
       "// Listen for the removal of the full notebook cells\n",
       "var notebookContainer = gd.closest('#notebook-container');\n",
       "if (notebookContainer) {{\n",
       "    x.observe(notebookContainer, {childList: true});\n",
       "}}\n",
       "\n",
       "// Listen for the clearing of the current output cell\n",
       "var outputEl = gd.closest('.output');\n",
       "if (outputEl) {{\n",
       "    x.observe(outputEl, {childList: true});\n",
       "}}\n",
       "\n",
       "                        })                };                });            </script>        </div>"
      ]
     },
     "metadata": {},
     "output_type": "display_data"
    }
   ],
   "source": [
    "## Visualising personality types by species\n",
    "fig = px.bar(species_personality, x='Species', y='Count', color='Personality', title='Personality type by species',\n",
    "             labels={\"Count\": \"Number of villagers\"},\n",
    "             hover_name='Species', hover_data={'Personality':True, 'Species':False, 'Count':True},\n",
    "             category_orders={'Personality': ['Lazy', 'Normal', 'Cranky', 'Snooty', 'Jock', 'Peppy', 'Smug', 'Big Sister']})\n",
    "fig.update_xaxes(categoryorder='total descending')\n",
    "fig.show()"
   ]
  },
  {
   "cell_type": "markdown",
   "id": "78508b5d",
   "metadata": {
    "papermill": {
     "duration": 0.006591,
     "end_time": "2023-10-20T13:26:50.269708",
     "exception": false,
     "start_time": "2023-10-20T13:26:50.263117",
     "status": "completed"
    },
    "tags": []
   },
   "source": [
    "## Villager hobbies"
   ]
  },
  {
   "cell_type": "code",
   "execution_count": 12,
   "id": "2efda293",
   "metadata": {
    "execution": {
     "iopub.execute_input": "2023-10-20T13:26:50.285391Z",
     "iopub.status.busy": "2023-10-20T13:26:50.284997Z",
     "iopub.status.idle": "2023-10-20T13:26:50.296429Z",
     "shell.execute_reply": "2023-10-20T13:26:50.295293Z"
    },
    "papermill": {
     "duration": 0.022328,
     "end_time": "2023-10-20T13:26:50.298776",
     "exception": false,
     "start_time": "2023-10-20T13:26:50.276448",
     "status": "completed"
    },
    "tags": []
   },
   "outputs": [
    {
     "data": {
      "text/html": [
       "<div>\n",
       "<style scoped>\n",
       "    .dataframe tbody tr th:only-of-type {\n",
       "        vertical-align: middle;\n",
       "    }\n",
       "\n",
       "    .dataframe tbody tr th {\n",
       "        vertical-align: top;\n",
       "    }\n",
       "\n",
       "    .dataframe thead th {\n",
       "        text-align: right;\n",
       "    }\n",
       "</style>\n",
       "<table border=\"1\" class=\"dataframe\">\n",
       "  <thead>\n",
       "    <tr style=\"text-align: right;\">\n",
       "      <th></th>\n",
       "      <th>Hobby</th>\n",
       "      <th>Count</th>\n",
       "    </tr>\n",
       "  </thead>\n",
       "  <tbody>\n",
       "    <tr>\n",
       "      <th>0</th>\n",
       "      <td>Nature</td>\n",
       "      <td>66</td>\n",
       "    </tr>\n",
       "    <tr>\n",
       "      <th>1</th>\n",
       "      <td>Fitness</td>\n",
       "      <td>66</td>\n",
       "    </tr>\n",
       "    <tr>\n",
       "      <th>2</th>\n",
       "      <td>Fashion</td>\n",
       "      <td>66</td>\n",
       "    </tr>\n",
       "    <tr>\n",
       "      <th>3</th>\n",
       "      <td>Play</td>\n",
       "      <td>65</td>\n",
       "    </tr>\n",
       "    <tr>\n",
       "      <th>4</th>\n",
       "      <td>Education</td>\n",
       "      <td>64</td>\n",
       "    </tr>\n",
       "    <tr>\n",
       "      <th>5</th>\n",
       "      <td>Music</td>\n",
       "      <td>64</td>\n",
       "    </tr>\n",
       "  </tbody>\n",
       "</table>\n",
       "</div>"
      ],
      "text/plain": [
       "       Hobby  Count\n",
       "0     Nature     66\n",
       "1    Fitness     66\n",
       "2    Fashion     66\n",
       "3       Play     65\n",
       "4  Education     64\n",
       "5      Music     64"
      ]
     },
     "execution_count": 12,
     "metadata": {},
     "output_type": "execute_result"
    }
   ],
   "source": [
    "## Creating a dataframe of hobby counts\n",
    "hobby_count = pd.DataFrame(villagers['Hobby'].value_counts().reset_index(name='Count'))\n",
    "hobby_count"
   ]
  },
  {
   "cell_type": "code",
   "execution_count": 13,
   "id": "6672aab1",
   "metadata": {
    "execution": {
     "iopub.execute_input": "2023-10-20T13:26:50.314087Z",
     "iopub.status.busy": "2023-10-20T13:26:50.313681Z",
     "iopub.status.idle": "2023-10-20T13:26:50.326683Z",
     "shell.execute_reply": "2023-10-20T13:26:50.325575Z"
    },
    "papermill": {
     "duration": 0.023236,
     "end_time": "2023-10-20T13:26:50.328948",
     "exception": false,
     "start_time": "2023-10-20T13:26:50.305712",
     "status": "completed"
    },
    "tags": []
   },
   "outputs": [
    {
     "data": {
      "text/html": [
       "<div>                            <div id=\"8d0a9b49-355a-4b34-aca3-ac40e9bd949b\" class=\"plotly-graph-div\" style=\"height:525px; width:100%;\"></div>            <script type=\"text/javascript\">                require([\"plotly\"], function(Plotly) {                    window.PLOTLYENV=window.PLOTLYENV || {};                                    if (document.getElementById(\"8d0a9b49-355a-4b34-aca3-ac40e9bd949b\")) {                    Plotly.newPlot(                        \"8d0a9b49-355a-4b34-aca3-ac40e9bd949b\",                        [{\"direction\":\"clockwise\",\"hovertemplate\":\"\\u003cb\\u003e%{label}\\u003c\\u002fb\\u003e \\u003c\\u002fbr\\u003eNumber of villagers: %{value} \\u003cbr\\u003e% of villagers: %{percent}\",\"labels\":[\"Nature\",\"Fitness\",\"Fashion\",\"Play\",\"Education\",\"Music\"],\"name\":\"\",\"values\":[66,66,66,65,64,64],\"type\":\"pie\",\"textposition\":\"inside\"}],                        {\"template\":{\"data\":{\"histogram2dcontour\":[{\"type\":\"histogram2dcontour\",\"colorbar\":{\"outlinewidth\":0,\"ticks\":\"\"},\"colorscale\":[[0.0,\"#0d0887\"],[0.1111111111111111,\"#46039f\"],[0.2222222222222222,\"#7201a8\"],[0.3333333333333333,\"#9c179e\"],[0.4444444444444444,\"#bd3786\"],[0.5555555555555556,\"#d8576b\"],[0.6666666666666666,\"#ed7953\"],[0.7777777777777778,\"#fb9f3a\"],[0.8888888888888888,\"#fdca26\"],[1.0,\"#f0f921\"]]}],\"choropleth\":[{\"type\":\"choropleth\",\"colorbar\":{\"outlinewidth\":0,\"ticks\":\"\"}}],\"histogram2d\":[{\"type\":\"histogram2d\",\"colorbar\":{\"outlinewidth\":0,\"ticks\":\"\"},\"colorscale\":[[0.0,\"#0d0887\"],[0.1111111111111111,\"#46039f\"],[0.2222222222222222,\"#7201a8\"],[0.3333333333333333,\"#9c179e\"],[0.4444444444444444,\"#bd3786\"],[0.5555555555555556,\"#d8576b\"],[0.6666666666666666,\"#ed7953\"],[0.7777777777777778,\"#fb9f3a\"],[0.8888888888888888,\"#fdca26\"],[1.0,\"#f0f921\"]]}],\"heatmap\":[{\"type\":\"heatmap\",\"colorbar\":{\"outlinewidth\":0,\"ticks\":\"\"},\"colorscale\":[[0.0,\"#0d0887\"],[0.1111111111111111,\"#46039f\"],[0.2222222222222222,\"#7201a8\"],[0.3333333333333333,\"#9c179e\"],[0.4444444444444444,\"#bd3786\"],[0.5555555555555556,\"#d8576b\"],[0.6666666666666666,\"#ed7953\"],[0.7777777777777778,\"#fb9f3a\"],[0.8888888888888888,\"#fdca26\"],[1.0,\"#f0f921\"]]}],\"heatmapgl\":[{\"type\":\"heatmapgl\",\"colorbar\":{\"outlinewidth\":0,\"ticks\":\"\"},\"colorscale\":[[0.0,\"#0d0887\"],[0.1111111111111111,\"#46039f\"],[0.2222222222222222,\"#7201a8\"],[0.3333333333333333,\"#9c179e\"],[0.4444444444444444,\"#bd3786\"],[0.5555555555555556,\"#d8576b\"],[0.6666666666666666,\"#ed7953\"],[0.7777777777777778,\"#fb9f3a\"],[0.8888888888888888,\"#fdca26\"],[1.0,\"#f0f921\"]]}],\"contourcarpet\":[{\"type\":\"contourcarpet\",\"colorbar\":{\"outlinewidth\":0,\"ticks\":\"\"}}],\"contour\":[{\"type\":\"contour\",\"colorbar\":{\"outlinewidth\":0,\"ticks\":\"\"},\"colorscale\":[[0.0,\"#0d0887\"],[0.1111111111111111,\"#46039f\"],[0.2222222222222222,\"#7201a8\"],[0.3333333333333333,\"#9c179e\"],[0.4444444444444444,\"#bd3786\"],[0.5555555555555556,\"#d8576b\"],[0.6666666666666666,\"#ed7953\"],[0.7777777777777778,\"#fb9f3a\"],[0.8888888888888888,\"#fdca26\"],[1.0,\"#f0f921\"]]}],\"surface\":[{\"type\":\"surface\",\"colorbar\":{\"outlinewidth\":0,\"ticks\":\"\"},\"colorscale\":[[0.0,\"#0d0887\"],[0.1111111111111111,\"#46039f\"],[0.2222222222222222,\"#7201a8\"],[0.3333333333333333,\"#9c179e\"],[0.4444444444444444,\"#bd3786\"],[0.5555555555555556,\"#d8576b\"],[0.6666666666666666,\"#ed7953\"],[0.7777777777777778,\"#fb9f3a\"],[0.8888888888888888,\"#fdca26\"],[1.0,\"#f0f921\"]]}],\"mesh3d\":[{\"type\":\"mesh3d\",\"colorbar\":{\"outlinewidth\":0,\"ticks\":\"\"}}],\"scatter\":[{\"fillpattern\":{\"fillmode\":\"overlay\",\"size\":10,\"solidity\":0.2},\"type\":\"scatter\"}],\"parcoords\":[{\"type\":\"parcoords\",\"line\":{\"colorbar\":{\"outlinewidth\":0,\"ticks\":\"\"}}}],\"scatterpolargl\":[{\"type\":\"scatterpolargl\",\"marker\":{\"colorbar\":{\"outlinewidth\":0,\"ticks\":\"\"}}}],\"bar\":[{\"error_x\":{\"color\":\"#2a3f5f\"},\"error_y\":{\"color\":\"#2a3f5f\"},\"marker\":{\"line\":{\"color\":\"#E5ECF6\",\"width\":0.5},\"pattern\":{\"fillmode\":\"overlay\",\"size\":10,\"solidity\":0.2}},\"type\":\"bar\"}],\"scattergeo\":[{\"type\":\"scattergeo\",\"marker\":{\"colorbar\":{\"outlinewidth\":0,\"ticks\":\"\"}}}],\"scatterpolar\":[{\"type\":\"scatterpolar\",\"marker\":{\"colorbar\":{\"outlinewidth\":0,\"ticks\":\"\"}}}],\"histogram\":[{\"marker\":{\"pattern\":{\"fillmode\":\"overlay\",\"size\":10,\"solidity\":0.2}},\"type\":\"histogram\"}],\"scattergl\":[{\"type\":\"scattergl\",\"marker\":{\"colorbar\":{\"outlinewidth\":0,\"ticks\":\"\"}}}],\"scatter3d\":[{\"type\":\"scatter3d\",\"line\":{\"colorbar\":{\"outlinewidth\":0,\"ticks\":\"\"}},\"marker\":{\"colorbar\":{\"outlinewidth\":0,\"ticks\":\"\"}}}],\"scattermapbox\":[{\"type\":\"scattermapbox\",\"marker\":{\"colorbar\":{\"outlinewidth\":0,\"ticks\":\"\"}}}],\"scatterternary\":[{\"type\":\"scatterternary\",\"marker\":{\"colorbar\":{\"outlinewidth\":0,\"ticks\":\"\"}}}],\"scattercarpet\":[{\"type\":\"scattercarpet\",\"marker\":{\"colorbar\":{\"outlinewidth\":0,\"ticks\":\"\"}}}],\"carpet\":[{\"aaxis\":{\"endlinecolor\":\"#2a3f5f\",\"gridcolor\":\"white\",\"linecolor\":\"white\",\"minorgridcolor\":\"white\",\"startlinecolor\":\"#2a3f5f\"},\"baxis\":{\"endlinecolor\":\"#2a3f5f\",\"gridcolor\":\"white\",\"linecolor\":\"white\",\"minorgridcolor\":\"white\",\"startlinecolor\":\"#2a3f5f\"},\"type\":\"carpet\"}],\"table\":[{\"cells\":{\"fill\":{\"color\":\"#EBF0F8\"},\"line\":{\"color\":\"white\"}},\"header\":{\"fill\":{\"color\":\"#C8D4E3\"},\"line\":{\"color\":\"white\"}},\"type\":\"table\"}],\"barpolar\":[{\"marker\":{\"line\":{\"color\":\"#E5ECF6\",\"width\":0.5},\"pattern\":{\"fillmode\":\"overlay\",\"size\":10,\"solidity\":0.2}},\"type\":\"barpolar\"}],\"pie\":[{\"automargin\":true,\"type\":\"pie\"}]},\"layout\":{\"autotypenumbers\":\"strict\",\"colorway\":[\"#636efa\",\"#EF553B\",\"#00cc96\",\"#ab63fa\",\"#FFA15A\",\"#19d3f3\",\"#FF6692\",\"#B6E880\",\"#FF97FF\",\"#FECB52\"],\"font\":{\"color\":\"#2a3f5f\"},\"hovermode\":\"closest\",\"hoverlabel\":{\"align\":\"left\"},\"paper_bgcolor\":\"white\",\"plot_bgcolor\":\"#E5ECF6\",\"polar\":{\"bgcolor\":\"#E5ECF6\",\"angularaxis\":{\"gridcolor\":\"white\",\"linecolor\":\"white\",\"ticks\":\"\"},\"radialaxis\":{\"gridcolor\":\"white\",\"linecolor\":\"white\",\"ticks\":\"\"}},\"ternary\":{\"bgcolor\":\"#E5ECF6\",\"aaxis\":{\"gridcolor\":\"white\",\"linecolor\":\"white\",\"ticks\":\"\"},\"baxis\":{\"gridcolor\":\"white\",\"linecolor\":\"white\",\"ticks\":\"\"},\"caxis\":{\"gridcolor\":\"white\",\"linecolor\":\"white\",\"ticks\":\"\"}},\"coloraxis\":{\"colorbar\":{\"outlinewidth\":0,\"ticks\":\"\"}},\"colorscale\":{\"sequential\":[[0.0,\"#0d0887\"],[0.1111111111111111,\"#46039f\"],[0.2222222222222222,\"#7201a8\"],[0.3333333333333333,\"#9c179e\"],[0.4444444444444444,\"#bd3786\"],[0.5555555555555556,\"#d8576b\"],[0.6666666666666666,\"#ed7953\"],[0.7777777777777778,\"#fb9f3a\"],[0.8888888888888888,\"#fdca26\"],[1.0,\"#f0f921\"]],\"sequentialminus\":[[0.0,\"#0d0887\"],[0.1111111111111111,\"#46039f\"],[0.2222222222222222,\"#7201a8\"],[0.3333333333333333,\"#9c179e\"],[0.4444444444444444,\"#bd3786\"],[0.5555555555555556,\"#d8576b\"],[0.6666666666666666,\"#ed7953\"],[0.7777777777777778,\"#fb9f3a\"],[0.8888888888888888,\"#fdca26\"],[1.0,\"#f0f921\"]],\"diverging\":[[0,\"#8e0152\"],[0.1,\"#c51b7d\"],[0.2,\"#de77ae\"],[0.3,\"#f1b6da\"],[0.4,\"#fde0ef\"],[0.5,\"#f7f7f7\"],[0.6,\"#e6f5d0\"],[0.7,\"#b8e186\"],[0.8,\"#7fbc41\"],[0.9,\"#4d9221\"],[1,\"#276419\"]]},\"xaxis\":{\"gridcolor\":\"white\",\"linecolor\":\"white\",\"ticks\":\"\",\"title\":{\"standoff\":15},\"zerolinecolor\":\"white\",\"automargin\":true,\"zerolinewidth\":2},\"yaxis\":{\"gridcolor\":\"white\",\"linecolor\":\"white\",\"ticks\":\"\",\"title\":{\"standoff\":15},\"zerolinecolor\":\"white\",\"automargin\":true,\"zerolinewidth\":2},\"scene\":{\"xaxis\":{\"backgroundcolor\":\"#E5ECF6\",\"gridcolor\":\"white\",\"linecolor\":\"white\",\"showbackground\":true,\"ticks\":\"\",\"zerolinecolor\":\"white\",\"gridwidth\":2},\"yaxis\":{\"backgroundcolor\":\"#E5ECF6\",\"gridcolor\":\"white\",\"linecolor\":\"white\",\"showbackground\":true,\"ticks\":\"\",\"zerolinecolor\":\"white\",\"gridwidth\":2},\"zaxis\":{\"backgroundcolor\":\"#E5ECF6\",\"gridcolor\":\"white\",\"linecolor\":\"white\",\"showbackground\":true,\"ticks\":\"\",\"zerolinecolor\":\"white\",\"gridwidth\":2}},\"shapedefaults\":{\"line\":{\"color\":\"#2a3f5f\"}},\"annotationdefaults\":{\"arrowcolor\":\"#2a3f5f\",\"arrowhead\":0,\"arrowwidth\":1},\"geo\":{\"bgcolor\":\"white\",\"landcolor\":\"#E5ECF6\",\"subunitcolor\":\"white\",\"showland\":true,\"showlakes\":true,\"lakecolor\":\"white\"},\"title\":{\"x\":0.05},\"mapbox\":{\"style\":\"light\"}}},\"title\":{\"text\":\"Villager hobby distribution\"},\"legend\":{\"title\":{\"text\":\"Hobby\"}}},                        {\"responsive\": true}                    ).then(function(){\n",
       "                            \n",
       "var gd = document.getElementById('8d0a9b49-355a-4b34-aca3-ac40e9bd949b');\n",
       "var x = new MutationObserver(function (mutations, observer) {{\n",
       "        var display = window.getComputedStyle(gd).display;\n",
       "        if (!display || display === 'none') {{\n",
       "            console.log([gd, 'removed!']);\n",
       "            Plotly.purge(gd);\n",
       "            observer.disconnect();\n",
       "        }}\n",
       "}});\n",
       "\n",
       "// Listen for the removal of the full notebook cells\n",
       "var notebookContainer = gd.closest('#notebook-container');\n",
       "if (notebookContainer) {{\n",
       "    x.observe(notebookContainer, {childList: true});\n",
       "}}\n",
       "\n",
       "// Listen for the clearing of the current output cell\n",
       "var outputEl = gd.closest('.output');\n",
       "if (outputEl) {{\n",
       "    x.observe(outputEl, {childList: true});\n",
       "}}\n",
       "\n",
       "                        })                };                });            </script>        </div>"
      ]
     },
     "metadata": {},
     "output_type": "display_data"
    }
   ],
   "source": [
    "## Visualising villager hobby distribution\n",
    "fig = go.Figure(data=[go.Pie(labels=hobby_count['Hobby'], \n",
    "                             values=hobby_count['Count'], \n",
    "                             direction='clockwise',\n",
    "                             hovertemplate = '<b>%{label}</b> </br>Number of villagers: %{value} <br>% of villagers: %{percent}',\n",
    "                             name='')])\n",
    "fig.update_traces(textposition='inside')\n",
    "fig.update_layout(title='Villager hobby distribution', legend_title='Hobby')\n",
    "fig.show()"
   ]
  },
  {
   "cell_type": "code",
   "execution_count": 14,
   "id": "b0c6bce1",
   "metadata": {
    "execution": {
     "iopub.execute_input": "2023-10-20T13:26:50.345022Z",
     "iopub.status.busy": "2023-10-20T13:26:50.344431Z",
     "iopub.status.idle": "2023-10-20T13:26:50.357772Z",
     "shell.execute_reply": "2023-10-20T13:26:50.356660Z"
    },
    "papermill": {
     "duration": 0.023845,
     "end_time": "2023-10-20T13:26:50.359844",
     "exception": false,
     "start_time": "2023-10-20T13:26:50.335999",
     "status": "completed"
    },
    "tags": []
   },
   "outputs": [
    {
     "data": {
      "text/html": [
       "<div>\n",
       "<style scoped>\n",
       "    .dataframe tbody tr th:only-of-type {\n",
       "        vertical-align: middle;\n",
       "    }\n",
       "\n",
       "    .dataframe tbody tr th {\n",
       "        vertical-align: top;\n",
       "    }\n",
       "\n",
       "    .dataframe thead th {\n",
       "        text-align: right;\n",
       "    }\n",
       "</style>\n",
       "<table border=\"1\" class=\"dataframe\">\n",
       "  <thead>\n",
       "    <tr style=\"text-align: right;\">\n",
       "      <th></th>\n",
       "      <th>Species</th>\n",
       "      <th>Hobby</th>\n",
       "      <th>Count</th>\n",
       "    </tr>\n",
       "  </thead>\n",
       "  <tbody>\n",
       "    <tr>\n",
       "      <th>0</th>\n",
       "      <td>Gorilla</td>\n",
       "      <td>Fitness</td>\n",
       "      <td>9</td>\n",
       "    </tr>\n",
       "    <tr>\n",
       "      <th>1</th>\n",
       "      <td>Rabbit</td>\n",
       "      <td>Fashion</td>\n",
       "      <td>8</td>\n",
       "    </tr>\n",
       "    <tr>\n",
       "      <th>2</th>\n",
       "      <td>Cat</td>\n",
       "      <td>Music</td>\n",
       "      <td>7</td>\n",
       "    </tr>\n",
       "    <tr>\n",
       "      <th>3</th>\n",
       "      <td>Cub</td>\n",
       "      <td>Play</td>\n",
       "      <td>6</td>\n",
       "    </tr>\n",
       "    <tr>\n",
       "      <th>4</th>\n",
       "      <td>Sheep</td>\n",
       "      <td>Fashion</td>\n",
       "      <td>6</td>\n",
       "    </tr>\n",
       "    <tr>\n",
       "      <th>5</th>\n",
       "      <td>Frog</td>\n",
       "      <td>Fitness</td>\n",
       "      <td>6</td>\n",
       "    </tr>\n",
       "    <tr>\n",
       "      <th>6</th>\n",
       "      <td>Dog</td>\n",
       "      <td>Play</td>\n",
       "      <td>6</td>\n",
       "    </tr>\n",
       "    <tr>\n",
       "      <th>7</th>\n",
       "      <td>Duck</td>\n",
       "      <td>Fashion</td>\n",
       "      <td>6</td>\n",
       "    </tr>\n",
       "    <tr>\n",
       "      <th>8</th>\n",
       "      <td>Hippo</td>\n",
       "      <td>Education</td>\n",
       "      <td>5</td>\n",
       "    </tr>\n",
       "    <tr>\n",
       "      <th>9</th>\n",
       "      <td>Rabbit</td>\n",
       "      <td>Nature</td>\n",
       "      <td>5</td>\n",
       "    </tr>\n",
       "  </tbody>\n",
       "</table>\n",
       "</div>"
      ],
      "text/plain": [
       "   Species      Hobby  Count\n",
       "0  Gorilla    Fitness      9\n",
       "1   Rabbit    Fashion      8\n",
       "2      Cat      Music      7\n",
       "3      Cub       Play      6\n",
       "4    Sheep    Fashion      6\n",
       "5     Frog    Fitness      6\n",
       "6      Dog       Play      6\n",
       "7     Duck    Fashion      6\n",
       "8    Hippo  Education      5\n",
       "9   Rabbit     Nature      5"
      ]
     },
     "execution_count": 14,
     "metadata": {},
     "output_type": "execute_result"
    }
   ],
   "source": [
    "## Creating a dataframe of hobby counts by species\n",
    "species_hobby = villagers.groupby(['Species', 'Hobby']).size().sort_values(ascending=False).reset_index(name='Count')\n",
    "species_hobby.head(10)"
   ]
  },
  {
   "cell_type": "code",
   "execution_count": 15,
   "id": "b856fbb4",
   "metadata": {
    "execution": {
     "iopub.execute_input": "2023-10-20T13:26:50.376319Z",
     "iopub.status.busy": "2023-10-20T13:26:50.375713Z",
     "iopub.status.idle": "2023-10-20T13:26:50.455255Z",
     "shell.execute_reply": "2023-10-20T13:26:50.454130Z"
    },
    "papermill": {
     "duration": 0.090168,
     "end_time": "2023-10-20T13:26:50.457308",
     "exception": false,
     "start_time": "2023-10-20T13:26:50.367140",
     "status": "completed"
    },
    "tags": []
   },
   "outputs": [
    {
     "data": {
      "text/html": [
       "<div>                            <div id=\"5c869c52-045f-4f07-8d74-f3203c9c7e62\" class=\"plotly-graph-div\" style=\"height:525px; width:100%;\"></div>            <script type=\"text/javascript\">                require([\"plotly\"], function(Plotly) {                    window.PLOTLYENV=window.PLOTLYENV || {};                                    if (document.getElementById(\"5c869c52-045f-4f07-8d74-f3203c9c7e62\")) {                    Plotly.newPlot(                        \"5c869c52-045f-4f07-8d74-f3203c9c7e62\",                        [{\"alignmentgroup\":\"True\",\"customdata\":[[\"Nature\"],[\"Nature\"],[\"Nature\"],[\"Nature\"],[\"Nature\"],[\"Nature\"],[\"Nature\"],[\"Nature\"],[\"Nature\"],[\"Nature\"],[\"Nature\"],[\"Nature\"],[\"Nature\"],[\"Nature\"],[\"Nature\"],[\"Nature\"],[\"Nature\"],[\"Nature\"],[\"Nature\"],[\"Nature\"],[\"Nature\"],[\"Nature\"],[\"Nature\"],[\"Nature\"],[\"Nature\"],[\"Nature\"],[\"Nature\"],[\"Nature\"],[\"Nature\"],[\"Nature\"]],\"hovertemplate\":\"\\u003cb\\u003e%{hovertext}\\u003c\\u002fb\\u003e\\u003cbr\\u003e\\u003cbr\\u003eHobby=%{customdata[0]}\\u003cbr\\u003eNumber of villagers=%{y}\\u003cextra\\u003e\\u003c\\u002fextra\\u003e\",\"hovertext\":[\"Rabbit\",\"Deer\",\"Elephant\",\"Dog\",\"Hamster\",\"Horse\",\"Cub\",\"Rhino\",\"Squirrel\",\"Bear\",\"Ostrich\",\"Kangaroo\",\"Pig\",\"Cat\",\"Bird\",\"Alligator\",\"Goat\",\"Frog\",\"Sheep\",\"Eagle\",\"Duck\",\"Penguin\",\"Cow\",\"Bull\",\"Anteater\",\"Octopus\",\"Monkey\",\"Lion\",\"Koala\",\"Wolf\"],\"legendgroup\":\"Nature\",\"marker\":{\"color\":\"#636efa\",\"pattern\":{\"shape\":\"\"}},\"name\":\"Nature\",\"offsetgroup\":\"Nature\",\"orientation\":\"v\",\"showlegend\":true,\"textposition\":\"auto\",\"x\":[\"Rabbit\",\"Deer\",\"Elephant\",\"Dog\",\"Hamster\",\"Horse\",\"Cub\",\"Rhino\",\"Squirrel\",\"Bear\",\"Ostrich\",\"Kangaroo\",\"Pig\",\"Cat\",\"Bird\",\"Alligator\",\"Goat\",\"Frog\",\"Sheep\",\"Eagle\",\"Duck\",\"Penguin\",\"Cow\",\"Bull\",\"Anteater\",\"Octopus\",\"Monkey\",\"Lion\",\"Koala\",\"Wolf\"],\"xaxis\":\"x\",\"y\":[5,4,4,3,3,3,3,3,3,3,3,2,2,2,2,2,2,2,2,2,2,1,1,1,1,1,1,1,1,1],\"yaxis\":\"y\",\"type\":\"bar\"},{\"alignmentgroup\":\"True\",\"customdata\":[[\"Fitness\"],[\"Fitness\"],[\"Fitness\"],[\"Fitness\"],[\"Fitness\"],[\"Fitness\"],[\"Fitness\"],[\"Fitness\"],[\"Fitness\"],[\"Fitness\"],[\"Fitness\"],[\"Fitness\"],[\"Fitness\"],[\"Fitness\"],[\"Fitness\"],[\"Fitness\"],[\"Fitness\"],[\"Fitness\"],[\"Fitness\"],[\"Fitness\"],[\"Fitness\"],[\"Fitness\"],[\"Fitness\"],[\"Fitness\"],[\"Fitness\"],[\"Fitness\"],[\"Fitness\"]],\"hovertemplate\":\"\\u003cb\\u003e%{hovertext}\\u003c\\u002fb\\u003e\\u003cbr\\u003e\\u003cbr\\u003eHobby=%{customdata[0]}\\u003cbr\\u003eNumber of villagers=%{y}\\u003cextra\\u003e\\u003c\\u002fextra\\u003e\",\"hovertext\":[\"Gorilla\",\"Frog\",\"Mouse\",\"Bull\",\"Bear\",\"Penguin\",\"Rabbit\",\"Kangaroo\",\"Bird\",\"Tiger\",\"Horse\",\"Lion\",\"Cub\",\"Cat\",\"Eagle\",\"Squirrel\",\"Pig\",\"Rhino\",\"Wolf\",\"Duck\",\"Dog\",\"Chicken\",\"Anteater\",\"Elephant\",\"Ostrich\",\"Hippo\",\"Alligator\"],\"legendgroup\":\"Fitness\",\"marker\":{\"color\":\"#EF553B\",\"pattern\":{\"shape\":\"\"}},\"name\":\"Fitness\",\"offsetgroup\":\"Fitness\",\"orientation\":\"v\",\"showlegend\":true,\"textposition\":\"auto\",\"x\":[\"Gorilla\",\"Frog\",\"Mouse\",\"Bull\",\"Bear\",\"Penguin\",\"Rabbit\",\"Kangaroo\",\"Bird\",\"Tiger\",\"Horse\",\"Lion\",\"Cub\",\"Cat\",\"Eagle\",\"Squirrel\",\"Pig\",\"Rhino\",\"Wolf\",\"Duck\",\"Dog\",\"Chicken\",\"Anteater\",\"Elephant\",\"Ostrich\",\"Hippo\",\"Alligator\"],\"xaxis\":\"x\",\"y\":[9,6,4,4,4,4,3,3,3,3,2,2,2,2,2,2,1,1,1,1,1,1,1,1,1,1,1],\"yaxis\":\"y\",\"type\":\"bar\"},{\"alignmentgroup\":\"True\",\"customdata\":[[\"Fashion\"],[\"Fashion\"],[\"Fashion\"],[\"Fashion\"],[\"Fashion\"],[\"Fashion\"],[\"Fashion\"],[\"Fashion\"],[\"Fashion\"],[\"Fashion\"],[\"Fashion\"],[\"Fashion\"],[\"Fashion\"],[\"Fashion\"],[\"Fashion\"],[\"Fashion\"],[\"Fashion\"],[\"Fashion\"],[\"Fashion\"],[\"Fashion\"],[\"Fashion\"],[\"Fashion\"],[\"Fashion\"],[\"Fashion\"]],\"hovertemplate\":\"\\u003cb\\u003e%{hovertext}\\u003c\\u002fb\\u003e\\u003cbr\\u003e\\u003cbr\\u003eHobby=%{customdata[0]}\\u003cbr\\u003eNumber of villagers=%{y}\\u003cextra\\u003e\\u003c\\u002fextra\\u003e\",\"hovertext\":[\"Rabbit\",\"Sheep\",\"Duck\",\"Squirrel\",\"Cat\",\"Frog\",\"Mouse\",\"Cow\",\"Horse\",\"Pig\",\"Monkey\",\"Elephant\",\"Cub\",\"Bird\",\"Wolf\",\"Bear\",\"Anteater\",\"Penguin\",\"Dog\",\"Tiger\",\"Alligator\",\"Ostrich\",\"Koala\",\"Hippo\"],\"legendgroup\":\"Fashion\",\"marker\":{\"color\":\"#00cc96\",\"pattern\":{\"shape\":\"\"}},\"name\":\"Fashion\",\"offsetgroup\":\"Fashion\",\"orientation\":\"v\",\"showlegend\":true,\"textposition\":\"auto\",\"x\":[\"Rabbit\",\"Sheep\",\"Duck\",\"Squirrel\",\"Cat\",\"Frog\",\"Mouse\",\"Cow\",\"Horse\",\"Pig\",\"Monkey\",\"Elephant\",\"Cub\",\"Bird\",\"Wolf\",\"Bear\",\"Anteater\",\"Penguin\",\"Dog\",\"Tiger\",\"Alligator\",\"Ostrich\",\"Koala\",\"Hippo\"],\"xaxis\":\"x\",\"y\":[8,6,6,5,5,3,3,3,2,2,2,2,2,2,2,2,2,2,2,1,1,1,1,1],\"yaxis\":\"y\",\"type\":\"bar\"},{\"alignmentgroup\":\"True\",\"customdata\":[[\"Play\"],[\"Play\"],[\"Play\"],[\"Play\"],[\"Play\"],[\"Play\"],[\"Play\"],[\"Play\"],[\"Play\"],[\"Play\"],[\"Play\"],[\"Play\"],[\"Play\"],[\"Play\"],[\"Play\"],[\"Play\"],[\"Play\"],[\"Play\"],[\"Play\"],[\"Play\"],[\"Play\"],[\"Play\"],[\"Play\"],[\"Play\"],[\"Play\"]],\"hovertemplate\":\"\\u003cb\\u003e%{hovertext}\\u003c\\u002fb\\u003e\\u003cbr\\u003e\\u003cbr\\u003eHobby=%{customdata[0]}\\u003cbr\\u003eNumber of villagers=%{y}\\u003cextra\\u003e\\u003c\\u002fextra\\u003e\",\"hovertext\":[\"Cub\",\"Dog\",\"Duck\",\"Pig\",\"Cat\",\"Bird\",\"Frog\",\"Koala\",\"Horse\",\"Chicken\",\"Alligator\",\"Penguin\",\"Mouse\",\"Hamster\",\"Squirrel\",\"Tiger\",\"Deer\",\"Elephant\",\"Rabbit\",\"Sheep\",\"Bear\",\"Goat\",\"Ostrich\",\"Octopus\",\"Monkey\"],\"legendgroup\":\"Play\",\"marker\":{\"color\":\"#ab63fa\",\"pattern\":{\"shape\":\"\"}},\"name\":\"Play\",\"offsetgroup\":\"Play\",\"orientation\":\"v\",\"showlegend\":true,\"textposition\":\"auto\",\"x\":[\"Cub\",\"Dog\",\"Duck\",\"Pig\",\"Cat\",\"Bird\",\"Frog\",\"Koala\",\"Horse\",\"Chicken\",\"Alligator\",\"Penguin\",\"Mouse\",\"Hamster\",\"Squirrel\",\"Tiger\",\"Deer\",\"Elephant\",\"Rabbit\",\"Sheep\",\"Bear\",\"Goat\",\"Ostrich\",\"Octopus\",\"Monkey\"],\"xaxis\":\"x\",\"y\":[6,6,5,4,4,4,3,3,3,3,3,2,2,2,2,2,2,2,1,1,1,1,1,1,1],\"yaxis\":\"y\",\"type\":\"bar\"},{\"alignmentgroup\":\"True\",\"customdata\":[[\"Education\"],[\"Education\"],[\"Education\"],[\"Education\"],[\"Education\"],[\"Education\"],[\"Education\"],[\"Education\"],[\"Education\"],[\"Education\"],[\"Education\"],[\"Education\"],[\"Education\"],[\"Education\"],[\"Education\"],[\"Education\"],[\"Education\"],[\"Education\"],[\"Education\"],[\"Education\"],[\"Education\"],[\"Education\"],[\"Education\"],[\"Education\"],[\"Education\"],[\"Education\"],[\"Education\"],[\"Education\"],[\"Education\"]],\"hovertemplate\":\"\\u003cb\\u003e%{hovertext}\\u003c\\u002fb\\u003e\\u003cbr\\u003e\\u003cbr\\u003eHobby=%{customdata[0]}\\u003cbr\\u003eNumber of villagers=%{y}\\u003cextra\\u003e\\u003c\\u002fextra\\u003e\",\"hovertext\":[\"Hippo\",\"Mouse\",\"Wolf\",\"Goat\",\"Bear\",\"Cat\",\"Rabbit\",\"Anteater\",\"Pig\",\"Horse\",\"Ostrich\",\"Monkey\",\"Koala\",\"Lion\",\"Dog\",\"Hamster\",\"Deer\",\"Cub\",\"Chicken\",\"Frog\",\"Squirrel\",\"Sheep\",\"Penguin\",\"Elephant\",\"Eagle\",\"Duck\",\"Bull\",\"Bird\",\"Kangaroo\"],\"legendgroup\":\"Education\",\"marker\":{\"color\":\"#FFA15A\",\"pattern\":{\"shape\":\"\"}},\"name\":\"Education\",\"offsetgroup\":\"Education\",\"orientation\":\"v\",\"showlegend\":true,\"textposition\":\"auto\",\"x\":[\"Hippo\",\"Mouse\",\"Wolf\",\"Goat\",\"Bear\",\"Cat\",\"Rabbit\",\"Anteater\",\"Pig\",\"Horse\",\"Ostrich\",\"Monkey\",\"Koala\",\"Lion\",\"Dog\",\"Hamster\",\"Deer\",\"Cub\",\"Chicken\",\"Frog\",\"Squirrel\",\"Sheep\",\"Penguin\",\"Elephant\",\"Eagle\",\"Duck\",\"Bull\",\"Bird\",\"Kangaroo\"],\"xaxis\":\"x\",\"y\":[5,5,4,3,3,3,3,3,3,2,2,2,2,2,2,2,2,2,2,2,2,1,1,1,1,1,1,1,1],\"yaxis\":\"y\",\"type\":\"bar\"},{\"alignmentgroup\":\"True\",\"customdata\":[[\"Music\"],[\"Music\"],[\"Music\"],[\"Music\"],[\"Music\"],[\"Music\"],[\"Music\"],[\"Music\"],[\"Music\"],[\"Music\"],[\"Music\"],[\"Music\"],[\"Music\"],[\"Music\"],[\"Music\"],[\"Music\"],[\"Music\"],[\"Music\"],[\"Music\"],[\"Music\"],[\"Music\"],[\"Music\"],[\"Music\"],[\"Music\"],[\"Music\"],[\"Music\"],[\"Music\"],[\"Music\"]],\"hovertemplate\":\"\\u003cb\\u003e%{hovertext}\\u003c\\u002fb\\u003e\\u003cbr\\u003e\\u003cbr\\u003eHobby=%{customdata[0]}\\u003cbr\\u003eNumber of villagers=%{y}\\u003cextra\\u003e\\u003c\\u002fextra\\u003e\",\"hovertext\":[\"Cat\",\"Squirrel\",\"Eagle\",\"Horse\",\"Sheep\",\"Chicken\",\"Pig\",\"Wolf\",\"Penguin\",\"Rhino\",\"Ostrich\",\"Kangaroo\",\"Koala\",\"Monkey\",\"Lion\",\"Deer\",\"Bear\",\"Dog\",\"Goat\",\"Frog\",\"Duck\",\"Tiger\",\"Elephant\",\"Cub\",\"Bird\",\"Hamster\",\"Octopus\",\"Mouse\"],\"legendgroup\":\"Music\",\"marker\":{\"color\":\"#19d3f3\",\"pattern\":{\"shape\":\"\"}},\"name\":\"Music\",\"offsetgroup\":\"Music\",\"orientation\":\"v\",\"showlegend\":true,\"textposition\":\"auto\",\"x\":[\"Cat\",\"Squirrel\",\"Eagle\",\"Horse\",\"Sheep\",\"Chicken\",\"Pig\",\"Wolf\",\"Penguin\",\"Rhino\",\"Ostrich\",\"Kangaroo\",\"Koala\",\"Monkey\",\"Lion\",\"Deer\",\"Bear\",\"Dog\",\"Goat\",\"Frog\",\"Duck\",\"Tiger\",\"Elephant\",\"Cub\",\"Bird\",\"Hamster\",\"Octopus\",\"Mouse\"],\"xaxis\":\"x\",\"y\":[7,4,4,3,3,3,3,3,3,2,2,2,2,2,2,2,2,2,2,2,2,1,1,1,1,1,1,1],\"yaxis\":\"y\",\"type\":\"bar\"}],                        {\"template\":{\"data\":{\"histogram2dcontour\":[{\"type\":\"histogram2dcontour\",\"colorbar\":{\"outlinewidth\":0,\"ticks\":\"\"},\"colorscale\":[[0.0,\"#0d0887\"],[0.1111111111111111,\"#46039f\"],[0.2222222222222222,\"#7201a8\"],[0.3333333333333333,\"#9c179e\"],[0.4444444444444444,\"#bd3786\"],[0.5555555555555556,\"#d8576b\"],[0.6666666666666666,\"#ed7953\"],[0.7777777777777778,\"#fb9f3a\"],[0.8888888888888888,\"#fdca26\"],[1.0,\"#f0f921\"]]}],\"choropleth\":[{\"type\":\"choropleth\",\"colorbar\":{\"outlinewidth\":0,\"ticks\":\"\"}}],\"histogram2d\":[{\"type\":\"histogram2d\",\"colorbar\":{\"outlinewidth\":0,\"ticks\":\"\"},\"colorscale\":[[0.0,\"#0d0887\"],[0.1111111111111111,\"#46039f\"],[0.2222222222222222,\"#7201a8\"],[0.3333333333333333,\"#9c179e\"],[0.4444444444444444,\"#bd3786\"],[0.5555555555555556,\"#d8576b\"],[0.6666666666666666,\"#ed7953\"],[0.7777777777777778,\"#fb9f3a\"],[0.8888888888888888,\"#fdca26\"],[1.0,\"#f0f921\"]]}],\"heatmap\":[{\"type\":\"heatmap\",\"colorbar\":{\"outlinewidth\":0,\"ticks\":\"\"},\"colorscale\":[[0.0,\"#0d0887\"],[0.1111111111111111,\"#46039f\"],[0.2222222222222222,\"#7201a8\"],[0.3333333333333333,\"#9c179e\"],[0.4444444444444444,\"#bd3786\"],[0.5555555555555556,\"#d8576b\"],[0.6666666666666666,\"#ed7953\"],[0.7777777777777778,\"#fb9f3a\"],[0.8888888888888888,\"#fdca26\"],[1.0,\"#f0f921\"]]}],\"heatmapgl\":[{\"type\":\"heatmapgl\",\"colorbar\":{\"outlinewidth\":0,\"ticks\":\"\"},\"colorscale\":[[0.0,\"#0d0887\"],[0.1111111111111111,\"#46039f\"],[0.2222222222222222,\"#7201a8\"],[0.3333333333333333,\"#9c179e\"],[0.4444444444444444,\"#bd3786\"],[0.5555555555555556,\"#d8576b\"],[0.6666666666666666,\"#ed7953\"],[0.7777777777777778,\"#fb9f3a\"],[0.8888888888888888,\"#fdca26\"],[1.0,\"#f0f921\"]]}],\"contourcarpet\":[{\"type\":\"contourcarpet\",\"colorbar\":{\"outlinewidth\":0,\"ticks\":\"\"}}],\"contour\":[{\"type\":\"contour\",\"colorbar\":{\"outlinewidth\":0,\"ticks\":\"\"},\"colorscale\":[[0.0,\"#0d0887\"],[0.1111111111111111,\"#46039f\"],[0.2222222222222222,\"#7201a8\"],[0.3333333333333333,\"#9c179e\"],[0.4444444444444444,\"#bd3786\"],[0.5555555555555556,\"#d8576b\"],[0.6666666666666666,\"#ed7953\"],[0.7777777777777778,\"#fb9f3a\"],[0.8888888888888888,\"#fdca26\"],[1.0,\"#f0f921\"]]}],\"surface\":[{\"type\":\"surface\",\"colorbar\":{\"outlinewidth\":0,\"ticks\":\"\"},\"colorscale\":[[0.0,\"#0d0887\"],[0.1111111111111111,\"#46039f\"],[0.2222222222222222,\"#7201a8\"],[0.3333333333333333,\"#9c179e\"],[0.4444444444444444,\"#bd3786\"],[0.5555555555555556,\"#d8576b\"],[0.6666666666666666,\"#ed7953\"],[0.7777777777777778,\"#fb9f3a\"],[0.8888888888888888,\"#fdca26\"],[1.0,\"#f0f921\"]]}],\"mesh3d\":[{\"type\":\"mesh3d\",\"colorbar\":{\"outlinewidth\":0,\"ticks\":\"\"}}],\"scatter\":[{\"fillpattern\":{\"fillmode\":\"overlay\",\"size\":10,\"solidity\":0.2},\"type\":\"scatter\"}],\"parcoords\":[{\"type\":\"parcoords\",\"line\":{\"colorbar\":{\"outlinewidth\":0,\"ticks\":\"\"}}}],\"scatterpolargl\":[{\"type\":\"scatterpolargl\",\"marker\":{\"colorbar\":{\"outlinewidth\":0,\"ticks\":\"\"}}}],\"bar\":[{\"error_x\":{\"color\":\"#2a3f5f\"},\"error_y\":{\"color\":\"#2a3f5f\"},\"marker\":{\"line\":{\"color\":\"#E5ECF6\",\"width\":0.5},\"pattern\":{\"fillmode\":\"overlay\",\"size\":10,\"solidity\":0.2}},\"type\":\"bar\"}],\"scattergeo\":[{\"type\":\"scattergeo\",\"marker\":{\"colorbar\":{\"outlinewidth\":0,\"ticks\":\"\"}}}],\"scatterpolar\":[{\"type\":\"scatterpolar\",\"marker\":{\"colorbar\":{\"outlinewidth\":0,\"ticks\":\"\"}}}],\"histogram\":[{\"marker\":{\"pattern\":{\"fillmode\":\"overlay\",\"size\":10,\"solidity\":0.2}},\"type\":\"histogram\"}],\"scattergl\":[{\"type\":\"scattergl\",\"marker\":{\"colorbar\":{\"outlinewidth\":0,\"ticks\":\"\"}}}],\"scatter3d\":[{\"type\":\"scatter3d\",\"line\":{\"colorbar\":{\"outlinewidth\":0,\"ticks\":\"\"}},\"marker\":{\"colorbar\":{\"outlinewidth\":0,\"ticks\":\"\"}}}],\"scattermapbox\":[{\"type\":\"scattermapbox\",\"marker\":{\"colorbar\":{\"outlinewidth\":0,\"ticks\":\"\"}}}],\"scatterternary\":[{\"type\":\"scatterternary\",\"marker\":{\"colorbar\":{\"outlinewidth\":0,\"ticks\":\"\"}}}],\"scattercarpet\":[{\"type\":\"scattercarpet\",\"marker\":{\"colorbar\":{\"outlinewidth\":0,\"ticks\":\"\"}}}],\"carpet\":[{\"aaxis\":{\"endlinecolor\":\"#2a3f5f\",\"gridcolor\":\"white\",\"linecolor\":\"white\",\"minorgridcolor\":\"white\",\"startlinecolor\":\"#2a3f5f\"},\"baxis\":{\"endlinecolor\":\"#2a3f5f\",\"gridcolor\":\"white\",\"linecolor\":\"white\",\"minorgridcolor\":\"white\",\"startlinecolor\":\"#2a3f5f\"},\"type\":\"carpet\"}],\"table\":[{\"cells\":{\"fill\":{\"color\":\"#EBF0F8\"},\"line\":{\"color\":\"white\"}},\"header\":{\"fill\":{\"color\":\"#C8D4E3\"},\"line\":{\"color\":\"white\"}},\"type\":\"table\"}],\"barpolar\":[{\"marker\":{\"line\":{\"color\":\"#E5ECF6\",\"width\":0.5},\"pattern\":{\"fillmode\":\"overlay\",\"size\":10,\"solidity\":0.2}},\"type\":\"barpolar\"}],\"pie\":[{\"automargin\":true,\"type\":\"pie\"}]},\"layout\":{\"autotypenumbers\":\"strict\",\"colorway\":[\"#636efa\",\"#EF553B\",\"#00cc96\",\"#ab63fa\",\"#FFA15A\",\"#19d3f3\",\"#FF6692\",\"#B6E880\",\"#FF97FF\",\"#FECB52\"],\"font\":{\"color\":\"#2a3f5f\"},\"hovermode\":\"closest\",\"hoverlabel\":{\"align\":\"left\"},\"paper_bgcolor\":\"white\",\"plot_bgcolor\":\"#E5ECF6\",\"polar\":{\"bgcolor\":\"#E5ECF6\",\"angularaxis\":{\"gridcolor\":\"white\",\"linecolor\":\"white\",\"ticks\":\"\"},\"radialaxis\":{\"gridcolor\":\"white\",\"linecolor\":\"white\",\"ticks\":\"\"}},\"ternary\":{\"bgcolor\":\"#E5ECF6\",\"aaxis\":{\"gridcolor\":\"white\",\"linecolor\":\"white\",\"ticks\":\"\"},\"baxis\":{\"gridcolor\":\"white\",\"linecolor\":\"white\",\"ticks\":\"\"},\"caxis\":{\"gridcolor\":\"white\",\"linecolor\":\"white\",\"ticks\":\"\"}},\"coloraxis\":{\"colorbar\":{\"outlinewidth\":0,\"ticks\":\"\"}},\"colorscale\":{\"sequential\":[[0.0,\"#0d0887\"],[0.1111111111111111,\"#46039f\"],[0.2222222222222222,\"#7201a8\"],[0.3333333333333333,\"#9c179e\"],[0.4444444444444444,\"#bd3786\"],[0.5555555555555556,\"#d8576b\"],[0.6666666666666666,\"#ed7953\"],[0.7777777777777778,\"#fb9f3a\"],[0.8888888888888888,\"#fdca26\"],[1.0,\"#f0f921\"]],\"sequentialminus\":[[0.0,\"#0d0887\"],[0.1111111111111111,\"#46039f\"],[0.2222222222222222,\"#7201a8\"],[0.3333333333333333,\"#9c179e\"],[0.4444444444444444,\"#bd3786\"],[0.5555555555555556,\"#d8576b\"],[0.6666666666666666,\"#ed7953\"],[0.7777777777777778,\"#fb9f3a\"],[0.8888888888888888,\"#fdca26\"],[1.0,\"#f0f921\"]],\"diverging\":[[0,\"#8e0152\"],[0.1,\"#c51b7d\"],[0.2,\"#de77ae\"],[0.3,\"#f1b6da\"],[0.4,\"#fde0ef\"],[0.5,\"#f7f7f7\"],[0.6,\"#e6f5d0\"],[0.7,\"#b8e186\"],[0.8,\"#7fbc41\"],[0.9,\"#4d9221\"],[1,\"#276419\"]]},\"xaxis\":{\"gridcolor\":\"white\",\"linecolor\":\"white\",\"ticks\":\"\",\"title\":{\"standoff\":15},\"zerolinecolor\":\"white\",\"automargin\":true,\"zerolinewidth\":2},\"yaxis\":{\"gridcolor\":\"white\",\"linecolor\":\"white\",\"ticks\":\"\",\"title\":{\"standoff\":15},\"zerolinecolor\":\"white\",\"automargin\":true,\"zerolinewidth\":2},\"scene\":{\"xaxis\":{\"backgroundcolor\":\"#E5ECF6\",\"gridcolor\":\"white\",\"linecolor\":\"white\",\"showbackground\":true,\"ticks\":\"\",\"zerolinecolor\":\"white\",\"gridwidth\":2},\"yaxis\":{\"backgroundcolor\":\"#E5ECF6\",\"gridcolor\":\"white\",\"linecolor\":\"white\",\"showbackground\":true,\"ticks\":\"\",\"zerolinecolor\":\"white\",\"gridwidth\":2},\"zaxis\":{\"backgroundcolor\":\"#E5ECF6\",\"gridcolor\":\"white\",\"linecolor\":\"white\",\"showbackground\":true,\"ticks\":\"\",\"zerolinecolor\":\"white\",\"gridwidth\":2}},\"shapedefaults\":{\"line\":{\"color\":\"#2a3f5f\"}},\"annotationdefaults\":{\"arrowcolor\":\"#2a3f5f\",\"arrowhead\":0,\"arrowwidth\":1},\"geo\":{\"bgcolor\":\"white\",\"landcolor\":\"#E5ECF6\",\"subunitcolor\":\"white\",\"showland\":true,\"showlakes\":true,\"lakecolor\":\"white\"},\"title\":{\"x\":0.05},\"mapbox\":{\"style\":\"light\"}}},\"xaxis\":{\"anchor\":\"y\",\"domain\":[0.0,1.0],\"title\":{\"text\":\"Species\"},\"categoryorder\":\"total descending\"},\"yaxis\":{\"anchor\":\"x\",\"domain\":[0.0,1.0],\"title\":{\"text\":\"Number of villagers\"}},\"legend\":{\"title\":{\"text\":\"Hobby\"},\"tracegroupgap\":0},\"title\":{\"text\":\"Hobbies by species\"},\"barmode\":\"relative\"},                        {\"responsive\": true}                    ).then(function(){\n",
       "                            \n",
       "var gd = document.getElementById('5c869c52-045f-4f07-8d74-f3203c9c7e62');\n",
       "var x = new MutationObserver(function (mutations, observer) {{\n",
       "        var display = window.getComputedStyle(gd).display;\n",
       "        if (!display || display === 'none') {{\n",
       "            console.log([gd, 'removed!']);\n",
       "            Plotly.purge(gd);\n",
       "            observer.disconnect();\n",
       "        }}\n",
       "}});\n",
       "\n",
       "// Listen for the removal of the full notebook cells\n",
       "var notebookContainer = gd.closest('#notebook-container');\n",
       "if (notebookContainer) {{\n",
       "    x.observe(notebookContainer, {childList: true});\n",
       "}}\n",
       "\n",
       "// Listen for the clearing of the current output cell\n",
       "var outputEl = gd.closest('.output');\n",
       "if (outputEl) {{\n",
       "    x.observe(outputEl, {childList: true});\n",
       "}}\n",
       "\n",
       "                        })                };                });            </script>        </div>"
      ]
     },
     "metadata": {},
     "output_type": "display_data"
    }
   ],
   "source": [
    "## Visualising hobbies by species\n",
    "fig = px.bar(species_hobby, x='Species', y='Count', color='Hobby', title='Hobbies by species',\n",
    "             labels={\"Count\": \"Number of villagers\"},\n",
    "             hover_name='Species', hover_data={'Hobby':True, 'Species':False, 'Count':True},\n",
    "             category_orders={'Hobby': ['Nature', 'Fitness', 'Fashion', 'Play', 'Education', 'Music']})\n",
    "fig.update_xaxes(categoryorder='total descending')\n",
    "fig.show()"
   ]
  },
  {
   "cell_type": "markdown",
   "id": "97b6c957",
   "metadata": {
    "papermill": {
     "duration": 0.007552,
     "end_time": "2023-10-20T13:26:50.472547",
     "exception": false,
     "start_time": "2023-10-20T13:26:50.464995",
     "status": "completed"
    },
    "tags": []
   },
   "source": [
    "## Hobby and personality combinations"
   ]
  },
  {
   "cell_type": "code",
   "execution_count": 16,
   "id": "4186b46e",
   "metadata": {
    "execution": {
     "iopub.execute_input": "2023-10-20T13:26:50.490770Z",
     "iopub.status.busy": "2023-10-20T13:26:50.489753Z",
     "iopub.status.idle": "2023-10-20T13:26:50.502987Z",
     "shell.execute_reply": "2023-10-20T13:26:50.501965Z"
    },
    "papermill": {
     "duration": 0.024435,
     "end_time": "2023-10-20T13:26:50.504911",
     "exception": false,
     "start_time": "2023-10-20T13:26:50.480476",
     "status": "completed"
    },
    "tags": []
   },
   "outputs": [
    {
     "data": {
      "text/html": [
       "<div>\n",
       "<style scoped>\n",
       "    .dataframe tbody tr th:only-of-type {\n",
       "        vertical-align: middle;\n",
       "    }\n",
       "\n",
       "    .dataframe tbody tr th {\n",
       "        vertical-align: top;\n",
       "    }\n",
       "\n",
       "    .dataframe thead th {\n",
       "        text-align: right;\n",
       "    }\n",
       "</style>\n",
       "<table border=\"1\" class=\"dataframe\">\n",
       "  <thead>\n",
       "    <tr style=\"text-align: right;\">\n",
       "      <th></th>\n",
       "      <th>Personality</th>\n",
       "      <th>Hobby</th>\n",
       "      <th>Count</th>\n",
       "    </tr>\n",
       "  </thead>\n",
       "  <tbody>\n",
       "    <tr>\n",
       "      <th>0</th>\n",
       "      <td>Jock</td>\n",
       "      <td>Fitness</td>\n",
       "      <td>36</td>\n",
       "    </tr>\n",
       "    <tr>\n",
       "      <th>1</th>\n",
       "      <td>Snooty</td>\n",
       "      <td>Fashion</td>\n",
       "      <td>32</td>\n",
       "    </tr>\n",
       "    <tr>\n",
       "      <th>2</th>\n",
       "      <td>Lazy</td>\n",
       "      <td>Play</td>\n",
       "      <td>32</td>\n",
       "    </tr>\n",
       "    <tr>\n",
       "      <th>3</th>\n",
       "      <td>Peppy</td>\n",
       "      <td>Fashion</td>\n",
       "      <td>31</td>\n",
       "    </tr>\n",
       "    <tr>\n",
       "      <th>4</th>\n",
       "      <td>Normal</td>\n",
       "      <td>Nature</td>\n",
       "      <td>24</td>\n",
       "    </tr>\n",
       "    <tr>\n",
       "      <th>5</th>\n",
       "      <td>Lazy</td>\n",
       "      <td>Nature</td>\n",
       "      <td>23</td>\n",
       "    </tr>\n",
       "    <tr>\n",
       "      <th>6</th>\n",
       "      <td>Normal</td>\n",
       "      <td>Education</td>\n",
       "      <td>22</td>\n",
       "    </tr>\n",
       "    <tr>\n",
       "      <th>7</th>\n",
       "      <td>Cranky</td>\n",
       "      <td>Education</td>\n",
       "      <td>19</td>\n",
       "    </tr>\n",
       "    <tr>\n",
       "      <th>8</th>\n",
       "      <td>Jock</td>\n",
       "      <td>Play</td>\n",
       "      <td>15</td>\n",
       "    </tr>\n",
       "    <tr>\n",
       "      <th>9</th>\n",
       "      <td>Smug</td>\n",
       "      <td>Music</td>\n",
       "      <td>14</td>\n",
       "    </tr>\n",
       "  </tbody>\n",
       "</table>\n",
       "</div>"
      ],
      "text/plain": [
       "  Personality      Hobby  Count\n",
       "0        Jock    Fitness     36\n",
       "1      Snooty    Fashion     32\n",
       "2        Lazy       Play     32\n",
       "3       Peppy    Fashion     31\n",
       "4      Normal     Nature     24\n",
       "5        Lazy     Nature     23\n",
       "6      Normal  Education     22\n",
       "7      Cranky  Education     19\n",
       "8        Jock       Play     15\n",
       "9        Smug      Music     14"
      ]
     },
     "execution_count": 16,
     "metadata": {},
     "output_type": "execute_result"
    }
   ],
   "source": [
    "## Creating a dataframe of personality and hobby combinations\n",
    "personality_hobby = villagers.groupby(['Personality', 'Hobby']).size().sort_values(ascending=False).reset_index(name='Count')\n",
    "personality_hobby.head(10)"
   ]
  },
  {
   "cell_type": "code",
   "execution_count": 17,
   "id": "5a0a9c45",
   "metadata": {
    "execution": {
     "iopub.execute_input": "2023-10-20T13:26:50.522671Z",
     "iopub.status.busy": "2023-10-20T13:26:50.522017Z",
     "iopub.status.idle": "2023-10-20T13:26:50.610079Z",
     "shell.execute_reply": "2023-10-20T13:26:50.609029Z"
    },
    "papermill": {
     "duration": 0.099394,
     "end_time": "2023-10-20T13:26:50.612186",
     "exception": false,
     "start_time": "2023-10-20T13:26:50.512792",
     "status": "completed"
    },
    "tags": []
   },
   "outputs": [
    {
     "data": {
      "text/html": [
       "<div>                            <div id=\"8866814c-815b-40be-990e-007b3225bd6e\" class=\"plotly-graph-div\" style=\"height:525px; width:100%;\"></div>            <script type=\"text/javascript\">                require([\"plotly\"], function(Plotly) {                    window.PLOTLYENV=window.PLOTLYENV || {};                                    if (document.getElementById(\"8866814c-815b-40be-990e-007b3225bd6e\")) {                    Plotly.newPlot(                        \"8866814c-815b-40be-990e-007b3225bd6e\",                        [{\"alignmentgroup\":\"True\",\"customdata\":[[\"Nature\"],[\"Nature\"],[\"Nature\"],[\"Nature\"],[\"Nature\"],[\"Nature\"]],\"hovertemplate\":\"\\u003cb\\u003e%{hovertext}\\u003c\\u002fb\\u003e\\u003cbr\\u003e\\u003cbr\\u003eHobby=%{customdata[0]}\\u003cbr\\u003eNumber of villagers=%{y}\\u003cextra\\u003e\\u003c\\u002fextra\\u003e\",\"hovertext\":[\"Normal\",\"Lazy\",\"Cranky\",\"Smug\",\"Snooty\",\"Peppy\"],\"legendgroup\":\"Nature\",\"marker\":{\"color\":\"#636efa\",\"pattern\":{\"shape\":\"\"}},\"name\":\"Nature\",\"offsetgroup\":\"Nature\",\"orientation\":\"v\",\"showlegend\":true,\"textposition\":\"auto\",\"x\":[\"Normal\",\"Lazy\",\"Cranky\",\"Smug\",\"Snooty\",\"Peppy\"],\"xaxis\":\"x\",\"y\":[24,23,11,5,2,1],\"yaxis\":\"y\",\"type\":\"bar\",\"width\":0.5},{\"alignmentgroup\":\"True\",\"customdata\":[[\"Fitness\"],[\"Fitness\"],[\"Fitness\"],[\"Fitness\"],[\"Fitness\"],[\"Fitness\"],[\"Fitness\"]],\"hovertemplate\":\"\\u003cb\\u003e%{hovertext}\\u003c\\u002fb\\u003e\\u003cbr\\u003e\\u003cbr\\u003eHobby=%{customdata[0]}\\u003cbr\\u003eNumber of villagers=%{y}\\u003cextra\\u003e\\u003c\\u002fextra\\u003e\",\"hovertext\":[\"Jock\",\"Cranky\",\"Big Sister\",\"Smug\",\"Lazy\",\"Snooty\",\"Peppy\"],\"legendgroup\":\"Fitness\",\"marker\":{\"color\":\"#EF553B\",\"pattern\":{\"shape\":\"\"}},\"name\":\"Fitness\",\"offsetgroup\":\"Fitness\",\"orientation\":\"v\",\"showlegend\":true,\"textposition\":\"auto\",\"x\":[\"Jock\",\"Cranky\",\"Big Sister\",\"Smug\",\"Lazy\",\"Snooty\",\"Peppy\"],\"xaxis\":\"x\",\"y\":[36,10,6,4,4,3,3],\"yaxis\":\"y\",\"type\":\"bar\",\"width\":0.5},{\"alignmentgroup\":\"True\",\"customdata\":[[\"Fashion\"],[\"Fashion\"],[\"Fashion\"]],\"hovertemplate\":\"\\u003cb\\u003e%{hovertext}\\u003c\\u002fb\\u003e\\u003cbr\\u003e\\u003cbr\\u003eHobby=%{customdata[0]}\\u003cbr\\u003eNumber of villagers=%{y}\\u003cextra\\u003e\\u003c\\u002fextra\\u003e\",\"hovertext\":[\"Snooty\",\"Peppy\",\"Normal\"],\"legendgroup\":\"Fashion\",\"marker\":{\"color\":\"#00cc96\",\"pattern\":{\"shape\":\"\"}},\"name\":\"Fashion\",\"offsetgroup\":\"Fashion\",\"orientation\":\"v\",\"showlegend\":true,\"textposition\":\"auto\",\"x\":[\"Snooty\",\"Peppy\",\"Normal\"],\"xaxis\":\"x\",\"y\":[32,31,3],\"yaxis\":\"y\",\"type\":\"bar\",\"width\":0.5},{\"alignmentgroup\":\"True\",\"customdata\":[[\"Play\"],[\"Play\"],[\"Play\"],[\"Play\"],[\"Play\"]],\"hovertemplate\":\"\\u003cb\\u003e%{hovertext}\\u003c\\u002fb\\u003e\\u003cbr\\u003e\\u003cbr\\u003eHobby=%{customdata[0]}\\u003cbr\\u003eNumber of villagers=%{y}\\u003cextra\\u003e\\u003c\\u002fextra\\u003e\",\"hovertext\":[\"Lazy\",\"Jock\",\"Peppy\",\"Big Sister\",\"Cranky\"],\"legendgroup\":\"Play\",\"marker\":{\"color\":\"#ab63fa\",\"pattern\":{\"shape\":\"\"}},\"name\":\"Play\",\"offsetgroup\":\"Play\",\"orientation\":\"v\",\"showlegend\":true,\"textposition\":\"auto\",\"x\":[\"Lazy\",\"Jock\",\"Peppy\",\"Big Sister\",\"Cranky\"],\"xaxis\":\"x\",\"y\":[32,15,9,7,2],\"yaxis\":\"y\",\"type\":\"bar\",\"width\":0.5},{\"alignmentgroup\":\"True\",\"customdata\":[[\"Education\"],[\"Education\"],[\"Education\"],[\"Education\"],[\"Education\"],[\"Education\"]],\"hovertemplate\":\"\\u003cb\\u003e%{hovertext}\\u003c\\u002fb\\u003e\\u003cbr\\u003e\\u003cbr\\u003eHobby=%{customdata[0]}\\u003cbr\\u003eNumber of villagers=%{y}\\u003cextra\\u003e\\u003c\\u002fextra\\u003e\",\"hovertext\":[\"Normal\",\"Cranky\",\"Smug\",\"Snooty\",\"Lazy\",\"Jock\"],\"legendgroup\":\"Education\",\"marker\":{\"color\":\"#FFA15A\",\"pattern\":{\"shape\":\"\"}},\"name\":\"Education\",\"offsetgroup\":\"Education\",\"orientation\":\"v\",\"showlegend\":true,\"textposition\":\"auto\",\"x\":[\"Normal\",\"Cranky\",\"Smug\",\"Snooty\",\"Lazy\",\"Jock\"],\"xaxis\":\"x\",\"y\":[22,19,11,10,1,1],\"yaxis\":\"y\",\"type\":\"bar\",\"width\":0.5},{\"alignmentgroup\":\"True\",\"customdata\":[[\"Music\"],[\"Music\"],[\"Music\"],[\"Music\"],[\"Music\"],[\"Music\"],[\"Music\"]],\"hovertemplate\":\"\\u003cb\\u003e%{hovertext}\\u003c\\u002fb\\u003e\\u003cbr\\u003e\\u003cbr\\u003eHobby=%{customdata[0]}\\u003cbr\\u003eNumber of villagers=%{y}\\u003cextra\\u003e\\u003c\\u002fextra\\u003e\",\"hovertext\":[\"Smug\",\"Cranky\",\"Big Sister\",\"Normal\",\"Snooty\",\"Peppy\",\"Jock\"],\"legendgroup\":\"Music\",\"marker\":{\"color\":\"#19d3f3\",\"pattern\":{\"shape\":\"\"}},\"name\":\"Music\",\"offsetgroup\":\"Music\",\"orientation\":\"v\",\"showlegend\":true,\"textposition\":\"auto\",\"x\":[\"Smug\",\"Cranky\",\"Big Sister\",\"Normal\",\"Snooty\",\"Peppy\",\"Jock\"],\"xaxis\":\"x\",\"y\":[14,13,11,10,8,5,3],\"yaxis\":\"y\",\"type\":\"bar\",\"width\":0.5}],                        {\"template\":{\"data\":{\"histogram2dcontour\":[{\"type\":\"histogram2dcontour\",\"colorbar\":{\"outlinewidth\":0,\"ticks\":\"\"},\"colorscale\":[[0.0,\"#0d0887\"],[0.1111111111111111,\"#46039f\"],[0.2222222222222222,\"#7201a8\"],[0.3333333333333333,\"#9c179e\"],[0.4444444444444444,\"#bd3786\"],[0.5555555555555556,\"#d8576b\"],[0.6666666666666666,\"#ed7953\"],[0.7777777777777778,\"#fb9f3a\"],[0.8888888888888888,\"#fdca26\"],[1.0,\"#f0f921\"]]}],\"choropleth\":[{\"type\":\"choropleth\",\"colorbar\":{\"outlinewidth\":0,\"ticks\":\"\"}}],\"histogram2d\":[{\"type\":\"histogram2d\",\"colorbar\":{\"outlinewidth\":0,\"ticks\":\"\"},\"colorscale\":[[0.0,\"#0d0887\"],[0.1111111111111111,\"#46039f\"],[0.2222222222222222,\"#7201a8\"],[0.3333333333333333,\"#9c179e\"],[0.4444444444444444,\"#bd3786\"],[0.5555555555555556,\"#d8576b\"],[0.6666666666666666,\"#ed7953\"],[0.7777777777777778,\"#fb9f3a\"],[0.8888888888888888,\"#fdca26\"],[1.0,\"#f0f921\"]]}],\"heatmap\":[{\"type\":\"heatmap\",\"colorbar\":{\"outlinewidth\":0,\"ticks\":\"\"},\"colorscale\":[[0.0,\"#0d0887\"],[0.1111111111111111,\"#46039f\"],[0.2222222222222222,\"#7201a8\"],[0.3333333333333333,\"#9c179e\"],[0.4444444444444444,\"#bd3786\"],[0.5555555555555556,\"#d8576b\"],[0.6666666666666666,\"#ed7953\"],[0.7777777777777778,\"#fb9f3a\"],[0.8888888888888888,\"#fdca26\"],[1.0,\"#f0f921\"]]}],\"heatmapgl\":[{\"type\":\"heatmapgl\",\"colorbar\":{\"outlinewidth\":0,\"ticks\":\"\"},\"colorscale\":[[0.0,\"#0d0887\"],[0.1111111111111111,\"#46039f\"],[0.2222222222222222,\"#7201a8\"],[0.3333333333333333,\"#9c179e\"],[0.4444444444444444,\"#bd3786\"],[0.5555555555555556,\"#d8576b\"],[0.6666666666666666,\"#ed7953\"],[0.7777777777777778,\"#fb9f3a\"],[0.8888888888888888,\"#fdca26\"],[1.0,\"#f0f921\"]]}],\"contourcarpet\":[{\"type\":\"contourcarpet\",\"colorbar\":{\"outlinewidth\":0,\"ticks\":\"\"}}],\"contour\":[{\"type\":\"contour\",\"colorbar\":{\"outlinewidth\":0,\"ticks\":\"\"},\"colorscale\":[[0.0,\"#0d0887\"],[0.1111111111111111,\"#46039f\"],[0.2222222222222222,\"#7201a8\"],[0.3333333333333333,\"#9c179e\"],[0.4444444444444444,\"#bd3786\"],[0.5555555555555556,\"#d8576b\"],[0.6666666666666666,\"#ed7953\"],[0.7777777777777778,\"#fb9f3a\"],[0.8888888888888888,\"#fdca26\"],[1.0,\"#f0f921\"]]}],\"surface\":[{\"type\":\"surface\",\"colorbar\":{\"outlinewidth\":0,\"ticks\":\"\"},\"colorscale\":[[0.0,\"#0d0887\"],[0.1111111111111111,\"#46039f\"],[0.2222222222222222,\"#7201a8\"],[0.3333333333333333,\"#9c179e\"],[0.4444444444444444,\"#bd3786\"],[0.5555555555555556,\"#d8576b\"],[0.6666666666666666,\"#ed7953\"],[0.7777777777777778,\"#fb9f3a\"],[0.8888888888888888,\"#fdca26\"],[1.0,\"#f0f921\"]]}],\"mesh3d\":[{\"type\":\"mesh3d\",\"colorbar\":{\"outlinewidth\":0,\"ticks\":\"\"}}],\"scatter\":[{\"fillpattern\":{\"fillmode\":\"overlay\",\"size\":10,\"solidity\":0.2},\"type\":\"scatter\"}],\"parcoords\":[{\"type\":\"parcoords\",\"line\":{\"colorbar\":{\"outlinewidth\":0,\"ticks\":\"\"}}}],\"scatterpolargl\":[{\"type\":\"scatterpolargl\",\"marker\":{\"colorbar\":{\"outlinewidth\":0,\"ticks\":\"\"}}}],\"bar\":[{\"error_x\":{\"color\":\"#2a3f5f\"},\"error_y\":{\"color\":\"#2a3f5f\"},\"marker\":{\"line\":{\"color\":\"#E5ECF6\",\"width\":0.5},\"pattern\":{\"fillmode\":\"overlay\",\"size\":10,\"solidity\":0.2}},\"type\":\"bar\"}],\"scattergeo\":[{\"type\":\"scattergeo\",\"marker\":{\"colorbar\":{\"outlinewidth\":0,\"ticks\":\"\"}}}],\"scatterpolar\":[{\"type\":\"scatterpolar\",\"marker\":{\"colorbar\":{\"outlinewidth\":0,\"ticks\":\"\"}}}],\"histogram\":[{\"marker\":{\"pattern\":{\"fillmode\":\"overlay\",\"size\":10,\"solidity\":0.2}},\"type\":\"histogram\"}],\"scattergl\":[{\"type\":\"scattergl\",\"marker\":{\"colorbar\":{\"outlinewidth\":0,\"ticks\":\"\"}}}],\"scatter3d\":[{\"type\":\"scatter3d\",\"line\":{\"colorbar\":{\"outlinewidth\":0,\"ticks\":\"\"}},\"marker\":{\"colorbar\":{\"outlinewidth\":0,\"ticks\":\"\"}}}],\"scattermapbox\":[{\"type\":\"scattermapbox\",\"marker\":{\"colorbar\":{\"outlinewidth\":0,\"ticks\":\"\"}}}],\"scatterternary\":[{\"type\":\"scatterternary\",\"marker\":{\"colorbar\":{\"outlinewidth\":0,\"ticks\":\"\"}}}],\"scattercarpet\":[{\"type\":\"scattercarpet\",\"marker\":{\"colorbar\":{\"outlinewidth\":0,\"ticks\":\"\"}}}],\"carpet\":[{\"aaxis\":{\"endlinecolor\":\"#2a3f5f\",\"gridcolor\":\"white\",\"linecolor\":\"white\",\"minorgridcolor\":\"white\",\"startlinecolor\":\"#2a3f5f\"},\"baxis\":{\"endlinecolor\":\"#2a3f5f\",\"gridcolor\":\"white\",\"linecolor\":\"white\",\"minorgridcolor\":\"white\",\"startlinecolor\":\"#2a3f5f\"},\"type\":\"carpet\"}],\"table\":[{\"cells\":{\"fill\":{\"color\":\"#EBF0F8\"},\"line\":{\"color\":\"white\"}},\"header\":{\"fill\":{\"color\":\"#C8D4E3\"},\"line\":{\"color\":\"white\"}},\"type\":\"table\"}],\"barpolar\":[{\"marker\":{\"line\":{\"color\":\"#E5ECF6\",\"width\":0.5},\"pattern\":{\"fillmode\":\"overlay\",\"size\":10,\"solidity\":0.2}},\"type\":\"barpolar\"}],\"pie\":[{\"automargin\":true,\"type\":\"pie\"}]},\"layout\":{\"autotypenumbers\":\"strict\",\"colorway\":[\"#636efa\",\"#EF553B\",\"#00cc96\",\"#ab63fa\",\"#FFA15A\",\"#19d3f3\",\"#FF6692\",\"#B6E880\",\"#FF97FF\",\"#FECB52\"],\"font\":{\"color\":\"#2a3f5f\"},\"hovermode\":\"closest\",\"hoverlabel\":{\"align\":\"left\"},\"paper_bgcolor\":\"white\",\"plot_bgcolor\":\"#E5ECF6\",\"polar\":{\"bgcolor\":\"#E5ECF6\",\"angularaxis\":{\"gridcolor\":\"white\",\"linecolor\":\"white\",\"ticks\":\"\"},\"radialaxis\":{\"gridcolor\":\"white\",\"linecolor\":\"white\",\"ticks\":\"\"}},\"ternary\":{\"bgcolor\":\"#E5ECF6\",\"aaxis\":{\"gridcolor\":\"white\",\"linecolor\":\"white\",\"ticks\":\"\"},\"baxis\":{\"gridcolor\":\"white\",\"linecolor\":\"white\",\"ticks\":\"\"},\"caxis\":{\"gridcolor\":\"white\",\"linecolor\":\"white\",\"ticks\":\"\"}},\"coloraxis\":{\"colorbar\":{\"outlinewidth\":0,\"ticks\":\"\"}},\"colorscale\":{\"sequential\":[[0.0,\"#0d0887\"],[0.1111111111111111,\"#46039f\"],[0.2222222222222222,\"#7201a8\"],[0.3333333333333333,\"#9c179e\"],[0.4444444444444444,\"#bd3786\"],[0.5555555555555556,\"#d8576b\"],[0.6666666666666666,\"#ed7953\"],[0.7777777777777778,\"#fb9f3a\"],[0.8888888888888888,\"#fdca26\"],[1.0,\"#f0f921\"]],\"sequentialminus\":[[0.0,\"#0d0887\"],[0.1111111111111111,\"#46039f\"],[0.2222222222222222,\"#7201a8\"],[0.3333333333333333,\"#9c179e\"],[0.4444444444444444,\"#bd3786\"],[0.5555555555555556,\"#d8576b\"],[0.6666666666666666,\"#ed7953\"],[0.7777777777777778,\"#fb9f3a\"],[0.8888888888888888,\"#fdca26\"],[1.0,\"#f0f921\"]],\"diverging\":[[0,\"#8e0152\"],[0.1,\"#c51b7d\"],[0.2,\"#de77ae\"],[0.3,\"#f1b6da\"],[0.4,\"#fde0ef\"],[0.5,\"#f7f7f7\"],[0.6,\"#e6f5d0\"],[0.7,\"#b8e186\"],[0.8,\"#7fbc41\"],[0.9,\"#4d9221\"],[1,\"#276419\"]]},\"xaxis\":{\"gridcolor\":\"white\",\"linecolor\":\"white\",\"ticks\":\"\",\"title\":{\"standoff\":15},\"zerolinecolor\":\"white\",\"automargin\":true,\"zerolinewidth\":2},\"yaxis\":{\"gridcolor\":\"white\",\"linecolor\":\"white\",\"ticks\":\"\",\"title\":{\"standoff\":15},\"zerolinecolor\":\"white\",\"automargin\":true,\"zerolinewidth\":2},\"scene\":{\"xaxis\":{\"backgroundcolor\":\"#E5ECF6\",\"gridcolor\":\"white\",\"linecolor\":\"white\",\"showbackground\":true,\"ticks\":\"\",\"zerolinecolor\":\"white\",\"gridwidth\":2},\"yaxis\":{\"backgroundcolor\":\"#E5ECF6\",\"gridcolor\":\"white\",\"linecolor\":\"white\",\"showbackground\":true,\"ticks\":\"\",\"zerolinecolor\":\"white\",\"gridwidth\":2},\"zaxis\":{\"backgroundcolor\":\"#E5ECF6\",\"gridcolor\":\"white\",\"linecolor\":\"white\",\"showbackground\":true,\"ticks\":\"\",\"zerolinecolor\":\"white\",\"gridwidth\":2}},\"shapedefaults\":{\"line\":{\"color\":\"#2a3f5f\"}},\"annotationdefaults\":{\"arrowcolor\":\"#2a3f5f\",\"arrowhead\":0,\"arrowwidth\":1},\"geo\":{\"bgcolor\":\"white\",\"landcolor\":\"#E5ECF6\",\"subunitcolor\":\"white\",\"showland\":true,\"showlakes\":true,\"lakecolor\":\"white\"},\"title\":{\"x\":0.05},\"mapbox\":{\"style\":\"light\"}}},\"xaxis\":{\"anchor\":\"y\",\"domain\":[0.0,1.0],\"title\":{\"text\":\"Personality\"},\"categoryorder\":\"total descending\"},\"yaxis\":{\"anchor\":\"x\",\"domain\":[0.0,1.0],\"title\":{\"text\":\"Number of villagers\"}},\"legend\":{\"title\":{\"text\":\"Hobby\"},\"tracegroupgap\":0},\"title\":{\"text\":\"Hobbies by personality type\"},\"barmode\":\"relative\"},                        {\"responsive\": true}                    ).then(function(){\n",
       "                            \n",
       "var gd = document.getElementById('8866814c-815b-40be-990e-007b3225bd6e');\n",
       "var x = new MutationObserver(function (mutations, observer) {{\n",
       "        var display = window.getComputedStyle(gd).display;\n",
       "        if (!display || display === 'none') {{\n",
       "            console.log([gd, 'removed!']);\n",
       "            Plotly.purge(gd);\n",
       "            observer.disconnect();\n",
       "        }}\n",
       "}});\n",
       "\n",
       "// Listen for the removal of the full notebook cells\n",
       "var notebookContainer = gd.closest('#notebook-container');\n",
       "if (notebookContainer) {{\n",
       "    x.observe(notebookContainer, {childList: true});\n",
       "}}\n",
       "\n",
       "// Listen for the clearing of the current output cell\n",
       "var outputEl = gd.closest('.output');\n",
       "if (outputEl) {{\n",
       "    x.observe(outputEl, {childList: true});\n",
       "}}\n",
       "\n",
       "                        })                };                });            </script>        </div>"
      ]
     },
     "metadata": {},
     "output_type": "display_data"
    }
   ],
   "source": [
    "## Visualising personality and hobby combinations\n",
    "fig = px.bar(personality_hobby, x='Personality', y='Count', color='Hobby', title='Hobbies by personality type',\n",
    "             labels={\"Count\": \"Number of villagers\"},\n",
    "             hover_name='Personality', hover_data={'Hobby':True, 'Personality':False, 'Count':True},\n",
    "             category_orders={'Hobby': ['Nature', 'Fitness', 'Fashion', 'Play', 'Education', 'Music']})\n",
    "fig.update_traces(width=0.5)\n",
    "fig.update_xaxes(categoryorder='total descending')\n",
    "fig.show()"
   ]
  },
  {
   "cell_type": "code",
   "execution_count": 18,
   "id": "052e8afb",
   "metadata": {
    "execution": {
     "iopub.execute_input": "2023-10-20T13:26:50.630513Z",
     "iopub.status.busy": "2023-10-20T13:26:50.630079Z",
     "iopub.status.idle": "2023-10-20T13:26:50.753560Z",
     "shell.execute_reply": "2023-10-20T13:26:50.752494Z"
    },
    "papermill": {
     "duration": 0.135406,
     "end_time": "2023-10-20T13:26:50.755988",
     "exception": false,
     "start_time": "2023-10-20T13:26:50.620582",
     "status": "completed"
    },
    "tags": []
   },
   "outputs": [
    {
     "data": {
      "text/html": [
       "<div>                            <div id=\"717844f2-081c-4197-b696-d57734266ed0\" class=\"plotly-graph-div\" style=\"height:525px; width:100%;\"></div>            <script type=\"text/javascript\">                require([\"plotly\"], function(Plotly) {                    window.PLOTLYENV=window.PLOTLYENV || {};                                    if (document.getElementById(\"717844f2-081c-4197-b696-d57734266ed0\")) {                    Plotly.newPlot(                        \"717844f2-081c-4197-b696-d57734266ed0\",                        [{\"branchvalues\":\"total\",\"customdata\":[[\"Play\"],[\"Fashion\"],[\"Fashion\"],[\"Play\"],[\"Fitness\"],[\"Fitness\"],[\"Education\"],[\"Education\"],[\"Nature\"],[\"Nature\"],[\"Nature\"],[\"Nature\"],[\"Nature\"],[\"Music\"],[\"Education\"],[\"Fitness\"],[\"Fitness\"],[\"Nature\"],[\"Fitness\"],[\"Music\"],[\"Music\"],[\"Music\"],[\"Fitness\"],[\"Music\"],[\"Education\"],[\"Education\"],[\"Fitness\"],[\"Play\"],[\"Play\"],[\"Music\"],[\"Music\"],[\"Education\"],[\"Play\"],[\"Fashion\"],[\"(?)\"],[\"(?)\"],[\"(?)\"],[\"(?)\"],[\"(?)\"],[\"(?)\"],[\"(?)\"],[\"(?)\"]],\"domain\":{\"x\":[0.0,1.0],\"y\":[0.0,1.0]},\"hovertemplate\":\"%{label}: %{value}\",\"ids\":[\"Peppy\\u002fPlay\",\"Normal\\u002fFashion\",\"Peppy\\u002fFashion\",\"Lazy\\u002fPlay\",\"Snooty\\u002fFitness\",\"Peppy\\u002fFitness\",\"Jock\\u002fEducation\",\"Normal\\u002fEducation\",\"Peppy\\u002fNature\",\"Smug\\u002fNature\",\"Normal\\u002fNature\",\"Lazy\\u002fNature\",\"Cranky\\u002fNature\",\"Peppy\\u002fMusic\",\"Cranky\\u002fEducation\",\"Smug\\u002fFitness\",\"Lazy\\u002fFitness\",\"Snooty\\u002fNature\",\"Big Sister\\u002fFitness\",\"Snooty\\u002fMusic\",\"Big Sister\\u002fMusic\",\"Jock\\u002fMusic\",\"Cranky\\u002fFitness\",\"Smug\\u002fMusic\",\"Snooty\\u002fEducation\",\"Smug\\u002fEducation\",\"Jock\\u002fFitness\",\"Cranky\\u002fPlay\",\"Jock\\u002fPlay\",\"Normal\\u002fMusic\",\"Cranky\\u002fMusic\",\"Lazy\\u002fEducation\",\"Big Sister\\u002fPlay\",\"Snooty\\u002fFashion\",\"Big Sister\",\"Cranky\",\"Jock\",\"Lazy\",\"Normal\",\"Peppy\",\"Smug\",\"Snooty\"],\"labels\":[\"Play\",\"Fashion\",\"Fashion\",\"Play\",\"Fitness\",\"Fitness\",\"Education\",\"Education\",\"Nature\",\"Nature\",\"Nature\",\"Nature\",\"Nature\",\"Music\",\"Education\",\"Fitness\",\"Fitness\",\"Nature\",\"Fitness\",\"Music\",\"Music\",\"Music\",\"Fitness\",\"Music\",\"Education\",\"Education\",\"Fitness\",\"Play\",\"Play\",\"Music\",\"Music\",\"Education\",\"Play\",\"Fashion\",\"Big Sister\",\"Cranky\",\"Jock\",\"Lazy\",\"Normal\",\"Peppy\",\"Smug\",\"Snooty\"],\"marker\":{\"colors\":[\"#AB63FA\",\"#00CC96\",\"#00CC96\",\"#AB63FA\",\"#EF553B\",\"#EF553B\",\"#FFA15A\",\"#FFA15A\",\"#636EFA\",\"#636EFA\",\"#636EFA\",\"#636EFA\",\"#636EFA\",\"#19D3F3\",\"#FFA15A\",\"#EF553B\",\"#EF553B\",\"#636EFA\",\"#EF553B\",\"#19D3F3\",\"#19D3F3\",\"#19D3F3\",\"#EF553B\",\"#19D3F3\",\"#FFA15A\",\"#FFA15A\",\"#EF553B\",\"#AB63FA\",\"#AB63FA\",\"#19D3F3\",\"#19D3F3\",\"#FFA15A\",\"#AB63FA\",\"#00CC96\",\"#B6E880\",\"#B6E880\",\"#B6E880\",\"#B6E880\",\"#B6E880\",\"#B6E880\",\"#B6E880\",\"#B6E880\"]},\"name\":\"\",\"parents\":[\"Peppy\",\"Normal\",\"Peppy\",\"Lazy\",\"Snooty\",\"Peppy\",\"Jock\",\"Normal\",\"Peppy\",\"Smug\",\"Normal\",\"Lazy\",\"Cranky\",\"Peppy\",\"Cranky\",\"Smug\",\"Lazy\",\"Snooty\",\"Big Sister\",\"Snooty\",\"Big Sister\",\"Jock\",\"Cranky\",\"Smug\",\"Snooty\",\"Smug\",\"Jock\",\"Cranky\",\"Jock\",\"Normal\",\"Cranky\",\"Lazy\",\"Big Sister\",\"Snooty\",\"\",\"\",\"\",\"\",\"\",\"\",\"\",\"\"],\"values\":[9,3,31,32,3,3,1,22,1,5,24,23,11,5,19,4,4,2,6,8,11,3,10,14,10,11,36,2,15,10,13,1,7,32,24,55,55,60,59,49,34,55],\"type\":\"sunburst\",\"insidetextorientation\":\"radial\",\"sort\":true}],                        {\"template\":{\"data\":{\"histogram2dcontour\":[{\"type\":\"histogram2dcontour\",\"colorbar\":{\"outlinewidth\":0,\"ticks\":\"\"},\"colorscale\":[[0.0,\"#0d0887\"],[0.1111111111111111,\"#46039f\"],[0.2222222222222222,\"#7201a8\"],[0.3333333333333333,\"#9c179e\"],[0.4444444444444444,\"#bd3786\"],[0.5555555555555556,\"#d8576b\"],[0.6666666666666666,\"#ed7953\"],[0.7777777777777778,\"#fb9f3a\"],[0.8888888888888888,\"#fdca26\"],[1.0,\"#f0f921\"]]}],\"choropleth\":[{\"type\":\"choropleth\",\"colorbar\":{\"outlinewidth\":0,\"ticks\":\"\"}}],\"histogram2d\":[{\"type\":\"histogram2d\",\"colorbar\":{\"outlinewidth\":0,\"ticks\":\"\"},\"colorscale\":[[0.0,\"#0d0887\"],[0.1111111111111111,\"#46039f\"],[0.2222222222222222,\"#7201a8\"],[0.3333333333333333,\"#9c179e\"],[0.4444444444444444,\"#bd3786\"],[0.5555555555555556,\"#d8576b\"],[0.6666666666666666,\"#ed7953\"],[0.7777777777777778,\"#fb9f3a\"],[0.8888888888888888,\"#fdca26\"],[1.0,\"#f0f921\"]]}],\"heatmap\":[{\"type\":\"heatmap\",\"colorbar\":{\"outlinewidth\":0,\"ticks\":\"\"},\"colorscale\":[[0.0,\"#0d0887\"],[0.1111111111111111,\"#46039f\"],[0.2222222222222222,\"#7201a8\"],[0.3333333333333333,\"#9c179e\"],[0.4444444444444444,\"#bd3786\"],[0.5555555555555556,\"#d8576b\"],[0.6666666666666666,\"#ed7953\"],[0.7777777777777778,\"#fb9f3a\"],[0.8888888888888888,\"#fdca26\"],[1.0,\"#f0f921\"]]}],\"heatmapgl\":[{\"type\":\"heatmapgl\",\"colorbar\":{\"outlinewidth\":0,\"ticks\":\"\"},\"colorscale\":[[0.0,\"#0d0887\"],[0.1111111111111111,\"#46039f\"],[0.2222222222222222,\"#7201a8\"],[0.3333333333333333,\"#9c179e\"],[0.4444444444444444,\"#bd3786\"],[0.5555555555555556,\"#d8576b\"],[0.6666666666666666,\"#ed7953\"],[0.7777777777777778,\"#fb9f3a\"],[0.8888888888888888,\"#fdca26\"],[1.0,\"#f0f921\"]]}],\"contourcarpet\":[{\"type\":\"contourcarpet\",\"colorbar\":{\"outlinewidth\":0,\"ticks\":\"\"}}],\"contour\":[{\"type\":\"contour\",\"colorbar\":{\"outlinewidth\":0,\"ticks\":\"\"},\"colorscale\":[[0.0,\"#0d0887\"],[0.1111111111111111,\"#46039f\"],[0.2222222222222222,\"#7201a8\"],[0.3333333333333333,\"#9c179e\"],[0.4444444444444444,\"#bd3786\"],[0.5555555555555556,\"#d8576b\"],[0.6666666666666666,\"#ed7953\"],[0.7777777777777778,\"#fb9f3a\"],[0.8888888888888888,\"#fdca26\"],[1.0,\"#f0f921\"]]}],\"surface\":[{\"type\":\"surface\",\"colorbar\":{\"outlinewidth\":0,\"ticks\":\"\"},\"colorscale\":[[0.0,\"#0d0887\"],[0.1111111111111111,\"#46039f\"],[0.2222222222222222,\"#7201a8\"],[0.3333333333333333,\"#9c179e\"],[0.4444444444444444,\"#bd3786\"],[0.5555555555555556,\"#d8576b\"],[0.6666666666666666,\"#ed7953\"],[0.7777777777777778,\"#fb9f3a\"],[0.8888888888888888,\"#fdca26\"],[1.0,\"#f0f921\"]]}],\"mesh3d\":[{\"type\":\"mesh3d\",\"colorbar\":{\"outlinewidth\":0,\"ticks\":\"\"}}],\"scatter\":[{\"fillpattern\":{\"fillmode\":\"overlay\",\"size\":10,\"solidity\":0.2},\"type\":\"scatter\"}],\"parcoords\":[{\"type\":\"parcoords\",\"line\":{\"colorbar\":{\"outlinewidth\":0,\"ticks\":\"\"}}}],\"scatterpolargl\":[{\"type\":\"scatterpolargl\",\"marker\":{\"colorbar\":{\"outlinewidth\":0,\"ticks\":\"\"}}}],\"bar\":[{\"error_x\":{\"color\":\"#2a3f5f\"},\"error_y\":{\"color\":\"#2a3f5f\"},\"marker\":{\"line\":{\"color\":\"#E5ECF6\",\"width\":0.5},\"pattern\":{\"fillmode\":\"overlay\",\"size\":10,\"solidity\":0.2}},\"type\":\"bar\"}],\"scattergeo\":[{\"type\":\"scattergeo\",\"marker\":{\"colorbar\":{\"outlinewidth\":0,\"ticks\":\"\"}}}],\"scatterpolar\":[{\"type\":\"scatterpolar\",\"marker\":{\"colorbar\":{\"outlinewidth\":0,\"ticks\":\"\"}}}],\"histogram\":[{\"marker\":{\"pattern\":{\"fillmode\":\"overlay\",\"size\":10,\"solidity\":0.2}},\"type\":\"histogram\"}],\"scattergl\":[{\"type\":\"scattergl\",\"marker\":{\"colorbar\":{\"outlinewidth\":0,\"ticks\":\"\"}}}],\"scatter3d\":[{\"type\":\"scatter3d\",\"line\":{\"colorbar\":{\"outlinewidth\":0,\"ticks\":\"\"}},\"marker\":{\"colorbar\":{\"outlinewidth\":0,\"ticks\":\"\"}}}],\"scattermapbox\":[{\"type\":\"scattermapbox\",\"marker\":{\"colorbar\":{\"outlinewidth\":0,\"ticks\":\"\"}}}],\"scatterternary\":[{\"type\":\"scatterternary\",\"marker\":{\"colorbar\":{\"outlinewidth\":0,\"ticks\":\"\"}}}],\"scattercarpet\":[{\"type\":\"scattercarpet\",\"marker\":{\"colorbar\":{\"outlinewidth\":0,\"ticks\":\"\"}}}],\"carpet\":[{\"aaxis\":{\"endlinecolor\":\"#2a3f5f\",\"gridcolor\":\"white\",\"linecolor\":\"white\",\"minorgridcolor\":\"white\",\"startlinecolor\":\"#2a3f5f\"},\"baxis\":{\"endlinecolor\":\"#2a3f5f\",\"gridcolor\":\"white\",\"linecolor\":\"white\",\"minorgridcolor\":\"white\",\"startlinecolor\":\"#2a3f5f\"},\"type\":\"carpet\"}],\"table\":[{\"cells\":{\"fill\":{\"color\":\"#EBF0F8\"},\"line\":{\"color\":\"white\"}},\"header\":{\"fill\":{\"color\":\"#C8D4E3\"},\"line\":{\"color\":\"white\"}},\"type\":\"table\"}],\"barpolar\":[{\"marker\":{\"line\":{\"color\":\"#E5ECF6\",\"width\":0.5},\"pattern\":{\"fillmode\":\"overlay\",\"size\":10,\"solidity\":0.2}},\"type\":\"barpolar\"}],\"pie\":[{\"automargin\":true,\"type\":\"pie\"}]},\"layout\":{\"autotypenumbers\":\"strict\",\"colorway\":[\"#636efa\",\"#EF553B\",\"#00cc96\",\"#ab63fa\",\"#FFA15A\",\"#19d3f3\",\"#FF6692\",\"#B6E880\",\"#FF97FF\",\"#FECB52\"],\"font\":{\"color\":\"#2a3f5f\"},\"hovermode\":\"closest\",\"hoverlabel\":{\"align\":\"left\"},\"paper_bgcolor\":\"white\",\"plot_bgcolor\":\"#E5ECF6\",\"polar\":{\"bgcolor\":\"#E5ECF6\",\"angularaxis\":{\"gridcolor\":\"white\",\"linecolor\":\"white\",\"ticks\":\"\"},\"radialaxis\":{\"gridcolor\":\"white\",\"linecolor\":\"white\",\"ticks\":\"\"}},\"ternary\":{\"bgcolor\":\"#E5ECF6\",\"aaxis\":{\"gridcolor\":\"white\",\"linecolor\":\"white\",\"ticks\":\"\"},\"baxis\":{\"gridcolor\":\"white\",\"linecolor\":\"white\",\"ticks\":\"\"},\"caxis\":{\"gridcolor\":\"white\",\"linecolor\":\"white\",\"ticks\":\"\"}},\"coloraxis\":{\"colorbar\":{\"outlinewidth\":0,\"ticks\":\"\"}},\"colorscale\":{\"sequential\":[[0.0,\"#0d0887\"],[0.1111111111111111,\"#46039f\"],[0.2222222222222222,\"#7201a8\"],[0.3333333333333333,\"#9c179e\"],[0.4444444444444444,\"#bd3786\"],[0.5555555555555556,\"#d8576b\"],[0.6666666666666666,\"#ed7953\"],[0.7777777777777778,\"#fb9f3a\"],[0.8888888888888888,\"#fdca26\"],[1.0,\"#f0f921\"]],\"sequentialminus\":[[0.0,\"#0d0887\"],[0.1111111111111111,\"#46039f\"],[0.2222222222222222,\"#7201a8\"],[0.3333333333333333,\"#9c179e\"],[0.4444444444444444,\"#bd3786\"],[0.5555555555555556,\"#d8576b\"],[0.6666666666666666,\"#ed7953\"],[0.7777777777777778,\"#fb9f3a\"],[0.8888888888888888,\"#fdca26\"],[1.0,\"#f0f921\"]],\"diverging\":[[0,\"#8e0152\"],[0.1,\"#c51b7d\"],[0.2,\"#de77ae\"],[0.3,\"#f1b6da\"],[0.4,\"#fde0ef\"],[0.5,\"#f7f7f7\"],[0.6,\"#e6f5d0\"],[0.7,\"#b8e186\"],[0.8,\"#7fbc41\"],[0.9,\"#4d9221\"],[1,\"#276419\"]]},\"xaxis\":{\"gridcolor\":\"white\",\"linecolor\":\"white\",\"ticks\":\"\",\"title\":{\"standoff\":15},\"zerolinecolor\":\"white\",\"automargin\":true,\"zerolinewidth\":2},\"yaxis\":{\"gridcolor\":\"white\",\"linecolor\":\"white\",\"ticks\":\"\",\"title\":{\"standoff\":15},\"zerolinecolor\":\"white\",\"automargin\":true,\"zerolinewidth\":2},\"scene\":{\"xaxis\":{\"backgroundcolor\":\"#E5ECF6\",\"gridcolor\":\"white\",\"linecolor\":\"white\",\"showbackground\":true,\"ticks\":\"\",\"zerolinecolor\":\"white\",\"gridwidth\":2},\"yaxis\":{\"backgroundcolor\":\"#E5ECF6\",\"gridcolor\":\"white\",\"linecolor\":\"white\",\"showbackground\":true,\"ticks\":\"\",\"zerolinecolor\":\"white\",\"gridwidth\":2},\"zaxis\":{\"backgroundcolor\":\"#E5ECF6\",\"gridcolor\":\"white\",\"linecolor\":\"white\",\"showbackground\":true,\"ticks\":\"\",\"zerolinecolor\":\"white\",\"gridwidth\":2}},\"shapedefaults\":{\"line\":{\"color\":\"#2a3f5f\"}},\"annotationdefaults\":{\"arrowcolor\":\"#2a3f5f\",\"arrowhead\":0,\"arrowwidth\":1},\"geo\":{\"bgcolor\":\"white\",\"landcolor\":\"#E5ECF6\",\"subunitcolor\":\"white\",\"showland\":true,\"showlakes\":true,\"lakecolor\":\"white\"},\"title\":{\"x\":0.05},\"mapbox\":{\"style\":\"light\"}}},\"legend\":{\"tracegroupgap\":0},\"title\":{\"text\":\"Hobbies by personality type\"}},                        {\"responsive\": true}                    ).then(function(){\n",
       "                            \n",
       "var gd = document.getElementById('717844f2-081c-4197-b696-d57734266ed0');\n",
       "var x = new MutationObserver(function (mutations, observer) {{\n",
       "        var display = window.getComputedStyle(gd).display;\n",
       "        if (!display || display === 'none') {{\n",
       "            console.log([gd, 'removed!']);\n",
       "            Plotly.purge(gd);\n",
       "            observer.disconnect();\n",
       "        }}\n",
       "}});\n",
       "\n",
       "// Listen for the removal of the full notebook cells\n",
       "var notebookContainer = gd.closest('#notebook-container');\n",
       "if (notebookContainer) {{\n",
       "    x.observe(notebookContainer, {childList: true});\n",
       "}}\n",
       "\n",
       "// Listen for the clearing of the current output cell\n",
       "var outputEl = gd.closest('.output');\n",
       "if (outputEl) {{\n",
       "    x.observe(outputEl, {childList: true});\n",
       "}}\n",
       "\n",
       "                        })                };                });            </script>        </div>"
      ]
     },
     "metadata": {},
     "output_type": "display_data"
    }
   ],
   "source": [
    "## Sunburst chart\n",
    "fig = px.sunburst(personality_hobby, path=['Personality', 'Hobby'], values='Count', title='Hobbies by personality type',\n",
    "                color='Hobby', color_discrete_map={'(?)':'#B6E880', 'Nature':'#636EFA', 'Fitness':'#EF553B', 'Fashion':'#00CC96', 'Play':'#AB63FA', 'Education':'#FFA15A', 'Music': '#19D3F3'})\n",
    "fig.update_traces(insidetextorientation='radial', hovertemplate='%{label}: %{value}', sort=True)\n",
    "fig.show()"
   ]
  },
  {
   "cell_type": "markdown",
   "id": "f16afffe",
   "metadata": {
    "papermill": {
     "duration": 0.00784,
     "end_time": "2023-10-20T13:26:50.772000",
     "exception": false,
     "start_time": "2023-10-20T13:26:50.764160",
     "status": "completed"
    },
    "tags": []
   },
   "source": [
    "## Most common combinations"
   ]
  },
  {
   "cell_type": "code",
   "execution_count": 19,
   "id": "23f8866d",
   "metadata": {
    "execution": {
     "iopub.execute_input": "2023-10-20T13:26:50.790191Z",
     "iopub.status.busy": "2023-10-20T13:26:50.789822Z",
     "iopub.status.idle": "2023-10-20T13:26:50.804506Z",
     "shell.execute_reply": "2023-10-20T13:26:50.803516Z"
    },
    "papermill": {
     "duration": 0.026445,
     "end_time": "2023-10-20T13:26:50.806586",
     "exception": false,
     "start_time": "2023-10-20T13:26:50.780141",
     "status": "completed"
    },
    "tags": []
   },
   "outputs": [
    {
     "data": {
      "text/html": [
       "<div>\n",
       "<style scoped>\n",
       "    .dataframe tbody tr th:only-of-type {\n",
       "        vertical-align: middle;\n",
       "    }\n",
       "\n",
       "    .dataframe tbody tr th {\n",
       "        vertical-align: top;\n",
       "    }\n",
       "\n",
       "    .dataframe thead th {\n",
       "        text-align: right;\n",
       "    }\n",
       "</style>\n",
       "<table border=\"1\" class=\"dataframe\">\n",
       "  <thead>\n",
       "    <tr style=\"text-align: right;\">\n",
       "      <th></th>\n",
       "      <th>Species</th>\n",
       "      <th>Personality</th>\n",
       "      <th>Hobby</th>\n",
       "      <th>Count</th>\n",
       "    </tr>\n",
       "  </thead>\n",
       "  <tbody>\n",
       "    <tr>\n",
       "      <th>0</th>\n",
       "      <td>Rabbit</td>\n",
       "      <td>Peppy</td>\n",
       "      <td>Fashion</td>\n",
       "      <td>6</td>\n",
       "    </tr>\n",
       "    <tr>\n",
       "      <th>1</th>\n",
       "      <td>Dog</td>\n",
       "      <td>Lazy</td>\n",
       "      <td>Play</td>\n",
       "      <td>5</td>\n",
       "    </tr>\n",
       "    <tr>\n",
       "      <th>2</th>\n",
       "      <td>Cub</td>\n",
       "      <td>Lazy</td>\n",
       "      <td>Play</td>\n",
       "      <td>4</td>\n",
       "    </tr>\n",
       "    <tr>\n",
       "      <th>3</th>\n",
       "      <td>Duck</td>\n",
       "      <td>Snooty</td>\n",
       "      <td>Fashion</td>\n",
       "      <td>4</td>\n",
       "    </tr>\n",
       "    <tr>\n",
       "      <th>4</th>\n",
       "      <td>Frog</td>\n",
       "      <td>Jock</td>\n",
       "      <td>Fitness</td>\n",
       "      <td>4</td>\n",
       "    </tr>\n",
       "    <tr>\n",
       "      <th>5</th>\n",
       "      <td>Mouse</td>\n",
       "      <td>Jock</td>\n",
       "      <td>Fitness</td>\n",
       "      <td>3</td>\n",
       "    </tr>\n",
       "    <tr>\n",
       "      <th>6</th>\n",
       "      <td>Cat</td>\n",
       "      <td>Lazy</td>\n",
       "      <td>Play</td>\n",
       "      <td>3</td>\n",
       "    </tr>\n",
       "    <tr>\n",
       "      <th>7</th>\n",
       "      <td>Rabbit</td>\n",
       "      <td>Lazy</td>\n",
       "      <td>Nature</td>\n",
       "      <td>3</td>\n",
       "    </tr>\n",
       "    <tr>\n",
       "      <th>8</th>\n",
       "      <td>Cub</td>\n",
       "      <td>Normal</td>\n",
       "      <td>Nature</td>\n",
       "      <td>3</td>\n",
       "    </tr>\n",
       "    <tr>\n",
       "      <th>9</th>\n",
       "      <td>Sheep</td>\n",
       "      <td>Snooty</td>\n",
       "      <td>Fashion</td>\n",
       "      <td>3</td>\n",
       "    </tr>\n",
       "  </tbody>\n",
       "</table>\n",
       "</div>"
      ],
      "text/plain": [
       "  Species Personality    Hobby  Count\n",
       "0  Rabbit       Peppy  Fashion      6\n",
       "1     Dog        Lazy     Play      5\n",
       "2     Cub        Lazy     Play      4\n",
       "3    Duck      Snooty  Fashion      4\n",
       "4    Frog        Jock  Fitness      4\n",
       "5   Mouse        Jock  Fitness      3\n",
       "6     Cat        Lazy     Play      3\n",
       "7  Rabbit        Lazy   Nature      3\n",
       "8     Cub      Normal   Nature      3\n",
       "9   Sheep      Snooty  Fashion      3"
      ]
     },
     "execution_count": 19,
     "metadata": {},
     "output_type": "execute_result"
    }
   ],
   "source": [
    "## Creating a dataframe of combinations of species, personality, and hobby\n",
    "combination = villagers.groupby(['Species', 'Personality', 'Hobby']).size().sort_values(ascending=False).reset_index(name='Count')\n",
    "combination.head(10)"
   ]
  }
 ],
 "metadata": {
  "kernelspec": {
   "display_name": "Python 3",
   "language": "python",
   "name": "python3"
  },
  "language_info": {
   "codemirror_mode": {
    "name": "ipython",
    "version": 3
   },
   "file_extension": ".py",
   "mimetype": "text/x-python",
   "name": "python",
   "nbconvert_exporter": "python",
   "pygments_lexer": "ipython3",
   "version": "3.10.12"
  },
  "papermill": {
   "default_parameters": {},
   "duration": 7.788468,
   "end_time": "2023-10-20T13:26:51.435527",
   "environment_variables": {},
   "exception": null,
   "input_path": "__notebook__.ipynb",
   "output_path": "__notebook__.ipynb",
   "parameters": {},
   "start_time": "2023-10-20T13:26:43.647059",
   "version": "2.4.0"
  }
 },
 "nbformat": 4,
 "nbformat_minor": 5
}
